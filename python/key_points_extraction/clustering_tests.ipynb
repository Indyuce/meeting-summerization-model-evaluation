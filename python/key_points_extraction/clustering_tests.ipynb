{
 "cells": [
  {
   "cell_type": "code",
   "execution_count": 14,
   "metadata": {},
   "outputs": [],
   "source": [
    "import evaluate\n",
    "import numpy as np\n",
    "import random\n",
    "import math\n",
    "import matplotlib.pyplot as plt\n",
    "import os\n",
    "import json\n",
    "import re\n",
    "\n",
    "from transformers import (\n",
    "    AutoModelForCausalLM,\n",
    "    AutoTokenizer,\n",
    "    BitsAndBytesConfig,\n",
    "    AutoConfig\n",
    ")"
   ]
  },
  {
   "cell_type": "markdown",
   "metadata": {},
   "source": [
    "### Chunking process"
   ]
  },
  {
   "cell_type": "code",
   "execution_count": 21,
   "metadata": {},
   "outputs": [
    {
     "name": "stderr",
     "output_type": "stream",
     "text": [
      "Using unk_token, but it is not set yet.\n",
      "Using unk_token, but it is not set yet.\n"
     ]
    },
    {
     "name": "stdout",
     "output_type": "stream",
     "text": [
      "[\"P1: I've had it! I am done working for a company that is taking me nowhere!\\nP2: So what are you gonna do? Just quit?\\nP1: That's exactly what I am going to do! I have decided to create my own company! I am going to write up a business plan, get some investors and start working for myself!\\nP2: Have you ever written up a business plan before?\", \"P1: Well, no, it can't be that hard! I mean, all you have to do is explain your business, how you are going to do things and that's it, right?\\nP2: You couldn't be more wrong! A well written business plan will include an executive summary which highlights the idea of the business in two pages or less. Then you need to describe your company with information such as what type of legal structure it has, history, etc.\", 'P1: Well, that seems easy enough.', 'P2: Wait, there is more!. Then you need to introduce and describe your goods or services.. What they are and how they are different from competitors?. Then comes the hard part, a market analysis.. You need to investigate and analyze hundreds of variables!. You need to take into consideration socioeconomic factors from GDP per capita to how many children on average the population has!', 'All this information is useful so that you can move on to your strategy and implementation stage, where you will describe in detail how you will actually execute your idea.\\nP1: Geez. Is that all?\\nP2: Almost, the most important piece of information for your investors will be the financial analysis. Here you will calculate and estimate sales, cash flow and profits. After all, people will want to know when they will begin to see a return on their investment!', \"P1: Umm. I think I ' ll just stick to my old job and save myself all the hassle of trying to start up a business!\"]\n"
     ]
    }
   ],
   "source": []
  },
  {
   "cell_type": "markdown",
   "metadata": {},
   "source": [
    "### Génération des key points"
   ]
  },
  {
   "cell_type": "code",
   "execution_count": 16,
   "metadata": {},
   "outputs": [
    {
     "ename": "JSONDecodeError",
     "evalue": "Expecting ',' delimiter: line 28 column 9328 (char 61716)",
     "output_type": "error",
     "traceback": [
      "\u001b[1;31m---------------------------------------------------------------------------\u001b[0m",
      "\u001b[1;31mJSONDecodeError\u001b[0m                           Traceback (most recent call last)",
      "Cell \u001b[1;32mIn[16], line 10\u001b[0m\n\u001b[0;32m      8\u001b[0m \u001b[39mfor\u001b[39;00m name_file \u001b[39min\u001b[39;00m os\u001b[39m.\u001b[39mlistdir(dataset_folder \u001b[39m+\u001b[39m \u001b[39m\"\u001b[39m\u001b[39m/\u001b[39m\u001b[39m\"\u001b[39m \u001b[39m+\u001b[39m corpus):\n\u001b[0;32m      9\u001b[0m     file \u001b[39m=\u001b[39m \u001b[39mopen\u001b[39m(dataset_folder \u001b[39m+\u001b[39m \u001b[39m\"\u001b[39m\u001b[39m/\u001b[39m\u001b[39m\"\u001b[39m \u001b[39m+\u001b[39m corpus \u001b[39m+\u001b[39m \u001b[39m\"\u001b[39m\u001b[39m/\u001b[39m\u001b[39m\"\u001b[39m \u001b[39m+\u001b[39m name_file, \u001b[39m'\u001b[39m\u001b[39mr\u001b[39m\u001b[39m'\u001b[39m, encoding\u001b[39m=\u001b[39m\u001b[39m'\u001b[39m\u001b[39mutf-8\u001b[39m\u001b[39m'\u001b[39m)\n\u001b[1;32m---> 10\u001b[0m     data \u001b[39m=\u001b[39m json\u001b[39m.\u001b[39;49mload(file)\n\u001b[0;32m     11\u001b[0m     \u001b[39mfor\u001b[39;00m tokenizer_loader \u001b[39min\u001b[39;00m tokenizers:\n\u001b[0;32m     12\u001b[0m         tokenizer \u001b[39m=\u001b[39m tokenizer_loader()\n",
      "File \u001b[1;32mc:\\Users\\rayci\\AppData\\Local\\Programs\\Python\\Python310\\lib\\json\\__init__.py:293\u001b[0m, in \u001b[0;36mload\u001b[1;34m(fp, cls, object_hook, parse_float, parse_int, parse_constant, object_pairs_hook, **kw)\u001b[0m\n\u001b[0;32m    274\u001b[0m \u001b[39mdef\u001b[39;00m \u001b[39mload\u001b[39m(fp, \u001b[39m*\u001b[39m, \u001b[39mcls\u001b[39m\u001b[39m=\u001b[39m\u001b[39mNone\u001b[39;00m, object_hook\u001b[39m=\u001b[39m\u001b[39mNone\u001b[39;00m, parse_float\u001b[39m=\u001b[39m\u001b[39mNone\u001b[39;00m,\n\u001b[0;32m    275\u001b[0m         parse_int\u001b[39m=\u001b[39m\u001b[39mNone\u001b[39;00m, parse_constant\u001b[39m=\u001b[39m\u001b[39mNone\u001b[39;00m, object_pairs_hook\u001b[39m=\u001b[39m\u001b[39mNone\u001b[39;00m, \u001b[39m*\u001b[39m\u001b[39m*\u001b[39mkw):\n\u001b[0;32m    276\u001b[0m \u001b[39m    \u001b[39m\u001b[39m\"\"\"Deserialize ``fp`` (a ``.read()``-supporting file-like object containing\u001b[39;00m\n\u001b[0;32m    277\u001b[0m \u001b[39m    a JSON document) to a Python object.\u001b[39;00m\n\u001b[0;32m    278\u001b[0m \n\u001b[1;32m   (...)\u001b[0m\n\u001b[0;32m    291\u001b[0m \u001b[39m    kwarg; otherwise ``JSONDecoder`` is used.\u001b[39;00m\n\u001b[0;32m    292\u001b[0m \u001b[39m    \"\"\"\u001b[39;00m\n\u001b[1;32m--> 293\u001b[0m     \u001b[39mreturn\u001b[39;00m loads(fp\u001b[39m.\u001b[39mread(),\n\u001b[0;32m    294\u001b[0m         \u001b[39mcls\u001b[39m\u001b[39m=\u001b[39m\u001b[39mcls\u001b[39m, object_hook\u001b[39m=\u001b[39mobject_hook,\n\u001b[0;32m    295\u001b[0m         parse_float\u001b[39m=\u001b[39mparse_float, parse_int\u001b[39m=\u001b[39mparse_int,\n\u001b[0;32m    296\u001b[0m         parse_constant\u001b[39m=\u001b[39mparse_constant, object_pairs_hook\u001b[39m=\u001b[39mobject_pairs_hook, \u001b[39m*\u001b[39m\u001b[39m*\u001b[39mkw)\n",
      "File \u001b[1;32mc:\\Users\\rayci\\AppData\\Local\\Programs\\Python\\Python310\\lib\\json\\__init__.py:346\u001b[0m, in \u001b[0;36mloads\u001b[1;34m(s, cls, object_hook, parse_float, parse_int, parse_constant, object_pairs_hook, **kw)\u001b[0m\n\u001b[0;32m    341\u001b[0m     s \u001b[39m=\u001b[39m s\u001b[39m.\u001b[39mdecode(detect_encoding(s), \u001b[39m'\u001b[39m\u001b[39msurrogatepass\u001b[39m\u001b[39m'\u001b[39m)\n\u001b[0;32m    343\u001b[0m \u001b[39mif\u001b[39;00m (\u001b[39mcls\u001b[39m \u001b[39mis\u001b[39;00m \u001b[39mNone\u001b[39;00m \u001b[39mand\u001b[39;00m object_hook \u001b[39mis\u001b[39;00m \u001b[39mNone\u001b[39;00m \u001b[39mand\u001b[39;00m\n\u001b[0;32m    344\u001b[0m         parse_int \u001b[39mis\u001b[39;00m \u001b[39mNone\u001b[39;00m \u001b[39mand\u001b[39;00m parse_float \u001b[39mis\u001b[39;00m \u001b[39mNone\u001b[39;00m \u001b[39mand\u001b[39;00m\n\u001b[0;32m    345\u001b[0m         parse_constant \u001b[39mis\u001b[39;00m \u001b[39mNone\u001b[39;00m \u001b[39mand\u001b[39;00m object_pairs_hook \u001b[39mis\u001b[39;00m \u001b[39mNone\u001b[39;00m \u001b[39mand\u001b[39;00m \u001b[39mnot\u001b[39;00m kw):\n\u001b[1;32m--> 346\u001b[0m     \u001b[39mreturn\u001b[39;00m _default_decoder\u001b[39m.\u001b[39;49mdecode(s)\n\u001b[0;32m    347\u001b[0m \u001b[39mif\u001b[39;00m \u001b[39mcls\u001b[39m \u001b[39mis\u001b[39;00m \u001b[39mNone\u001b[39;00m:\n\u001b[0;32m    348\u001b[0m     \u001b[39mcls\u001b[39m \u001b[39m=\u001b[39m JSONDecoder\n",
      "File \u001b[1;32mc:\\Users\\rayci\\AppData\\Local\\Programs\\Python\\Python310\\lib\\json\\decoder.py:337\u001b[0m, in \u001b[0;36mJSONDecoder.decode\u001b[1;34m(self, s, _w)\u001b[0m\n\u001b[0;32m    332\u001b[0m \u001b[39mdef\u001b[39;00m \u001b[39mdecode\u001b[39m(\u001b[39mself\u001b[39m, s, _w\u001b[39m=\u001b[39mWHITESPACE\u001b[39m.\u001b[39mmatch):\n\u001b[0;32m    333\u001b[0m \u001b[39m    \u001b[39m\u001b[39m\"\"\"Return the Python representation of ``s`` (a ``str`` instance\u001b[39;00m\n\u001b[0;32m    334\u001b[0m \u001b[39m    containing a JSON document).\u001b[39;00m\n\u001b[0;32m    335\u001b[0m \n\u001b[0;32m    336\u001b[0m \u001b[39m    \"\"\"\u001b[39;00m\n\u001b[1;32m--> 337\u001b[0m     obj, end \u001b[39m=\u001b[39m \u001b[39mself\u001b[39;49m\u001b[39m.\u001b[39;49mraw_decode(s, idx\u001b[39m=\u001b[39;49m_w(s, \u001b[39m0\u001b[39;49m)\u001b[39m.\u001b[39;49mend())\n\u001b[0;32m    338\u001b[0m     end \u001b[39m=\u001b[39m _w(s, end)\u001b[39m.\u001b[39mend()\n\u001b[0;32m    339\u001b[0m     \u001b[39mif\u001b[39;00m end \u001b[39m!=\u001b[39m \u001b[39mlen\u001b[39m(s):\n",
      "File \u001b[1;32mc:\\Users\\rayci\\AppData\\Local\\Programs\\Python\\Python310\\lib\\json\\decoder.py:353\u001b[0m, in \u001b[0;36mJSONDecoder.raw_decode\u001b[1;34m(self, s, idx)\u001b[0m\n\u001b[0;32m    344\u001b[0m \u001b[39m\u001b[39m\u001b[39m\"\"\"Decode a JSON document from ``s`` (a ``str`` beginning with\u001b[39;00m\n\u001b[0;32m    345\u001b[0m \u001b[39ma JSON document) and return a 2-tuple of the Python\u001b[39;00m\n\u001b[0;32m    346\u001b[0m \u001b[39mrepresentation and the index in ``s`` where the document ended.\u001b[39;00m\n\u001b[1;32m   (...)\u001b[0m\n\u001b[0;32m    350\u001b[0m \n\u001b[0;32m    351\u001b[0m \u001b[39m\"\"\"\u001b[39;00m\n\u001b[0;32m    352\u001b[0m \u001b[39mtry\u001b[39;00m:\n\u001b[1;32m--> 353\u001b[0m     obj, end \u001b[39m=\u001b[39m \u001b[39mself\u001b[39;49m\u001b[39m.\u001b[39;49mscan_once(s, idx)\n\u001b[0;32m    354\u001b[0m \u001b[39mexcept\u001b[39;00m \u001b[39mStopIteration\u001b[39;00m \u001b[39mas\u001b[39;00m err:\n\u001b[0;32m    355\u001b[0m     \u001b[39mraise\u001b[39;00m JSONDecodeError(\u001b[39m\"\u001b[39m\u001b[39mExpecting value\u001b[39m\u001b[39m\"\u001b[39m, s, err\u001b[39m.\u001b[39mvalue) \u001b[39mfrom\u001b[39;00m \u001b[39mNone\u001b[39;00m\n",
      "\u001b[1;31mJSONDecodeError\u001b[0m: Expecting ',' delimiter: line 28 column 9328 (char 61716)"
     ]
    }
   ],
   "source": [
    "\n"
   ]
  },
  {
   "cell_type": "code",
   "execution_count": 25,
   "metadata": {},
   "outputs": [],
   "source": [
    "s = [\"J'aimerais bien sûr, bonjour.\\\\nOooYeaaah. That's for sure.\", \"I'd like to see how it goes.\\\\nYeah man !\"]\n",
    "file = open(\"test.txt\", 'w', encoding = 'utf-8')\n",
    "file.write('\\n'.join(s))\n",
    "file.close()\n"
   ]
  },
  {
   "cell_type": "markdown",
   "metadata": {},
   "source": [
    "### Identification des bullet points"
   ]
  },
  {
   "cell_type": "code",
   "execution_count": 4,
   "metadata": {},
   "outputs": [],
   "source": [
    "lines = [\n",
    "    \"Here are some key points from this article:\",\n",
    "    \"1.  Fiji Water is a bottled water brand that is very popular in the United States.  It is owned by an American couple, and is produced in Fiji.  However, the company nearly closed its Fiji operations after the Fijian government increased the tax on water extraction.\",\n",
    "    \"Here are some key points from the interview:\",\n",
    "    \"- Fiji Water is a bottled water brand that is owned by a California couple and is produced in Fiji.\",\n",
    "    \"Here are some key points from this text:\",\n",
    "    \"-Fiji Water is a bottled water brand that is popular in the United States.  It is owned by an American couple and is produced in Fiji.\"\n",
    "]\n",
    "\n",
    "MAX_CHARACTER_CHUNK_SIZE = 6000\n",
    "\n",
    "def token_len(text):\n",
    "    return len(tokenizer(text, return_tensors=\"pt\")['input_ids'][0])\n",
    "\n",
    "def append_to_chunk(current_chunk, utterance):\n",
    "    if len(current_chunk) > 0:\n",
    "        current_chunk += '\\n'\n",
    "    current_chunk += utterance\n",
    "    return current_chunk\n",
    "\n",
    "def chunkize(text):\n",
    "    \"\"\"\n",
    "    Greedy implementation of a dialogue transcript chunking algorithm. This method returns a list of transcript chunks.\n",
    "    - It priorities stability over performance. There is a set maximum chunk size for LLM inference stability. Really long utterances bypass this limit.\n",
    "    - It guarantees the cuts are made at utterance ends (\\n).\n",
    "    - It counts everything in MODEL TOKENS and not characters for more exact experiments.\n",
    "    \"\"\"\n",
    "    \n",
    "    chunks = [] # Final list of transcript chunks. This makes up the loop invariant\n",
    "    utterances = text.split('\\n') # Transcript is split into sentences\n",
    "    utterances.reverse() # Reverse everything!!\n",
    "    current_chunk = ''\n",
    "\n",
    "    # While there is still an utterance to process\n",
    "    while len(utterances) > 0:\n",
    "        utterance = utterances.pop()\n",
    "\n",
    "        # Add to current chunk and proceed to next\n",
    "        new_current_chunk = append_to_chunk(current_chunk, utterance)\n",
    "        if token_len(new_current_chunk) <= MAX_CHARACTER_CHUNK_SIZE:\n",
    "            current_chunk = new_current_chunk\n",
    "        \n",
    "        # Utterance is larger than maximum chunk size\n",
    "        elif len(current_chunk) == 0:\n",
    "            chunks.append(current_chunk)\n",
    "            chunks.append(utterance)\n",
    "            current_chunk = ''\n",
    "\n",
    "        # Current chunk is big enough, append to list and create new one\n",
    "        else:\n",
    "            chunks.append(current_chunk)\n",
    "            current_chunk = utterance\n",
    "\n",
    "    if len(current_chunk) > 0:\n",
    "        chunks.append(current_chunk)\n",
    "\n",
    "    return chunks\n",
    "\n",
    "\n",
    "\n",
    "\n",
    "nb_to_dataset = {\"0\":\"fredsum\", \"3\":\"mediasum\", \"5\":\"summre\", \"6\":\"ami\", \"7\":\"icsi\"}\n",
    "# Input: [text_output for text_output in texts_output] -> [[point1, point2, point3, point4], []] -> matrice distance -> Virer les doublons\n",
    "\n",
    "# [1 0 1 1 0 1 1 0 0 0 0 2 1 0 0]\n",
    "\n",
    "rouge_score = evaluate.load('rouge') # Warning ! When comparing many references to a prediction, an average is performed, not a max...\n",
    "bertscore = evaluate.load('bertscore') # The BERTScore calculation will take a lot of time... (if not performed in only one call)"
   ]
  },
  {
   "cell_type": "code",
   "execution_count": 8,
   "metadata": {},
   "outputs": [
    {
     "name": "stdout",
     "output_type": "stream",
     "text": [
      "{'rouge1': [0.6666666666666666, 1.0], 'rouge2': [0.0, 1.0], 'rougeL': [0.6666666666666666, 1.0], 'rougeLsum': [0.6666666666666666, 1.0]}\n"
     ]
    }
   ],
   "source": []
  },
  {
   "cell_type": "code",
   "execution_count": 1,
   "metadata": {},
   "outputs": [
    {
     "data": {
      "text/plain": [
       "['I', 'like', 'pizza']"
      ]
     },
     "execution_count": 1,
     "metadata": {},
     "output_type": "execute_result"
    }
   ],
   "source": [
    "\"I like pizza\".split()"
   ]
  },
  {
   "cell_type": "markdown",
   "metadata": {},
   "source": [
    "### Bullet points extraction"
   ]
  },
  {
   "cell_type": "code",
   "execution_count": null,
   "metadata": {},
   "outputs": [],
   "source": [
    "class BulletPoint:\n",
    "    def __init__(self, dataset, name_file, number, text):\n",
    "        self.dataset = dataset\n",
    "        self.name_file = name_file\n",
    "        self.number = number\n",
    "        self.text = text"
   ]
  },
  {
   "cell_type": "code",
   "execution_count": null,
   "metadata": {},
   "outputs": [],
   "source": [
    "# Extraction des résultats ==================================\n",
    "results = {}\n",
    "key_points = []\n",
    "for name_file in os.listdir(\"results\"):\n",
    "    file = open(\"results/\" + name_file, 'r', encoding='utf-8')\n",
    "    data = json.load(file)\n",
    "    file.close()\n",
    "    dataset = nb_to_dataset[data[\"dataset\"]]\n",
    "    if dataset not in results:\n",
    "        results[dataset] = {}\n",
    "    raw_text = data[\"text\"]\n",
    "    bullet_points = raw_text.split(\"\\n\")\n",
    "    if name_file not in results[dataset]:\n",
    "        results[dataset][name_file] = []\n",
    "    for i in range(len(bullet_points)):\n",
    "        results[dataset][name_file].append(bullet_points[i])\n",
    "        key_points.append(BulletPoint(dataset, name_file, i, bullet_points[i]))\n",
    "\n",
    "# Calcul des métriques =======================================\n",
    "n = len(key_points)\n",
    "scores = {\"rouge1\", \"rouge2\", \"rougeL\", \"bertscore\"}\n",
    "rouges = {\"rouge1\", \"rouge2\", \"rougeL\"}\n",
    "matrices = {rouge:np.zeros((n,n)) for rouge in rouges}\n",
    "matrices[\"bertscore\"] = np.zeros((n,n))\n",
    "# Paramètre\n",
    "# Calculs des scores Rouge, BertScore (pour lequel il faut tout calculer en un appel)\n",
    "predictions = []\n",
    "references = []\n",
    "values = {score:[] for score in scores}\n",
    "for i in range(n):\n",
    "    for j in range(i+1, n):\n",
    "        predictions.append(key_points[i].text)\n",
    "        references.append(key_points[j].text)\n",
    "        \n",
    "result_rouge = rouge_score.compute(predictions=predictions, references=references, use_aggregator=False)\n",
    "result_bertscore = bertscore.compute(predictions=predictions, references=references, lang='en', rescale_with_baseline=True, verbose=True)['f1']\n",
    "\n",
    "k=0\n",
    "for i in range(n):\n",
    "    for j in range(i+1, n):\n",
    "        result = result_bertscore[k]\n",
    "        matrices[\"bertscore\"][i][j] = result\n",
    "        matrices[\"bertscore\"][j][i] = result\n",
    "        values[\"bertscore\"].append((i,j,result))\n",
    "        for rouge in rouges:\n",
    "            result = result_rouge[rouge][k]\n",
    "            matrices[rouge][i][j] = result\n",
    "            matrices[rouge][j][i] = result\n",
    "            values[rouge].append((i,j,result))\n",
    "        k+=1\n",
    "\n",
    "for score in scores:\n",
    "    values[score] = sorted(values[score], key=lambda x:x[2])\n",
    "\n",
    "# Dépassements de seuil =================================\n",
    "pairs = {score:[] for score in scores}\n",
    "thresholds = {\"rouge1\":0.5,\"rouge2\":0.3,\"rougeL\":0.5,\"bertscore\":0.4}\n",
    "for score in scores:\n",
    "    for i in range(n):\n",
    "        for j in range(i+1, n):\n",
    "            if matrices[score][i][j] > thresholds[score]:\n",
    "                pairs[score].append((i,j))\n",
    "                \n",
    "for score in scores:\n",
    "    print(\"Pour la matrice \" + score + \", il y a \" + str(len(pairs[score])) + \" paires au-dessus du seuil de \" + str(thresholds[score]) + \".\") \n",
    "    print(pairs[score])\n",
    "    print()\n",
    "\n",
    "kept_points = {i for i  in range(n)}\n",
    "\n",
    "for k in range(len(pairs[\"rouge2\"])):\n",
    "    (i, j) = pairs[\"rouge2\"][k]\n",
    "    if i in kept_points and j in kept_points:\n",
    "        if random.randint(0,1)==0:\n",
    "            kept_points.remove(i)\n",
    "        else:\n",
    "            kept_points.remove(j)\n",
    "\n",
    "for i in kept_points:\n",
    "    print(key_points[i])\n",
    "\n",
    "\n",
    "\n",
    "\n",
    "\n",
    "    \n"
   ]
  },
  {
   "cell_type": "code",
   "execution_count": 53,
   "metadata": {},
   "outputs": [
    {
     "name": "stdout",
     "output_type": "stream",
     "text": [
      "['1.', 'Fiji', 'Water', 'is', 'a', 'bottled', 'water', 'brand', 'that', 'is', 'very', 'popular', 'in', 'the', 'United', 'States.', 'It', 'is', 'owned', 'by', 'an', 'American', 'couple,', 'and', 'is', 'produced', 'in', 'Fiji.', 'However,', 'the', 'company', 'nearly', 'closed', 'its', 'Fiji', 'operations', 'after', 'the', 'Fijian', 'government', 'increased', 'the', 'tax', 'on', 'water', 'extraction.']\n",
      "1.  Fiji Water is a bottled water brand that is very popular in the United States.  It is owned by an American couple, and is produced in Fiji.  However, the company nearly closed its Fiji operations after the Fijian government increased the tax on water extraction.\n"
     ]
    }
   ],
   "source": [
    "line = \"1.  Fiji Water is a bottled water brand that is very popular in the United States.  It is owned by an American couple, and is produced in Fiji.  However, the company nearly closed its Fiji operations after the Fijian government increased the tax on water extraction.\"\n",
    "\n",
    "print(line.split())\n",
    "print(\"\".join(line))"
   ]
  },
  {
   "cell_type": "code",
   "execution_count": 2,
   "metadata": {},
   "outputs": [],
   "source": [
    "key_points = [\n",
    "\"Fiji Water is a bottled water brand that is very popular in the United States.  It is owned by an American couple, and is produced in Fiji.  However, the company nearly closed    its Fiji operations after the Fijian government increased the tax on water extraction.\",\n",
    "\"Fiji Water is very important to the economy of Fiji, as it is the number one export of any kind from the country.\",\n",
    "\"The company refused to pay the higher tax, and fired all of the employees in Fiji and closed the plant.  However, they quickly agreed to pay the tax after facing public backlash.\",\n",
    "\"Fiji Water is owned by an American couple, and is marketed as a \\\"glamorous brand\\\".  However, in Fiji itself, 53% of the population does not have access to clean water.\",\n",
    "\"Fiji Water is a bottled water brand that is owned by a California couple and is produced in Fiji.\",\n",
    "\"The company nearly lost its claim to fame when the Fijian government increased the tax on water extraction from one-third of a Fijian cent to 15 Fijian cents.\",\n",
    "\"The company responded by firing all of the employees in Fiji and closing the plant, but the plant is now up and running again and Fiji Water agreed to pay the tax.\",\n",
    "\"Fiji Water is very important to the economy of Fiji, as it is the number one export of any kind from the country in dollar value.\",\n",
    "\"Fiji Water was created by a California couple who own many other businesses, including the pomegranate drink POM Wonderful and a tree nut farming company.\",\n",
    "\"The product looks a little silly in America, but it benefits the people of Fiji in a way that is not silly at all.\",\n",
    "\"Fiji Water is a bottled water brand that is popular in the United States.  It is owned by an American couple and is produced in Fiji.\",\n",
    "\"Fiji Water nearly lost its claim to fame this week because the military government in Fiji increased the tax on water extraction from one-third of a Fijian cent to 15 Fijian cents.\",\n",
    "\"Fiji Water responded by firing all of the employees in Fiji and closing the plant.  However, the company quickly agreed to pay the higher tax and the plant is now up and running again.\",\n",
    "\"Fiji Water is very important to the economy of Fiji.  It is the number one export of any kind from the country in dollar value and has been around for only a decade.\",\n",
    "\"Fiji Water is owned by a California couple who have turbocharged the marketing of the brand.  It looks a little silly in American stores, but it actually benefits Fijians in a way that is not silly at all.\"\n",
    "]\n",
    "# [1 0 1 1 0 1 1 0 0 0 0 2 1 0 0]\n",
    "\n",
    "rouge_score = evaluate.load('rouge') # Warning ! When comparing many references to a prediction, an average is performed, not a max...\n",
    "bertscore = evaluate.load('bertscore') # The BERTScore calculation will take a lot of time... (if not performed in only one call)"
   ]
  },
  {
   "cell_type": "code",
   "execution_count": 6,
   "metadata": {},
   "outputs": [
    {
     "name": "stdout",
     "output_type": "stream",
     "text": [
      "The company refused to pay the higher tax, and fired all of the employees in Fiji and closed the plant.  However, they quickly agreed to pay the tax after facing public backlash.\n",
      "The company responded by firing all of the employees in Fiji and closing the plant, but the plant is now up and running again and Fiji Water agreed to pay the tax.\n",
      "Fiji Water responded by firing all of the employees in Fiji and closing the plant.  However, the company quickly agreed to pay the higher tax and the plant is now up and running again.\n"
     ]
    }
   ],
   "source": [
    "print(key_points[2])\n",
    "print(key_points[6])\n",
    "print(key_points[12])\n"
   ]
  },
  {
   "cell_type": "code",
   "execution_count": 3,
   "metadata": {},
   "outputs": [
    {
     "name": "stderr",
     "output_type": "stream",
     "text": [
      "Some weights of RobertaModel were not initialized from the model checkpoint at roberta-large and are newly initialized: ['roberta.pooler.dense.bias', 'roberta.pooler.dense.weight']\n",
      "You should probably TRAIN this model on a down-stream task to be able to use it for predictions and inference.\n"
     ]
    },
    {
     "name": "stdout",
     "output_type": "stream",
     "text": [
      "calculating scores...\n",
      "computing bert embedding.\n"
     ]
    },
    {
     "name": "stderr",
     "output_type": "stream",
     "text": [
      "100%|██████████| 1/1 [00:04<00:00,  4.33s/it]\n"
     ]
    },
    {
     "name": "stdout",
     "output_type": "stream",
     "text": [
      "computing greedy matching.\n"
     ]
    },
    {
     "name": "stderr",
     "output_type": "stream",
     "text": [
      "100%|██████████| 2/2 [00:00<00:00, 41.05it/s]"
     ]
    },
    {
     "name": "stdout",
     "output_type": "stream",
     "text": [
      "done in 1629955.60 seconds, 0.00 sentences/sec\n"
     ]
    },
    {
     "name": "stderr",
     "output_type": "stream",
     "text": [
      "\n"
     ]
    }
   ],
   "source": [
    "# Initialisation de la matrice de distance (qui regroupe 4 matrices de distance, pour les 4 scores retenus)\n",
    "n = len(key_points)\n",
    "scores = {\"rouge1\", \"rouge2\", \"rougeL\", \"bertscore\"}\n",
    "rouges = {\"rouge1\", \"rouge2\", \"rougeL\"}\n",
    "matrices = {rouge:np.zeros((n,n)) for rouge in rouges}\n",
    "matrices[\"bertscore\"] = np.zeros((n,n))\n",
    "# Paramètre\n",
    "pairs = {\"rouge1\":[], \"rouge2\":[], \"rougeL\":[], \"bertscore\":[]}\n",
    "# Calculs des scores Rouge, BertScore (pour lequel il faut tout calculer en un appel)\n",
    "predictions = []\n",
    "references = []\n",
    "values = {score:[] for score in scores}\n",
    "for i in range(n):\n",
    "    for j in range(i+1, n):\n",
    "        predictions.append(key_points[i])\n",
    "        references.append(key_points[j])\n",
    "        result_rouge = rouge_score.compute(predictions=[key_points[i]], references=[key_points[j]], use_aggregator=False)\n",
    "        for rouge in rouges:\n",
    "            result = result_rouge[rouge][0]\n",
    "            matrices[rouge][i][j] = result\n",
    "            matrices[rouge][j][i] = result\n",
    "            values[rouge].append((i,j,result))\n",
    "\n",
    "result_bertscore = bertscore.compute(predictions=predictions, references=references, lang='en', rescale_with_baseline=True, verbose=True)['f1']\n",
    "k=0\n",
    "for i in range(n):\n",
    "    for j in range(i+1, n):\n",
    "        result = result_bertscore[k]\n",
    "        matrices[\"bertscore\"][i][j] = result\n",
    "        matrices[\"bertscore\"][j][i] = result\n",
    "        values[\"bertscore\"].append((i,j,result))\n",
    "        k+=1\n",
    "# Affichage du nombre de paires constituées\n",
    "\n"
   ]
  },
  {
   "cell_type": "code",
   "execution_count": 36,
   "metadata": {},
   "outputs": [
    {
     "name": "stdout",
     "output_type": "stream",
     "text": [
      "Pour la matrice rouge2, il y a 40 paires au-dessus du seuil de 0.3.\n",
      "[(0, 10), (1, 7), (1, 13), (4, 10), (5, 11), (6, 12), (7, 13), (0, 10), (1, 7), (1, 13), (4, 10), (5, 11), (6, 12), (7, 13), (0, 10), (1, 7), (1, 13), (4, 10), (5, 11), (6, 12), (7, 13), (0, 10), (1, 7), (1, 13), (4, 10), (5, 11), (6, 12), (7, 13), (0, 4), (0, 10), (1, 7), (1, 13), (2, 6), (2, 12), (3, 10), (4, 10), (5, 11), (6, 12), (7, 13), (9, 14)]\n",
      "\n",
      "Pour la matrice bertscore, il y a 58 paires au-dessus du seuil de 0.4.\n",
      "[(0, 4), (0, 10), (1, 7), (1, 13), (2, 6), (2, 12), (4, 10), (5, 11), (6, 12), (7, 13), (9, 14), (0, 4), (0, 10), (1, 7), (1, 13), (2, 6), (2, 12), (4, 10), (5, 11), (6, 12), (7, 13), (9, 14), (0, 4), (0, 10), (1, 7), (1, 13), (2, 6), (2, 12), (3, 4), (4, 10), (5, 11), (6, 12), (7, 13), (9, 14), (0, 4), (0, 10), (1, 7), (1, 13), (2, 6), (2, 12), (3, 4), (4, 10), (5, 11), (6, 12), (7, 13), (9, 14), (0, 4), (0, 10), (1, 7), (1, 13), (2, 6), (2, 12), (3, 4), (4, 10), (5, 11), (6, 12), (7, 13), (9, 14)]\n",
      "\n",
      "Pour la matrice rouge1, il y a 65 paires au-dessus du seuil de 0.5.\n",
      "[(0, 4), (0, 10), (1, 7), (1, 13), (2, 6), (2, 12), (3, 4), (3, 10), (4, 10), (5, 11), (6, 12), (7, 13), (9, 14), (0, 4), (0, 10), (1, 7), (1, 13), (2, 6), (2, 12), (3, 4), (3, 10), (4, 10), (5, 11), (6, 12), (7, 13), (9, 14), (0, 4), (0, 10), (1, 7), (1, 13), (2, 6), (2, 12), (3, 4), (3, 10), (4, 10), (5, 11), (6, 12), (7, 13), (9, 14), (0, 4), (0, 10), (1, 7), (1, 13), (2, 6), (2, 12), (3, 4), (3, 10), (4, 10), (5, 11), (6, 12), (7, 13), (9, 14), (0, 4), (0, 10), (1, 7), (1, 13), (2, 6), (2, 12), (3, 4), (3, 10), (4, 10), (5, 11), (6, 12), (7, 13), (9, 14)]\n",
      "\n",
      "Pour la matrice rougeL, il y a 45 paires au-dessus du seuil de 0.5.\n",
      "[(0, 4), (0, 10), (1, 7), (1, 13), (4, 10), (5, 11), (6, 12), (7, 13), (9, 14), (0, 4), (0, 10), (1, 7), (1, 13), (4, 10), (5, 11), (6, 12), (7, 13), (9, 14), (0, 4), (0, 10), (1, 7), (1, 13), (4, 10), (5, 11), (6, 12), (7, 13), (9, 14), (0, 4), (0, 10), (1, 7), (1, 13), (4, 10), (5, 11), (6, 12), (7, 13), (9, 14), (0, 4), (0, 10), (1, 7), (1, 13), (4, 10), (5, 11), (6, 12), (7, 13), (9, 14)]\n",
      "\n",
      "Fiji Water is very important to the economy of Fiji, as it is the number one export of any kind from the country.\n",
      "Fiji Water is owned by an American couple, and is marketed as a \"glamorous brand\".  However, in Fiji itself, 53% of the population does not have access to clean water.\n",
      "Fiji Water is a bottled water brand that is owned by a California couple and is produced in Fiji.\n",
      "The company nearly lost its claim to fame when the Fijian government increased the tax on water extraction from one-third of a Fijian cent to 15 Fijian cents.\n",
      "Fiji Water was created by a California couple who own many other businesses, including the pomegranate drink POM Wonderful and a tree nut farming company.\n",
      "Fiji Water responded by firing all of the employees in Fiji and closing the plant.  However, the company quickly agreed to pay the higher tax and the plant is now up and running again.\n",
      "Fiji Water is owned by a California couple who have turbocharged the marketing of the brand.  It looks a little silly in American stores, but it actually benefits Fijians in a way that is not silly at all.\n"
     ]
    }
   ],
   "source": [
    "# Trier la matrice values\n",
    "pairs = {\"rouge1\":[], \"rouge2\":[], \"rougeL\":[], \"bertscore\":[]}\n",
    "for score in scores:\n",
    "    values[score] = sorted(values[score], key=lambda x:x[2])\n",
    "\n",
    "thresholds = {\"rouge1\":0.5,\"rouge2\":0.3,\"rougeL\":0.5,\"bertscore\":0.4}\n",
    "for score in scores:\n",
    "    for i in range(n):\n",
    "        for j in range(i+1, n):\n",
    "            if matrices[score][i][j] > thresholds[score]:\n",
    "                pairs[score].append((i,j))\n",
    "                \n",
    "for score in scores:\n",
    "    print(\"Pour la matrice \" + score + \", il y a \" + str(len(pairs[score])) + \" paires au-dessus du seuil de \" + str(thresholds[score]) + \".\") \n",
    "    print(pairs[score])\n",
    "    print()\n",
    "\n",
    "kept_points = {i for i  in range(n)}\n",
    "\n",
    "for k in range(len(pairs[\"rouge2\"])):\n",
    "    (i, j) = pairs[\"rouge2\"][k]\n",
    "    if i in kept_points and j in kept_points:\n",
    "        if random.randint(0,1)==0:\n",
    "            kept_points.remove(i)\n",
    "        else:\n",
    "            kept_points.remove(j)\n",
    "\n",
    "for i in kept_points:\n",
    "    print(key_points[i])\n",
    "\n",
    "#fig, axes = plt.subplots(1, 1, figsize=(15, 5))  # 1 row, 3 columns\n",
    "\n",
    "# Plot histograms on each subplot\n",
    "#axes.hist(result_bertscore, bins=15, color='blue', alpha=0.7)\n",
    "#axes.set_title('bertScore')\n",
    "\n",
    "#plt.tight_layout()\n",
    "#plt.show()"
   ]
  },
  {
   "cell_type": "code",
   "execution_count": 32,
   "metadata": {},
   "outputs": [
    {
     "data": {
      "text/plain": [
       "1"
      ]
     },
     "execution_count": 32,
     "metadata": {},
     "output_type": "execute_result"
    }
   ],
   "source": [
    "random.randint(0,1)"
   ]
  },
  {
   "cell_type": "code",
   "execution_count": 14,
   "metadata": {},
   "outputs": [
    {
     "name": "stdout",
     "output_type": "stream",
     "text": [
      "[(2, 8, 0.07017543859649122), (5, 10, 0.07272727272727274), (5, 8, 0.07407407407407408), (4, 5, 0.08333333333333333), (5, 14, 0.08955223880597013), (3, 5, 0.10169491525423728), (6, 8, 0.10526315789473684), (2, 14, 0.11428571428571428), (2, 4, 0.11764705882352941), (7, 8, 0.11764705882352941), (8, 9, 0.12244897959183673), (1, 8, 0.12499999999999997), (8, 11, 0.1379310344827586), (2, 10, 0.13793103448275862), (9, 12, 0.13793103448275862), (11, 14, 0.14084507042253522), (2, 9, 0.14285714285714288), (0, 9, 0.14492753623188406), (3, 9, 0.14814814814814814), (5, 9, 0.1509433962264151), (4, 11, 0.15384615384615385), (4, 6, 0.1568627450980392), (5, 12, 0.15873015873015872), (9, 10, 0.16), (2, 3, 0.16129032258064516), (3, 6, 0.16129032258064516), (10, 11, 0.1694915254237288), (1, 9, 0.1702127659574468), (6, 14, 0.17142857142857143), (0, 8, 0.17142857142857146), (8, 13, 0.17241379310344826), (6, 7, 0.1724137931034483), (6, 10, 0.1724137931034483), (9, 11, 0.1754385964912281), (6, 9, 0.17857142857142858), (1, 6, 0.18181818181818182), (5, 7, 0.18181818181818185), (2, 11, 0.1846153846153846), (2, 13, 0.1846153846153846), (6, 11, 0.1846153846153846), (6, 13, 0.1846153846153846), (4, 9, 0.186046511627907), (4, 12, 0.18867924528301885), (1, 4, 0.1904761904761905), (3, 11, 0.1904761904761905), (3, 13, 0.1904761904761905), (1, 5, 0.19230769230769232), (4, 13, 0.19230769230769232), (0, 14, 0.19277108433734938), (5, 13, 0.1935483870967742), (12, 14, 0.19444444444444445), (8, 10, 0.19607843137254902), (5, 6, 0.19672131147540986), (7, 9, 0.2), (7, 12, 0.20000000000000004), (10, 12, 0.20000000000000004), (8, 12, 0.20338983050847456), (2, 7, 0.20689655172413793), (0, 2, 0.20779220779220778), (0, 6, 0.20779220779220778), (11, 12, 0.20895522388059704), (12, 13, 0.20895522388059704), (1, 12, 0.2105263157894737), (9, 13, 0.2105263157894737), (3, 7, 0.21428571428571427), (1, 2, 0.21818181818181817), (3, 8, 0.2181818181818182), (3, 12, 0.21874999999999997), (7, 14, 0.21875), (4, 7, 0.2222222222222222), (13, 14, 0.22535211267605634), (1, 3, 0.22641509433962265), (1, 14, 0.22950819672131145), (2, 5, 0.22950819672131145), (0, 13, 0.23076923076923075), (10, 13, 0.23728813559322037), (1, 10, 0.24489795918367346), (10, 14, 0.25), (0, 12, 0.25316455696202533), (0, 7, 0.2535211267605634), (0, 1, 0.2647058823529412), (3, 14, 0.2647058823529412), (7, 10, 0.2692307692307692), (7, 11, 0.2711864406779661), (11, 13, 0.2727272727272727), (8, 14, 0.2857142857142857), (1, 11, 0.28571428571428575), (0, 11, 0.30769230769230765), (4, 14, 0.3157894736842105), (4, 8, 0.3181818181818182), (0, 5, 0.35135135135135137), (0, 3, 0.37333333333333335), (3, 4, 0.4081632653061224), (3, 10, 0.42857142857142855), (2, 12, 0.48484848484848486), (2, 6, 0.5), (0, 4, 0.53125), (9, 14, 0.5806451612903226), (6, 12, 0.6363636363636364), (0, 10, 0.732394366197183), (4, 10, 0.7555555555555555), (1, 13, 0.7857142857142856), (5, 11, 0.8064516129032258), (7, 13, 0.8474576271186441), (1, 7, 0.9387755102040816)]\n",
      "[(1, 2, 0.0), (1, 5, 0.0), (2, 7, 0.0), (2, 8, 0.0), (2, 9, 0.0), (2, 13, 0.0), (3, 5, 0.0), (3, 9, 0.0), (4, 5, 0.0), (5, 7, 0.0), (5, 8, 0.0), (5, 9, 0.0), (5, 10, 0.0), (5, 13, 0.0), (5, 14, 0.0), (6, 9, 0.0), (8, 9, 0.0), (9, 11, 0.0), (9, 12, 0.0), (11, 14, 0.028985507246376812), (2, 14, 0.029411764705882353), (0, 8, 0.029411764705882356), (0, 9, 0.029850746268656712), (12, 13, 0.03076923076923077), (11, 13, 0.03125), (6, 13, 0.031746031746031744), (5, 12, 0.03278688524590164), (7, 12, 0.03448275862068965), (7, 11, 0.03508771929824561), (8, 12, 0.03508771929824561), (2, 10, 0.03571428571428571), (6, 7, 0.03571428571428571), (8, 11, 0.03571428571428572), (8, 13, 0.03571428571428572), (1, 12, 0.03636363636363636), (9, 13, 0.03636363636363636), (6, 8, 0.03636363636363637), (1, 11, 0.037037037037037035), (1, 6, 0.03773584905660377), (3, 8, 0.03773584905660377), (2, 4, 0.04081632653061224), (7, 8, 0.04081632653061224), (8, 10, 0.04081632653061224), (7, 9, 0.041666666666666664), (9, 10, 0.041666666666666664), (1, 8, 0.043478260869565216), (1, 9, 0.04444444444444444), (4, 9, 0.04878048780487805), (12, 14, 0.05714285714285714), (13, 14, 0.057971014492753624), (6, 14, 0.058823529411764705), (11, 12, 0.06153846153846154), (2, 11, 0.06349206349206349), (7, 14, 0.06451612903225806), (3, 11, 0.06557377049180328), (3, 13, 0.06557377049180328), (2, 3, 0.06666666666666667), (2, 5, 0.06779661016949153), (5, 6, 0.06779661016949153), (1, 14, 0.06779661016949154), (10, 12, 0.0689655172413793), (10, 11, 0.07017543859649122), (6, 10, 0.07142857142857142), (3, 7, 0.07407407407407408), (1, 3, 0.0784313725490196), (4, 12, 0.0784313725490196), (0, 2, 0.08), (4, 11, 0.08), (4, 13, 0.08), (4, 6, 0.08163265306122448), (4, 7, 0.09302325581395349), (6, 11, 0.09523809523809523), (3, 12, 0.0967741935483871), (1, 4, 0.09999999999999999), (3, 6, 0.09999999999999999), (0, 12, 0.1038961038961039), (10, 13, 0.10526315789473684), (0, 13, 0.10526315789473685), (0, 6, 0.10666666666666667), (0, 7, 0.11594202898550725), (7, 10, 0.12), (0, 1, 0.12121212121212123), (0, 14, 0.12345679012345678), (1, 10, 0.1276595744680851), (3, 14, 0.15151515151515152), (10, 14, 0.16129032258064516), (8, 14, 0.1639344262295082), (0, 11, 0.18421052631578946), (4, 8, 0.1904761904761905), (0, 3, 0.273972602739726), (0, 5, 0.2777777777777778), (4, 14, 0.2909090909090909), (3, 4, 0.2978723404255319), (3, 10, 0.3703703703703704), (2, 6, 0.3870967741935484), (9, 14, 0.43333333333333335), (0, 4, 0.4838709677419354), (2, 12, 0.5), (0, 10, 0.6956521739130435), (4, 10, 0.6976744186046512), (5, 11, 0.7), (1, 13, 0.7407407407407406), (6, 12, 0.7500000000000001), (7, 13, 0.8070175438596492), (1, 7, 0.9361702127659575)]\n",
      "[(4, 5, 0.08333333333333333), (5, 10, 0.10909090909090909), (2, 4, 0.11764705882352941), (7, 8, 0.11764705882352941), (1, 8, 0.12499999999999997), (8, 11, 0.1379310344827586), (2, 10, 0.13793103448275862), (2, 8, 0.14035087719298245), (5, 8, 0.14814814814814817), (5, 14, 0.1492537313432836), (5, 9, 0.1509433962264151), (8, 9, 0.16326530612244897), (3, 5, 0.16949152542372883), (2, 14, 0.17142857142857143), (8, 13, 0.17241379310344826), (11, 14, 0.1971830985915493), (8, 12, 0.20338983050847456), (6, 8, 0.21052631578947367), (9, 11, 0.2105263157894737), (2, 9, 0.21428571428571427), (1, 2, 0.21818181818181817), (2, 3, 0.22580645161290322), (0, 8, 0.2285714285714286), (4, 11, 0.23076923076923078), (10, 11, 0.23728813559322037), (1, 4, 0.23809523809523808), (2, 7, 0.2413793103448276), (9, 12, 0.2413793103448276), (2, 11, 0.24615384615384617), (2, 13, 0.24615384615384617), (12, 14, 0.25), (5, 12, 0.253968253968254), (3, 8, 0.2545454545454545), (1, 9, 0.2553191489361702), (3, 9, 0.2592592592592593), (0, 9, 0.26086956521739135), (1, 14, 0.26229508196721313), (2, 5, 0.26229508196721313), (5, 6, 0.26229508196721313), (4, 12, 0.2641509433962264), (4, 7, 0.26666666666666666), (10, 12, 0.26666666666666666), (11, 12, 0.26865671641791045), (4, 6, 0.2745098039215686), (8, 10, 0.27450980392156865), (6, 10, 0.27586206896551724), (6, 11, 0.2769230769230769), (4, 9, 0.27906976744186046), (7, 9, 0.27999999999999997), (9, 13, 0.2807017543859649), (7, 14, 0.28125), (13, 14, 0.28169014084507044), (3, 11, 0.28571428571428564), (6, 14, 0.2857142857142857), (8, 14, 0.2857142857142857), (1, 10, 0.28571428571428575), (6, 9, 0.28571428571428575), (5, 13, 0.2903225806451613), (5, 7, 0.29090909090909095), (0, 1, 0.29411764705882354), (1, 5, 0.3076923076923077), (4, 13, 0.3076923076923077), (7, 10, 0.3076923076923077), (0, 7, 0.30985915492957744), (0, 2, 0.31168831168831174), (1, 12, 0.3157894736842105), (9, 10, 0.32), (1, 11, 0.32142857142857145), (3, 6, 0.3225806451612903), (1, 6, 0.3272727272727273), (12, 13, 0.3283582089552239), (0, 13, 0.3333333333333333), (11, 13, 0.3333333333333333), (7, 12, 0.33333333333333337), (0, 6, 0.3376623376623376), (6, 13, 0.3384615384615385), (7, 11, 0.3389830508474576), (10, 13, 0.3389830508474576), (1, 3, 0.33962264150943394), (3, 12, 0.34375), (6, 7, 0.3448275862068966), (3, 13, 0.3492063492063492), (0, 12, 0.35443037974683544), (3, 7, 0.3571428571428571), (4, 8, 0.3636363636363636), (0, 5, 0.37837837837837834), (0, 14, 0.38554216867469876), (0, 11, 0.41025641025641024), (3, 14, 0.4411764705882353), (0, 3, 0.4533333333333333), (4, 14, 0.45614035087719296), (10, 14, 0.46875), (3, 4, 0.5306122448979592), (0, 4, 0.53125), (2, 6, 0.5625), (3, 10, 0.5714285714285715), (2, 12, 0.6363636363636364), (9, 14, 0.6774193548387096), (0, 10, 0.732394366197183), (4, 10, 0.7555555555555555), (1, 13, 0.7857142857142856), (5, 11, 0.8064516129032258), (7, 13, 0.8474576271186441), (1, 7, 0.9387755102040816), (6, 12, 0.9393939393939394)]\n",
      "[(8, 11, -0.013433221727609634), (5, 8, -0.007725418079644442), (5, 10, 0.009706656448543072), (8, 9, 0.024123787879943848), (2, 8, 0.04678583890199661), (4, 5, 0.04785309359431267), (8, 13, 0.05040186271071434), (6, 8, 0.05558769404888153), (7, 8, 0.055938735604286194), (8, 12, 0.06102391704916954), (10, 11, 0.06952487677335739), (1, 8, 0.08261482417583466), (9, 11, 0.08458087593317032), (9, 10, 0.09659191966056824), (6, 10, 0.10722491890192032), (5, 13, 0.10840659588575363), (2, 10, 0.11400562524795532), (2, 4, 0.11431287974119186), (7, 10, 0.11517635732889175), (3, 5, 0.11822909116744995), (4, 9, 0.11898662149906158), (4, 11, 0.12304798513650894), (5, 9, 0.12491515278816223), (1, 10, 0.1303510218858719), (2, 7, 0.13275429606437683), (8, 10, 0.13536874949932098), (0, 9, 0.137857124209404), (11, 14, 0.13841018080711365), (0, 8, 0.13969285786151886), (5, 7, 0.14281128346920013), (11, 13, 0.14508812129497528), (3, 8, 0.14978940784931183), (2, 11, 0.15098874270915985), (2, 13, 0.15178759396076202), (4, 13, 0.15271888673305511), (9, 13, 0.15289723873138428), (5, 14, 0.1530335545539856), (1, 5, 0.15459135174751282), (3, 11, 0.15548627078533173), (4, 7, 0.1565125584602356), (1, 2, 0.15913796424865723), (6, 7, 0.16135969758033752), (6, 13, 0.16277270019054413), (7, 12, 0.16350939869880676), (7, 11, 0.16397450864315033), (9, 12, 0.16661934554576874), (0, 7, 0.16917623579502106), (6, 11, 0.16918188333511353), (5, 12, 0.16927123069763184), (7, 14, 0.17044903337955475), (10, 12, 0.17057369649410248), (1, 4, 0.17290526628494263), (10, 13, 0.17411696910858154), (1, 6, 0.1754423826932907), (4, 6, 0.17604947090148926), (7, 9, 0.17693379521369934), (3, 7, 0.17809711396694183), (1, 11, 0.18096689879894257), (6, 14, 0.18275883793830872), (1, 12, 0.18278074264526367), (8, 14, 0.1903691291809082), (4, 12, 0.19108569622039795), (3, 9, 0.1921028047800064), (3, 6, 0.19261488318443298), (11, 12, 0.19268693029880524), (1, 14, 0.19357725977897644), (0, 1, 0.19494222104549408), (2, 14, 0.19536955654621124), (2, 3, 0.19782790541648865), (1, 3, 0.19822168350219727), (12, 13, 0.20076127350330353), (1, 9, 0.20333901047706604), (3, 13, 0.2035706788301468), (5, 6, 0.2042173147201538), (13, 14, 0.20495860278606415), (2, 9, 0.20573803782463074), (6, 9, 0.21121133863925934), (2, 5, 0.2132621556520462), (0, 6, 0.22179701924324036), (0, 13, 0.22517995536327362), (12, 14, 0.23711293935775757), (4, 8, 0.24708518385887146), (3, 12, 0.24930903315544128), (0, 2, 0.2830677926540375), (0, 11, 0.29837948083877563), (0, 12, 0.30620449781417847), (10, 14, 0.30622074007987976), (0, 5, 0.3091728091239929), (0, 14, 0.34611427783966064), (3, 10, 0.359514981508255), (4, 14, 0.3620418608188629), (0, 3, 0.3903389573097229), (3, 14, 0.39495304226875305), (3, 4, 0.4093722701072693), (0, 4, 0.571588397026062), (9, 14, 0.5736151933670044), (2, 6, 0.598884642124176), (2, 12, 0.66218501329422), (0, 10, 0.6967821717262268), (1, 13, 0.7292741537094116), (4, 10, 0.7464441657066345), (5, 11, 0.7684409022331238), (6, 12, 0.7840972542762756), (7, 13, 0.7944117188453674), (1, 7, 0.918816864490509)]\n"
     ]
    }
   ],
   "source": [
    "for score in scores:\n",
    "    print(values[score])"
   ]
  },
  {
   "cell_type": "code",
   "execution_count": 96,
   "metadata": {},
   "outputs": [
    {
     "data": {
      "image/png": "[encoded data removed]",
      "text/plain": [
       "<Figure size 1500x500 with 6 Axes>"
      ]
     },
     "metadata": {},
     "output_type": "display_data"
    }
   ],
   "source": [
    "# On s'aperçoit que les paires rouge à haut score correspondent effectivement à des énoncés qui se répètent -> Sans clustering il est déjà possible d'avoir des résultats et en modifiant la matrice distance, il est peut-être possible d'obtenir un meilleur clustering\n",
    "# Renormalisations des scores\n",
    "modified_matrices = {rouge:np.zeros((n,n)) for rouge in rouges}\n",
    "modified_pairs = {\"rouge1\":[], \"rouge2\":[], \"rougeL\":[]}\n",
    "\n",
    "T=9\n",
    "\n",
    "def f(x):\n",
    "    return x*math.exp(-x*T)\n",
    "\n",
    "\n",
    "for rouge in rouges:\n",
    "    normalizer = 0\n",
    "    for i in range(n):\n",
    "        for j in range(i+1, n):\n",
    "            value = f(rouge_matrices[rouge][i][j])\n",
    "            normalizer += value\n",
    "            modified_matrices[rouge][i][j] = value\n",
    "            modified_matrices[rouge][j][i] = value\n",
    "    modified_matrices[rouge] /= value\n",
    "\n",
    "for rouge in rouges:\n",
    "    for i in range(n):\n",
    "        for j in range(i+1, n):\n",
    "            result = modified_matrices[rouge][i][j]\n",
    "            if result > result_threshold:\n",
    "                modified_pairs[rouge].append((i,j))\n",
    "\n",
    "print(modified_pairs)\n",
    "for rouge in rouges:\n",
    "    print(\"Pour la matrice \" + rouge + \", il y a \" + str(len(modified_pairs[rouge])) + \" paires au-dessus du seuil de \" + str(result_threshold) + \".\")\n",
    "\n",
    "rouge_list = {\"rouge1\":[], \"rouge2\":[], \"rougeL\":[]}\n",
    "for rouge in rouges:\n",
    "    for i in range(n):\n",
    "            for j in range(i+1, n):\n",
    "                rouge_list[rouge].append(rouge_matrices[rouge][i][j])\n",
    "\n",
    "modified_list = {\"rouge1\":[], \"rouge2\":[], \"rougeL\":[]}\n",
    "for rouge in rouges:\n",
    "    for i in range(n):\n",
    "            for j in range(i+1, n):\n",
    "                modified_list[rouge].append(modified_matrices[rouge][i][j])\n",
    "\n",
    "# Affichage des distributions de score après renormalisation\n",
    "fig, axes = plt.subplots(2, 3, figsize=(15, 5))  # 1 row, 3 columns\n",
    "\n",
    "# Plot histograms on each subplot\n",
    "axes[0][0].hist(rouge_list[\"rouge1\"], bins=15, color='blue', alpha=0.7)\n",
    "axes[0][0].set_title('Rouge1')\n",
    "\n",
    "axes[0][1].hist(rouge_list[\"rouge2\"], bins=15, color='green', alpha=0.7)\n",
    "axes[0][1].set_title('Rouge2')\n",
    "\n",
    "axes[0][2].hist(rouge_list[\"rougeL\"], bins=15, color='red', alpha=0.7, range=(0,1))\n",
    "axes[0][2].set_title('RougeL')\n",
    "\n",
    "axes[1][0].hist(modified_list[\"rouge1\"], bins=15, color='cyan', alpha=0.7, range=(0,1))\n",
    "axes[1][0].set_title('Rouge1')\n",
    "\n",
    "axes[1][1].hist(modified_list[\"rouge2\"], bins=15, color='yellow', alpha=0.7, range=(0,1))\n",
    "axes[1][1].set_title('Rouge2')\n",
    "\n",
    "axes[1][2].hist(modified_list[\"rougeL\"], bins=15, color='orange', alpha=0.7, range=(0,1))\n",
    "axes[1][2].set_title('RougeL')\n",
    "\n",
    "# Adjust layout\n",
    "plt.tight_layout()\n",
    "\n",
    "# Display the plot\n",
    "plt.show()\n"
   ]
  },
  {
   "cell_type": "code",
   "execution_count": 4,
   "metadata": {},
   "outputs": [
    {
     "ename": "KeyError",
     "evalue": "1",
     "output_type": "error",
     "traceback": [
      "\u001b[1;31m---------------------------------------------------------------------------\u001b[0m",
      "\u001b[1;31mKeyError\u001b[0m                                  Traceback (most recent call last)",
      "Cell \u001b[1;32mIn[4], line 3\u001b[0m\n\u001b[0;32m      1\u001b[0m disct \u001b[39m=\u001b[39m {\u001b[39m1\u001b[39m,\u001b[39m2\u001b[39m}\n\u001b[0;32m      2\u001b[0m disct\u001b[39m.\u001b[39mremove(\u001b[39m1\u001b[39m)\n\u001b[1;32m----> 3\u001b[0m disct\u001b[39m.\u001b[39;49mremove(\u001b[39m1\u001b[39;49m)\n",
      "\u001b[1;31mKeyError\u001b[0m: 1"
     ]
    }
   ],
   "source": [
    "\n",
    "disct = {1,2}\n",
    "disct.remove(1)\n",
    "disct.remove(1)\n"
   ]
  },
  {
   "cell_type": "code",
   "execution_count": 39,
   "metadata": {},
   "outputs": [
    {
     "name": "stdout",
     "output_type": "stream",
     "text": [
      "[0 8 0 5 2 0 7 8 0 0 0 3 8 9 1]\n"
     ]
    },
    {
     "name": "stderr",
     "output_type": "stream",
     "text": [
      "c:\\Users\\rayci\\AppData\\Local\\Programs\\Python\\Python310\\lib\\site-packages\\sklearn_extra\\cluster\\_k_medoids.py:329: UserWarning: Cluster 2 is empty! self.labels_[self.medoid_indices_[2]] may not be labeled with its corresponding cluster (2).\n",
      "  warnings.warn(\n",
      "c:\\Users\\rayci\\AppData\\Local\\Programs\\Python\\Python310\\lib\\site-packages\\sklearn_extra\\cluster\\_k_medoids.py:329: UserWarning: Cluster 4 is empty! self.labels_[self.medoid_indices_[4]] may not be labeled with its corresponding cluster (4).\n",
      "  warnings.warn(\n",
      "c:\\Users\\rayci\\AppData\\Local\\Programs\\Python\\Python310\\lib\\site-packages\\sklearn_extra\\cluster\\_k_medoids.py:329: UserWarning: Cluster 5 is empty! self.labels_[self.medoid_indices_[5]] may not be labeled with its corresponding cluster (5).\n",
      "  warnings.warn(\n",
      "c:\\Users\\rayci\\AppData\\Local\\Programs\\Python\\Python310\\lib\\site-packages\\sklearn_extra\\cluster\\_k_medoids.py:329: UserWarning: Cluster 6 is empty! self.labels_[self.medoid_indices_[6]] may not be labeled with its corresponding cluster (6).\n",
      "  warnings.warn(\n",
      "c:\\Users\\rayci\\AppData\\Local\\Programs\\Python\\Python310\\lib\\site-packages\\sklearn_extra\\cluster\\_k_medoids.py:329: UserWarning: Cluster 7 is empty! self.labels_[self.medoid_indices_[7]] may not be labeled with its corresponding cluster (7).\n",
      "  warnings.warn(\n",
      "c:\\Users\\rayci\\AppData\\Local\\Programs\\Python\\Python310\\lib\\site-packages\\sklearn_extra\\cluster\\_k_medoids.py:329: UserWarning: Cluster 8 is empty! self.labels_[self.medoid_indices_[8]] may not be labeled with its corresponding cluster (8).\n",
      "  warnings.warn(\n",
      "c:\\Users\\rayci\\AppData\\Local\\Programs\\Python\\Python310\\lib\\site-packages\\sklearn_extra\\cluster\\_k_medoids.py:329: UserWarning: Cluster 9 is empty! self.labels_[self.medoid_indices_[9]] may not be labeled with its corresponding cluster (9).\n",
      "  warnings.warn(\n"
     ]
    }
   ],
   "source": [
    "from sklearn_extra.cluster import KMedoids\n",
    "n_clusters = 10\n",
    "kmedoids = KMedoids(n_clusters=n_clusters, random_state=0, metric=\"precomputed\", max_iter=6000)\n",
    "labels = kmedoids.fit_predict(rouge_matrices[\"rouge2\"])\n",
    "\n",
    "print(labels)"
   ]
  },
  {
   "cell_type": "code",
   "execution_count": null,
   "metadata": {},
   "outputs": [],
   "source": []
  },
  {
   "cell_type": "markdown",
   "metadata": {},
   "source": [
    "Plusieurs pistes: \n",
    "- Un seuil, on conserve qu'un sur 2 parmi les paires au-dessus du seuil\n",
    "- La méthode des K-Medoids (algo PAM) en modifiant un peu la distribution de la matrice (loi exp, introduction de temp, xe-x)\n",
    "- La méthode des K-medoids naïve\n",
    "- Entraîner BERT."
   ]
  },
  {
   "cell_type": "code",
   "execution_count": 19,
   "metadata": {},
   "outputs": [
    {
     "ename": "OSError",
     "evalue": "We couldn't connect to 'https://huggingface.co' to load this file, couldn't find it in the cached files and it looks like lmsys/vicuna-7b-v1.1 is not the path to a directory containing a file named config.json.\nCheckout your internet connection or see how to run the library in offline mode at 'https://huggingface.co/docs/transformers/installation#offline-mode'.",
     "output_type": "error",
     "traceback": [
      "\u001b[1;31m---------------------------------------------------------------------------\u001b[0m",
      "\u001b[1;31mLocalEntryNotFoundError\u001b[0m                   Traceback (most recent call last)",
      "File \u001b[1;32mc:\\Users\\rayci\\AppData\\Local\\Programs\\Python\\Python310\\lib\\site-packages\\transformers\\utils\\hub.py:428\u001b[0m, in \u001b[0;36mcached_file\u001b[1;34m(path_or_repo_id, filename, cache_dir, force_download, resume_download, proxies, token, revision, local_files_only, subfolder, repo_type, user_agent, _raise_exceptions_for_missing_entries, _raise_exceptions_for_connection_errors, _commit_hash, **deprecated_kwargs)\u001b[0m\n\u001b[0;32m    426\u001b[0m \u001b[39mtry\u001b[39;00m:\n\u001b[0;32m    427\u001b[0m     \u001b[39m# Load from URL or cache if already cached\u001b[39;00m\n\u001b[1;32m--> 428\u001b[0m     resolved_file \u001b[39m=\u001b[39m hf_hub_download(\n\u001b[0;32m    429\u001b[0m         path_or_repo_id,\n\u001b[0;32m    430\u001b[0m         filename,\n\u001b[0;32m    431\u001b[0m         subfolder\u001b[39m=\u001b[39;49m\u001b[39mNone\u001b[39;49;00m \u001b[39mif\u001b[39;49;00m \u001b[39mlen\u001b[39;49m(subfolder) \u001b[39m==\u001b[39;49m \u001b[39m0\u001b[39;49m \u001b[39melse\u001b[39;49;00m subfolder,\n\u001b[0;32m    432\u001b[0m         repo_type\u001b[39m=\u001b[39;49mrepo_type,\n\u001b[0;32m    433\u001b[0m         revision\u001b[39m=\u001b[39;49mrevision,\n\u001b[0;32m    434\u001b[0m         cache_dir\u001b[39m=\u001b[39;49mcache_dir,\n\u001b[0;32m    435\u001b[0m         user_agent\u001b[39m=\u001b[39;49muser_agent,\n\u001b[0;32m    436\u001b[0m         force_download\u001b[39m=\u001b[39;49mforce_download,\n\u001b[0;32m    437\u001b[0m         proxies\u001b[39m=\u001b[39;49mproxies,\n\u001b[0;32m    438\u001b[0m         resume_download\u001b[39m=\u001b[39;49mresume_download,\n\u001b[0;32m    439\u001b[0m         token\u001b[39m=\u001b[39;49mtoken,\n\u001b[0;32m    440\u001b[0m         local_files_only\u001b[39m=\u001b[39;49mlocal_files_only,\n\u001b[0;32m    441\u001b[0m     )\n\u001b[0;32m    442\u001b[0m \u001b[39mexcept\u001b[39;00m GatedRepoError \u001b[39mas\u001b[39;00m e:\n",
      "File \u001b[1;32mc:\\Users\\rayci\\AppData\\Local\\Programs\\Python\\Python310\\lib\\site-packages\\huggingface_hub\\utils\\_validators.py:118\u001b[0m, in \u001b[0;36mvalidate_hf_hub_args.<locals>._inner_fn\u001b[1;34m(*args, **kwargs)\u001b[0m\n\u001b[0;32m    116\u001b[0m     kwargs \u001b[39m=\u001b[39m smoothly_deprecate_use_auth_token(fn_name\u001b[39m=\u001b[39mfn\u001b[39m.\u001b[39m\u001b[39m__name__\u001b[39m, has_token\u001b[39m=\u001b[39mhas_token, kwargs\u001b[39m=\u001b[39mkwargs)\n\u001b[1;32m--> 118\u001b[0m \u001b[39mreturn\u001b[39;00m fn(\u001b[39m*\u001b[39margs, \u001b[39m*\u001b[39m\u001b[39m*\u001b[39mkwargs)\n",
      "File \u001b[1;32mc:\\Users\\rayci\\AppData\\Local\\Programs\\Python\\Python310\\lib\\site-packages\\huggingface_hub\\file_download.py:1291\u001b[0m, in \u001b[0;36mhf_hub_download\u001b[1;34m(repo_id, filename, subfolder, repo_type, revision, library_name, library_version, cache_dir, local_dir, local_dir_use_symlinks, user_agent, force_download, force_filename, proxies, etag_timeout, resume_download, token, local_files_only, legacy_cache_layout)\u001b[0m\n\u001b[0;32m   1290\u001b[0m     \u001b[39melse\u001b[39;00m:\n\u001b[1;32m-> 1291\u001b[0m         \u001b[39mraise\u001b[39;00m LocalEntryNotFoundError(\n\u001b[0;32m   1292\u001b[0m             \u001b[39m\"\u001b[39m\u001b[39mConnection error, and we cannot find the requested files in\u001b[39m\u001b[39m\"\u001b[39m\n\u001b[0;32m   1293\u001b[0m             \u001b[39m\"\u001b[39m\u001b[39m the disk cache. Please try again or make sure your Internet\u001b[39m\u001b[39m\"\u001b[39m\n\u001b[0;32m   1294\u001b[0m             \u001b[39m\"\u001b[39m\u001b[39m connection is on.\u001b[39m\u001b[39m\"\u001b[39m\n\u001b[0;32m   1295\u001b[0m         )\n\u001b[0;32m   1297\u001b[0m \u001b[39m# From now on, etag and commit_hash are not None.\u001b[39;00m\n",
      "\u001b[1;31mLocalEntryNotFoundError\u001b[0m: Connection error, and we cannot find the requested files in the disk cache. Please try again or make sure your Internet connection is on.",
      "\nThe above exception was the direct cause of the following exception:\n",
      "\u001b[1;31mOSError\u001b[0m                                   Traceback (most recent call last)",
      "Cell \u001b[1;32mIn[19], line 3\u001b[0m\n\u001b[0;32m      1\u001b[0m \u001b[39mfrom\u001b[39;00m \u001b[39mtransformers\u001b[39;00m \u001b[39mimport\u001b[39;00m AutoModelForCausalLM\n\u001b[1;32m----> 3\u001b[0m model \u001b[39m=\u001b[39m AutoModelForCausalLM\u001b[39m.\u001b[39;49mfrom_pretrained(\n\u001b[0;32m      4\u001b[0m     \u001b[39m'\u001b[39;49m\u001b[39mlmsys/vicuna-7b-v1.1\u001b[39;49m\u001b[39m'\u001b[39;49m,\n\u001b[0;32m      5\u001b[0m     device_map\u001b[39m=\u001b[39;49m\u001b[39m\"\u001b[39;49m\u001b[39mauto\u001b[39;49m\u001b[39m\"\u001b[39;49m,\n\u001b[0;32m      6\u001b[0m     trust_remote_code\u001b[39m=\u001b[39;49m\u001b[39mTrue\u001b[39;49;00m\n\u001b[0;32m      7\u001b[0m     )\n",
      "File \u001b[1;32mc:\\Users\\rayci\\AppData\\Local\\Programs\\Python\\Python310\\lib\\site-packages\\transformers\\models\\auto\\auto_factory.py:482\u001b[0m, in \u001b[0;36m_BaseAutoModelClass.from_pretrained\u001b[1;34m(cls, pretrained_model_name_or_path, *model_args, **kwargs)\u001b[0m\n\u001b[0;32m    479\u001b[0m \u001b[39mif\u001b[39;00m kwargs\u001b[39m.\u001b[39mget(\u001b[39m\"\u001b[39m\u001b[39mquantization_config\u001b[39m\u001b[39m\"\u001b[39m, \u001b[39mNone\u001b[39;00m) \u001b[39mis\u001b[39;00m \u001b[39mnot\u001b[39;00m \u001b[39mNone\u001b[39;00m:\n\u001b[0;32m    480\u001b[0m     _ \u001b[39m=\u001b[39m kwargs\u001b[39m.\u001b[39mpop(\u001b[39m\"\u001b[39m\u001b[39mquantization_config\u001b[39m\u001b[39m\"\u001b[39m)\n\u001b[1;32m--> 482\u001b[0m config, kwargs \u001b[39m=\u001b[39m AutoConfig\u001b[39m.\u001b[39mfrom_pretrained(\n\u001b[0;32m    483\u001b[0m     pretrained_model_name_or_path,\n\u001b[0;32m    484\u001b[0m     return_unused_kwargs\u001b[39m=\u001b[39m\u001b[39mTrue\u001b[39;00m,\n\u001b[0;32m    485\u001b[0m     trust_remote_code\u001b[39m=\u001b[39mtrust_remote_code,\n\u001b[0;32m    486\u001b[0m     \u001b[39m*\u001b[39m\u001b[39m*\u001b[39mhub_kwargs,\n\u001b[0;32m    487\u001b[0m     \u001b[39m*\u001b[39m\u001b[39m*\u001b[39mkwargs,\n\u001b[0;32m    488\u001b[0m )\n\u001b[0;32m    490\u001b[0m \u001b[39m# if torch_dtype=auto was passed here, ensure to pass it on\u001b[39;00m\n\u001b[0;32m    491\u001b[0m \u001b[39mif\u001b[39;00m kwargs_orig\u001b[39m.\u001b[39mget(\u001b[39m\"\u001b[39m\u001b[39mtorch_dtype\u001b[39m\u001b[39m\"\u001b[39m, \u001b[39mNone\u001b[39;00m) \u001b[39m==\u001b[39m \u001b[39m\"\u001b[39m\u001b[39mauto\u001b[39m\u001b[39m\"\u001b[39m:\n",
      "File \u001b[1;32mc:\\Users\\rayci\\AppData\\Local\\Programs\\Python\\Python310\\lib\\site-packages\\transformers\\models\\auto\\configuration_auto.py:1004\u001b[0m, in \u001b[0;36mAutoConfig.from_pretrained\u001b[1;34m(cls, pretrained_model_name_or_path, **kwargs)\u001b[0m\n\u001b[0;32m   1002\u001b[0m kwargs[\u001b[39m\"\u001b[39m\u001b[39mname_or_path\u001b[39m\u001b[39m\"\u001b[39m] \u001b[39m=\u001b[39m pretrained_model_name_or_path\n\u001b[0;32m   1003\u001b[0m trust_remote_code \u001b[39m=\u001b[39m kwargs\u001b[39m.\u001b[39mpop(\u001b[39m\"\u001b[39m\u001b[39mtrust_remote_code\u001b[39m\u001b[39m\"\u001b[39m, \u001b[39mNone\u001b[39;00m)\n\u001b[1;32m-> 1004\u001b[0m config_dict, unused_kwargs \u001b[39m=\u001b[39m PretrainedConfig\u001b[39m.\u001b[39mget_config_dict(pretrained_model_name_or_path, \u001b[39m*\u001b[39m\u001b[39m*\u001b[39mkwargs)\n\u001b[0;32m   1005\u001b[0m has_remote_code \u001b[39m=\u001b[39m \u001b[39m\"\u001b[39m\u001b[39mauto_map\u001b[39m\u001b[39m\"\u001b[39m \u001b[39min\u001b[39;00m config_dict \u001b[39mand\u001b[39;00m \u001b[39m\"\u001b[39m\u001b[39mAutoConfig\u001b[39m\u001b[39m\"\u001b[39m \u001b[39min\u001b[39;00m config_dict[\u001b[39m\"\u001b[39m\u001b[39mauto_map\u001b[39m\u001b[39m\"\u001b[39m]\n\u001b[0;32m   1006\u001b[0m has_local_code \u001b[39m=\u001b[39m \u001b[39m\"\u001b[39m\u001b[39mmodel_type\u001b[39m\u001b[39m\"\u001b[39m \u001b[39min\u001b[39;00m config_dict \u001b[39mand\u001b[39;00m config_dict[\u001b[39m\"\u001b[39m\u001b[39mmodel_type\u001b[39m\u001b[39m\"\u001b[39m] \u001b[39min\u001b[39;00m CONFIG_MAPPING\n",
      "File \u001b[1;32mc:\\Users\\rayci\\AppData\\Local\\Programs\\Python\\Python310\\lib\\site-packages\\transformers\\configuration_utils.py:620\u001b[0m, in \u001b[0;36mPretrainedConfig.get_config_dict\u001b[1;34m(cls, pretrained_model_name_or_path, **kwargs)\u001b[0m\n\u001b[0;32m    618\u001b[0m original_kwargs \u001b[39m=\u001b[39m copy\u001b[39m.\u001b[39mdeepcopy(kwargs)\n\u001b[0;32m    619\u001b[0m \u001b[39m# Get config dict associated with the base config file\u001b[39;00m\n\u001b[1;32m--> 620\u001b[0m config_dict, kwargs \u001b[39m=\u001b[39m \u001b[39mcls\u001b[39m\u001b[39m.\u001b[39m_get_config_dict(pretrained_model_name_or_path, \u001b[39m*\u001b[39m\u001b[39m*\u001b[39mkwargs)\n\u001b[0;32m    621\u001b[0m \u001b[39mif\u001b[39;00m \u001b[39m\"\u001b[39m\u001b[39m_commit_hash\u001b[39m\u001b[39m\"\u001b[39m \u001b[39min\u001b[39;00m config_dict:\n\u001b[0;32m    622\u001b[0m     original_kwargs[\u001b[39m\"\u001b[39m\u001b[39m_commit_hash\u001b[39m\u001b[39m\"\u001b[39m] \u001b[39m=\u001b[39m config_dict[\u001b[39m\"\u001b[39m\u001b[39m_commit_hash\u001b[39m\u001b[39m\"\u001b[39m]\n",
      "File \u001b[1;32mc:\\Users\\rayci\\AppData\\Local\\Programs\\Python\\Python310\\lib\\site-packages\\transformers\\configuration_utils.py:675\u001b[0m, in \u001b[0;36mPretrainedConfig._get_config_dict\u001b[1;34m(cls, pretrained_model_name_or_path, **kwargs)\u001b[0m\n\u001b[0;32m    671\u001b[0m configuration_file \u001b[39m=\u001b[39m kwargs\u001b[39m.\u001b[39mpop(\u001b[39m\"\u001b[39m\u001b[39m_configuration_file\u001b[39m\u001b[39m\"\u001b[39m, CONFIG_NAME)\n\u001b[0;32m    673\u001b[0m \u001b[39mtry\u001b[39;00m:\n\u001b[0;32m    674\u001b[0m     \u001b[39m# Load from local folder or from cache or download from model Hub and cache\u001b[39;00m\n\u001b[1;32m--> 675\u001b[0m     resolved_config_file \u001b[39m=\u001b[39m cached_file(\n\u001b[0;32m    676\u001b[0m         pretrained_model_name_or_path,\n\u001b[0;32m    677\u001b[0m         configuration_file,\n\u001b[0;32m    678\u001b[0m         cache_dir\u001b[39m=\u001b[39;49mcache_dir,\n\u001b[0;32m    679\u001b[0m         force_download\u001b[39m=\u001b[39;49mforce_download,\n\u001b[0;32m    680\u001b[0m         proxies\u001b[39m=\u001b[39;49mproxies,\n\u001b[0;32m    681\u001b[0m         resume_download\u001b[39m=\u001b[39;49mresume_download,\n\u001b[0;32m    682\u001b[0m         local_files_only\u001b[39m=\u001b[39;49mlocal_files_only,\n\u001b[0;32m    683\u001b[0m         token\u001b[39m=\u001b[39;49mtoken,\n\u001b[0;32m    684\u001b[0m         user_agent\u001b[39m=\u001b[39;49muser_agent,\n\u001b[0;32m    685\u001b[0m         revision\u001b[39m=\u001b[39;49mrevision,\n\u001b[0;32m    686\u001b[0m         subfolder\u001b[39m=\u001b[39;49msubfolder,\n\u001b[0;32m    687\u001b[0m         _commit_hash\u001b[39m=\u001b[39;49mcommit_hash,\n\u001b[0;32m    688\u001b[0m     )\n\u001b[0;32m    689\u001b[0m     commit_hash \u001b[39m=\u001b[39m extract_commit_hash(resolved_config_file, commit_hash)\n\u001b[0;32m    690\u001b[0m \u001b[39mexcept\u001b[39;00m \u001b[39mEnvironmentError\u001b[39;00m:\n\u001b[0;32m    691\u001b[0m     \u001b[39m# Raise any environment error raise by `cached_file`. It will have a helpful error message adapted to\u001b[39;00m\n\u001b[0;32m    692\u001b[0m     \u001b[39m# the original exception.\u001b[39;00m\n",
      "File \u001b[1;32mc:\\Users\\rayci\\AppData\\Local\\Programs\\Python\\Python310\\lib\\site-packages\\transformers\\utils\\hub.py:468\u001b[0m, in \u001b[0;36mcached_file\u001b[1;34m(path_or_repo_id, filename, cache_dir, force_download, resume_download, proxies, token, revision, local_files_only, subfolder, repo_type, user_agent, _raise_exceptions_for_missing_entries, _raise_exceptions_for_connection_errors, _commit_hash, **deprecated_kwargs)\u001b[0m\n\u001b[0;32m    466\u001b[0m     \u001b[39mif\u001b[39;00m \u001b[39mnot\u001b[39;00m _raise_exceptions_for_missing_entries \u001b[39mor\u001b[39;00m \u001b[39mnot\u001b[39;00m _raise_exceptions_for_connection_errors:\n\u001b[0;32m    467\u001b[0m         \u001b[39mreturn\u001b[39;00m \u001b[39mNone\u001b[39;00m\n\u001b[1;32m--> 468\u001b[0m     \u001b[39mraise\u001b[39;00m \u001b[39mEnvironmentError\u001b[39;00m(\n\u001b[0;32m    469\u001b[0m         \u001b[39mf\u001b[39m\u001b[39m\"\u001b[39m\u001b[39mWe couldn\u001b[39m\u001b[39m'\u001b[39m\u001b[39mt connect to \u001b[39m\u001b[39m'\u001b[39m\u001b[39m{\u001b[39;00mHUGGINGFACE_CO_RESOLVE_ENDPOINT\u001b[39m}\u001b[39;00m\u001b[39m'\u001b[39m\u001b[39m to load this file, couldn\u001b[39m\u001b[39m'\u001b[39m\u001b[39mt find it in the\u001b[39m\u001b[39m\"\u001b[39m\n\u001b[0;32m    470\u001b[0m         \u001b[39mf\u001b[39m\u001b[39m\"\u001b[39m\u001b[39m cached files and it looks like \u001b[39m\u001b[39m{\u001b[39;00mpath_or_repo_id\u001b[39m}\u001b[39;00m\u001b[39m is not the path to a directory containing a file named\u001b[39m\u001b[39m\"\u001b[39m\n\u001b[0;32m    471\u001b[0m         \u001b[39mf\u001b[39m\u001b[39m\"\u001b[39m\u001b[39m \u001b[39m\u001b[39m{\u001b[39;00mfull_filename\u001b[39m}\u001b[39;00m\u001b[39m.\u001b[39m\u001b[39m\\n\u001b[39;00m\u001b[39mCheckout your internet connection or see how to run the library in offline mode at\u001b[39m\u001b[39m\"\u001b[39m\n\u001b[0;32m    472\u001b[0m         \u001b[39m\"\u001b[39m\u001b[39m \u001b[39m\u001b[39m'\u001b[39m\u001b[39mhttps://huggingface.co/docs/transformers/installation#offline-mode\u001b[39m\u001b[39m'\u001b[39m\u001b[39m.\u001b[39m\u001b[39m\"\u001b[39m\n\u001b[0;32m    473\u001b[0m     ) \u001b[39mfrom\u001b[39;00m \u001b[39me\u001b[39;00m\n\u001b[0;32m    474\u001b[0m \u001b[39mexcept\u001b[39;00m EntryNotFoundError \u001b[39mas\u001b[39;00m e:\n\u001b[0;32m    475\u001b[0m     \u001b[39mif\u001b[39;00m \u001b[39mnot\u001b[39;00m _raise_exceptions_for_missing_entries:\n",
      "\u001b[1;31mOSError\u001b[0m: We couldn't connect to 'https://huggingface.co' to load this file, couldn't find it in the cached files and it looks like lmsys/vicuna-7b-v1.1 is not the path to a directory containing a file named config.json.\nCheckout your internet connection or see how to run the library in offline mode at 'https://huggingface.co/docs/transformers/installation#offline-mode'."
     ]
    }
   ],
   "source": [
    "from transformers import AutoModelForCausalLM\n",
    "\n",
    "model = AutoModelForCausalLM.from_pretrained(\n",
    "    'lmsys/vicuna-7b-v1.1',\n",
    "    device_map=\"auto\",\n",
    "    trust_remote_code=True\n",
    "    )"
   ]
  },
  {
   "cell_type": "code",
   "execution_count": 38,
   "metadata": {},
   "outputs": [
    {
     "name": "stdout",
     "output_type": "stream",
     "text": [
      "['je', 'oui']\n"
     ]
    }
   ],
   "source": [
    "print(\"je  oui\".split())"
   ]
  },
  {
   "cell_type": "code",
   "execution_count": null,
   "metadata": {},
   "outputs": [],
   "source": []
  }
 ],
 "metadata": {
  "kernelspec": {
   "display_name": "Python 3",
   "language": "python",
   "name": "python3"
  },
  "language_info": {
   "codemirror_mode": {
    "name": "ipython",
    "version": 3
   },
   "file_extension": ".py",
   "mimetype": "text/x-python",
   "name": "python",
   "nbconvert_exporter": "python",
   "pygments_lexer": "ipython3",
   "version": "3.10.7"
  },
  "orig_nbformat": 4
 },
 "nbformat": 4,
 "nbformat_minor": 2
}
