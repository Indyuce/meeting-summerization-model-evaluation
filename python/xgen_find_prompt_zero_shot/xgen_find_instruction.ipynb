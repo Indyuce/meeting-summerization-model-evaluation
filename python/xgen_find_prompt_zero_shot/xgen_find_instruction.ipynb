{
 "cells": [
  {
   "cell_type": "markdown",
   "metadata": {},
   "source": [
    "## Dependences"
   ]
  },
  {
   "cell_type": "code",
   "execution_count": 1,
   "metadata": {
    "scrolled": true
   },
   "outputs": [
    {
     "name": "stdout",
     "output_type": "stream",
     "text": [
      "Collecting google-api-python-client\n",
      "  Downloading google_api_python_client-2.92.0-py2.py3-none-any.whl (11.4 MB)\n",
      "\u001b[2K     \u001b[90m━━━━━━━━━━━━━━━━━━━━━━━━━━━━━━━━━━━━━━━━\u001b[0m \u001b[32m11.4/11.4 MB\u001b[0m \u001b[31m47.9 MB/s\u001b[0m eta \u001b[36m0:00:00\u001b[0m00:01\u001b[0m0:01\u001b[0m\n",
      "\u001b[?25hCollecting httplib2<1.dev0,>=0.15.0 (from google-api-python-client)\n",
      "  Downloading httplib2-0.22.0-py3-none-any.whl (96 kB)\n",
      "\u001b[2K     \u001b[90m━━━━━━━━━━━━━━━━━━━━━━━━━━━━━━━━━━━━━━━━\u001b[0m \u001b[32m96.9/96.9 kB\u001b[0m \u001b[31m9.6 MB/s\u001b[0m eta \u001b[36m0:00:00\u001b[0m\n",
      "\u001b[?25hCollecting google-auth<3.0.0.dev0,>=1.19.0 (from google-api-python-client)\n",
      "  Downloading google_auth-2.21.0-py2.py3-none-any.whl (182 kB)\n",
      "\u001b[2K     \u001b[90m━━━━━━━━━━━━━━━━━━━━━━━━━━━━━━━━━━━━━━\u001b[0m \u001b[32m182.1/182.1 kB\u001b[0m \u001b[31m17.1 MB/s\u001b[0m eta \u001b[36m0:00:00\u001b[0m\n",
      "\u001b[?25hCollecting google-auth-httplib2>=0.1.0 (from google-api-python-client)\n",
      "  Downloading google_auth_httplib2-0.1.0-py2.py3-none-any.whl (9.3 kB)\n",
      "Collecting google-api-core!=2.0.*,!=2.1.*,!=2.2.*,!=2.3.0,<3.0.0.dev0,>=1.31.5 (from google-api-python-client)\n",
      "  Downloading google_api_core-2.11.1-py3-none-any.whl (120 kB)\n",
      "\u001b[2K     \u001b[90m━━━━━━━━━━━━━━━━━━━━━━━━━━━━━━━━━━━━━━\u001b[0m \u001b[32m120.5/120.5 kB\u001b[0m \u001b[31m11.0 MB/s\u001b[0m eta \u001b[36m0:00:00\u001b[0m\n",
      "\u001b[?25hCollecting uritemplate<5,>=3.0.1 (from google-api-python-client)\n",
      "  Downloading uritemplate-4.1.1-py2.py3-none-any.whl (10 kB)\n",
      "Collecting googleapis-common-protos<2.0.dev0,>=1.56.2 (from google-api-core!=2.0.*,!=2.1.*,!=2.2.*,!=2.3.0,<3.0.0.dev0,>=1.31.5->google-api-python-client)\n",
      "  Downloading googleapis_common_protos-1.59.1-py2.py3-none-any.whl (224 kB)\n",
      "\u001b[2K     \u001b[90m━━━━━━━━━━━━━━━━━━━━━━━━━━━━━━━━━━━━━━\u001b[0m \u001b[32m224.5/224.5 kB\u001b[0m \u001b[31m19.4 MB/s\u001b[0m eta \u001b[36m0:00:00\u001b[0m\n",
      "\u001b[?25hCollecting protobuf!=3.20.0,!=3.20.1,!=4.21.0,!=4.21.1,!=4.21.2,!=4.21.3,!=4.21.4,!=4.21.5,<5.0.0.dev0,>=3.19.5 (from google-api-core!=2.0.*,!=2.1.*,!=2.2.*,!=2.3.0,<3.0.0.dev0,>=1.31.5->google-api-python-client)\n",
      "  Downloading protobuf-4.23.4-cp37-abi3-manylinux2014_x86_64.whl (304 kB)\n",
      "\u001b[2K     \u001b[90m━━━━━━━━━━━━━━━━━━━━━━━━━━━━━━━━━━━━━━\u001b[0m \u001b[32m304.5/304.5 kB\u001b[0m \u001b[31m11.3 MB/s\u001b[0m eta \u001b[36m0:00:00\u001b[0m\n",
      "\u001b[?25hRequirement already satisfied: requests<3.0.0.dev0,>=2.18.0 in /workspace/.miniconda3/lib/python3.10/site-packages (from google-api-core!=2.0.*,!=2.1.*,!=2.2.*,!=2.3.0,<3.0.0.dev0,>=1.31.5->google-api-python-client) (2.28.1)\n",
      "Collecting cachetools<6.0,>=2.0.0 (from google-auth<3.0.0.dev0,>=1.19.0->google-api-python-client)\n",
      "  Downloading cachetools-5.3.1-py3-none-any.whl (9.3 kB)\n",
      "Collecting pyasn1-modules>=0.2.1 (from google-auth<3.0.0.dev0,>=1.19.0->google-api-python-client)\n",
      "  Downloading pyasn1_modules-0.3.0-py2.py3-none-any.whl (181 kB)\n",
      "\u001b[2K     \u001b[90m━━━━━━━━━━━━━━━━━━━━━━━━━━━━━━━━━━━━━━\u001b[0m \u001b[32m181.3/181.3 kB\u001b[0m \u001b[31m16.8 MB/s\u001b[0m eta \u001b[36m0:00:00\u001b[0m\n",
      "\u001b[?25hCollecting rsa<5,>=3.1.4 (from google-auth<3.0.0.dev0,>=1.19.0->google-api-python-client)\n",
      "  Downloading rsa-4.9-py3-none-any.whl (34 kB)\n",
      "Requirement already satisfied: six>=1.9.0 in /workspace/.miniconda3/lib/python3.10/site-packages (from google-auth<3.0.0.dev0,>=1.19.0->google-api-python-client) (1.16.0)\n",
      "Requirement already satisfied: urllib3<2.0 in /workspace/.miniconda3/lib/python3.10/site-packages (from google-auth<3.0.0.dev0,>=1.19.0->google-api-python-client) (1.26.13)\n",
      "Requirement already satisfied: pyparsing!=3.0.0,!=3.0.1,!=3.0.2,!=3.0.3,<4,>=2.4.2 in /workspace/.miniconda3/lib/python3.10/site-packages (from httplib2<1.dev0,>=0.15.0->google-api-python-client) (3.0.9)\n",
      "Collecting pyasn1<0.6.0,>=0.4.6 (from pyasn1-modules>=0.2.1->google-auth<3.0.0.dev0,>=1.19.0->google-api-python-client)\n",
      "  Downloading pyasn1-0.5.0-py2.py3-none-any.whl (83 kB)\n",
      "\u001b[2K     \u001b[90m━━━━━━━━━━━━━━━━━━━━━━━━━━━━━━━━━━━━━━━━\u001b[0m \u001b[32m83.9/83.9 kB\u001b[0m \u001b[31m8.4 MB/s\u001b[0m eta \u001b[36m0:00:00\u001b[0m\n",
      "\u001b[?25hRequirement already satisfied: charset-normalizer<3,>=2 in /workspace/.miniconda3/lib/python3.10/site-packages (from requests<3.0.0.dev0,>=2.18.0->google-api-core!=2.0.*,!=2.1.*,!=2.2.*,!=2.3.0,<3.0.0.dev0,>=1.31.5->google-api-python-client) (2.0.4)\n",
      "Requirement already satisfied: idna<4,>=2.5 in /workspace/.miniconda3/lib/python3.10/site-packages (from requests<3.0.0.dev0,>=2.18.0->google-api-core!=2.0.*,!=2.1.*,!=2.2.*,!=2.3.0,<3.0.0.dev0,>=1.31.5->google-api-python-client) (3.4)\n",
      "Requirement already satisfied: certifi>=2017.4.17 in /workspace/.miniconda3/lib/python3.10/site-packages (from requests<3.0.0.dev0,>=2.18.0->google-api-core!=2.0.*,!=2.1.*,!=2.2.*,!=2.3.0,<3.0.0.dev0,>=1.31.5->google-api-python-client) (2022.12.7)\n",
      "Installing collected packages: uritemplate, pyasn1, protobuf, httplib2, cachetools, rsa, pyasn1-modules, googleapis-common-protos, google-auth, google-auth-httplib2, google-api-core, google-api-python-client\n",
      "Successfully installed cachetools-5.3.1 google-api-core-2.11.1 google-api-python-client-2.92.0 google-auth-2.21.0 google-auth-httplib2-0.1.0 googleapis-common-protos-1.59.1 httplib2-0.22.0 protobuf-4.23.4 pyasn1-0.5.0 pyasn1-modules-0.3.0 rsa-4.9 uritemplate-4.1.1\n",
      "Collecting git+https://github.com/huggingface/transformers.git\n",
      "  Cloning https://github.com/huggingface/transformers.git to /tmp/pip-req-build-uaf34nd3\n",
      "  Running command git clone --filter=blob:none --quiet https://github.com/huggingface/transformers.git /tmp/pip-req-build-uaf34nd3\n",
      "  Resolved https://github.com/huggingface/transformers.git to commit 30ed3adf474aaf2972ab56f5624089bc24a6adf3\n",
      "  Installing build dependencies ... \u001b[?25ldone\n",
      "\u001b[?25h  Getting requirements to build wheel ... \u001b[?25ldone\n",
      "\u001b[?25h  Preparing metadata (pyproject.toml) ... \u001b[?25ldone\n",
      "\u001b[?25hRequirement already satisfied: filelock in /workspace/.miniconda3/lib/python3.10/site-packages (from transformers==4.31.0.dev0) (3.9.0)\n",
      "Collecting huggingface-hub<1.0,>=0.14.1 (from transformers==4.31.0.dev0)\n",
      "  Downloading huggingface_hub-0.16.4-py3-none-any.whl (268 kB)\n",
      "\u001b[2K     \u001b[90m━━━━━━━━━━━━━━━━━━━━━━━━━━━━━━━━━━━━━━━\u001b[0m \u001b[32m268.8/268.8 kB\u001b[0m \u001b[31m6.6 MB/s\u001b[0m eta \u001b[36m0:00:00\u001b[0m00:01\u001b[0m\n",
      "\u001b[?25hRequirement already satisfied: numpy>=1.17 in /workspace/.miniconda3/lib/python3.10/site-packages (from transformers==4.31.0.dev0) (1.24.1)\n",
      "Requirement already satisfied: packaging>=20.0 in /workspace/.miniconda3/lib/python3.10/site-packages (from transformers==4.31.0.dev0) (23.1)\n",
      "Collecting pyyaml>=5.1 (from transformers==4.31.0.dev0)\n",
      "  Downloading PyYAML-6.0-cp310-cp310-manylinux_2_5_x86_64.manylinux1_x86_64.manylinux_2_12_x86_64.manylinux2010_x86_64.whl (682 kB)\n",
      "\u001b[2K     \u001b[90m━━━━━━━━━━━━━━━━━━━━━━━━━━━━━━━━━━━━━━\u001b[0m \u001b[32m682.2/682.2 kB\u001b[0m \u001b[31m29.4 MB/s\u001b[0m eta \u001b[36m0:00:00\u001b[0m\n",
      "\u001b[?25hCollecting regex!=2019.12.17 (from transformers==4.31.0.dev0)\n",
      "  Downloading regex-2023.6.3-cp310-cp310-manylinux_2_17_x86_64.manylinux2014_x86_64.whl (770 kB)\n",
      "\u001b[2K     \u001b[90m━━━━━━━━━━━━━━━━━━━━━━━━━━━━━━━━━━━━━━\u001b[0m \u001b[32m770.4/770.4 kB\u001b[0m \u001b[31m15.5 MB/s\u001b[0m eta \u001b[36m0:00:00\u001b[0m00:01\u001b[0m\n",
      "\u001b[?25hRequirement already satisfied: requests in /workspace/.miniconda3/lib/python3.10/site-packages (from transformers==4.31.0.dev0) (2.28.1)\n",
      "Collecting tokenizers!=0.11.3,<0.14,>=0.11.1 (from transformers==4.31.0.dev0)\n",
      "  Downloading tokenizers-0.13.3-cp310-cp310-manylinux_2_17_x86_64.manylinux2014_x86_64.whl (7.8 MB)\n",
      "\u001b[2K     \u001b[90m━━━━━━━━━━━━━━━━━━━━━━━━━━━━━━━━━━━━━━━━\u001b[0m \u001b[32m7.8/7.8 MB\u001b[0m \u001b[31m59.6 MB/s\u001b[0m eta \u001b[36m0:00:00\u001b[0m00:01\u001b[0m00:01\u001b[0m\n",
      "\u001b[?25hCollecting safetensors>=0.3.1 (from transformers==4.31.0.dev0)\n",
      "  Downloading safetensors-0.3.1-cp310-cp310-manylinux_2_17_x86_64.manylinux2014_x86_64.whl (1.3 MB)\n",
      "\u001b[2K     \u001b[90m━━━━━━━━━━━━━━━━━━━━━━━━━━━━━━━━━━━━━━━━\u001b[0m \u001b[32m1.3/1.3 MB\u001b[0m \u001b[31m42.4 MB/s\u001b[0m eta \u001b[36m0:00:00\u001b[0m\n",
      "\u001b[?25hRequirement already satisfied: tqdm>=4.27 in /workspace/.miniconda3/lib/python3.10/site-packages (from transformers==4.31.0.dev0) (4.51.0)\n",
      "Collecting fsspec (from huggingface-hub<1.0,>=0.14.1->transformers==4.31.0.dev0)\n",
      "  Downloading fsspec-2023.6.0-py3-none-any.whl (163 kB)\n",
      "\u001b[2K     \u001b[90m━━━━━━━━━━━━━━━━━━━━━━━━━━━━━━━━━━━━━━\u001b[0m \u001b[32m163.8/163.8 kB\u001b[0m \u001b[31m16.8 MB/s\u001b[0m eta \u001b[36m0:00:00\u001b[0m\n",
      "\u001b[?25hRequirement already satisfied: typing-extensions>=3.7.4.3 in /workspace/.miniconda3/lib/python3.10/site-packages (from huggingface-hub<1.0,>=0.14.1->transformers==4.31.0.dev0) (4.4.0)\n",
      "Requirement already satisfied: charset-normalizer<3,>=2 in /workspace/.miniconda3/lib/python3.10/site-packages (from requests->transformers==4.31.0.dev0) (2.0.4)\n",
      "Requirement already satisfied: idna<4,>=2.5 in /workspace/.miniconda3/lib/python3.10/site-packages (from requests->transformers==4.31.0.dev0) (3.4)\n",
      "Requirement already satisfied: urllib3<1.27,>=1.21.1 in /workspace/.miniconda3/lib/python3.10/site-packages (from requests->transformers==4.31.0.dev0) (1.26.13)\n",
      "Requirement already satisfied: certifi>=2017.4.17 in /workspace/.miniconda3/lib/python3.10/site-packages (from requests->transformers==4.31.0.dev0) (2022.12.7)\n",
      "Building wheels for collected packages: transformers\n",
      "  Building wheel for transformers (pyproject.toml) ... \u001b[?25ldone\n",
      "\u001b[?25h  Created wheel for transformers: filename=transformers-4.31.0.dev0-py3-none-any.whl size=7308539 sha256=572e932b29f9d5a981fbb63006ea1a3b03ef2d0abaa21807b30de10eb726b3fd\n",
      "  Stored in directory: /tmp/pip-ephem-wheel-cache-mc0_du5j/wheels/e7/9c/5b/e1a9c8007c343041e61cc484433d512ea9274272e3fcbe7c16\n",
      "Successfully built transformers\n",
      "Installing collected packages: tokenizers, safetensors, regex, pyyaml, fsspec, huggingface-hub, transformers\n",
      "Successfully installed fsspec-2023.6.0 huggingface-hub-0.16.4 pyyaml-6.0 regex-2023.6.3 safetensors-0.3.1 tokenizers-0.13.3 transformers-4.31.0.dev0\n",
      "Collecting git+https://github.com/huggingface/accelerate.git\n",
      "  Cloning https://github.com/huggingface/accelerate.git to /tmp/pip-req-build-t6nc09mj\n",
      "  Running command git clone --filter=blob:none --quiet https://github.com/huggingface/accelerate.git /tmp/pip-req-build-t6nc09mj\n",
      "  Resolved https://github.com/huggingface/accelerate.git to commit 95bffdec4326acf6a5d1c3dbaa857a26502aa265\n",
      "  Installing build dependencies ... \u001b[?25ldone\n",
      "\u001b[?25h  Getting requirements to build wheel ... \u001b[?25ldone\n",
      "\u001b[?25h  Preparing metadata (pyproject.toml) ... \u001b[?25ldone\n",
      "\u001b[?25hRequirement already satisfied: numpy>=1.17 in /workspace/.miniconda3/lib/python3.10/site-packages (from accelerate==0.21.0.dev0) (1.24.1)\n",
      "Requirement already satisfied: packaging>=20.0 in /workspace/.miniconda3/lib/python3.10/site-packages (from accelerate==0.21.0.dev0) (23.1)\n",
      "Requirement already satisfied: psutil in /workspace/.miniconda3/lib/python3.10/site-packages (from accelerate==0.21.0.dev0) (5.9.5)\n",
      "Requirement already satisfied: pyyaml in /workspace/.miniconda3/lib/python3.10/site-packages (from accelerate==0.21.0.dev0) (6.0)\n",
      "Requirement already satisfied: torch>=1.10.0 in /workspace/.miniconda3/lib/python3.10/site-packages (from accelerate==0.21.0.dev0) (2.0.0+cu118)\n",
      "Requirement already satisfied: filelock in /workspace/.miniconda3/lib/python3.10/site-packages (from torch>=1.10.0->accelerate==0.21.0.dev0) (3.9.0)\n",
      "Requirement already satisfied: typing-extensions in /workspace/.miniconda3/lib/python3.10/site-packages (from torch>=1.10.0->accelerate==0.21.0.dev0) (4.4.0)\n",
      "Requirement already satisfied: sympy in /workspace/.miniconda3/lib/python3.10/site-packages (from torch>=1.10.0->accelerate==0.21.0.dev0) (1.11.1)\n",
      "Requirement already satisfied: networkx in /workspace/.miniconda3/lib/python3.10/site-packages (from torch>=1.10.0->accelerate==0.21.0.dev0) (3.0)\n",
      "Requirement already satisfied: jinja2 in /workspace/.miniconda3/lib/python3.10/site-packages (from torch>=1.10.0->accelerate==0.21.0.dev0) (3.1.2)\n",
      "Requirement already satisfied: triton==2.0.0 in /workspace/.miniconda3/lib/python3.10/site-packages (from torch>=1.10.0->accelerate==0.21.0.dev0) (2.0.0)\n",
      "Requirement already satisfied: cmake in /workspace/.miniconda3/lib/python3.10/site-packages (from triton==2.0.0->torch>=1.10.0->accelerate==0.21.0.dev0) (3.25.0)\n",
      "Requirement already satisfied: lit in /workspace/.miniconda3/lib/python3.10/site-packages (from triton==2.0.0->torch>=1.10.0->accelerate==0.21.0.dev0) (15.0.7)\n",
      "Requirement already satisfied: MarkupSafe>=2.0 in /workspace/.miniconda3/lib/python3.10/site-packages (from jinja2->torch>=1.10.0->accelerate==0.21.0.dev0) (2.1.2)\n",
      "Requirement already satisfied: mpmath>=0.19 in /workspace/.miniconda3/lib/python3.10/site-packages (from sympy->torch>=1.10.0->accelerate==0.21.0.dev0) (1.2.1)\n",
      "Building wheels for collected packages: accelerate\n",
      "  Building wheel for accelerate (pyproject.toml) ... \u001b[?25ldone\n",
      "\u001b[?25h  Created wheel for accelerate: filename=accelerate-0.21.0.dev0-py3-none-any.whl size=241741 sha256=6f54a2971974f8f9c7eb365719725e8a5d0357ab55bc1718cc51e01e959ee2b1\n",
      "  Stored in directory: /tmp/pip-ephem-wheel-cache-im_59kwc/wheels/9c/a3/1e/47368f9b6575655fe9ee1b6350cfa7d4b0befe66a35f8a8365\n",
      "Successfully built accelerate\n",
      "Installing collected packages: accelerate\n",
      "Successfully installed accelerate-0.21.0.dev0\n",
      "Collecting tiktoken\n",
      "  Downloading tiktoken-0.4.0-cp310-cp310-manylinux_2_17_x86_64.manylinux2014_x86_64.whl (1.7 MB)\n",
      "\u001b[2K     \u001b[90m━━━━━━━━━━━━━━━━━━━━━━━━━━━━━━━━━━━━━━━━\u001b[0m \u001b[32m1.7/1.7 MB\u001b[0m \u001b[31m16.8 MB/s\u001b[0m eta \u001b[36m0:00:00\u001b[0ma \u001b[36m0:00:01\u001b[0m\n",
      "\u001b[?25hRequirement already satisfied: regex>=2022.1.18 in /workspace/.miniconda3/lib/python3.10/site-packages (from tiktoken) (2023.6.3)\n",
      "Requirement already satisfied: requests>=2.26.0 in /workspace/.miniconda3/lib/python3.10/site-packages (from tiktoken) (2.28.1)\n",
      "Requirement already satisfied: charset-normalizer<3,>=2 in /workspace/.miniconda3/lib/python3.10/site-packages (from requests>=2.26.0->tiktoken) (2.0.4)\n",
      "Requirement already satisfied: idna<4,>=2.5 in /workspace/.miniconda3/lib/python3.10/site-packages (from requests>=2.26.0->tiktoken) (3.4)\n",
      "Requirement already satisfied: urllib3<1.27,>=1.21.1 in /workspace/.miniconda3/lib/python3.10/site-packages (from requests>=2.26.0->tiktoken) (1.26.13)\n",
      "Requirement already satisfied: certifi>=2017.4.17 in /workspace/.miniconda3/lib/python3.10/site-packages (from requests>=2.26.0->tiktoken) (2022.12.7)\n",
      "Installing collected packages: tiktoken\n",
      "Successfully installed tiktoken-0.4.0\n",
      "Requirement already satisfied: torch in /workspace/.miniconda3/lib/python3.10/site-packages (2.0.0+cu118)\n",
      "Requirement already satisfied: filelock in /workspace/.miniconda3/lib/python3.10/site-packages (from torch) (3.9.0)\n",
      "Requirement already satisfied: typing-extensions in /workspace/.miniconda3/lib/python3.10/site-packages (from torch) (4.4.0)\n",
      "Requirement already satisfied: sympy in /workspace/.miniconda3/lib/python3.10/site-packages (from torch) (1.11.1)\n",
      "Requirement already satisfied: networkx in /workspace/.miniconda3/lib/python3.10/site-packages (from torch) (3.0)\n",
      "Requirement already satisfied: jinja2 in /workspace/.miniconda3/lib/python3.10/site-packages (from torch) (3.1.2)\n",
      "Requirement already satisfied: triton==2.0.0 in /workspace/.miniconda3/lib/python3.10/site-packages (from torch) (2.0.0)\n",
      "Requirement already satisfied: cmake in /workspace/.miniconda3/lib/python3.10/site-packages (from triton==2.0.0->torch) (3.25.0)\n",
      "Requirement already satisfied: lit in /workspace/.miniconda3/lib/python3.10/site-packages (from triton==2.0.0->torch) (15.0.7)\n",
      "Requirement already satisfied: MarkupSafe>=2.0 in /workspace/.miniconda3/lib/python3.10/site-packages (from jinja2->torch) (2.1.2)\n",
      "Requirement already satisfied: mpmath>=0.19 in /workspace/.miniconda3/lib/python3.10/site-packages (from sympy->torch) (1.2.1)\n",
      "Collecting scipy\n",
      "  Downloading scipy-1.11.1-cp310-cp310-manylinux_2_17_x86_64.manylinux2014_x86_64.whl (36.3 MB)\n",
      "\u001b[2K     \u001b[90m━━━━━━━━━━━━━━━━━━━━━━━━━━━━━━━━━━━━━━━━\u001b[0m \u001b[32m36.3/36.3 MB\u001b[0m \u001b[31m33.3 MB/s\u001b[0m eta \u001b[36m0:00:00\u001b[0m00:01\u001b[0m00:01\u001b[0m\n",
      "\u001b[?25hRequirement already satisfied: numpy<1.28.0,>=1.21.6 in /workspace/.miniconda3/lib/python3.10/site-packages (from scipy) (1.24.1)\n",
      "Installing collected packages: scipy\n",
      "Successfully installed scipy-1.11.1\n"
     ]
    }
   ],
   "source": [
    "!pip install --upgrade google-api-python-client\n",
    "!pip install bitsandbytes>=0.39.0\n",
    "!pip install git+https://github.com/huggingface/transformers.git\n",
    "!pip install git+https://github.com/huggingface/accelerate.git\n",
    "!pip install tiktoken\n",
    "!pip install torch\n",
    "!pip install scipy"
   ]
  },
  {
   "cell_type": "code",
   "execution_count": 1,
   "metadata": {},
   "outputs": [
    {
     "name": "stdout",
     "output_type": "stream",
     "text": [
      "Thu Jul 13 13:43:54 2023       \n",
      "+---------------------------------------------------------------------------------------+\n",
      "| NVIDIA-SMI 530.41.03              Driver Version: 530.41.03    CUDA Version: 12.1     |\n",
      "|-----------------------------------------+----------------------+----------------------+\n",
      "| GPU  Name                  Persistence-M| Bus-Id        Disp.A | Volatile Uncorr. ECC |\n",
      "| Fan  Temp  Perf            Pwr:Usage/Cap|         Memory-Usage | GPU-Util  Compute M. |\n",
      "|                                         |                      |               MIG M. |\n",
      "|=========================================+======================+======================|\n",
      "|   0  NVIDIA GeForce RTX 3070         Off| 00000000:01:00.0 Off |                  N/A |\n",
      "|  0%   55C    P8               16W / 220W|     15MiB /  8192MiB |      0%      Default |\n",
      "|                                         |                      |                  N/A |\n",
      "+-----------------------------------------+----------------------+----------------------+\n",
      "                                                                                         \n",
      "+---------------------------------------------------------------------------------------+\n",
      "| Processes:                                                                            |\n",
      "|  GPU   GI   CI        PID   Type   Process name                            GPU Memory |\n",
      "|        ID   ID                                                             Usage      |\n",
      "|=======================================================================================|\n",
      "|    0   N/A  N/A      1165      G   /usr/lib/xorg/Xorg                            9MiB |\n",
      "|    0   N/A  N/A      1319      G   /usr/bin/gnome-shell                          4MiB |\n",
      "+---------------------------------------------------------------------------------------+\n"
     ]
    }
   ],
   "source": [
    "!nvidia-smi"
   ]
  },
  {
   "cell_type": "code",
   "execution_count": 7,
   "metadata": {},
   "outputs": [
    {
     "name": "stdout",
     "output_type": "stream",
     "text": [
      "              total        used        free      shared  buff/cache   available\n",
      "Mem:      181108932    10473132    73337164     5609268    97298636   163382608\n",
      "Swap:             0           0           0\n"
     ]
    }
   ],
   "source": [
    "!free"
   ]
  },
  {
   "cell_type": "markdown",
   "metadata": {},
   "source": [
    "## Imports"
   ]
  },
  {
   "cell_type": "code",
   "execution_count": 5,
   "metadata": {},
   "outputs": [],
   "source": [
    "import os\n",
    "import torch\n",
    "import time\n",
    "import datetime\n",
    "import sys\n",
    "import traceback\n",
    "import gc\n",
    "\n",
    "from transformers import (\n",
    "    AutoConfig,\n",
    "    AutoModelForCausalLM,\n",
    "    AutoTokenizer,\n",
    "    BitsAndBytesConfig,\n",
    ")"
   ]
  },
  {
   "cell_type": "markdown",
   "metadata": {},
   "source": [
    "## Loading the model"
   ]
  },
  {
   "cell_type": "code",
   "execution_count": 2,
   "metadata": {},
   "outputs": [
    {
     "name": "stderr",
     "output_type": "stream",
     "text": [
      "Using unk_token, but it is not set yet.\n",
      "Using unk_token, but it is not set yet.\n"
     ]
    },
    {
     "name": "stdout",
     "output_type": "stream",
     "text": [
      "\n",
      "===================================BUG REPORT===================================\n",
      "Welcome to bitsandbytes. For bug reports, please run\n",
      "\n",
      "python -m bitsandbytes\n",
      "\n",
      " and submit this information together with your error trace to: https://github.com/TimDettmers/bitsandbytes/issues\n",
      "================================================================================\n",
      "bin /workspace/.miniconda3/lib/python3.10/site-packages/bitsandbytes/libbitsandbytes_cuda118_nocublaslt.so\n",
      "CUDA_SETUP: WARNING! libcudart.so not found in any environmental path. Searching in backup paths...\n",
      "CUDA SETUP: CUDA runtime path found: /usr/local/cuda/lib64/libcudart.so.11.0\n",
      "CUDA SETUP: Highest compute capability among GPUs detected: 7.0\n",
      "CUDA SETUP: Detected CUDA version 118\n",
      "CUDA SETUP: Loading binary /workspace/.miniconda3/lib/python3.10/site-packages/bitsandbytes/libbitsandbytes_cuda118_nocublaslt.so...\n"
     ]
    },
    {
     "name": "stderr",
     "output_type": "stream",
     "text": [
      "/workspace/.miniconda3/lib/python3.10/site-packages/bitsandbytes/cuda_setup/main.py:149: UserWarning: WARNING: The following directories listed in your path were found to be non-existent: {PosixPath('/usr/local/nvidia/lib64'), PosixPath('/usr/local/nvidia/lib')}\n",
      "  warn(msg)\n",
      "/workspace/.miniconda3/lib/python3.10/site-packages/bitsandbytes/cuda_setup/main.py:149: UserWarning: /usr/local/nvidia/lib:/usr/local/nvidia/lib64 did not contain ['libcudart.so', 'libcudart.so.11.0', 'libcudart.so.12.0'] as expected! Searching further paths...\n",
      "  warn(msg)\n",
      "/workspace/.miniconda3/lib/python3.10/site-packages/bitsandbytes/cuda_setup/main.py:149: UserWarning: WARNING: The following directories listed in your path were found to be non-existent: {PosixPath('//10.43.0.1'), PosixPath('443'), PosixPath('tcp')}\n",
      "  warn(msg)\n",
      "/workspace/.miniconda3/lib/python3.10/site-packages/bitsandbytes/cuda_setup/main.py:149: UserWarning: WARNING: The following directories listed in your path were found to be non-existent: {PosixPath('https')}\n",
      "  warn(msg)\n",
      "/workspace/.miniconda3/lib/python3.10/site-packages/bitsandbytes/cuda_setup/main.py:149: UserWarning: WARNING: The following directories listed in your path were found to be non-existent: {PosixPath('repo/python/xgen_find_prompt_zero_shot/6bf19858-5016-4926-a649-45880b1d8f08')}\n",
      "  warn(msg)\n",
      "/workspace/.miniconda3/lib/python3.10/site-packages/bitsandbytes/cuda_setup/main.py:149: UserWarning: WARNING: The following directories listed in your path were found to be non-existent: {PosixPath('//matplotlib_inline.backend_inline'), PosixPath('module')}\n",
      "  warn(msg)\n",
      "/workspace/.miniconda3/lib/python3.10/site-packages/bitsandbytes/cuda_setup/main.py:149: UserWarning: WARNING: Compute capability < 7.5 detected! Only slow 8-bit matmul is supported for your GPU!\n",
      "  warn(msg)\n"
     ]
    },
    {
     "data": {
      "application/vnd.jupyter.widget-view+json": {
       "model_id": "364adf85df18484099d8dcf6aed96bf4",
       "version_major": 2,
       "version_minor": 0
      },
      "text/plain": [
       "HBox(children=(HTML(value='Loading checkpoint shards'), FloatProgress(value=0.0, max=2.0), HTML(value='')))"
      ]
     },
     "metadata": {},
     "output_type": "display_data"
    },
    {
     "name": "stdout",
     "output_type": "stream",
     "text": [
      "\n"
     ]
    }
   ],
   "source": [
    "model_name = 'legendhasit/xgen-7b-8k-inst-8bit'\n",
    "\n",
    "bnb_config = BitsAndBytesConfig(\n",
    "    load_in_4bit=True,\n",
    "    bnb_4bit_use_double_quant=True,\n",
    "    bnb_4bit_quant_type=\"nf4\",\n",
    "    bnb_4bit_compute_dtype=torch.bfloat16,\n",
    ")\n",
    "\n",
    "tokenizer = AutoTokenizer.from_pretrained(model_name, trust_remote_code=True)\n",
    "model = AutoModelForCausalLM.from_pretrained(\n",
    "    model_name,\n",
    "    device_map=\"auto\",\n",
    "    trust_remote_code=True,\n",
    "    quantization_config=bnb_config\n",
    ")"
   ]
  },
  {
   "cell_type": "markdown",
   "metadata": {},
   "source": [
    "## Inference"
   ]
  },
  {
   "cell_type": "code",
   "execution_count": 6,
   "metadata": {},
   "outputs": [
    {
     "name": "stdout",
     "output_type": "stream",
     "text": [
      "Found 10 samples\n",
      "Found 6 instructions\n"
     ]
    }
   ],
   "source": [
    "# Parameters:\n",
    "# - DATASET_NAME\n",
    "# - HEADER\n",
    "# - PROMPT_TEMPLATE\n",
    "# - samples in dataset 'input/<dataset_name>'\n",
    "# - instructions in 'instructions.txt'\n",
    "\n",
    "def mkdir(folder_path):\n",
    "    try:\n",
    "        os.mkdir(folder_path)\n",
    "    except FileExistsError:\n",
    "        pass\n",
    "\n",
    "mkdir('input')\n",
    "\n",
    "# Define prompt template\n",
    "# ==========================================================================================\n",
    "HEADER = (\n",
    "    \"A chat between a curious human and an artificial intelligence assistant. \"\n",
    "    \"The assistant gives helpful, detailed, and polite answers to the human's questions.\"\n",
    ")\n",
    "\n",
    "PROMPT_TEMPLATE = HEADER + \"\"\"\n",
    "\n",
    "### Human: {instruction}\n",
    "\n",
    "{article}\n",
    "\n",
    "### Assistant:\"\"\"\n",
    "\n",
    "# Load samples from dataset\n",
    "# ==========================================================================================\n",
    "DATASET_NAME = 'fredsum'\n",
    "samples = os.listdir('input/' + DATASET_NAME + '/texts')\n",
    "n_samples = len(samples)\n",
    "print('Found', n_samples, 'samples')\n",
    "\n",
    "# Load instructions\n",
    "# ==========================================================================================\n",
    "instruction_file = open('instructions.txt', 'r', encoding='utf-8')\n",
    "instructions = instruction_file.readlines()\n",
    "instruction_file.close()\n",
    "n_instructions = len(instructions)\n",
    "for i in range(n_instructions):\n",
    "    instructions[i] = instructions[i].replace('\\n', '')\n",
    "print('Found', n_instructions, 'instructions')"
   ]
  },
  {
   "cell_type": "code",
   "execution_count": 7,
   "metadata": {
    "scrolled": true
   },
   "outputs": [
    {
     "name": "stdout",
     "output_type": "stream",
     "text": [
      "Starting computation...\n",
      "Prompting instruction N1/6 on sample N1/10\n",
      "-- Completion: 0.0%\n",
      "-- Found intermediate result file 'intermediate/1_1.txt', skipped.\n",
      "Prompting instruction N1/6 on sample N2/10\n",
      "-- Completion: 0.0%\n",
      "-- Found intermediate result file 'intermediate/1_2.txt', skipped.\n",
      "Prompting instruction N1/6 on sample N3/10\n",
      "-- Completion: 0.0%\n",
      "-- Found intermediate result file 'intermediate/1_3.txt', skipped.\n",
      "Prompting instruction N1/6 on sample N4/10\n",
      "-- Completion: 0.0%\n",
      "-- Found intermediate result file 'intermediate/1_4.txt', skipped.\n",
      "Prompting instruction N1/6 on sample N5/10\n",
      "-- Completion: 0.0%\n",
      "-- Found intermediate result file 'intermediate/1_5.txt', skipped.\n",
      "Prompting instruction N1/6 on sample N6/10\n",
      "-- Completion: 0.0%\n",
      "-- Found intermediate result file 'intermediate/1_6.txt', skipped.\n",
      "Prompting instruction N1/6 on sample N7/10\n",
      "-- Completion: 0.0%\n",
      "-- Found intermediate result file 'intermediate/1_7.txt', skipped.\n",
      "Prompting instruction N1/6 on sample N8/10\n",
      "-- Completion: 0.0%\n",
      "-- Found intermediate result file 'intermediate/1_8.txt', skipped.\n",
      "Prompting instruction N1/6 on sample N9/10\n",
      "-- Completion: 0.0%\n",
      "-- Found intermediate result file 'intermediate/1_9.txt', skipped.\n",
      "Prompting instruction N1/6 on sample N10/10\n",
      "-- Completion: 0.0%\n",
      "-- Found intermediate result file 'intermediate/1_10.txt', skipped.\n",
      "Prompting instruction N2/6 on sample N1/10\n",
      "-- Completion: 0.0%\n",
      "-- Found intermediate result file 'intermediate/2_1.txt', skipped.\n",
      "Prompting instruction N2/6 on sample N2/10\n",
      "-- Completion: 0.0%\n",
      "-- Found intermediate result file 'intermediate/2_2.txt', skipped.\n",
      "Prompting instruction N2/6 on sample N3/10\n",
      "-- Completion: 0.0%\n",
      "-- Found intermediate result file 'intermediate/2_3.txt', skipped.\n",
      "Prompting instruction N2/6 on sample N4/10\n",
      "-- Completion: 0.0%\n",
      "-- Found intermediate result file 'intermediate/2_4.txt', skipped.\n",
      "Prompting instruction N2/6 on sample N5/10\n",
      "-- Completion: 0.0%\n",
      "-- Found intermediate result file 'intermediate/2_5.txt', skipped.\n",
      "Prompting instruction N2/6 on sample N6/10\n",
      "-- Completion: 0.0%\n",
      "-- Found intermediate result file 'intermediate/2_6.txt', skipped.\n",
      "Prompting instruction N2/6 on sample N7/10\n",
      "-- Completion: 0.0%\n",
      "-- Found intermediate result file 'intermediate/2_7.txt', skipped.\n",
      "Prompting instruction N2/6 on sample N8/10\n",
      "-- Completion: 0.0%\n",
      "-- Found intermediate result file 'intermediate/2_8.txt', skipped.\n",
      "Prompting instruction N2/6 on sample N9/10\n",
      "-- Completion: 0.0%\n",
      "-- Found intermediate result file 'intermediate/2_9.txt', skipped.\n",
      "Prompting instruction N2/6 on sample N10/10\n",
      "-- Completion: 0.0%\n",
      "-- Found intermediate result file 'intermediate/2_10.txt', skipped.\n",
      "Prompting instruction N3/6 on sample N1/10\n",
      "-- Completion: 0.0%\n",
      "-- Found intermediate result file 'intermediate/3_1.txt', skipped.\n",
      "Prompting instruction N3/6 on sample N2/10\n",
      "-- Completion: 0.0%\n",
      "-- Found intermediate result file 'intermediate/3_2.txt', skipped.\n",
      "Prompting instruction N3/6 on sample N3/10\n",
      "-- Completion: 0.0%\n",
      "-- Found intermediate result file 'intermediate/3_3.txt', skipped.\n",
      "Prompting instruction N3/6 on sample N4/10\n",
      "-- Completion: 0.0%\n",
      "-- Found intermediate result file 'intermediate/3_4.txt', skipped.\n",
      "Prompting instruction N3/6 on sample N5/10\n",
      "-- Completion: 0.0%\n",
      "-- Found intermediate result file 'intermediate/3_5.txt', skipped.\n",
      "Prompting instruction N3/6 on sample N6/10\n",
      "-- Completion: 0.0%\n",
      "-- Found intermediate result file 'intermediate/3_6.txt', skipped.\n",
      "Prompting instruction N3/6 on sample N7/10\n",
      "-- Completion: 0.0%\n",
      "-- Found intermediate result file 'intermediate/3_7.txt', skipped.\n",
      "Prompting instruction N3/6 on sample N8/10\n",
      "-- Completion: 0.0%\n",
      "-- Found intermediate result file 'intermediate/3_8.txt', skipped.\n",
      "Prompting instruction N3/6 on sample N9/10\n",
      "-- Completion: 0.0%\n",
      "-- Found intermediate result file 'intermediate/3_9.txt', skipped.\n",
      "Prompting instruction N3/6 on sample N10/10\n",
      "-- Completion: 0.0%\n",
      "-- Found intermediate result file 'intermediate/3_10.txt', skipped.\n",
      "Prompting instruction N4/6 on sample N1/10\n",
      "-- Completion: 0.0%\n",
      "-- Found intermediate result file 'intermediate/4_1.txt', skipped.\n",
      "Prompting instruction N4/6 on sample N2/10\n",
      "-- Completion: 0.0%\n",
      "-- Found intermediate result file 'intermediate/4_2.txt', skipped.\n",
      "Prompting instruction N4/6 on sample N3/10\n",
      "-- Completion: 0.0%\n",
      "-- Found intermediate result file 'intermediate/4_3.txt', skipped.\n",
      "Prompting instruction N4/6 on sample N4/10\n",
      "-- Completion: 0.0%\n",
      "-- Found intermediate result file 'intermediate/4_4.txt', skipped.\n",
      "Prompting instruction N4/6 on sample N5/10\n",
      "-- Completion: 0.0%\n",
      "-- Found intermediate result file 'intermediate/4_5.txt', skipped.\n",
      "Prompting instruction N4/6 on sample N6/10\n",
      "-- Completion: 0.0%\n",
      "-- Found intermediate result file 'intermediate/4_6.txt', skipped.\n",
      "Prompting instruction N4/6 on sample N7/10\n",
      "-- Completion: 0.0%\n",
      "-- Found intermediate result file 'intermediate/4_7.txt', skipped.\n",
      "Prompting instruction N4/6 on sample N8/10\n",
      "-- Completion: 0.0%\n",
      "-- Found intermediate result file 'intermediate/4_8.txt', skipped.\n",
      "Prompting instruction N4/6 on sample N9/10\n",
      "-- Completion: 0.0%\n",
      "-- Found intermediate result file 'intermediate/4_9.txt', skipped.\n",
      "Prompting instruction N4/6 on sample N10/10\n",
      "-- Completion: 0.0%\n",
      "-- Found intermediate result file 'intermediate/4_10.txt', skipped.\n",
      "Prompting instruction N5/6 on sample N1/10\n",
      "-- Completion: 0.0%\n",
      "-- Found intermediate result file 'intermediate/5_1.txt', skipped.\n",
      "Prompting instruction N5/6 on sample N2/10\n",
      "-- Completion: 0.0%\n",
      "-- Found intermediate result file 'intermediate/5_2.txt', skipped.\n",
      "Prompting instruction N5/6 on sample N3/10\n",
      "-- Completion: 0.0%\n",
      "-- Found intermediate result file 'intermediate/5_3.txt', skipped.\n",
      "Prompting instruction N5/6 on sample N4/10\n",
      "-- Completion: 0.0%\n",
      "-- Found intermediate result file 'intermediate/5_4.txt', skipped.\n",
      "Prompting instruction N5/6 on sample N5/10\n",
      "-- Completion: 0.0%\n",
      "-- Found intermediate result file 'intermediate/5_5.txt', skipped.\n",
      "Prompting instruction N5/6 on sample N6/10\n",
      "-- Completion: 0.0%\n",
      "-- Found intermediate result file 'intermediate/5_6.txt', skipped.\n",
      "Prompting instruction N5/6 on sample N7/10\n",
      "-- Completion: 0.0%\n",
      "-- Found intermediate result file 'intermediate/5_7.txt', skipped.\n",
      "Prompting instruction N5/6 on sample N8/10\n",
      "-- Completion: 0.0%\n",
      "-- Found intermediate result file 'intermediate/5_8.txt', skipped.\n",
      "Prompting instruction N5/6 on sample N9/10\n",
      "-- Completion: 0.0%\n",
      "-- Found intermediate result file 'intermediate/5_9.txt', skipped.\n",
      "Prompting instruction N5/6 on sample N10/10\n",
      "-- Completion: 0.0%\n",
      "-- Found intermediate result file 'intermediate/5_10.txt', skipped.\n",
      "Prompting instruction N6/6 on sample N1/10\n",
      "-- Completion: 0.0%\n",
      "-- Found intermediate result file 'intermediate/6_1.txt', skipped.\n",
      "Prompting instruction N6/6 on sample N2/10\n",
      "-- Completion: 0.0%\n",
      "-- Found intermediate result file 'intermediate/6_2.txt', skipped.\n",
      "Prompting instruction N6/6 on sample N3/10\n",
      "-- Completion: 0.0%\n",
      "-- Found intermediate result file 'intermediate/6_3.txt', skipped.\n",
      "Prompting instruction N6/6 on sample N4/10\n",
      "-- Completion: 0.0%\n",
      "-- Found intermediate result file 'intermediate/6_4.txt', skipped.\n",
      "Prompting instruction N6/6 on sample N5/10\n",
      "-- Completion: 0.0%\n",
      "-- Found intermediate result file 'intermediate/6_5.txt', skipped.\n",
      "Prompting instruction N6/6 on sample N6/10\n",
      "-- Completion: 0.0%\n",
      "-- Found intermediate result file 'intermediate/6_6.txt', skipped.\n",
      "Prompting instruction N6/6 on sample N7/10\n",
      "-- Completion: 0.0%\n",
      "-- Found intermediate result file 'intermediate/6_7.txt', skipped.\n",
      "Prompting instruction N6/6 on sample N8/10\n",
      "-- Completion: 0.0%\n",
      "-- Found intermediate result file 'intermediate/6_8.txt', skipped.\n",
      "Prompting instruction N6/6 on sample N9/10\n",
      "-- Completion: 0.0%\n",
      "-- Found intermediate result file 'intermediate/6_9.txt', skipped.\n",
      "Prompting instruction N6/6 on sample N10/10\n",
      "-- Completion: 0.0%\n",
      "-- Found intermediate result file 'intermediate/6_10.txt', skipped.\n",
      "Done! Took 0:00:00 seconds\n"
     ]
    }
   ],
   "source": [
    "# Inference\n",
    "# ==========================================================================================\n",
    "initial_time = time.time()\n",
    "skipped_samples = 0\n",
    "\n",
    "mkdir('intermediate')\n",
    "mkdir('intermediate/' + DATASET_NAME)\n",
    "\n",
    "print('Starting computation...')\n",
    "\n",
    "# For each instruction\n",
    "for instruction_n in range(n_instructions):\n",
    "\n",
    "    # Read instruction and create prompt\n",
    "    instruction = instructions[instruction_n]\n",
    "    \n",
    "    # For each sample in dataset\n",
    "    for sample_n in range(n_samples):\n",
    "\n",
    "        # Estimate completion and time.\n",
    "        cur_samples = instruction_n * n_samples + sample_n - skipped_samples\n",
    "        tot_samples = n_instructions * n_samples - skipped_samples\n",
    "        progress = cur_samples / tot_samples\n",
    "        pct = round(progress * 100, 1)\n",
    "        print('Prompting instruction N' + str(instruction_n + 1) + '/' + str(n_instructions) + ' on sample N' + str(sample_n + 1) + '/' + str(n_samples))\n",
    "        print('-- Completion: ' + str(pct) + '%')\n",
    "        if cur_samples > 0:\n",
    "            approx_total = (time.time() - initial_time) / cur_samples * tot_samples\n",
    "            approx_remaining = approx_total * (1 - progress)\n",
    "            print('-- Estimated Remaining Time: ' + str(datetime.timedelta(seconds=int(approx_remaining))) + ' (total ' + str(datetime.timedelta(seconds=int(approx_total))) + ')')\n",
    "        \n",
    "        # Read sample and generate prompt\n",
    "        sample_file_path = 'input/' + DATASET_NAME + '/texts/' + samples[sample_n]\n",
    "        sample_file = open(sample_file_path, 'r', encoding='utf-8')\n",
    "        sample = sample_file.read()\n",
    "        sample_file.close()\n",
    "        prompt = PROMPT_TEMPLATE.format(instruction=instruction, article=sample)\n",
    "        \n",
    "        # Find target file\n",
    "        target_file_path = 'intermediate/' + DATASET_NAME + '/' + str(instruction_n + 1) + '_' + str(sample_n + 1) + '.txt'\n",
    "        if os.path.isfile(target_file_path):\n",
    "            print('-- Found intermediate result file \\'' + target_file_path + '\\', skipped.')\n",
    "            skipped_samples += 1\n",
    "            continue\n",
    "            \n",
    "        try:\n",
    "        \n",
    "            # Sample one answer\n",
    "            input_ids = tokenizer(prompt, return_tensors=\"pt\").to('cuda')\n",
    "            sample = model.generate(**input_ids, do_sample=True, max_new_tokens=2048, top_k=100, eos_token_id=50256, temperature=0.3)\n",
    "            output = tokenizer.decode(sample[0]).strip()\n",
    "\n",
    "            # Save answer in file\n",
    "            target_file = open(target_file_path, 'w', encoding='utf-8')\n",
    "            target_file.write(output)\n",
    "            target_file.close()\n",
    "\n",
    "            del input_ids\n",
    "            del sample\n",
    "        \n",
    "        except:\n",
    "            print('Could not compute prompt:')\n",
    "            print(prompt)\n",
    "            traceback.print_exc()\n",
    "\n",
    "        gc.collect()\n",
    "\n",
    "delta = time.time() - initial_time\n",
    "print('Done! Took', datetime.timedelta(seconds=int(delta)), 'seconds')"
   ]
  },
  {
   "cell_type": "code",
   "execution_count": 9,
   "metadata": {},
   "outputs": [],
   "source": [
    "del input_ids\n",
    "del sample\n",
    "del output"
   ]
  },
  {
   "cell_type": "markdown",
   "metadata": {},
   "source": [
    "## Calculs de scores"
   ]
  },
  {
   "cell_type": "code",
   "execution_count": 33,
   "metadata": {},
   "outputs": [
    {
     "name": "stdout",
     "output_type": "stream",
     "text": [
      "Collecting rouge_score\n",
      "  Downloading rouge_score-0.1.2.tar.gz (17 kB)\n",
      "  Preparing metadata (setup.py): started\n",
      "  Preparing metadata (setup.py): finished with status 'done'\n",
      "Requirement already satisfied: absl-py in c:\\users\\jules\\appdata\\local\\programs\\python\\python310\\lib\\site-packages (from rouge_score) (1.2.0)\n",
      "Requirement already satisfied: nltk in c:\\users\\jules\\appdata\\local\\programs\\python\\python310\\lib\\site-packages (from rouge_score) (3.8.1)\n",
      "Requirement already satisfied: numpy in c:\\users\\jules\\appdata\\local\\programs\\python\\python310\\lib\\site-packages (from rouge_score) (1.23.3)\n",
      "Requirement already satisfied: six>=1.14.0 in c:\\users\\jules\\appdata\\local\\programs\\python\\python310\\lib\\site-packages (from rouge_score) (1.16.0)\n",
      "Requirement already satisfied: click in c:\\users\\jules\\appdata\\local\\programs\\python\\python310\\lib\\site-packages (from nltk->rouge_score) (8.1.5)\n",
      "Requirement already satisfied: joblib in c:\\users\\jules\\appdata\\roaming\\python\\python310\\site-packages (from nltk->rouge_score) (1.2.0)\n",
      "Requirement already satisfied: regex>=2021.8.3 in c:\\users\\jules\\appdata\\local\\programs\\python\\python310\\lib\\site-packages (from nltk->rouge_score) (2023.6.3)\n",
      "Requirement already satisfied: tqdm in c:\\users\\jules\\appdata\\local\\programs\\python\\python310\\lib\\site-packages (from nltk->rouge_score) (4.65.0)\n",
      "Requirement already satisfied: colorama in c:\\users\\jules\\appdata\\roaming\\python\\python310\\site-packages (from click->nltk->rouge_score) (0.4.6)\n",
      "Building wheels for collected packages: rouge_score\n",
      "  Building wheel for rouge_score (setup.py): started\n",
      "  Building wheel for rouge_score (setup.py): finished with status 'done'\n",
      "  Created wheel for rouge_score: filename=rouge_score-0.1.2-py3-none-any.whl size=24936 sha256=7afcf4fd12bb20d962442dc2662012abd1ec10704de49142044f1fad7b14b3dc\n",
      "  Stored in directory: c:\\users\\jules\\appdata\\local\\pip\\cache\\wheels\\5f\\dd\\89\\461065a73be61a532ff8599a28e9beef17985c9e9c31e541b4\n",
      "Successfully built rouge_score\n",
      "Installing collected packages: rouge_score\n",
      "Successfully installed rouge_score-0.1.2\n"
     ]
    },
    {
     "name": "stderr",
     "output_type": "stream",
     "text": [
      "\n",
      "[notice] A new release of pip is available: 23.1.2 -> 23.2\n",
      "[notice] To update, run: python.exe -m pip install --upgrade pip\n"
     ]
    },
    {
     "name": "stdout",
     "output_type": "stream",
     "text": [
      "Requirement already satisfied: evaluate in c:\\users\\jules\\appdata\\local\\programs\\python\\python310\\lib\\site-packages (0.4.0)\n",
      "Requirement already satisfied: datasets>=2.0.0 in c:\\users\\jules\\appdata\\local\\programs\\python\\python310\\lib\\site-packages (from evaluate) (2.13.1)\n",
      "Requirement already satisfied: numpy>=1.17 in c:\\users\\jules\\appdata\\local\\programs\\python\\python310\\lib\\site-packages (from evaluate) (1.23.3)\n",
      "Requirement already satisfied: dill in c:\\users\\jules\\appdata\\local\\programs\\python\\python310\\lib\\site-packages (from evaluate) (0.3.6)\n",
      "Requirement already satisfied: pandas in c:\\users\\jules\\appdata\\local\\programs\\python\\python310\\lib\\site-packages (from evaluate) (1.5.3)\n",
      "Requirement already satisfied: requests>=2.19.0 in c:\\users\\jules\\appdata\\local\\programs\\python\\python310\\lib\\site-packages (from evaluate) (2.28.1)\n",
      "Requirement already satisfied: tqdm>=4.62.1 in c:\\users\\jules\\appdata\\local\\programs\\python\\python310\\lib\\site-packages (from evaluate) (4.65.0)\n",
      "Requirement already satisfied: xxhash in c:\\users\\jules\\appdata\\local\\programs\\python\\python310\\lib\\site-packages (from evaluate) (3.2.0)\n",
      "Requirement already satisfied: multiprocess in c:\\users\\jules\\appdata\\local\\programs\\python\\python310\\lib\\site-packages (from evaluate) (0.70.14)\n",
      "Requirement already satisfied: fsspec[http]>=2021.05.0 in c:\\users\\jules\\appdata\\local\\programs\\python\\python310\\lib\\site-packages (from evaluate) (2023.5.0)\n",
      "Requirement already satisfied: huggingface-hub>=0.7.0 in c:\\users\\jules\\appdata\\local\\programs\\python\\python310\\lib\\site-packages (from evaluate) (0.15.1)\n",
      "Requirement already satisfied: packaging in c:\\users\\jules\\appdata\\local\\programs\\python\\python310\\lib\\site-packages (from evaluate) (21.3)\n",
      "Requirement already satisfied: responses<0.19 in c:\\users\\jules\\appdata\\local\\programs\\python\\python310\\lib\\site-packages (from evaluate) (0.18.0)\n",
      "Requirement already satisfied: pyarrow>=8.0.0 in c:\\users\\jules\\appdata\\local\\programs\\python\\python310\\lib\\site-packages (from datasets>=2.0.0->evaluate) (12.0.1)\n",
      "Requirement already satisfied: aiohttp in c:\\users\\jules\\appdata\\local\\programs\\python\\python310\\lib\\site-packages (from datasets>=2.0.0->evaluate) (3.8.4)\n",
      "Requirement already satisfied: pyyaml>=5.1 in c:\\users\\jules\\appdata\\local\\programs\\python\\python310\\lib\\site-packages (from datasets>=2.0.0->evaluate) (6.0)\n",
      "Requirement already satisfied: filelock in c:\\users\\jules\\appdata\\local\\programs\\python\\python310\\lib\\site-packages (from huggingface-hub>=0.7.0->evaluate) (3.12.0)\n",
      "Requirement already satisfied: typing-extensions>=3.7.4.3 in c:\\users\\jules\\appdata\\local\\programs\\python\\python310\\lib\\site-packages (from huggingface-hub>=0.7.0->evaluate) (4.4.0)\n",
      "Requirement already satisfied: pyparsing!=3.0.5,>=2.0.2 in c:\\users\\jules\\appdata\\local\\programs\\python\\python310\\lib\\site-packages (from packaging->evaluate) (3.0.9)\n",
      "Requirement already satisfied: charset-normalizer<3,>=2 in c:\\users\\jules\\appdata\\local\\programs\\python\\python310\\lib\\site-packages (from requests>=2.19.0->evaluate) (2.1.1)\n",
      "Requirement already satisfied: idna<4,>=2.5 in c:\\users\\jules\\appdata\\local\\programs\\python\\python310\\lib\\site-packages (from requests>=2.19.0->evaluate) (3.4)\n",
      "Requirement already satisfied: urllib3<1.27,>=1.21.1 in c:\\users\\jules\\appdata\\local\\programs\\python\\python310\\lib\\site-packages (from requests>=2.19.0->evaluate) (1.26.12)\n",
      "Requirement already satisfied: certifi>=2017.4.17 in c:\\users\\jules\\appdata\\local\\programs\\python\\python310\\lib\\site-packages (from requests>=2.19.0->evaluate) (2022.9.24)\n",
      "Requirement already satisfied: colorama in c:\\users\\jules\\appdata\\roaming\\python\\python310\\site-packages (from tqdm>=4.62.1->evaluate) (0.4.6)\n",
      "Requirement already satisfied: python-dateutil>=2.8.1 in c:\\users\\jules\\appdata\\local\\programs\\python\\python310\\lib\\site-packages (from pandas->evaluate) (2.8.2)\n",
      "Requirement already satisfied: pytz>=2020.1 in c:\\users\\jules\\appdata\\local\\programs\\python\\python310\\lib\\site-packages (from pandas->evaluate) (2022.7.1)\n",
      "Requirement already satisfied: attrs>=17.3.0 in c:\\users\\jules\\appdata\\local\\programs\\python\\python310\\lib\\site-packages (from aiohttp->datasets>=2.0.0->evaluate) (23.1.0)\n",
      "Requirement already satisfied: multidict<7.0,>=4.5 in c:\\users\\jules\\appdata\\local\\programs\\python\\python310\\lib\\site-packages (from aiohttp->datasets>=2.0.0->evaluate) (6.0.4)\n",
      "Requirement already satisfied: async-timeout<5.0,>=4.0.0a3 in c:\\users\\jules\\appdata\\local\\programs\\python\\python310\\lib\\site-packages (from aiohttp->datasets>=2.0.0->evaluate) (4.0.2)\n",
      "Requirement already satisfied: yarl<2.0,>=1.0 in c:\\users\\jules\\appdata\\local\\programs\\python\\python310\\lib\\site-packages (from aiohttp->datasets>=2.0.0->evaluate) (1.9.2)\n",
      "Requirement already satisfied: frozenlist>=1.1.1 in c:\\users\\jules\\appdata\\local\\programs\\python\\python310\\lib\\site-packages (from aiohttp->datasets>=2.0.0->evaluate) (1.3.3)\n",
      "Requirement already satisfied: aiosignal>=1.1.2 in c:\\users\\jules\\appdata\\local\\programs\\python\\python310\\lib\\site-packages (from aiohttp->datasets>=2.0.0->evaluate) (1.3.1)\n",
      "Requirement already satisfied: six>=1.5 in c:\\users\\jules\\appdata\\local\\programs\\python\\python310\\lib\\site-packages (from python-dateutil>=2.8.1->pandas->evaluate) (1.16.0)\n"
     ]
    },
    {
     "name": "stderr",
     "output_type": "stream",
     "text": [
      "\n",
      "[notice] A new release of pip is available: 23.1.2 -> 23.2\n",
      "[notice] To update, run: python.exe -m pip install --upgrade pip\n"
     ]
    },
    {
     "name": "stdout",
     "output_type": "stream",
     "text": [
      "Requirement already satisfied: bert-score in c:\\users\\jules\\appdata\\local\\programs\\python\\python310\\lib\\site-packages (0.3.13)\n",
      "Requirement already satisfied: torch>=1.0.0 in c:\\users\\jules\\appdata\\local\\programs\\python\\python310\\lib\\site-packages (from bert-score) (2.0.1+cu117)\n",
      "Requirement already satisfied: pandas>=1.0.1 in c:\\users\\jules\\appdata\\local\\programs\\python\\python310\\lib\\site-packages (from bert-score) (1.5.3)\n",
      "Requirement already satisfied: transformers>=3.0.0 in c:\\users\\jules\\appdata\\local\\programs\\python\\python310\\lib\\site-packages (from bert-score) (4.29.2)\n",
      "Requirement already satisfied: numpy in c:\\users\\jules\\appdata\\local\\programs\\python\\python310\\lib\\site-packages (from bert-score) (1.23.3)\n",
      "Requirement already satisfied: requests in c:\\users\\jules\\appdata\\local\\programs\\python\\python310\\lib\\site-packages (from bert-score) (2.28.1)\n",
      "Requirement already satisfied: tqdm>=4.31.1 in c:\\users\\jules\\appdata\\local\\programs\\python\\python310\\lib\\site-packages (from bert-score) (4.65.0)\n",
      "Requirement already satisfied: matplotlib in c:\\users\\jules\\appdata\\roaming\\python\\python310\\site-packages (from bert-score) (3.7.1)\n",
      "Requirement already satisfied: packaging>=20.9 in c:\\users\\jules\\appdata\\local\\programs\\python\\python310\\lib\\site-packages (from bert-score) (21.3)\n",
      "Requirement already satisfied: pyparsing!=3.0.5,>=2.0.2 in c:\\users\\jules\\appdata\\local\\programs\\python\\python310\\lib\\site-packages (from packaging>=20.9->bert-score) (3.0.9)\n",
      "Requirement already satisfied: python-dateutil>=2.8.1 in c:\\users\\jules\\appdata\\local\\programs\\python\\python310\\lib\\site-packages (from pandas>=1.0.1->bert-score) (2.8.2)\n",
      "Requirement already satisfied: pytz>=2020.1 in c:\\users\\jules\\appdata\\local\\programs\\python\\python310\\lib\\site-packages (from pandas>=1.0.1->bert-score) (2022.7.1)\n",
      "Requirement already satisfied: filelock in c:\\users\\jules\\appdata\\local\\programs\\python\\python310\\lib\\site-packages (from torch>=1.0.0->bert-score) (3.12.0)\n",
      "Requirement already satisfied: typing-extensions in c:\\users\\jules\\appdata\\local\\programs\\python\\python310\\lib\\site-packages (from torch>=1.0.0->bert-score) (4.4.0)\n",
      "Requirement already satisfied: sympy in c:\\users\\jules\\appdata\\local\\programs\\python\\python310\\lib\\site-packages (from torch>=1.0.0->bert-score) (1.11.1)\n",
      "Requirement already satisfied: networkx in c:\\users\\jules\\appdata\\local\\programs\\python\\python310\\lib\\site-packages (from torch>=1.0.0->bert-score) (3.0)\n",
      "Requirement already satisfied: jinja2 in c:\\users\\jules\\appdata\\local\\programs\\python\\python310\\lib\\site-packages (from torch>=1.0.0->bert-score) (3.1.2)\n",
      "Requirement already satisfied: colorama in c:\\users\\jules\\appdata\\roaming\\python\\python310\\site-packages (from tqdm>=4.31.1->bert-score) (0.4.6)\n",
      "Requirement already satisfied: huggingface-hub<1.0,>=0.14.1 in c:\\users\\jules\\appdata\\local\\programs\\python\\python310\\lib\\site-packages (from transformers>=3.0.0->bert-score) (0.15.1)\n",
      "Requirement already satisfied: pyyaml>=5.1 in c:\\users\\jules\\appdata\\local\\programs\\python\\python310\\lib\\site-packages (from transformers>=3.0.0->bert-score) (6.0)\n",
      "Requirement already satisfied: regex!=2019.12.17 in c:\\users\\jules\\appdata\\local\\programs\\python\\python310\\lib\\site-packages (from transformers>=3.0.0->bert-score) (2023.6.3)\n",
      "Requirement already satisfied: tokenizers!=0.11.3,<0.14,>=0.11.1 in c:\\users\\jules\\appdata\\local\\programs\\python\\python310\\lib\\site-packages (from transformers>=3.0.0->bert-score) (0.13.3)\n",
      "Requirement already satisfied: contourpy>=1.0.1 in c:\\users\\jules\\appdata\\roaming\\python\\python310\\site-packages (from matplotlib->bert-score) (1.0.7)\n",
      "Requirement already satisfied: cycler>=0.10 in c:\\users\\jules\\appdata\\roaming\\python\\python310\\site-packages (from matplotlib->bert-score) (0.11.0)\n",
      "Requirement already satisfied: fonttools>=4.22.0 in c:\\users\\jules\\appdata\\roaming\\python\\python310\\site-packages (from matplotlib->bert-score) (4.39.0)\n",
      "Requirement already satisfied: kiwisolver>=1.0.1 in c:\\users\\jules\\appdata\\roaming\\python\\python310\\site-packages (from matplotlib->bert-score) (1.4.4)\n",
      "Requirement already satisfied: pillow>=6.2.0 in c:\\users\\jules\\appdata\\local\\programs\\python\\python310\\lib\\site-packages (from matplotlib->bert-score) (9.2.0)\n",
      "Requirement already satisfied: charset-normalizer<3,>=2 in c:\\users\\jules\\appdata\\local\\programs\\python\\python310\\lib\\site-packages (from requests->bert-score) (2.1.1)\n",
      "Requirement already satisfied: idna<4,>=2.5 in c:\\users\\jules\\appdata\\local\\programs\\python\\python310\\lib\\site-packages (from requests->bert-score) (3.4)\n",
      "Requirement already satisfied: urllib3<1.27,>=1.21.1 in c:\\users\\jules\\appdata\\local\\programs\\python\\python310\\lib\\site-packages (from requests->bert-score) (1.26.12)\n",
      "Requirement already satisfied: certifi>=2017.4.17 in c:\\users\\jules\\appdata\\local\\programs\\python\\python310\\lib\\site-packages (from requests->bert-score) (2022.9.24)\n",
      "Requirement already satisfied: fsspec in c:\\users\\jules\\appdata\\local\\programs\\python\\python310\\lib\\site-packages (from huggingface-hub<1.0,>=0.14.1->transformers>=3.0.0->bert-score) (2023.5.0)\n",
      "Requirement already satisfied: six>=1.5 in c:\\users\\jules\\appdata\\local\\programs\\python\\python310\\lib\\site-packages (from python-dateutil>=2.8.1->pandas>=1.0.1->bert-score) (1.16.0)\n",
      "Requirement already satisfied: MarkupSafe>=2.0 in c:\\users\\jules\\appdata\\local\\programs\\python\\python310\\lib\\site-packages (from jinja2->torch>=1.0.0->bert-score) (2.1.1)\n",
      "Requirement already satisfied: mpmath>=0.19 in c:\\users\\jules\\appdata\\local\\programs\\python\\python310\\lib\\site-packages (from sympy->torch>=1.0.0->bert-score) (1.2.1)\n"
     ]
    },
    {
     "name": "stderr",
     "output_type": "stream",
     "text": [
      "\n",
      "[notice] A new release of pip is available: 23.1.2 -> 23.2\n",
      "[notice] To update, run: python.exe -m pip install --upgrade pip\n"
     ]
    },
    {
     "name": "stdout",
     "output_type": "stream",
     "text": [
      "Requirement already satisfied: sacrebleu in c:\\users\\jules\\appdata\\local\\programs\\python\\python310\\lib\\site-packages (2.3.1)\n",
      "Requirement already satisfied: portalocker in c:\\users\\jules\\appdata\\local\\programs\\python\\python310\\lib\\site-packages (from sacrebleu) (2.7.0)\n",
      "Requirement already satisfied: regex in c:\\users\\jules\\appdata\\local\\programs\\python\\python310\\lib\\site-packages (from sacrebleu) (2023.6.3)\n",
      "Requirement already satisfied: tabulate>=0.8.9 in c:\\users\\jules\\appdata\\local\\programs\\python\\python310\\lib\\site-packages (from sacrebleu) (0.9.0)\n",
      "Requirement already satisfied: numpy>=1.17 in c:\\users\\jules\\appdata\\local\\programs\\python\\python310\\lib\\site-packages (from sacrebleu) (1.23.3)\n",
      "Requirement already satisfied: colorama in c:\\users\\jules\\appdata\\roaming\\python\\python310\\site-packages (from sacrebleu) (0.4.6)\n",
      "Requirement already satisfied: lxml in c:\\users\\jules\\appdata\\local\\programs\\python\\python310\\lib\\site-packages (from sacrebleu) (4.9.1)\n",
      "Requirement already satisfied: pywin32>=226 in c:\\users\\jules\\appdata\\roaming\\python\\python310\\site-packages (from portalocker->sacrebleu) (306)\n"
     ]
    },
    {
     "name": "stderr",
     "output_type": "stream",
     "text": [
      "\n",
      "[notice] A new release of pip is available: 23.1.2 -> 23.2\n",
      "[notice] To update, run: python.exe -m pip install --upgrade pip\n"
     ]
    },
    {
     "name": "stdout",
     "output_type": "stream",
     "text": [
      "Requirement already satisfied: nltk in c:\\users\\jules\\appdata\\local\\programs\\python\\python310\\lib\\site-packages (3.8.1)\n",
      "Requirement already satisfied: click in c:\\users\\jules\\appdata\\local\\programs\\python\\python310\\lib\\site-packages (from nltk) (8.1.5)\n",
      "Requirement already satisfied: joblib in c:\\users\\jules\\appdata\\roaming\\python\\python310\\site-packages (from nltk) (1.2.0)\n",
      "Requirement already satisfied: regex>=2021.8.3 in c:\\users\\jules\\appdata\\local\\programs\\python\\python310\\lib\\site-packages (from nltk) (2023.6.3)\n",
      "Requirement already satisfied: tqdm in c:\\users\\jules\\appdata\\local\\programs\\python\\python310\\lib\\site-packages (from nltk) (4.65.0)\n",
      "Requirement already satisfied: colorama in c:\\users\\jules\\appdata\\roaming\\python\\python310\\site-packages (from click->nltk) (0.4.6)\n"
     ]
    },
    {
     "name": "stderr",
     "output_type": "stream",
     "text": [
      "\n",
      "[notice] A new release of pip is available: 23.1.2 -> 23.2\n",
      "[notice] To update, run: python.exe -m pip install --upgrade pip\n"
     ]
    }
   ],
   "source": [
    "!pip install rouge_score rouge\n",
    "!pip install evaluate\n",
    "!pip install bert-score\n",
    "!pip install sacrebleu\n",
    "!pip install nltk"
   ]
  },
  {
   "cell_type": "code",
   "execution_count": 2,
   "metadata": {},
   "outputs": [
    {
     "name": "stderr",
     "output_type": "stream",
     "text": [
      "c:\\Users\\Jules\\AppData\\Local\\Programs\\Python\\Python310\\lib\\site-packages\\tqdm\\auto.py:21: TqdmWarning: IProgress not found. Please update jupyter and ipywidgets. See https://ipywidgets.readthedocs.io/en/stable/user_install.html\n",
      "  from .autonotebook import tqdm as notebook_tqdm\n"
     ]
    }
   ],
   "source": [
    "import evaluate\n",
    "from bert_score import score"
   ]
  },
  {
   "cell_type": "code",
   "execution_count": 22,
   "metadata": {},
   "outputs": [
    {
     "name": "stdout",
     "output_type": "stream",
     "text": [
      "Starting scores computation...\n",
      "La réunion se finit par des arguments contradictoires sur les chiffres utilisés pour justifier la réforme des retraites. Le ministre des Relations sociales, Franck Riester, affirme que les femmes seront un peu pénalisées par la réforme, tandis que le ministre délégué chargé de la réforme des retraites, Emmanuel Macron, estime que cela ne va pas affecter beaucoup de personnes. Les députés Mme Lebec et Mme Panot dénoncent la réforme comme étant injustifiable et inéquitable. Les députés Jérôme Chartier et Jean-Baptiste Lemoyne soulignent que la réforme a été votée en 2003 et qu'elle ne devrait pas affecter beaucoup de personnes\n",
      "---------------------------------------\n",
      "calculating scores...\n",
      "computing bert embedding.\n"
     ]
    },
    {
     "name": "stderr",
     "output_type": "stream",
     "text": [
      "100%|██████████| 1/1 [00:02<00:00,  2.69s/it]\n"
     ]
    },
    {
     "name": "stdout",
     "output_type": "stream",
     "text": [
      "computing greedy matching.\n"
     ]
    },
    {
     "name": "stderr",
     "output_type": "stream",
     "text": [
      "100%|██████████| 1/1 [00:00<00:00, 166.36it/s]\n"
     ]
    },
    {
     "name": "stdout",
     "output_type": "stream",
     "text": [
      "done in 1812901.59 seconds, 0.00 sentences/sec\n",
      "The speaker is discussing the timing of the presidential election in Ukraine and how it relates to the support France is giving to Ukraine. They mention that the timing of the election is not ideal for France, but it is important to maintain diplomatic relations with both Russia and Ukraine. They also mention that Emmanuel Macron has been consistent in his stance on the issue and that he has been criticized for not taking a stronger stance on the issue. They also mention that Macron might have been hesitant to travel to Kiev because of the campaign season and the fact that he is trying to find a balance between dialogue and firmness. Jordan Bardella and Clémentine Autain criticize Macron's timing and say that it is important to support Ukraine in the face of the Russian invasion.\n",
      "\n",
      "The speaker is discussing the importance of the moment in Ukraine's conflict and how it relates to the support France is giving to Ukraine. They mention that the moment is important because it is a chance for France to show its support for Ukraine and to send a message to Russia that they will not tolerate the invasion. They also mention that the timing of the event is not ideal for France, but it is important to maintain diplomatic relations with both Russia and Ukraine. They also mention that Emmanuel Macron has been consistent in his stance on the issue and that he has been criticized for not taking a stronger stance on the issue\n",
      "---------------------------------------\n",
      "calculating scores...\n",
      "computing bert embedding.\n"
     ]
    },
    {
     "name": "stderr",
     "output_type": "stream",
     "text": [
      "100%|██████████| 1/1 [00:01<00:00,  1.17s/it]\n"
     ]
    },
    {
     "name": "stdout",
     "output_type": "stream",
     "text": [
      "computing greedy matching.\n"
     ]
    },
    {
     "name": "stderr",
     "output_type": "stream",
     "text": [
      "100%|██████████| 1/1 [00:00<00:00, 125.02it/s]\n"
     ]
    },
    {
     "name": "stdout",
     "output_type": "stream",
     "text": [
      "done in 1812904.16 seconds, 0.00 sentences/sec\n",
      "The conversation is about the policies of President Francois Mitterrand and Jacques Chirac in France in the 1980s. Mitterrand is discussing the European integration and the tax policy, while Chirac is discussing the social policy and the economy. Mitterrand mentions the injustice in the tax system and the need to harmonize the tax policy in Europe. Chirac mentions the importance of the European integration and the need to balance the budget. Mitterrand also mentions the issue of the wealth tax and the impact it has on the economy. Chirac mentions the importance of the European integration and the need to balance the budget\n",
      "---------------------------------------\n",
      "calculating scores...\n",
      "computing bert embedding.\n"
     ]
    },
    {
     "name": "stderr",
     "output_type": "stream",
     "text": [
      "100%|██████████| 1/1 [00:00<00:00,  2.11it/s]\n"
     ]
    },
    {
     "name": "stdout",
     "output_type": "stream",
     "text": [
      "computing greedy matching.\n"
     ]
    },
    {
     "name": "stderr",
     "output_type": "stream",
     "text": [
      "100%|██████████| 1/1 [00:00<00:00, 333.46it/s]\n"
     ]
    },
    {
     "name": "stdout",
     "output_type": "stream",
     "text": [
      "done in 1812905.99 seconds, 0.00 sentences/sec\n",
      "The speaker discusses the importance of the European Union and NATO in the current crisis. They mention that Eric Zemmour is against leaving the NATO framework and considers NATO indispensable, but they also think that the EU is indispensable in the current crisis. They also mention that Vladimir Putin is dangerous and that his actions in Africa and the Middle East indicate that he is trying to destabilize France. They also mention that Emmanuel Macron should have seen these signs before and that he is currently facing criticism for not having done so. The speaker also mentions that Valérie Pécresse is a Gaullist and that she is against the European Union, especially Jean Monnet, who was a French statesman and the founder of the European Coal and Steel Community. They also mention that the European defense and the European defense are important in the current crisis\n",
      "---------------------------------------\n",
      "calculating scores...\n",
      "computing bert embedding.\n"
     ]
    },
    {
     "name": "stderr",
     "output_type": "stream",
     "text": [
      "100%|██████████| 1/1 [00:00<00:00,  1.63it/s]\n"
     ]
    },
    {
     "name": "stdout",
     "output_type": "stream",
     "text": [
      "computing greedy matching.\n"
     ]
    },
    {
     "name": "stderr",
     "output_type": "stream",
     "text": [
      "100%|██████████| 1/1 [00:00<00:00, 250.11it/s]\n"
     ]
    },
    {
     "name": "stdout",
     "output_type": "stream",
     "text": [
      "done in 1812908.01 seconds, 0.00 sentences/sec\n",
      "* Mitterrand: \"C'est tout à fait différent. Depuis deux ans, et là c'est en tant que Premier ministre que je l'ai fait. Maintenant, en tant que candidat, je dis à monsieur Mitterrand : qu'allez-vous faire ?\"\n",
      "* Mitterrand: \"C'est un problème d'identité nationale et de mode de vie des Français et de cohésion sociale.\"\n",
      "* Mitterrand: \"Je ne participerais pas, en dépit des événements électoraux, à cette sorte de chasse à l'immigrant à laquelle certains se livrent.\"\n",
      "* Mitterrand: \"Je ne sais vous demander les raisons qui militent, selon vous, pour que la loi du 9 septembre 1986 relative aux conditions d'entrée et de séjour des étrangers en France soit étendue.\"\n",
      "* Mitterrand: \"Je ne peux vous demander ce qui est normal ou injuste.\"\n",
      "* Mitterrand: \"Je ne peux vous demander ce qui est dangereux ou injuste.\"\n",
      "* Mitterrand: \"Je ne peux vous demander ce qui est indigne.\"\n",
      "* Mitterrand: \"Je ne peux vous demander ce qui est normal ou injuste.\"\n",
      "* Mitterrand: \"Je ne peux vous demander ce qui est dangereux ou injuste.\"\n",
      "* Mitterrand: \"Je ne peux vous demander ce qui est indigne.\"\n",
      "* Mitterrand: \"Je ne peux vous demander ce qui est normal ou injuste.\"\n",
      "* Mitterrand: \"Je ne peux vous demander ce qui est dangereux ou injuste.\"\n",
      "* Mitterrand: \"Je ne peux vous demander ce qui est indigne.\"\n",
      "* Mitterrand: \"Je ne peux vous demander ce qui est normal ou injuste.\"\n",
      "* Mitterrand: \"Je ne peux vous demander ce qui est dangereux ou injuste.\"\n",
      "* Mitterrand: \"Je ne peux vous demander ce qui est indigne.\"\n",
      "* Mitterrand: \"Je ne peux vous demander ce qui est normal ou injuste.\"\n",
      "* Mitterrand: \"Je ne peux vous demander ce qui est dangereux ou injuste.\"\n",
      "* Mitterrand: \"Je ne peux vous demander ce qui est indigne.\"\n",
      "* Mitterrand: \"Je ne peux vous demander ce qui est normal ou injuste.\"\n",
      "* Mitterrand: \"Je ne peux vous demander ce qui est dangereux ou injuste.\"\n",
      "* Mitterrand: \"Je ne peux vous demander ce qui est indigne.\"\n",
      "* Mitterrand: \"Je ne peux vous demander ce qui est normal ou injuste.\"\n",
      "* Mitterrand: \"Je ne peux vous demander ce qui est normal o\n",
      "---------------------------------------\n",
      "calculating scores...\n",
      "computing bert embedding.\n"
     ]
    },
    {
     "name": "stderr",
     "output_type": "stream",
     "text": [
      "100%|██████████| 1/1 [00:02<00:00,  2.41s/it]\n"
     ]
    },
    {
     "name": "stdout",
     "output_type": "stream",
     "text": [
      "computing greedy matching.\n"
     ]
    },
    {
     "name": "stderr",
     "output_type": "stream",
     "text": [
      "100%|██████████| 1/1 [00:00<00:00, 143.17it/s]\n"
     ]
    },
    {
     "name": "stdout",
     "output_type": "stream",
     "text": [
      "done in 1812911.78 seconds, 0.00 sentences/sec\n",
      "Ségolène Royal et François Bayrou ont discuté dans un débat télévisé sur des questions telles que l'économie et l'emploi. Ségolène Royal a déclaré que le gouvernement présidentiel présenté par Nicolas Sarkozy était marqué par un dogme idéologique économique et qu'elle préférait un pacte présidentiel qui ne mettait pas trop l'accent sur l'étatisme. François Bayrou a déclaré que le gouvernement présidentiel présenté par Nicolas Sarkozy était un choix dégénéré et qu'il préférait un pacte présidentiel qui mettait plus d'attention à la croissance économique et à la sécurité sociale.\n",
      "\n",
      "Ségolène Royal a également déclaré que le gouvernement présidentiel présenté par Nicolas Sarkozy était marqué par un dogme idéologique économique et qu'elle préférait un pacte présidentiel qui ne mettait pas trop l'accent sur l'étatisme. Elle a ajouté qu'elle considérait que la nouvelle croissance économique s'appuyait sur trois piliers : la compétitivité économique, la compétitivité sociale et la sécurité sociale professionnelle. François Bayrou a déclaré que le gouvernement présidentiel présenté par Nicolas Sarkozy était un choix dégénéré et qu'il préférait un pacte présidentiel qui mettait plus d'attention à la croissance économique et à la sécurité sociale\n",
      "---------------------------------------\n",
      "calculating scores...\n",
      "computing bert embedding.\n"
     ]
    },
    {
     "name": "stderr",
     "output_type": "stream",
     "text": [
      "100%|██████████| 1/1 [00:00<00:00,  1.12it/s]\n"
     ]
    },
    {
     "name": "stdout",
     "output_type": "stream",
     "text": [
      "computing greedy matching.\n"
     ]
    },
    {
     "name": "stderr",
     "output_type": "stream",
     "text": [
      "100%|██████████| 1/1 [00:00<00:00, 198.57it/s]\n"
     ]
    },
    {
     "name": "stdout",
     "output_type": "stream",
     "text": [
      "done in 1812914.00 seconds, 0.00 sentences/sec\n",
      "Xavier Bertrand a déclaré que la priorité écologique de la France est la lutte contre le réchauffement climatique et que la décarbonation de l'économie ne pouvait se faire sans le nucléaire. Il a également déclaré que la transition énergétique ne pouvait se faire sans investir dans les énergies renouvelables, mais qu'il fallait également mettre en place des éoliennes en mer pour augmenter la production d'électricité. Il a également déclaré que les énergies solaires et les énergies hydrauliques devaient être étudiées pour augmenter la production d'électricité. Il a également déclaré que la France devait continuer à investir dans les énergies nucléaires pour atteindre son objectif de neutralité carbone en 2050.\n",
      "\n",
      "Il a également déclaré que la France devait continuer à investir dans les énergies nucléaires pour atteindre son objectif de neutralité carbone en 2050. Il a également déclaré que la France devait continuer à investir dans les énergies nucléaires pour atteindre son objectif de neutralité carbone en 2050\n",
      "---------------------------------------\n",
      "calculating scores...\n",
      "computing bert embedding.\n"
     ]
    },
    {
     "name": "stderr",
     "output_type": "stream",
     "text": [
      "100%|██████████| 1/1 [00:01<00:00,  1.16s/it]\n"
     ]
    },
    {
     "name": "stdout",
     "output_type": "stream",
     "text": [
      "computing greedy matching.\n"
     ]
    },
    {
     "name": "stderr",
     "output_type": "stream",
     "text": [
      "100%|██████████| 1/1 [00:00<00:00, 200.17it/s]\n"
     ]
    },
    {
     "name": "stdout",
     "output_type": "stream",
     "text": [
      "done in 1812916.49 seconds, 0.00 sentences/sec\n",
      "Jordan Bardella, un candidat de la campagne de la droite, a critiqué la déclaration de Jean-Luc Mélenchon sur les policiers. Il a déclaré qu'il était normal que les policiers portent des armes lorsqu'ils sont menacés, et qu'il y a eu des cas de violences policières. Il a aussi critiqué la réforme du Code de justice des mineurs, menaçant de démissionner si elle est approuvée.\n",
      "\n",
      "Clémentine Autain, une députée de gauche, a déclaré qu'il y avait une atmosphère de violence et de haine entre les policiers et les délinquants, et qu'il fallait une justice pour rétablir la légitimité des forces de l'ordre. Elle a aussi critiqué la réforme du Code de justice des mineurs, déclarant qu'il était nécessaire de protéger les policiers et de réformer les lois pour garantir la sécurité des Français.\n",
      "\n",
      "Gabriel Attal, un ministre de la Défense, a déclaré que les policiers devaient être protégés et respectés, et qu'il était nécessaire de renforcer les moyens de l'Etat pour garantir la sécurité des Français. Il a aussi déclaré que les forces de l'ordre devaient être soutenues financièrement et politiquement pour être efficaces.\n",
      "\n",
      "Ces déclarations ont suscité des critiques de la part de certains députés de gauche, qui ont décrit la réforme du Code de justice des mineurs comme étant impossible et qui ont critiqué la politique de la droite en matière de sécurité\n",
      "---------------------------------------\n",
      "calculating scores...\n",
      "computing bert embedding.\n"
     ]
    },
    {
     "name": "stderr",
     "output_type": "stream",
     "text": [
      "100%|██████████| 1/1 [00:01<00:00,  1.82s/it]\n"
     ]
    },
    {
     "name": "stdout",
     "output_type": "stream",
     "text": [
      "computing greedy matching.\n"
     ]
    },
    {
     "name": "stderr",
     "output_type": "stream",
     "text": [
      "100%|██████████| 1/1 [00:00<00:00, 90.92it/s]\n"
     ]
    },
    {
     "name": "stdout",
     "output_type": "stream",
     "text": [
      "done in 1812919.72 seconds, 0.00 sentences/sec\n",
      "The Ukraine has been the subject of much discussion in France recently. The topic of focus is the ongoing conflict between Ukraine and Russia. The conflict has led to many questions about the nature of the conflict and the actions of both sides. One of the main questions is whether the conflict can be considered a war crime. The French parliament has discussed the issue and has called for an investigation by the UN. The Ukrainian government has also accused Russia of committing war crimes. The Russian government has denied any wrongdoing and has accused the Ukrainian government of committing war crimes. The situation is complex and requires a great deal of objectivity and understanding.\n",
      "\n",
      "The issue of the conflict has also brought up the issue of sanctions against Russia. The French parliament has discussed the issue and has called for sanctions against Russia. The issue has been a point of contention, with some arguing that the sanctions would have negative effects on the French economy. The Ukrainian government has also called for sanctions against Russia. The Russian government has denied any wrongdoing and has accused the Ukrainian government of committing war crimes. The situation is complex and requires a great deal of objectivity and understanding.\n",
      "\n",
      "The issue of the conflict has also brought up the issue of the Russian government's actions. The Russian government has been accused of supporting the Ukrainian government and of committing war crimes. The Russian government has denied any wrongdoing and has accused the Ukrainian government of committing war crimes. The situation is complex and requires a great deal of objectivity and understanding.\n",
      "\n",
      "The issue of the conflict has also brought up the issue of the Ukrainian government's actions. The Ukrainian government has been accused of committing war crimes and of being corrupt. The Ukrainian government has denied any wrongdoing and has accused Russia of committing war crimes. The situation is complex and requires a great deal of objectivity and understanding.\n",
      "\n",
      "The issue of the conflict has also brought up the issue of the Russian and Ukrainian economies. The Russian economy is heavily dependent on energy exports, and the conflict has had a negative impact on the Russian economy. The Ukrainian economy has also been affected by the conflict, with some sectors being hit particularly hard. The situation is complex and requires a great deal of objectivity and understanding.\n",
      "\n",
      "The issue of the conflict has also brought up the issue of the Russian and Ukrainian militaries. The Russian military has been accused of committing war crimes and of invading Ukraine. The Ukrainian military has been accused of defending itself and of fighting back against the Russian military. The situation is complex and requires a great deal of objectivity and understanding.\n",
      "\n",
      "The issue of the conflict has also brought up the issue of the Russian and Ukrainian governments. The Russian government has been accused of supporting the Ukrainian government and of committing war crimes. The Ukrainian government has been accused of committing war crimes and of being corrupt. The situation is complex and requires a great deal of objectivity and understanding\n",
      "---------------------------------------\n",
      "calculating scores...\n",
      "computing bert embedding.\n"
     ]
    },
    {
     "name": "stderr",
     "output_type": "stream",
     "text": [
      "100%|██████████| 1/1 [00:02<00:00,  2.72s/it]\n"
     ]
    },
    {
     "name": "stdout",
     "output_type": "stream",
     "text": [
      "computing greedy matching.\n"
     ]
    },
    {
     "name": "stderr",
     "output_type": "stream",
     "text": [
      "100%|██████████| 1/1 [00:00<00:00, 111.13it/s]\n"
     ]
    },
    {
     "name": "stdout",
     "output_type": "stream",
     "text": [
      "done in 1812924.11 seconds, 0.00 sentences/sec\n",
      "The Ukraine has been the subject of much discussion in France recently. The topic of focus is the ongoing conflict between Ukraine and Russia. The conflict has led to many questions about the nature of the conflict and the actions of both sides. One of the main questions is whether the conflict can be considered a war crime. The French parliament has discussed the issue and has called for an investigation by the UN. The Ukrainian government has also accused Russia of committing war crimes. The Russian government has denied any wrongdoing and has accused the Ukrainian government of committing war crimes. The situation is complex and requires a great deal of objectivity and understanding.\n",
      "\n",
      "The issue of the conflict has also brought up the issue of sanctions against Russia. The French parliament has discussed the issue and has called for sanctions against Russia. The issue has been a point of contention, with some arguing that the sanctions would have negative effects on the French economy. The Ukrainian government has also called for sanctions against Russia. The Russian government has denied any wrongdoing and has accused the Ukrainian government of committing war crimes. The situation is complex and requires a great deal of objectivity and understanding.\n",
      "\n",
      "The issue of the conflict has also brought up the issue of the Russian government's actions. The Russian government has been accused of supporting the Ukrainian government and of committing war crimes. The Russian government has denied any wrongdoing and has accused the Ukrainian government of committing war crimes. The situation is complex and requires a great deal of objectivity and understanding.\n",
      "\n",
      "The issue of the conflict has also brought up the issue of the Ukrainian government's actions. The Ukrainian government has been accused of committing war crimes and of being corrupt. The Ukrainian government has denied any wrongdoing and has accused Russia of committing war crimes. The situation is complex and requires a great deal of objectivity and understanding.\n",
      "\n",
      "The issue of the conflict has also brought up the issue of the Russian and Ukrainian economies. The Russian economy is heavily dependent on energy exports, and the conflict has had a negative impact on the Russian economy. The Ukrainian economy has also been affected by the conflict, with some sectors being hit particularly hard. The situation is complex and requires a great deal of objectivity and understanding.\n",
      "\n",
      "The issue of the conflict has also brought up the issue of the Russian and Ukrainian militaries. The Russian military has been accused of committing war crimes and of invading Ukraine. The Ukrainian military has been accused of defending itself and of fighting back against the Russian military. The situation is complex and requires a great deal of objectivity and understanding.\n",
      "\n",
      "The issue of the conflict has also brought up the issue of the Russian and Ukrainian governments. The Russian government has been accused of supporting the Ukrainian government and of committing war crimes. The Ukrainian government has been accused of committing war crimes and of being corrupt. The situation is complex and requires a great deal of objectivity and understanding\n",
      "---------------------------------------\n",
      "calculating scores...\n",
      "computing bert embedding.\n"
     ]
    },
    {
     "name": "stderr",
     "output_type": "stream",
     "text": [
      "100%|██████████| 1/1 [00:03<00:00,  3.37s/it]\n"
     ]
    },
    {
     "name": "stdout",
     "output_type": "stream",
     "text": [
      "computing greedy matching.\n"
     ]
    },
    {
     "name": "stderr",
     "output_type": "stream",
     "text": [
      "100%|██████████| 1/1 [00:00<00:00, 166.75it/s]\n"
     ]
    },
    {
     "name": "stdout",
     "output_type": "stream",
     "text": [
      "done in 1812929.00 seconds, 0.00 sentences/sec\n",
      "La conversation est un échange entre trois personnes sur la réforme des retraites en France. La première partie est une réflexion sur les raisons pour lesquelles la réforme est négativement perçue par les femmes. La deuxième partie est une réflexion sur les conséquences de la réforme sur les pensions des femmes, qui seront plus négatives que celles des hommes. La troisième partie est une réflexion sur les raisons pour lesquelles la réforme est un succès pour les hommes, mais un échec pour les femmes.\n",
      "\n",
      "La première partie de la conversation est centrée sur les raisons pour lesquelles la réforme est négativement perçue par les femmes. Les participants discutent des raisons pour lesquelles la réforme est considérée comme un échec pour les femmes, y compris les raisons pour lesquelles les femmes ont des carrières hachées et doivent travailler plus longtemps pour obtenir la même pension que les hommes. Ils parlent également de la différence de salaires entre les femmes et les hommes et de la nécessité de réformer la répartition des cotisations entre les femmes et les hommes pour que les femmes puissent bénéficier d'une pension plus équitable.\n",
      "\n",
      "La deuxième partie de la conversation est centrée sur les conséquences de la réforme sur les pensions des femmes. Les participants discutent des conséquences de la réforme sur les pensions des femmes, y compris les conséquences sur les pensions des femmes qui ont des carrières hachées et qui ont dépassé le SMIC. Ils parlent également des conséquences sur les pensions des femmes qui ont travaillé plus longtemps pour obtenir la même pension que les hommes. Ils discutent également des conséquences sur les pensions des femmes qui ont dépassé le SMIC et qui ont des carrières hachées.\n",
      "\n",
      "La troisième partie de la conversation est centrée sur les raisons pour lesquelles la réforme est un succès pour les hommes, mais un échec pour les femmes. Les participants discutent des raisons pour lesquelles la réforme est un succès pour les hommes, y compris les raisons pour lesquelles les hommes ont une meilleure répartition des cotisations et une meilleure répartition des pensions. Ils parlent également des raisons pour lesquelles la réforme est un échec pour les femmes, y compris les raisons pour lesquelles les femmes ont des carrières hachées et doivent travailler plus longtemps pour obtenir la même pension que les hommes\n",
      "---------------------------------------\n",
      "calculating scores...\n",
      "computing bert embedding.\n"
     ]
    },
    {
     "name": "stderr",
     "output_type": "stream",
     "text": [
      "100%|██████████| 1/1 [00:01<00:00,  1.76s/it]\n"
     ]
    },
    {
     "name": "stdout",
     "output_type": "stream",
     "text": [
      "computing greedy matching.\n"
     ]
    },
    {
     "name": "stderr",
     "output_type": "stream",
     "text": [
      "100%|██████████| 1/1 [00:00<00:00, 97.76it/s]\n"
     ]
    },
    {
     "name": "stdout",
     "output_type": "stream",
     "text": [
      "done in 1812932.43 seconds, 0.00 sentences/sec\n",
      "The discussion is about the Ukraine conflict and the timing of Emmanuel Macron's visit to Kiev. Macron met with Ukrainian President Volodymyr Zelensky and discussed the image of the day, which was the Ukrainian flag being raised at the presidential palace. Macron also met with Volodymyr Zelensky to affirm support for the Ukrainian people and to discuss the possibility of providing military support. Macron has been criticized for not visiting Kiev sooner, but he said that he wanted to give the election a chance to unfold before he visited. Macron also said that he thinks Macron has been right to maintain a link of diplomacy with both Russia and Ukraine, and that he has had some successes in trying to find a compromise and dialogue. Macron also said that he thinks Macron has been right to maintain a link of diplomacy with both Russia and Ukraine, and that he has had some successes in trying to find a compromise and dialogue\n",
      "---------------------------------------\n",
      "calculating scores...\n",
      "computing bert embedding.\n"
     ]
    },
    {
     "name": "stderr",
     "output_type": "stream",
     "text": [
      "100%|██████████| 1/1 [00:00<00:00,  1.23it/s]\n"
     ]
    },
    {
     "name": "stdout",
     "output_type": "stream",
     "text": [
      "computing greedy matching.\n"
     ]
    },
    {
     "name": "stderr",
     "output_type": "stream",
     "text": [
      "100%|██████████| 1/1 [00:00<00:00, 166.63it/s]\n"
     ]
    },
    {
     "name": "stdout",
     "output_type": "stream",
     "text": [
      "done in 1812934.73 seconds, 0.00 sentences/sec\n",
      "The speaker is discussing the issue of taxes and social charges in France. They mention the increase in taxes and social charges in the 1980s, and the reduction in the 1990s. They also discuss the issue of the tax on large fortunes, and the increase in the tax on small fortunes. They also mention the issue of the tax on stock options. They also discuss the issue of the tax on dividends. They also mention the issue of the tax on capital gains. They also discuss the issue of the tax on consumption. They also mention the issue of the tax on inheritance. They also discuss the issue of the tax on real estate. They also mention the issue of the tax on bank deposits. They also discuss the issue of the tax on savings accounts. They also mention the issue of the tax on life insurance policies. They also discuss the issue of the tax on annuities. They also mention the issue of the tax on certain types of investments. They also discuss the issue of the tax on certain types of income. They also mention the issue of the tax on certain types of assets. They also discuss the issue of the tax on certain types of transactions. They also mention the issue of the tax on certain types of products. They also discuss the issue of the tax on certain types of services. They also mention the issue of the tax on certain types of activities. They also discuss the issue of the tax on certain types of professions. They also mention the issue of the tax on certain types of businesses. They also discuss the issue of the tax on certain types of industries. They also mention the issue of the tax on certain types of products. They also discuss the issue of the tax on certain types of services. They also mention the issue of the tax on certain types of activities. They also discuss the issue of the tax on certain types of professions. They also mention the issue of the tax on certain types of businesses. They also discuss the issue of the tax on certain types of industries. They also mention the issue of the tax on certain types of products. They also discuss the issue of the tax on certain types of services. They also mention the issue of the tax on certain types of activities. They also discuss the issue of the tax on certain types of professions. They also mention the issue of the tax on certain types of businesses. They also discuss the issue of the tax on certain types of industries. They also mention the issue of the tax on certain types of products. They also discuss the issue of the tax on certain types of services. They also mention the issue of the tax on certain types of activities. They also discuss the issue of the tax on certain types of professions. They also mention the issue of the tax on certain types of businesses. They also discuss the issue of the tax on certain types of industries. They also mention the issue of the tax on certain types of products. They also discuss the issue of the tax on certain types of services. They also mention the issue of the tax on certain types of activities. They also discuss the issue of the tax on certain types of professions. They also mention the issue of the tax on certain types of businesses. They also discuss the issue of the tax on certain types of industries. They also mention the issue of the tax on certain types of products. They also discuss the issue of the tax on certain types of services. They also mention the issue of the tax on certain types of activities. They also discuss the issue of the tax on certain types of professions. They also mention the issue of the tax on certain types of businesses. They also discuss the issue of the tax on certain types of industries. They also mention the issue of the tax on certain types of products. They also discuss the issue of the tax on certain types of services. They also mention the issue of the tax on certain types of activities. They also discuss the issue of the tax on certain types of professions. They also mention the issue of the tax on certain types of businesses. They also discuss the issue of the tax on certain types of industries. They also mention the issue of the tax on certain types of products. They also discuss the issue of the tax on certain types of services. They also mention the issue of the tax on certain types of activities. They also discuss the issue of the tax on certain types of professions. They also mention the issue of the tax on certain types of businesses. They also discuss the issue of the tax on certain types of industries. They also mention the issue of the tax on certain types of products. They also discuss the issue of the tax on certain types of services. They also mention the issue of the tax on certain types of activities. They also discuss the issue of the tax on certain types of professions. They also mention the issue of the tax on certain types of businesses. They also discuss the issue of the tax on certain types of industries. They also mention the issue of the tax on certain types of products. They also discuss the issue of the tax on certain types of services. They also mention the issue of the tax on certain types of activities. They also discuss the issue of the tax on certain types of professions. They also mention the issue of the tax on certain types of businesses. They also discuss the issue of the tax on certain types of industries. They also mention the issue of the tax on certain types of products. They also discuss the issue of the tax on certain types of services. They also mention the issue of the tax on certain types of activities. They also discuss the issue of the tax on certain types of professions. They also mention the issue of the tax on certain types of businesses. They also discuss the issue of the tax on certain types of industries. They also mention the issue of the tax on certain types of products. They also discuss the issue of the tax on certain types of services. They also mention the issue of the tax on certain types of activities. They also discuss the issue of the tax on certain types of professions. They also mention the issue of the tax on certain types of businesses. They also discuss the issue of the tax on certain types of industries. They also mention the issue of the tax on certain types of products. They also discuss the issue of the tax on certain types of services. They also mention the issue of the tax on certain types of activities. They also discuss the issue of the tax on certain types of professions. They also mention the issue of the tax on certain types of businesses. They also discuss the issue of the tax on certain types of industries. They also mention the issue of the tax on certain types of products. They also discuss the issue of the tax on certain types of services. They also mention the issue of the tax on certain types of activities. They also discuss the issue of the tax on certain types of professions. They also mention the issue of the tax on certain types of businesses. They also discuss the issue of the tax on certain types of industries. They also mention the issue of the tax on certain types of products. They also discuss the issue of the tax on certain types of services. They also mention the issue of the tax on certain types of activities. They also discuss the issue of the tax on certain types of professions. They also mention the issue of the tax on certain types of businesses. They also discuss the issue of the tax on certain types of industries. They also mention the issue of the tax on certain types of products. They also discuss the issue of the tax on certain types of services. They also mention the issue of the tax on certain types of activities. They also discuss the issue of the tax on certain types of professions. They also mention the issue of the tax on certain types of businesses. They also discuss the issue of the tax on certain types of industries. They also mention the issue of the tax on certain types of products. They also discuss the issue of the tax on certain types of services. They also mention the issue of the tax on certain types of activities. They also discuss the issue of the tax on certain types of professions. They also mention the issue of the tax on certain types of businesses. They also discuss the issue of the tax on certain types of industries. They also mention the issue of the tax on certain types of products. They also discuss the issue of the tax on certain types of services. They also mention the issue of the tax on certain types of activities. They also discuss the issue of the tax on certain types of professions. They also mention the issue of the tax on certain types of businesses. They also discuss the issue of the tax on certain types of industries. They also mention the issue of the tax on certain types of products. They also discuss the issue of the tax on certain types of services. They also mention the issue of the tax on certain types of activities. They also discuss the issue of the tax on certain types of professions. They also mention the issue of the tax on certain types of businesses. They also discuss the issue of the tax on certain types of industries. They also mention the issue of the tax on certain types of products. They also discuss the issue of the tax on certain types of services. They also mention the issue of the tax on certain types of activities. They also discuss the issue of the tax on certain types of professions. They also mention the issue of the tax on certain types of businesses. They also discuss the issue of the tax on certain types of industries. They also mention the issue of the tax on certain types of products. They also discuss the issue of the tax on certain types of services. They also mention the issue of the tax on certain types of activities. They also discuss the issue of the tax on certain types of professions. They also mention the issue of the tax on certain types of businesses. They also discuss the issue of the tax on certain types of industries. They also mention the issue of the tax on certain types of products. They also discuss the issue of the tax on certain types of services. They also mention the issue of the tax on certain types of activities. They also discuss the issu\n",
      "---------------------------------------\n",
      "calculating scores...\n",
      "computing bert embedding.\n"
     ]
    },
    {
     "name": "stderr",
     "output_type": "stream",
     "text": [
      "100%|██████████| 1/1 [00:03<00:00,  3.09s/it]\n"
     ]
    },
    {
     "name": "stdout",
     "output_type": "stream",
     "text": [
      "computing greedy matching.\n"
     ]
    },
    {
     "name": "stderr",
     "output_type": "stream",
     "text": [
      "100%|██████████| 1/1 [00:00<00:00, 111.15it/s]\n"
     ]
    },
    {
     "name": "stdout",
     "output_type": "stream",
     "text": [
      "done in 1812939.50 seconds, 0.00 sentences/sec\n",
      "Eric Zemmour, a political figure and ideologue, believes that the EU and NATO are essential for France in the current crisis. Vladimir Putin is dangerous and destabilizing Africa and the Middle East. He has led the country to danger with his aggressive actions. Emmanuel Macron should have seen this danger earlier. He has accused Macron of not seeing the danger signs of Putin's actions. He believes that the EU and the NATO are essential for France's defense and security. He believes that France should be a sovereign nation, and he wants to be a part of the EU, but he has made mistakes on NATO and the EU. He has criticized Valérie Pécresse, a French politician, for her views on NATO and the EU. He has also criticized Jean Monnet, the founder of the European Coal and Steel Community, for not choosing the EU\n",
      "---------------------------------------\n",
      "calculating scores...\n",
      "computing bert embedding.\n"
     ]
    },
    {
     "name": "stderr",
     "output_type": "stream",
     "text": [
      "100%|██████████| 1/1 [00:00<00:00,  1.53it/s]\n"
     ]
    },
    {
     "name": "stdout",
     "output_type": "stream",
     "text": [
      "computing greedy matching.\n"
     ]
    },
    {
     "name": "stderr",
     "output_type": "stream",
     "text": [
      "100%|██████████| 1/1 [00:00<00:00, 249.97it/s]\n"
     ]
    },
    {
     "name": "stdout",
     "output_type": "stream",
     "text": [
      "done in 1812941.56 seconds, 0.00 sentences/sec\n",
      "* Mitterrand: \"Vous avez parlé de la situation des immigrés, je voudrais vous poser une question sur ce sujet.\"\n",
      "* Chirac: \"C'est vrai, je vais vous poser une question sur l'immigration. Qu'est-ce qui vous a amené à parler de la situation actuelle des immigrés en France?\"\n",
      "* Mitterrand: \"J'ai vu quelque chose de très inquiétant, c'est que, depuis des années, il y a une augmentation très forte de la population immigrée en France. On est passé de 177 000 immigrés en 1962 à 344 000 en 1982. C'est une augmentation de plus de 60% en 20 ans. Et cela, c'est normal, c'est normal, c'est normal, c'est normal, c'est normal, c'est normal, c'est normal, c'est normal, c'est normal, c'est normal, c'est normal, c'est normal, c'est normal, c'est normal, c'est normal, c'est normal, c'est normal, c'est normal, c'est normal, c'est normal, c'est normal, c'est normal, c'est normal, c'est normal, c'est normal, c'est normal, c'est normal, c'est normal, c'est normal, c'est normal, c'est normal, c'est normal, c'est normal, c'est normal, c'est normal, c'est normal, c'est normal, c'est normal, c'est normal, c'est normal, c'est normal, c'est normal, c'est normal, c'est normal, c'est normal, c'est normal, c'est normal, c'est normal, c'est normal, c'est normal, c'est normal, c'est normal, c'est normal, c'est normal, c'est normal, c'est normal, c'est normal, c'est normal, c'est normal, c'est normal, c'est normal, c'est normal, c'est normal, c'est normal, c'est normal, c'est normal, c'est normal, c'est normal, c'est normal, c'est normal, c'est normal, c'est normal, c'est normal, c'est normal, c'est normal, c'est normal, c'est normal, c'est normal, c'est normal, c'est normal, c'est normal, c'est normal, c'est normal, c'est normal, c'est normal, c'est normal, c'est normal, c'est normal, c'est normal, c'est normal, c'est normal, c'est normal, c'est normal, c'est normal, c'est normal, c'est normal, c'est normal, c'est normal, c'est normal, c'est normal, normal, c' normal, c'est normal, normal, c'est normal, c' normal, c' est normal, normal, c'est, est normal, normal, est, c'est normal, est, est, normal, normal, est, est, normal, normal, est, est, est, normal, est, est, normal, normal, est, est, normal, est, normal, est, normal, normal, est, est, est, normal, normal, normal, normal, normal, normal, normal, normal, normal, normal, normal, normal, normal, normal, normal, normal, normal, normal, normal, normal, normal, normal, normal, normal, normal, normal, normal, normal, normal, normal, normal, normal, normal, normal, normal, normal, normal, normal, normal, normal, normal, normal, normal, normal, normal, normal, normal, normal, normal, normal, normal, normal, normal, normal, normal, normal, normal, normal, normal, normal, normal, normal, normal, normal, normal, normal, normal, normal, normal, normal, normal, normal, normal, normal, normal, normal, normal, normal, normal, normal, normal, normal, normal, normal, normal, normal, normal, normal, normal normal normal normal normal normal normal normal normal normal normal normal normal normal normal normal normal normal normal normal normal normal normal normal normal normal normal normal normal normal normal normal normal normal normal normal normal normal normal normal normal normal normal normal normal normal normal normal normal normal normal normal normal normal normal normal normal normal normal normal normal normal normal normal normal normal normal normal normal normal normal normal normal normal normal normal normal normal normal normal normal normal normal normal normal normal normal normal normal normal normal normal normal normal normal normal normal normal normal normal normal normal normal normal normal normal normal normal normal normal normal normal normal normal normal normal normal normal normal normal normal normal normal normal normal normal normal normal normal normal normal normal normal normal normal normal normal normal normal normal normal normal normal normal normal normal normal normal normal normal normal normal normal normal normal normal normal normal normal normal normal normal normal normal normal normal normal normal normal normal normal normal normal normal normal normal normal normal normal normal normal normal normal normal normal normal normal normal normal normal normal normal normal normal normal normal normal normal normal normal normal normal normal normal normal normal normal normal normal normal normal normal normal normal normal normal normal normal normal normal normal normal normal normal normal normal normal normal normal normal normal normal normal normal normal normal normal normal normal normal normal normal normal normal normal normal normal normal normal normal normal normal normal normal normal normal normal normal normal normal normal normal normal normal normal normal normal normal normal normal normal normal normal normal normal normal normal normal normal normal normal normal normal normal normal normal normal normal normal normal normal normal normal normal normal normal normal normal normal normal normal normal normal normal normal normal normal normal normal normal normal normal normal normal normal normal normal normal normal normal normal normal normal normal normal normal normal normal normal normal normal normal normal normal normal normal normal normal normal normal normal normal normal normal normal normal normal normal normal normal normal normal normal normal normal normal normal normal normal normal normal normal normal normal normal normal normal normal normal normal normal normal normal normal normal normal normal normal normal normal normal normal normal normal normal normal normal normal normal normal normal normal normal normal normal normal normal normal normal normal normal normal normal normal normal normal normal normal normal normal normal normal normal normal normal normal normal normal normal normal normal normal normal normal normal normal normal normal normal normal normal normal normal normal normal normal normal normal normal normal normal normal normal normal normal normal normal normal normal normal normal normal normal normal normal normal normal normal normal normal normal normal normal normal normal normal normal normal normal normal normal normal normal normal normal normal normal normal normal normal normal normal normal normal normal normal normal normal normal normal normal normal normal normal normal normal normal normal normal normal normal normal normal normal normal normal normal normal normal normal normal normal normal normal normal normal normal normal normal normal normal normal normal normal normal normal normal normal normal normal normal normal normal normal normal normal normal normal normal normal normal normal normal normal normal normal normal normal normal normal normal normal normal normal normal normal normal normal normal normal normal normal normal normal normal normal normal normal normal normal normal normal normal normal normal normal normal normal normal normal normal normal normal normal normal normal normal normal normal normal normal normal normal normal normal normal normal normal normal normal normal normal normal normal normal normal normal normal normal normal normal normal normal normal normal normal normal normal normal normal normal normal normal normal normal normal normal normal normal normal normal normal normal normal normal normal normal normal normal normal normal normal normal normal normal normal normal normal normal normal normal normal normal normal normal normal normal normal normal normal normal normal normal normal normal normal normal normal normal normal normal normal normal normal normal normal normal normal normal normal normal normal normal normal normal normal normal normal normal normal normal normal normal normal normal normal normal normal normal normal normal normal normal normal normal normal normal normal normal normal normal normal normal normal normal normal normal normal normal normal normal normal normal normal normal normal normal normal normal normal normal normal normal normal normal normal normal normal normal normal normal normal normal normal normal normal normal normal normal normal normal normal normal normal normal normal normal normal normal normal normal normal normal normal normal normal normal normal normal normal normal normal normal normal normal normal normal normal normal normal normal normal normal normal normal normal normal normal normal normal normal normal normal normal normal normal normal normal normal normal normal normal normal normal normal normal normal normal normal normal normal normal normal normal normal normal normal normal normal normal normal normal normal normal normal normal normal normal normal normal normal normal normal normal normal normal normal normal normal normal normal normal normal normal normal normal normal normal normal normal normal normal normal normal normal normal normal normal normal normal normal normal normal normal normal normal normal normal normal normal normal normal normal normal normal normal normal normal normal normal normal normal normal normal normal normal normal normal normal normal normal normal normal normal normal normal normal normal normal normal normal normal normal normal normal normal normal normal normal normal normal normal normal normal normal normal normal normal normal normal normal normal normal normal normal normal normal normal normal normal normal normal normal normal normal normal normal normal normal normal normal normal normal normal normal normal normal normal normal normal normal normal normal normal normal normal normal normal normal normal normal normal normal normal normal normal normal normal normal normal normal normal normal normal normal normal normal normal normal normal normal normal normal normal normal normal normal normal normal normal normal normal normal normal normal normal normal normal normal normal normal normal normal normal normal normal normal normal normal normal normal normal normal normal normal normal normal normal normal normal normal normal normal normal normal normal normal normal normal normal normal normal normal normal normal normal normal normal normal normal normal normal normal normal normal normal normal normal normal normal normal normal normal normal normal normal normal normal normal normal normal normal normal normal normal normal normal normal normal normal normal normal normal normal normal normal normal normal normal normal normal normal normal normal norma\n",
      "---------------------------------------\n",
      "calculating scores...\n",
      "computing bert embedding.\n"
     ]
    },
    {
     "name": "stderr",
     "output_type": "stream",
     "text": [
      "100%|██████████| 1/1 [00:03<00:00,  3.23s/it]\n"
     ]
    },
    {
     "name": "stdout",
     "output_type": "stream",
     "text": [
      "computing greedy matching.\n"
     ]
    },
    {
     "name": "stderr",
     "output_type": "stream",
     "text": [
      "100%|██████████| 1/1 [00:00<00:00, 166.66it/s]\n"
     ]
    },
    {
     "name": "stdout",
     "output_type": "stream",
     "text": [
      "done in 1812946.48 seconds, 0.00 sentences/sec\n",
      "The economy and employment\n",
      "\n",
      "\n",
      "\n",
      "\n",
      "### Assistant:\n",
      "---------------------------------------\n",
      "calculating scores...\n",
      "computing bert embedding.\n"
     ]
    },
    {
     "name": "stderr",
     "output_type": "stream",
     "text": [
      "100%|██████████| 1/1 [00:00<00:00,  1.11it/s]\n"
     ]
    },
    {
     "name": "stdout",
     "output_type": "stream",
     "text": [
      "computing greedy matching.\n"
     ]
    },
    {
     "name": "stderr",
     "output_type": "stream",
     "text": [
      "100%|██████████| 1/1 [00:00<00:00, 200.15it/s]\n"
     ]
    },
    {
     "name": "stdout",
     "output_type": "stream",
     "text": [
      "done in 1812948.80 seconds, 0.00 sentences/sec\n",
      "La réunion de la communautaire européénéénumation, les émissions de gaz à effet serre, les émissions de gaz à effet serre, les émissions de gaz à effet serre, les émissions de gaz à effet serre, les émissions de gaz à effet serre, les émissions de gaz à à effet serre, les émissions de gaz, les émissions de gaz à effet serre, les émissions de gaz à effet serre, les émissions de gaz à effet serre, les émissions de gaz à effet serre, les émissions de gaz à effet serre, les émissions de gaz à effet serre, les émissions de gaz, les émissions de gaz à effet serre, les émissions de gaz à effet, les émissions de gaz à effet serre, les émissions de gaz, les émissions de gaz à effet serre, les émissions de gaz à effet serre, les émissions de gaz à effet serre, les émissions de gaz à à effet serre, les émissions de gaz, les émissions de gaz à effet serrere, les émissions gaz à effet serre, les émissions de gaz à effet serre, les émissions de gaz à à effet serre, les émissions de gaz, les émissions de gaz à effet serre, les émissions de gaz à à effet serre, les émissions de gaz, les émissions de gaz à effet serrere, les émissions gaz à effet ser ser, les émissions de gaz à effet ser, les émissions de gaz à effet, les émissions gaz à effet ser, les émissions gaz, les émissions gaz à à effet ser, les émissions gaz à effet ser, les émissions gaz, les émissions gaz à effet ser, les émissions gaz, les émissions gaz à effet ser, les émissions gaz, les émissions gaz à effet ser, les émissions gaz, les émissions gaz à effet ser, les émissions gaz, les émissions gaz à effet ser, les émissions gaz, les émissions gaz à effet ser, les émissions gaz, les émissions gaz à effet ser, les émissions gaz, les émissions gaz à effet ser, les émissions g gaz à effet ser, les émissions gaz à effet ser, les émissions gaz, les émissions gaz à effet ser, les émissions gaz, les émissions gaz à effet ser, les émissions gaz, les émissions gaz à effet ser, les émissions gaz, les émissions gaz à effet ser, les émissions gaz, les émissions gaz à effet ser, les émissions gaz, les émissions gaz à effet ser, les émissions gaz, les émissions gaz à effet ser, les émissions gaz, les émissions gaz à effet ser, les émissions gaz, les émissions gaz à effet ser, les émissions gaz, les émissions gaz à effet ser, les émissions gaz, les émissions gaz à effet ser, les émissions gaz, les émissions gaz à effet ser, les émissions gaz, les émissions gaz à effet ser, les émissions gaz, les émissions gaz à effet ser, les émissions gazaz, les émissions gaz à effet, les émissions gaz à effet serre, les émissions gaz à effet ser, les émissions gaz à effet ser, les émissions gaz à effet ser, les émissions gaz, les émissions gaz à effet ser, les émissions gaz, les gaz à effet ser, les émissions gaz, les émissions gaz à effet ser, les émissions gaz, les gaz à effet ser, les émissions gaz à effet ser ser, les émissions gaz, les gaz, les émissions gaz, les émissions gaz, les émissions gaz à effet ser, les émissions gaz, les émissions gaz, les émissions gaz à effet ser, les émissions gaz, les gaz, les émissions gaz, les émissions gaz, les gaz, les émissions gaz, les émissions gaz, les émissions gaz à effet ser, les gaz, les émissions, les émissions gaz, les émissions gaz à effet ser ser ser, les gaz, les émissions gaz, les émissions gaz, les émissions gaz, les gaz, les émissions, les émissions gaz émissions gaz à effet ser ser ser ser, les gaz, les émissions gaz à effet ser ser, les émissions gaz, les gaz à effet ser ser, les émissions gaz ser, les gaz à effet ser, les émissions gaz à effet ser, les gaz, les émissions, les émissions gaz, les émissions gaz ser ser, les gaz, les gaz, les émissions gaz ser, les gaz, les gaz, les émissions gaz à effet ser ser, les émissions gaz, les gaz à effet ser ser, les émissions gaz ser, les gaz à effet ser, les gaz, les émissions gaz, les gaz, les émissions, les émissions gaz, les émissions gaz à effet ser ser ser, les gaz, les émissions gaz, les gaz à effet ser, les gaz, les gaz, les émissions, les émissions gaz, les émissions gaz ser, les gaz, les gaz, les émissions gaz à effet ser, les émissions gaz, les gaz, les gaz, les émissions, les gaz, les émissions gaz à effet ser, les émissions gaz ser, les gaz ser, les émissions, les émissions gaz, les émissions gaz à effet ser, les émissions gaz ser, les gaz, les émissions gaz, les émissions gaz, les émissions gaz ser, les émissions gaz, les émissions gaz, les gaz, les émissions, les gaz, les émissions gaz à effet ser, les émissions gaz ser, les gaz, les émissions gaz, les émissions gaz, les émissions gaz ser, les gaz, les gaz, les émissions gaz à effet ser, les émissions gaz ser, les émissions gaz, les émissions gaz, les gaz, les émissions gaz, les gaz, les émissions gaz ser, les émissions gaz, les émissions gaz, les émissions gaz, les émissions gaz, les émissions gaz, les émissions gaz, les émissions gaz, les émissions gaz, les émissions gaz, émissions gaz, les émissions gaz, les émissions gaz, les émissions gaz, les émissions à effet ser, les émissions gaz, les émissions gaz, les émissions gaz, les émissions gaz, les émissions à effet ser, les émissions gaz, les émissions gaz, les émissions gaz, les émissions gaz, les émissions à effet ser, les émissions gaz, les émissions gaz, les émissions gaz, les émissions gaz, les émissions, les émissions gaz, les émissions, les émissions gaz, les émissions gaz, les émissions, les émissions gaz, les émissions gaz, les émissions, émissions gaz, les émissions, émissions, émissions gaz, les émissions à effet ser, les émissions gaz, les émissions gaz, émissions, les émissions gaz, émissions gaz, les émissions, émissions, émissions, gaz, les émissions, émissions, émissions, émissions, émissions, les émissions émissions, les émissions, émissions, émissions, émissions, émissions, émissions, émissions, émissions, émissions, émissions, émissions, émissions, émissions, émissions, émissions, émissions, émissions, émissions, émissions, émissions, émissions, émissions, émissions, émissions, émissions, émissions, émissions, émissions, émissions, émissions, émissions, émissions, émissions, émissions, émissions, émissions, émissions, émissions, émissions, émissions, émissions, émissions, émissions, émissions, émissions, émissions, émissions, émissions, émissions, émissions, émissions, émissions, émissions, émissions, émission\n",
      "---------------------------------------\n",
      "calculating scores...\n",
      "computing bert embedding.\n"
     ]
    },
    {
     "name": "stderr",
     "output_type": "stream",
     "text": [
      "100%|██████████| 1/1 [00:03<00:00,  3.41s/it]\n"
     ]
    },
    {
     "name": "stdout",
     "output_type": "stream",
     "text": [
      "computing greedy matching.\n"
     ]
    },
    {
     "name": "stderr",
     "output_type": "stream",
     "text": [
      "100%|██████████| 1/1 [00:00<00:00, 100.01it/s]\n"
     ]
    },
    {
     "name": "stdout",
     "output_type": "stream",
     "text": [
      "done in 1812953.97 seconds, 0.00 sentences/sec\n",
      "Summary:\n",
      "\n",
      "\n",
      "The discussion revolved around the police and the violence and the police brutality against the youth. The speakers discussed the justice system and the police and the need to be strengthened. The police must be equipped with more resources and be trained to deal with the violence and the crime. The justice system needs to be reformed and the laws need to be enforced. The police and the justice system must be strengthened to to ensure the safety and security of the people.\n",
      "---------------------------------------\n",
      "calculating scores...\n",
      "computing bert embedding.\n"
     ]
    },
    {
     "name": "stderr",
     "output_type": "stream",
     "text": [
      "100%|██████████| 1/1 [00:00<00:00,  1.86it/s]\n"
     ]
    },
    {
     "name": "stdout",
     "output_type": "stream",
     "text": [
      "computing greedy matching.\n"
     ]
    },
    {
     "name": "stderr",
     "output_type": "stream",
     "text": [
      "100%|██████████| 1/1 [00:00<00:00, 166.59it/s]\n"
     ]
    },
    {
     "name": "stdout",
     "output_type": "stream",
     "text": [
      "done in 1812956.06 seconds, 0.00 sentences/sec\n",
      "The conversation is about Ukraine and the war, crimes of war. The first speaker says that it is clear that it is a crime of war. The second speaker says that the responsibility is not on the Russians but on the Ukranian government. The third speaker says that the sanctions against Russians are not working\n",
      "---------------------------------------\n",
      "calculating scores...\n",
      "computing bert embedding.\n"
     ]
    },
    {
     "name": "stderr",
     "output_type": "stream",
     "text": [
      "100%|██████████| 1/1 [00:01<00:00,  1.43s/it]\n"
     ]
    },
    {
     "name": "stdout",
     "output_type": "stream",
     "text": [
      "computing greedy matching.\n"
     ]
    },
    {
     "name": "stderr",
     "output_type": "stream",
     "text": [
      "100%|██████████| 1/1 [00:00<00:00, 166.68it/s]\n"
     ]
    },
    {
     "name": "stdout",
     "output_type": "stream",
     "text": [
      "done in 1812958.91 seconds, 0.00 sentences/sec\n",
      "The conversation is about Ukraine and the war, crimes of war. The first speaker says that it is clear that it is a crime of war. The second speaker says that the responsibility is not on the Russians but on the Ukranian government. The third speaker says that the sanctions against Russians are not working\n",
      "---------------------------------------\n",
      "calculating scores...\n",
      "computing bert embedding.\n"
     ]
    },
    {
     "name": "stderr",
     "output_type": "stream",
     "text": [
      "100%|██████████| 1/1 [00:00<00:00,  2.02it/s]\n"
     ]
    },
    {
     "name": "stdout",
     "output_type": "stream",
     "text": [
      "computing greedy matching.\n"
     ]
    },
    {
     "name": "stderr",
     "output_type": "stream",
     "text": [
      "100%|██████████| 1/1 [00:00<00:00, 249.88it/s]\n"
     ]
    },
    {
     "name": "stdout",
     "output_type": "stream",
     "text": [
      "done in 1812961.01 seconds, 0.00 sentences/sec\n",
      "Le ministre, Emmanuel Macron a annoncé une réforme de réforme des retraite pour les Français. La réforme de retraiteminimitera augmenter de 4,5% par anne, de 2023. Cela minimale augmentation de retraite sera de 100 euros brut par mois. Le ministre Emmanuel Macron a promis que les gens ne seront pas payer de moinséssérieurs augmentation de la retraite minimale\n",
      "---------------------------------------\n",
      "calculating scores...\n",
      "computing bert embedding.\n"
     ]
    },
    {
     "name": "stderr",
     "output_type": "stream",
     "text": [
      "100%|██████████| 1/1 [00:02<00:00,  2.54s/it]\n"
     ]
    },
    {
     "name": "stdout",
     "output_type": "stream",
     "text": [
      "computing greedy matching.\n"
     ]
    },
    {
     "name": "stderr",
     "output_type": "stream",
     "text": [
      "100%|██████████| 1/1 [00:00<00:00, 166.75it/s]\n"
     ]
    },
    {
     "name": "stdout",
     "output_type": "stream",
     "text": [
      "done in 1812964.91 seconds, 0.00 sentences/sec\n",
      "Summary:\n",
      "\n",
      "\n",
      "The conversation revolves around the Ukrainian crisis and its impact on the French presidential election. The image of the President Emmanuel Macron visiting Kiev is important, as he met with Ukrainian President Zelensky, to discuss support for the Ukrainian people who are being attacked by Vladimir Putin. Macron's timing is questioned, but Macron's decision to go ahead with the trip to Kiev is defended. The discussion also touches on the importance of the support for Ukraine and the timing of the trip.\n",
      "\n",
      "---------------------------------------\n",
      "calculating scores...\n",
      "computing bert embedding.\n"
     ]
    },
    {
     "name": "stderr",
     "output_type": "stream",
     "text": [
      "100%|██████████| 1/1 [00:00<00:00,  1.23it/s]\n"
     ]
    },
    {
     "name": "stdout",
     "output_type": "stream",
     "text": [
      "computing greedy matching.\n"
     ]
    },
    {
     "name": "stderr",
     "output_type": "stream",
     "text": [
      "100%|██████████| 1/1 [00:00<00:00, 199.95it/s]\n"
     ]
    },
    {
     "name": "stdout",
     "output_type": "stream",
     "text": [
      "done in 1812967.14 seconds, 0.00 sentences/sec\n",
      "Summary:\n",
      "\n",
      "\n",
      "\n",
      "---------------------------------------\n",
      "calculating scores...\n",
      "computing bert embedding.\n"
     ]
    },
    {
     "name": "stderr",
     "output_type": "stream",
     "text": [
      "100%|██████████| 1/1 [00:00<00:00,  2.34it/s]\n"
     ]
    },
    {
     "name": "stdout",
     "output_type": "stream",
     "text": [
      "computing greedy matching.\n"
     ]
    },
    {
     "name": "stderr",
     "output_type": "stream",
     "text": [
      "100%|██████████| 1/1 [00:00<00:00, 333.49it/s]\n"
     ]
    },
    {
     "name": "stdout",
     "output_type": "stream",
     "text": [
      "done in 1812968.92 seconds, 0.00 sentences/sec\n",
      "The following is a summary of the dialogue:\n",
      "\n",
      "* P2 and P1 are discussing the importance of the European Union (EU) and the North Atlantic Treaty Organization (OTAN) in the current crisis.\n",
      "* P2 mentions that Eric Zemmour is against the EU and OTAN and believes that they are not necessary.\n",
      "* P2 also mentions that Vladimir Putin is dangerous and that signs of his danger were evident before the crisis.\n",
      "* P1 mentions that Emmanuel Macron should have seen these signs as well.\n",
      "* P2 mentions that Valérie Pécresse is a dangerous person who is against the EU and OTAN.\n",
      "* P2 also mentions that Jean Monnet, the founder of the EU, said that the EU will be built in crises.\n",
      "* P2 mentions that the EU is currently at a crucial moment and that it is important for it to take decisions to become a strong and independent power.\n",
      "* P2 also mentions that if the EU does not take its destiny in hand, the US will not be able to defend it.\n",
      "* P2 also mentions that the EU needs an European defense industry to be strong.\n",
      "* P1 mentions that P2 is a dangerous person who is talking about the danger of Putin but he is not seeing the danger of the danger of the danger of the danger of the danger.\n",
      "* P1 also mentions that P2 is a dangerous person who is talking about the danger of Putin but he is not seeing the danger of the danger of the danger of the danger of the danger of the danger\n",
      "---------------------------------------\n",
      "calculating scores...\n",
      "computing bert embedding.\n"
     ]
    },
    {
     "name": "stderr",
     "output_type": "stream",
     "text": [
      "100%|██████████| 1/1 [00:01<00:00,  1.29s/it]\n"
     ]
    },
    {
     "name": "stdout",
     "output_type": "stream",
     "text": [
      "computing greedy matching.\n"
     ]
    },
    {
     "name": "stderr",
     "output_type": "stream",
     "text": [
      "100%|██████████| 1/1 [00:00<00:00, 166.80it/s]\n"
     ]
    },
    {
     "name": "stdout",
     "output_type": "stream",
     "text": [
      "done in 1812971.57 seconds, 0.00 sentences/sec\n",
      "The conversation between two men named Mitterrand and Mitteran\n",
      "---------------------------------------\n",
      "calculating scores...\n",
      "computing bert embedding.\n"
     ]
    },
    {
     "name": "stderr",
     "output_type": "stream",
     "text": [
      "100%|██████████| 1/1 [00:00<00:00,  1.06it/s]\n"
     ]
    },
    {
     "name": "stdout",
     "output_type": "stream",
     "text": [
      "computing greedy matching.\n"
     ]
    },
    {
     "name": "stderr",
     "output_type": "stream",
     "text": [
      "100%|██████████| 1/1 [00:00<00:00, 166.69it/s]\n"
     ]
    },
    {
     "name": "stdout",
     "output_type": "stream",
     "text": [
      "done in 1812973.94 seconds, 0.00 sentences/sec\n",
      "The discussion is about the economic and employment. Ségolène Royal proposes a new deal for France, and she wants to create jobs and to fight against poverty and she wants to reform the unemployment insurance system and she wants to help the young people who are unemployed and she wants to give them the opportunity to learn new skills and she wants to help the people who are in the poverty she wants to help them to to get out of the poverty.\n",
      "\n",
      "\n",
      "\n",
      "\n",
      "\n",
      "---------------------------------------\n",
      "calculating scores...\n",
      "computing bert embedding.\n"
     ]
    },
    {
     "name": "stderr",
     "output_type": "stream",
     "text": [
      "100%|██████████| 1/1 [00:01<00:00,  1.26s/it]\n"
     ]
    },
    {
     "name": "stdout",
     "output_type": "stream",
     "text": [
      "computing greedy matching.\n"
     ]
    },
    {
     "name": "stderr",
     "output_type": "stream",
     "text": [
      "100%|██████████| 1/1 [00:00<00:00, 142.98it/s]\n"
     ]
    },
    {
     "name": "stdout",
     "output_type": "stream",
     "text": [
      "done in 1812976.72 seconds, 0.00 sentences/sec\n",
      "Xavier Bertrand ajoute :\n",
      "\n",
      "\n",
      "\n",
      "\n",
      "\n",
      "\n",
      "\"C'est important de ne pas être dans l'ignor de la mêl'énergie, c'est un éléélément. Mais je suis d'accord'élélélélélélélélélélélélélélélélélélélélélélélélélélélélélélélélélélélélélélélélélélélélélélélélélélélélélélélélélélélélélélélélélélélélélélélélélélélélélélélélélélélélélélélélélélélélélélélélélélélélélélélélélélélélélélélélélélélélélélélélélélélélélélélélélélélélélélélélélélélélélélélélélélélélélélélélélélélélélélélélélélélélélélélélélélélélélélélélélélélélélélélélélélélélélélélélélélélélélélélélélélélélélélélélélélélélélélélélélélélélélélélélélélélélélélélélélélélélélélélélélélélélélélélélélélélélélélélélélélélélélélélélélélélélélélélélélélélélélélélélélélélélélélélélélélélélélélélélélélélélélélélélélélélélélélélélélélélélélélélélélélélélélélélélélélélélélélélélélélélélélélélélélélélélélélélélélélélélélélélélélélélélélélélélélélélélélélélélélélélélélélélélélélélélélélélélélélélélélélélélélélélélélélélélélélélélélélélélélélélélélélélélélélélélélélélélélélélélélélélélélélélélélélélélélélélélélélélélélélélélélélélélélélélélélélélélélélélélélélélélélélélélélélélélélélélélélélélélélélélélélélélélélélélélélélélélélélélélélélélélélélélélélélélélélélélélélélélélélélélélélélélélélélélélélélélélélélélélélélélélélélélélélélélélélélélélélélélélélélélélélélélélélélélélélélélélélélélélélélélélélélélélélélélélélélélélélélélélélélélélélélélélélélélélélélélélélélélélélélélélélélélélélélélélélélélélélélélélélélélélélélélélélélélélélélélélélélélélélélélélélélélélélélélélélélélélélélélélélélélélélélélélélélélélélélélélélélélélélélélélélélélélélélélélélélélélélélélélélélélélélélélélélélélélélélélélélélélélélélélélélélélélélélélélélélélélélélélélélélélélélélélélélélélélélélélélélélélélélélélélélélélélélélélélélélélélélélélélélélélélélélélélélélélélélélélélélélélélélélélélélélélélélélélélélélélélélélélélélélélélélélélélélélélélélélélélélélélélélélélélélélélélélélélélélélélélélélélélélélélélélélélélélélélélélélélélélélélélélélélélélélélélélélélélélélélélélélélélélélélélélélélélélélélélélélélélélélélélélélélélélélélélélélélélélélélélélélélélélélélélélélélélélélélélélélélélélélélélélélélélélélélélélélélélélélélélélélélélélélélélélélélélélélélélélélélélélélélélélélélélélélélélélélélélélélélélélélélélélélélélélélélélélélélélélélélélélélélélélélélélélélélélélélélélélélélélélélélélélélélélélélélélélélélélélélélélélélélélélélélélélélélélélélélélélélélélélélélélélélélélélélélélélélélélélélélélélélélélélélélélélélélélélélélélélélélélélélélélélélélélélélélélélélélélélélélélélélélélélélélélélélélélélélélélélélélélélélélélélélélélélélélélélélélélélélélélélélélélélélélélélélélélélélélélélélélélélélélélélélélélélélélélélélélélélélélélélélélélélélélélélélélélélélélélélélélélélélélélélélélélélélélélélélélélélélélélélélélélélélélélélélélélélélélélélélélélélélélélélélélélélélélélélélélélélélélélélélélélélélélélélélélélélélélélélélélélélélélélélélélélélélélélélélélélélélélélélélélélélélélélélélélélélélélélélélélélélélélélélélélélélélélélélélélélélélélélélélélélélélélélélélélélélélélélélélélélélélélélélélélélélélélélélélélélélélélélélélélélélélélélélélélélélélélélélélélélélélélélélélélélélélélélélélélélélélélélélélélélélélélélélélélélélélélélélélélélélélélélélélélélélélélélélélélélélélélélélélélélélélélélélélélélélélélélélélélélélélélélélélélélélélélélélélélélélélélélélélélélélélélélélélélélélélélélélélélélélélélélélélélélélélélélélélélélélélélélélélélélélélélélélélélélélélélélélélélélélélélélélélélélélélélélélélélélélélélélélélélélélélélélélélélélélélélélélélélélélélélélélélélélélélélélélélélélélélélélélélélélélélélélélélélélélélélélélélélélélélélélélélélélélélélélélélélélélélélélélélélélélélélélélélélélélélélélélélélélélélélélélélélélélélélélélélélélélélélélélélélélélélélélélélélélélélélélélélélélélélélélélélélélélélélélélélélélélélélélélélélélélélélélélélélélélélélélélélélélélélélélélélélélélélélélélélélélélélélélélélélélélélélélélélélélélélélélélélélélélélélélélélélélélélélélélélélélélélélélélélélélélélélélélélélélélélélélélélélélélélélélélélélélélélélélélélélélélélélélélélél.\n",
      "### Assistant\n",
      "---------------------------------------\n",
      "calculating scores...\n",
      "computing bert embedding.\n"
     ]
    },
    {
     "name": "stderr",
     "output_type": "stream",
     "text": [
      "100%|██████████| 1/1 [00:01<00:00,  1.30s/it]\n"
     ]
    },
    {
     "name": "stdout",
     "output_type": "stream",
     "text": [
      "computing greedy matching.\n"
     ]
    },
    {
     "name": "stderr",
     "output_type": "stream",
     "text": [
      "100%|██████████| 1/1 [00:00<00:00, 166.54it/s]\n"
     ]
    },
    {
     "name": "stdout",
     "output_type": "stream",
     "text": [
      "done in 1812980.17 seconds, 0.00 sentences/sec\n",
      "Le séance se tait, la discussion porte sur la sécurité et la police. Les participants expriment que la sécurité est une condition de la liberté et que les policiers ont la responsabes doivre la sécurité des habitants. Ils aussi que la sécurité est une condition de la liberté et que la sécurité est un droit réglement. Ils expriment que la sé que les policiers ont la responsabes doivre la sécurity des habitants et qu'ils sont responsables de la sécurité. Ils expriment que les policiers ont la responsabes à la sécurité et qu'ordre. Ils expriment que les policiers ont la responsabes doivres de la sé et qu'ils sont responsables politiques. Ils expriment que les policiers ont la responsabes doivres de la sé et qu'ils sont responsables politiques. Ils expriment que les policiers ont la responsabes doivres de la sé et qu'ils sont responsables politiques. Ils expriment que les policiers ont la responsabes doivres de la sé et qu'ils sont responsables politiques\n",
      "---------------------------------------\n",
      "calculating scores...\n",
      "computing bert embedding.\n"
     ]
    },
    {
     "name": "stderr",
     "output_type": "stream",
     "text": [
      "100%|██████████| 1/1 [00:00<00:00,  1.28it/s]\n"
     ]
    },
    {
     "name": "stdout",
     "output_type": "stream",
     "text": [
      "computing greedy matching.\n"
     ]
    },
    {
     "name": "stderr",
     "output_type": "stream",
     "text": [
      "100%|██████████| 1/1 [00:00<00:00, 250.20it/s]\n"
     ]
    },
    {
     "name": "stdout",
     "output_type": "stream",
     "text": [
      "done in 1812982.43 seconds, 0.00 sentences/sec\n",
      "Summary:\n",
      "\n",
      "* The discussion is about Ukraine and the war crimes committed by Russia.\n",
      "* The front national (RN) and the Rassemblement National (RN) have sent gend officers to Ukraine to document the crimes and provide evidence to the international justice.\n",
      "* The RN has voted against the sanctions against Ukraine in the European Parliament, but not for the protection of Ukrainian children and young people who fled to the EU.\n",
      "* The war in Ukraine is a big scandal and the French people are not surprised.\n",
      "* The RN is under the influence of the Russian finances, ideology, military potential impact, etc.\n",
      "* The RN members of the government, especially Mr. Le Maire, have been very irresponsible with their declarations.\n",
      "* The French people have been prudent and have not taken risks for the diplomatic France's work.\n",
      "* The RN has always been more prudent than the other countries and the EU.\n",
      "* The alliance between the biggest country of the world and the biggest country of the world is the alliance of the the biggest power of the world.\n",
      "* The RN has always been more prudent than the other countries and the EU.\n",
      "* The war in Ukraine is a big scandal and the French people are not surprised.\n",
      "* The RN is under the influence of the Russian finances, ideology, military potential, etc\n",
      "---------------------------------------\n",
      "calculating scores...\n",
      "computing bert embedding.\n"
     ]
    },
    {
     "name": "stderr",
     "output_type": "stream",
     "text": [
      "100%|██████████| 1/1 [00:01<00:00,  1.00s/it]\n"
     ]
    },
    {
     "name": "stdout",
     "output_type": "stream",
     "text": [
      "computing greedy matching.\n"
     ]
    },
    {
     "name": "stderr",
     "output_type": "stream",
     "text": [
      "100%|██████████| 1/1 [00:00<00:00, 124.82it/s]\n"
     ]
    },
    {
     "name": "stdout",
     "output_type": "stream",
     "text": [
      "done in 1812984.92 seconds, 0.00 sentences/sec\n",
      "Summary:\n",
      "\n",
      "* The discussion is about Ukraine and the war crimes committed by Russia.\n",
      "* The front national (RN) and the Rassemblement National (RN) have sent gend officers to Ukraine to document the crimes and provide evidence to the international justice.\n",
      "* The RN has voted against the sanctions against Ukraine in the European Parliament, but not for the protection of Ukrainian children and young people who fled to the EU.\n",
      "* The war in Ukraine is a big scandal and the French people are not surprised.\n",
      "* The RN is under the influence of the Russian finances, ideology, military potential impact, etc.\n",
      "* The RN members of the government, especially Mr. Le Maire, have been very irresponsible with their declarations.\n",
      "* The French people have been prudent and have not taken risks for the diplomatic France's work.\n",
      "* The RN has always been more prudent than the other countries and the EU.\n",
      "* The alliance between the biggest country of the world and the biggest country of the world is the alliance of the the biggest power of the world.\n",
      "* The RN has always been more prudent than the other countries and the EU.\n",
      "* The war in Ukraine is a big scandal and the French people are not surprised.\n",
      "* The RN is under the influence of the Russian finances, ideology, military potential, etc\n",
      "---------------------------------------\n",
      "calculating scores...\n",
      "computing bert embedding.\n"
     ]
    },
    {
     "name": "stderr",
     "output_type": "stream",
     "text": [
      "100%|██████████| 1/1 [00:01<00:00,  1.36s/it]\n"
     ]
    },
    {
     "name": "stdout",
     "output_type": "stream",
     "text": [
      "computing greedy matching.\n"
     ]
    },
    {
     "name": "stderr",
     "output_type": "stream",
     "text": [
      "100%|██████████| 1/1 [00:00<00:00, 99.87it/s]\n"
     ]
    },
    {
     "name": "stdout",
     "output_type": "stream",
     "text": [
      "done in 1812987.74 seconds, 0.00 sentences/sec\n",
      "The text contains several errors and questions about the pension reform. The speaker wants to know how many people will be affected by the reform, how much will be raised in pensions, how much will be increased in salaries, and how much will will be affected by the reform. The speaker also mentions that the reform will affect all people, and that the reform will affect all the pensions and salaries\n",
      "---------------------------------------\n",
      "calculating scores...\n",
      "computing bert embedding.\n"
     ]
    },
    {
     "name": "stderr",
     "output_type": "stream",
     "text": [
      "100%|██████████| 1/1 [00:03<00:00,  3.03s/it]\n"
     ]
    },
    {
     "name": "stdout",
     "output_type": "stream",
     "text": [
      "computing greedy matching.\n"
     ]
    },
    {
     "name": "stderr",
     "output_type": "stream",
     "text": [
      "100%|██████████| 1/1 [00:00<00:00, 143.21it/s]\n"
     ]
    },
    {
     "name": "stdout",
     "output_type": "stream",
     "text": [
      "done in 1812992.36 seconds, 0.00 sentences/sec\n",
      "Summary:\n",
      "\n",
      "\n",
      "\n",
      "The text is a collection of keypoints from two interviews with politicians, one discussing the timing of the French presidential election and the other discussing the Ukrainian conflict. The first interviewee, Emmanuel Macron, is discussing the importance of supporting Ukraine and the country attacked by Russia. The second interviewee, Jordan Bardella, is discussing the timing of the election and the importance of the timing of the timing of the election. The first interviewee, Emmanuel Macron, is discussing the importance of the timing of the election and the timing of the timing of the timing of the election. The second interviewee, Jordan Bardella, is discussing the the timing of the timing of the timing of the election\n",
      "---------------------------------------\n",
      "calculating scores...\n",
      "computing bert embedding.\n"
     ]
    },
    {
     "name": "stderr",
     "output_type": "stream",
     "text": [
      "100%|██████████| 1/1 [00:00<00:00,  1.03it/s]\n"
     ]
    },
    {
     "name": "stdout",
     "output_type": "stream",
     "text": [
      "computing greedy matching.\n"
     ]
    },
    {
     "name": "stderr",
     "output_type": "stream",
     "text": [
      "100%|██████████| 1/1 [00:00<00:00, 199.91it/s]\n"
     ]
    },
    {
     "name": "stdout",
     "output_type": "stream",
     "text": [
      "done in 1812994.83 seconds, 0.00 sentences/sec\n",
      "Summary:\n",
      "---------------------------------------\n",
      "calculating scores...\n",
      "computing bert embedding.\n"
     ]
    },
    {
     "name": "stderr",
     "output_type": "stream",
     "text": [
      "100%|██████████| 1/1 [00:00<00:00,  2.04it/s]\n"
     ]
    },
    {
     "name": "stdout",
     "output_type": "stream",
     "text": [
      "computing greedy matching.\n"
     ]
    },
    {
     "name": "stderr",
     "output_type": "stream",
     "text": [
      "100%|██████████| 1/1 [00:00<00:00, 261.10it/s]\n"
     ]
    },
    {
     "name": "stdout",
     "output_type": "stream",
     "text": [
      "done in 1812996.79 seconds, 0.00 sentences/sec\n",
      "Introduction:\n",
      "\n",
      "* The speaker is discussing the NATO and European Union with Eric Zemmour, who is considered to be for exiting the NATO command and integrating it into the EU.\n",
      "* The speaker is asked if they consider NATO indispensable and the European Union, and if they think it's important in our current crisis.\n",
      "\n",
      "Keypoints:\n",
      "\n",
      "* Vladimir Putin is considered dangerous by Eric Zemmour, who has said dangerous things about him in the past.\n",
      "* There were signs of danger from Putin before he started destabilizing Africa and Mali.\n",
      "* The danger of Putin is not a sign of his violence, but rather his ability to use Wagner's mercenaries to destabilize countries.\n",
      "* The EU is currently facing a crisis and is in need of a strong defense and European defense strategy in NATO.\n",
      "* The EU needs to be a strong and independent player in the world, and not just a follower of the US.\n",
      "\n",
      "Summa\n",
      "---------------------------------------\n",
      "calculating scores...\n",
      "computing bert embedding.\n"
     ]
    },
    {
     "name": "stderr",
     "output_type": "stream",
     "text": [
      "100%|██████████| 1/1 [00:00<00:00,  1.53it/s]\n"
     ]
    },
    {
     "name": "stdout",
     "output_type": "stream",
     "text": [
      "computing greedy matching.\n"
     ]
    },
    {
     "name": "stderr",
     "output_type": "stream",
     "text": [
      "100%|██████████| 1/1 [00:00<00:00, 166.70it/s]\n"
     ]
    },
    {
     "name": "stdout",
     "output_type": "stream",
     "text": [
      "done in 1812998.90 seconds, 0.00 sentences/sec\n",
      "Monsieur Mitterrand, je voudrais que vous vous avez dépensérez, vous vous en êtes un grand homme politique, vous avez-vous vous avez vérez, vous avez vous avez vous avez vous vous avez vous vous vous vous avez vous vous avez vous vous vous avez vous vous vous vous vous avez-vous vous avez vous vous vous vous avez-vous vous avez vous vous avez vous vous vous vous vous avez-vous, vous avez-e, vous avez vous vous vous avez vous vous vous avez vous vous vous avez vous vous vous avez vous vous vous vous avez-e, vous vous avez vous vous vous vous vous vous vous avez vous vous vous vous vousous, vous vous vous vous vous vous vous vous vous vous vous vous vous vous vous vous vous vous vous vous vous vous vous vous vous vous vous vous vous vous vous vous vous vous vous vous vous vous vous vous vous vous vous vous vous vous vous vous vous vous vous vous vous vous vous vous vous vous vous vous vous vous vous, vous vous vous vous vous vous vous vous vous vous vous vous vous vous vous vous vous vous vous vous vous vous vous vous vous vous vous vous vous vous vous vous vous vous vous vous vous vous vous vous vous vous vous vous vous vous vous vous vous vous vous vous vous vous vous vous vous vous vous vous vous vous vous vous vous vous vous vous vous vous vous vous vous vous vous vous vous vous vous vous vous vous vous vous vous vous vous vous vous vous vous vous vous vous vous vous vous vous vous vous vous vous vous vous vous vous vous vous vous vous vous vous vous vous vous vous vous vous vous vous vous vous vous vous vous vous vous vous vous vous vous vous vous vous vous vous vous vous vous vous vous vous vous vous vous vous vous vous vous vous vous vous vous vous vous vous vous vous vous vous vous vous vous.\n",
      "\n",
      "\n",
      "---------------------------------------\n",
      "calculating scores...\n",
      "computing bert embedding.\n"
     ]
    },
    {
     "name": "stderr",
     "output_type": "stream",
     "text": [
      "100%|██████████| 1/1 [00:01<00:00,  1.92s/it]\n"
     ]
    },
    {
     "name": "stdout",
     "output_type": "stream",
     "text": [
      "computing greedy matching.\n"
     ]
    },
    {
     "name": "stderr",
     "output_type": "stream",
     "text": [
      "100%|██████████| 1/1 [00:00<00:00, 142.93it/s]\n"
     ]
    },
    {
     "name": "stdout",
     "output_type": "stream",
     "text": [
      "done in 1813002.26 seconds, 0.00 sentences/sec\n",
      "The text discusses the debate on the European Union and the European Union. The speaker argues that the EU is not a democracy and that the European Parliament is not representative of the people. The speaker also argues that the EU is not a federal state and that the European countries are not equal. The speaker also criticizes the EU economic policy and the euro currency\n",
      "---------------------------------------\n",
      "calculating scores...\n",
      "computing bert embedding.\n"
     ]
    },
    {
     "name": "stderr",
     "output_type": "stream",
     "text": [
      "100%|██████████| 1/1 [00:00<00:00,  1.12it/s]\n"
     ]
    },
    {
     "name": "stdout",
     "output_type": "stream",
     "text": [
      "computing greedy matching.\n"
     ]
    },
    {
     "name": "stderr",
     "output_type": "stream",
     "text": [
      "100%|██████████| 1/1 [00:00<00:00, 200.13it/s]\n"
     ]
    },
    {
     "name": "stdout",
     "output_type": "stream",
     "text": [
      "done in 1813004.60 seconds, 0.00 sentences/sec\n",
      "Xavier Bertrand propose de passer à la débat sur le pouvoir d'achat. Il dit qu'il a moins de temps temps pour le débat, et qu'il ne peut pas continuer. Il demande à la question pour démarque il est temps temps de débat. Il demande à la question pour démarquer de temps temps. Il demande à la question pourmarqueil est temps temps. Il demande à la question pourmarquequeil est temps. Il demande demande à la question pour marqueil est temps. Il demande demande à la question pour marqueil est temps. Il demande demande à la question pour marqueil est temps. Il demande demande à la question pour marqueil est temps. Il demande demande à la question pour marqueil est temps. Il demande demande à la question pour marqueil est temps. Il demande demande à la question pour mar temps. Il demande à la question pour débat. Il demande à la question pour débat. Il demande à la question pourbat. Il demande à la question pour débat. Il demande à la question pour débat. Il demande la question pour débat. Il demande la question pour débat. Il demande demande à la question pour débat. Il demande à la question pour débat. Il demande la question pour débat. Il demande la question pour débat. Il demande demande à la question pour débat. Il demande à la question pour débat. Il demande la question pour débat. Il demande la question pour débat. Il demande demande à la question pour débat. Il demande à la question pour débat. Il demande la question pour débat. Il demande la question pour débat. Il demande demande à la question pour débat. Il demande à la question pour débat. Il demande la question pour débat. Il demande la question pour débat. Il demande demande à la question pour débat. Il demande à la question pour débat. Il demande la question pour débat. Il demande demande à la question pour débat. Il demande demande à la question pour débat. Il demande demande à la question pour débat. Il demande demande à la question pour débat. Il demande demande à la question pour débatat\n",
      "---------------------------------------\n",
      "calculating scores...\n",
      "computing bert embedding.\n"
     ]
    },
    {
     "name": "stderr",
     "output_type": "stream",
     "text": [
      "100%|██████████| 1/1 [00:02<00:00,  2.30s/it]\n"
     ]
    },
    {
     "name": "stdout",
     "output_type": "stream",
     "text": [
      "computing greedy matching.\n"
     ]
    },
    {
     "name": "stderr",
     "output_type": "stream",
     "text": [
      "100%|██████████| 1/1 [00:00<00:00, 58.84it/s]\n"
     ]
    },
    {
     "name": "stdout",
     "output_type": "stream",
     "text": [
      "done in 1813008.44 seconds, 0.00 sentences/sec\n",
      "Jordan Bardella est un homme qui se répond que la situation actuelle de la police en France est dés. Il estime que la police doit être plus efficace et que les policiers doivent être plus respectés par les gens. Il estime que la hautement de la violence et des policière doivent doivent doivent être punies pour des policiers qui ne font pas leur place. Il estime que la justice doit être plus efficace pour rédupolicier les policiers qui font agir agir contre les gens. Il estime que la police doit être plus efficace pour les policiers qui font agir agir contre les gens. Il estime que la justice ne doivent pas être punir les policiers qui ne font pas agir contre contre les gens. Il estime que la justice ne doit pas punir les policiers qui ne font agir contre contre les gens. Il estime que la justice ne doit pas être plus efficace pour punir les policiers qui ne font pas agir contre contre les gens. Il estime que la justice ne doit pas punir les policiers qui ne font agir contre contre les gens. Il estime que la justice ne doit pas être plus efficace pour punir les policiers qui ne font pas agir contre contenens. Il estime que la justice ne doit ne doit ne doit pas punir les policiers qui ne font agir contre contenens\n",
      "---------------------------------------\n",
      "calculating scores...\n",
      "computing bert embedding.\n"
     ]
    },
    {
     "name": "stderr",
     "output_type": "stream",
     "text": [
      "100%|██████████| 1/1 [00:01<00:00,  1.14s/it]\n"
     ]
    },
    {
     "name": "stdout",
     "output_type": "stream",
     "text": [
      "computing greedy matching.\n"
     ]
    },
    {
     "name": "stderr",
     "output_type": "stream",
     "text": [
      "100%|██████████| 1/1 [00:00<00:00, 125.05it/s]\n"
     ]
    },
    {
     "name": "stdout",
     "output_type": "stream",
     "text": [
      "done in 1813011.30 seconds, 0.00 sentences/sec\n",
      "Summary:\n",
      "\n",
      "\n",
      "* Ukraine: The first question is whether you agree that the images seen are terrible, that civilians were targeted in the conflict, and that crimes of war are committed when civilians are attacked?\n",
      "* Yes, it is clear that these images are terrible and that civilians were targeted in the conflict. It is crimes of war when civilians are attacked. We have already demanded that an international enquiry be conducted by the UN. The court martial international is already investigating since the crimes committed in March. We have condemned the aggression of Ukraine by Russia, which is a gross violation of territorial sovereignty and the crime that could have been committed at the same time. We have condemned the Russian aggression on Ukraine and it is a violation of territorial sovereignty and crime that could have been committed at the same time.\n",
      "\n",
      "* Russia: The second question is if you agree that the Russian government is responsible for the crimes committed in Ukraine?\n",
      "* Yes, it is clear that the Russian government is responsible for the crime that could have been committed in the same time.\n",
      "* Ukraine: The third question is if you agree that Ukraine is responsible for the crime that could have been committed in the same time?\n",
      "* Yes, it is clear that Ukraine is responsible for the crime that could have been committed in the same time.\n",
      "* Conclusion: Crimes of war are committed when civilians are targeted in conflict. The Russian government is responsible for the crime that could have been committed in the same time. Ukraine is responsible for the crime that could have been committed in the same time\n",
      "---------------------------------------\n",
      "calculating scores...\n",
      "computing bert embedding.\n"
     ]
    },
    {
     "name": "stderr",
     "output_type": "stream",
     "text": [
      "100%|██████████| 1/1 [00:01<00:00,  1.19s/it]\n"
     ]
    },
    {
     "name": "stdout",
     "output_type": "stream",
     "text": [
      "computing greedy matching.\n"
     ]
    },
    {
     "name": "stderr",
     "output_type": "stream",
     "text": [
      "100%|██████████| 1/1 [00:00<00:00, 62.44it/s]\n"
     ]
    },
    {
     "name": "stdout",
     "output_type": "stream",
     "text": [
      "done in 1813014.05 seconds, 0.00 sentences/sec\n",
      "Summary:\n",
      "\n",
      "\n",
      "* Ukraine: The first question is whether you agree that the images seen are terrible, that civilians were targeted in the conflict, and that crimes of war are committed when civilians are attacked?\n",
      "* Yes, it is clear that these images are terrible and that civilians were targeted in the conflict. It is crimes of war when civilians are attacked. We have already demanded that an international enquiry be conducted by the UN. The court martial international is already investigating since the crimes committed in March. We have condemned the aggression of Ukraine by Russia, which is a gross violation of territorial sovereignty and the crime that could have been committed at the same time. We have condemned the Russian aggression on Ukraine and it is a violation of territorial sovereignty and crime that could have been committed at the same time.\n",
      "\n",
      "* Russia: The second question is if you agree that the Russian government is responsible for the crimes committed in Ukraine?\n",
      "* Yes, it is clear that the Russian government is responsible for the crime that could have been committed in the same time.\n",
      "* Ukraine: The third question is if you agree that Ukraine is responsible for the crime that could have been committed in the same time?\n",
      "* Yes, it is clear that Ukraine is responsible for the crime that could have been committed in the same time.\n",
      "* Conclusion: Crimes of war are committed when civilians are targeted in conflict. The Russian government is responsible for the crime that could have been committed in the same time. Ukraine is responsible for the crime that could have been committed in the same time\n",
      "---------------------------------------\n",
      "calculating scores...\n",
      "computing bert embedding.\n"
     ]
    },
    {
     "name": "stderr",
     "output_type": "stream",
     "text": [
      "100%|██████████| 1/1 [00:01<00:00,  1.52s/it]\n"
     ]
    },
    {
     "name": "stdout",
     "output_type": "stream",
     "text": [
      "computing greedy matching.\n"
     ]
    },
    {
     "name": "stderr",
     "output_type": "stream",
     "text": [
      "100%|██████████| 1/1 [00:00<00:00, 200.01it/s]\n"
     ]
    },
    {
     "name": "stdout",
     "output_type": "stream",
     "text": [
      "done in 1813017.10 seconds, 0.00 sentences/sec\n",
      "La réunion est un endroit à s'assurer la péssion de la réforme deux. La réforme réform réforme réform réforme réforme réform réforme réforméformééééééééééééééééééééééééééééééééééééééééééééééééééééééééééééééééééééééééééééééééééééééééééééééééééééééééééééééééééééééééééééééééééééééééééééééééééééééééééééééééééééééééééééééééééééééééééééééééééééééééééééééééééééééééééééééééééééééééééééééééééééééééééééééééééééééééééééééééééééééééééééééééééééééééééééééééééééééééééééééééééééééééééééééééééééééééééééééééééééééééééééééééééééééééééééééééééééééééééééééééééééééééééééééééééééééééééééééééééééééééééééééééééééééééééééééééééééééééééééééééééééééééééééééééééééééééééééééééééééééééééééééééééééééééééééééééééééééééééééééééééééééééééééééééééééééééééééééééééééééééééééééééééééééééééééééééééééééééééééééééééééééééééééééééééééééééééééééééééééééééééééééééééééééééééééééééééééééééééééééééééééééééééééééééééééééééééééééééééééééééééééééééééééééééééééééééééééééééééééééééééééééééééééééééééééééééééééééééééééééééééééééééééééééééééééééééééééééééééééééééééééééééééééééééééééééééééééééééééééééééééééééééééééééééééééééééééééééééééééééééééééééééééééééééééééééééééééééééééééééééééééééééééééééééééééééééééééééééééééééééééééééééééééééééééééééééééééééééééééééééééééééééééééééééééééééééééééééééééééééééééééééééééééééééééééééééééééééééééééééééééééééééééééééééééééééééééééééééééééééééééééééééééééééééééééééééééééééééééééééééééééééééééééééééééééééééééééééééééééééééééééMP1 \n",
      "---------------------------------------\n",
      "calculating scores...\n",
      "computing bert embedding.\n"
     ]
    },
    {
     "name": "stderr",
     "output_type": "stream",
     "text": [
      "100%|██████████| 1/1 [00:02<00:00,  2.77s/it]\n"
     ]
    },
    {
     "name": "stdout",
     "output_type": "stream",
     "text": [
      "computing greedy matching.\n"
     ]
    },
    {
     "name": "stderr",
     "output_type": "stream",
     "text": [
      "100%|██████████| 1/1 [00:00<00:00, 250.03it/s]\n"
     ]
    },
    {
     "name": "stdout",
     "output_type": "stream",
     "text": [
      "done in 1813021.27 seconds, 0.00 sentences/sec\n",
      "During the Ukrainian conflict, Emmanuel Macron, who visited Kiev the day before, met with Volodymy Zelensky and emphasized the support of the French people to the Ukrainian people under attack by Vladimir Putin. It was important to him to show that France is not just talking but acting, coordinating with the European Council and the Chancellor. It was important to him to show that the meeting was not just a coincidence. It was important to him to show that the French people are worried about the inflation caused by the conflict. It was important to show that the good strategy for ending the war is to put pressure on Putin economically possible\n",
      "---------------------------------------\n",
      "calculating scores...\n",
      "computing bert embedding.\n"
     ]
    },
    {
     "name": "stderr",
     "output_type": "stream",
     "text": [
      "100%|██████████| 1/1 [00:00<00:00,  1.30it/s]\n"
     ]
    },
    {
     "name": "stdout",
     "output_type": "stream",
     "text": [
      "computing greedy matching.\n"
     ]
    },
    {
     "name": "stderr",
     "output_type": "stream",
     "text": [
      "100%|██████████| 1/1 [00:00<00:00, 249.97it/s]\n"
     ]
    },
    {
     "name": "stdout",
     "output_type": "stream",
     "text": [
      "done in 1813023.44 seconds, 0.00 sentences/sec\n",
      "* Mitterrand: Vous avez l'intention de l'enti même de faire augmenter l'impôt sur les impôts sur les grandes fortunes, vous ne voulez pas vous jouer avec l'Europe, vous ne vous ne pouvez pas faire être les plus compétitifs que les autres pays dans les impôt sur les grandes fortunes.\n",
      "* Chirac: Nous voulons faire augmenter l'impôt sur les grandes fortunes, c'est-est-ce que vous vouluez, vous jouer avec l'Europe, vous ne pouvez pas être les plus compétits que les autres pays sans l'impôt sur les grandes fortunes.\n",
      "* Mitterand: Je voudrais vouloir vous jouer avec l'Europe, vous ne vous pouvez pas êer les autres pays sans l'impôt sur les grandes fortunes.\n",
      "* Chirac: Nous voulons faire augmenter l'impôt sur les grandes fortunes, c'est ce que voulez, vous jouer avec l'Europe, ne pouvez pas autres pays sans l'impôt sur les grandes fortunes\n",
      "---------------------------------------\n",
      "calculating scores...\n",
      "computing bert embedding.\n"
     ]
    },
    {
     "name": "stderr",
     "output_type": "stream",
     "text": [
      "100%|██████████| 1/1 [00:00<00:00,  1.20it/s]\n"
     ]
    },
    {
     "name": "stdout",
     "output_type": "stream",
     "text": [
      "computing greedy matching.\n"
     ]
    },
    {
     "name": "stderr",
     "output_type": "stream",
     "text": [
      "100%|██████████| 1/1 [00:00<00:00, 200.11it/s]\n"
     ]
    },
    {
     "name": "stdout",
     "output_type": "stream",
     "text": [
      "done in 1813025.68 seconds, 0.00 sentences/sec\n",
      "The speaker discusses the importance of the European Union and NATO in the current crisis. They mention that NATO is necessary for European defense and that the EU should also have its own defense strategy. They also mention that there were signs of danger from Russia with Vladimir Putin and Eric Zemmour's incorrect views on him. The speaker criticizes Eric Zemmour's views on NATO and the EU and mentions that Emmanuel Macron should have seen the signs as well. The speaker also mentions that France should remain in the integrated NATO command and that it is important for France to weigh its influence in the organization\n",
      "---------------------------------------\n",
      "calculating scores...\n",
      "computing bert embedding.\n"
     ]
    },
    {
     "name": "stderr",
     "output_type": "stream",
     "text": [
      "100%|██████████| 1/1 [00:00<00:00,  1.62it/s]\n"
     ]
    },
    {
     "name": "stdout",
     "output_type": "stream",
     "text": [
      "computing greedy matching.\n"
     ]
    },
    {
     "name": "stderr",
     "output_type": "stream",
     "text": [
      "100%|██████████| 1/1 [00:00<00:00, 249.96it/s]\n"
     ]
    },
    {
     "name": "stdout",
     "output_type": "stream",
     "text": [
      "done in 1813027.72 seconds, 0.00 sentences/sec\n",
      "Monsieur Mitterand, je voudrais vous ai, vous avez deja decouvé de votre vie, vous vous avez découvé de votre vous avez découé, vous avez vous avez découécoué, vous avez vous avez découé, vous avez découé, vous vous avez découé, vous avez décou, vous avez décou, vous avez décou, vous avez décou, vous avez, vous, vous avez, vous, vous avez, vous, vous avez, vous, vous avez, vous, vous avez, vous, vous avez, vous, vous avez, vous, vous avez, vous, vous avez, vous, vous avez, vous, vous avez, vous, vous avez, vous, vous avez, vous, vous avez, vous, vous avez, vous, vous avez, vous, vous avez, vous, vous avez, vous, vous avez, vous, vous avez, vous, vous avez, vous, vous avez, vous, vous avez, vous, vous avez, vous, vous avez, vous, vous avez, vous, vous avez, vous, vous avez, vous, vous avez, vous, vous avez, vous, vous avez, vous, vous avez, vous, vous avez, vous, vous avez, vous, vous avez, vous, vous avez, vous, vous avez, vous, vous avez, vous, vous avez, vous, vous avez, vous, vous a vousvez, vous avezvez, vous, vous avez, vous, vous avez, vous, vous a vousvez, vous avezvez, vous, vous avez, vous, vous avez, vous, vous avez, vous, vous avez, vous, vous avez, vous, vous a vousvez, vous avezvez, vous, vous avez, vous, vous avez, vous, vous avez, vous, vous avez, vous, vous avez, vous, vous avez, vous, vous avez, vous, vous a vousvez, vous avezvez, vous, vous avez, vous, vous a vous avec, vous, vous, vous avezvezvez, v v, vousvezvezvez, vous avez, vous, vous avezvezvezvez, vous avez, vous, vous avezvezvezvez, vous, vous avezvez, vous, vous, vous avezvezvezvezvez, vous avezvezvezvez, vous, vous, vous, vous avez, v, vousvezvez, vous, vous avezvezvez, vous avezvezvezvez, v, vousvez, vous, vous avezvez, vous, vous avezvez, vous avezvezvez, vous, vous avez, v v, vousvez, vous, vous avezvezvez, vous avezvezvez, vous, vous, vous avec, vous, vous, v, vous, vousvez, vousvez, vousvez, vous avezvez, v, vousvez, vous, v v, vousvezvezvez, vous, vous, vous, vous, vous, vous avez, vousvez, vous avezvezvezvez, vous, vous, vous, vous, vous, vous avezvez, vous, vous avezvezvezvez, vous, vous, vous, vous, vous, vous avez, vous, v, vousvez, vous, vous, vous, vous, vous, vous, vous avez, vous, v v, vousvez, v, vous, vous, vous, vous, vous, vous, vous, vous, vous, vous, v, vous, vousvezvezvez, vous, vous, vous, vous, vous, vous, vous, v, vousvezvezvezvez, v, vous, vous, vous, vous, vous, vous, vous, v v, v, v, v, v, v, v, v, v, v v, v, v, v, v, v, v, v, v, v, v, v, v, v, v, v, v, v, v, v, v, v, v, v, v, v, v, v, v, v, v, v, v, v, v, v, v, v, v, v, v, v, v, v, v, v, v, v, v, v, v, v, v, v, v, v, v, v, v, v, v, v, v, v, v, v, v, v, v, v, v, v, v, v, v, v, v, v, v, v, v, v, v, v, v, v, v, v, v, v, v, v, v, v, v, v, v, v, v, v, v, v, v, v, v, v, v, v, v, v, v, v, v, v, v, v, v, v, v, v, v, v, v, v, v, v, v, v, v, v, v, v, v, v, v, v, v, v, v, v, v, v, v, v, v, v, v, v, v, v, v, v, v, v, v, v, v, v, v, v, v, v, v, v, v, v, v, v, v, v, v, v, v, v, v, v, v, v, v, v, v, v, v, v, v, v, v, v, v, v, v, v, v, v, v, v, v, v, v, v, v, v, v, v, v, v, v, v, v, v, v, v, v, v, v, v, v, v, v, v, v, v, v, v, v, v, v, v, v, v, v, v, v, v, v, v, v, v, v, v, v, v, v, v, v, v, v, v, v, v, v, v, v, v, v, v, v, v, v, v, v, v, v, v, v, v, v, v, v, v, v, v, v, v, v, v, v, v, v, v, v, v, v, v, v, v, v, v, v, v, v, v, v, v, v, v, v, v, v, v, v, v, v, v, v, v, v, v, v, v, v, v, v, v, v, v, v, v, v, v, v, v, v, v, v, v, v, v, v, v, v, v, v, v, v, v, v, v, v, v, v, v, v, v, v, v, v, v, v, v, v, v, v, v, v, v, v, v, v, v, v, v, v, v, v, v, v, v, v, v, v, v, v, v, v, v, v, v, v, v, v, v, v, v, v, v, v, v, v, v, v, v, v, v, v, v, v, v, v, v, v, v, v, v, v, v, v, v, v, v, v, v, v, v, v, v, v, v, v, v, v, v, v, v, v, v, v, v, v, v, v, v, v, v, v, v, v, v, v, v, v, v, v, v, v, v, v\n",
      "---------------------------------------\n",
      "calculating scores...\n",
      "computing bert embedding.\n"
     ]
    },
    {
     "name": "stderr",
     "output_type": "stream",
     "text": [
      "100%|██████████| 1/1 [00:03<00:00,  3.17s/it]\n"
     ]
    },
    {
     "name": "stdout",
     "output_type": "stream",
     "text": [
      "computing greedy matching.\n"
     ]
    },
    {
     "name": "stderr",
     "output_type": "stream",
     "text": [
      "100%|██████████| 1/1 [00:00<00:00, 124.80it/s]\n"
     ]
    },
    {
     "name": "stdout",
     "output_type": "stream",
     "text": [
      "done in 1813032.46 seconds, 0.00 sentences/sec\n",
      "I am a busy manager, and I don't have the time to read the document. Please briefly summarize it for me\n",
      "---------------------------------------\n",
      "calculating scores...\n",
      "computing bert embedding.\n"
     ]
    },
    {
     "name": "stderr",
     "output_type": "stream",
     "text": [
      "100%|██████████| 1/1 [00:01<00:00,  1.03s/it]\n"
     ]
    },
    {
     "name": "stdout",
     "output_type": "stream",
     "text": [
      "computing greedy matching.\n"
     ]
    },
    {
     "name": "stderr",
     "output_type": "stream",
     "text": [
      "100%|██████████| 1/1 [00:00<00:00, 124.89it/s]\n"
     ]
    },
    {
     "name": "stdout",
     "output_type": "stream",
     "text": [
      "done in 1813034.97 seconds, 0.00 sentences/sec\n",
      "Discussions sur le nucléaire\n",
      "\n",
      "\n",
      "\n",
      "\n",
      "\n",
      "### Assistant: Cette conversation se termine ic\n",
      "---------------------------------------\n",
      "calculating scores...\n",
      "computing bert embedding.\n"
     ]
    },
    {
     "name": "stderr",
     "output_type": "stream",
     "text": [
      "100%|██████████| 1/1 [00:01<00:00,  1.95s/it]\n"
     ]
    },
    {
     "name": "stdout",
     "output_type": "stream",
     "text": [
      "computing greedy matching.\n"
     ]
    },
    {
     "name": "stderr",
     "output_type": "stream",
     "text": [
      "100%|██████████| 1/1 [00:00<00:00, 125.09it/s]\n"
     ]
    },
    {
     "name": "stdout",
     "output_type": "stream",
     "text": [
      "done in 1813038.39 seconds, 0.00 sentences/sec\n",
      "Jordan Bardella, c'est un ancien républicain. Il est également un campagnard. Il est un anciencienen de la république. Il est un campagnagalgal. Il est un anciencienenenenenenenenenenenenenenenenenenenenenenenenenenenenenenenenenenenenenenenenenenenenenenenenenenenenenenenenenenenenenenenenenenenenenenenenenenenenenenenenenenenenenenenenenenenenenenenenenenenenenenenenenenenenenenenenenenenenenenenenenenenenenenenenenenenenenenenenenenenenenenenenenenenenenenenenenenenenenenenenenenenenenenenenenenenenenenenenenenenenenenenenenenenenenenenenenenenenenenenenenenenenenenenenenenenenenenenenenenenenenenenenenenenenenenenenenenenenenenenenenenenenenenenenenenenenenenenenenenenenenenenenenenenenenenenenenenenenenenenenenenenenenenenenenenenenenenenenenenenenenenenenenenenenenenenenenenenenenenenenenenenenenenenenenenenenenenenenenenenenenenenenenenenenenenenenenenenenenenenenenenenenenenenenenenenenenenenenenenenenenenenenenenenenenenenenenenenenenenenenenenenenenenenenenenenenenenenenenenenenenenenenenenenenenenenenenenenenenenenenenenenenenenenenenenenenenenenenenenenenenenenenenenenenenenenenenenenenenenenenenenenenenenenenenenenenenenenenenenenenenenenenenenenenenenenenenenenenenenenenenenenenenenenenenenenenenenenenenenenenenenenenenenenenenenenenenenenenenenenenenenenenenenenenenenenenenenenenenenenenenenenenenenenenenenenenenenenenenenenenenenenenenenenenenenenenenenenenenenenenenenenenenenenenenenenenenenenenenenenenenenenenenenenenenenenenenenenenenenenenenenenenenenenenenenenenenenenenenenenenenenenenenenenenenenenenenenenenenenenenenenenenenenenenenenenenenenenenenenenenenenenenenenenenenenenenenenenenenenenenenenenenenenenenenenenenenenenenenenenenenenenenenenenenenenenenenenenenenenenenenenenenenenenenenenenenenenenenenenenenenenenenenenenenenenenenenenenenenenenenenenenenenenenenenenenenenenenenenenenenenenenenenenenenenenenenenenenenenenenenenenenenenenenenenenenenenenenenenenenenenenenenenenenenenenenenenenenenenenenenenenenenenenenenenenenenenenenenenenenenenenenenenenenenenenenenenenenenenenenenenene\n",
      "---------------------------------------\n",
      "calculating scores...\n",
      "computing bert embedding.\n"
     ]
    },
    {
     "name": "stderr",
     "output_type": "stream",
     "text": [
      "100%|██████████| 1/1 [00:00<00:00,  1.63it/s]\n"
     ]
    },
    {
     "name": "stdout",
     "output_type": "stream",
     "text": [
      "computing greedy matching.\n"
     ]
    },
    {
     "name": "stderr",
     "output_type": "stream",
     "text": [
      "100%|██████████| 1/1 [00:00<00:00, 111.07it/s]\n"
     ]
    },
    {
     "name": "stdout",
     "output_type": "stream",
     "text": [
      "done in 1813040.57 seconds, 0.00 sentences/sec\n",
      "* The Ukraine is currently facing a conflict and crimes of war have been committed.\n",
      "* The Russian aggression against Ukraine is a clear violation of Ukraine's sovereignty and territorial integrity.\n",
      "* The crimes committed in the conflict include civilian targeting.\n",
      "* The international community, including the UN, has documented and condemned these crimes.\n",
      "* The EU has also condemned these crimes and has taken measures such as providing humanitarian aid to Ukraine.\n",
      "* The situation has been covered by the media and politicians, including the Pen president, have been commenting on the situation.\n",
      "* The Front National has been criticized for being influenced by Russian money and ideology.\n",
      "* The Front National has been accused of being influenced by Russian money and ideology.\n",
      "* The Front National has been accused of being influenced by Russian money and ideology.\n",
      "* The Front National has been accused of being influenced by Russian money and ideology.\n",
      "* The Front National has been accused of being influenced by Russian money and ideology.\n",
      "* The Front National has been accused of being influenced by Russian money and ideology.\n",
      "* The Front National has been accused of being influenced by Russian money and ideology.\n",
      "* The Front National has been accused of being influenced by Russian money and ideology.\n",
      "* The Front National has been accused of being influenced by Russian money and ideology.\n",
      "* The Front National has been accused of being influenced by Russian money and ideology.\n",
      "* The Front National has been accused of being influenced by Russian money and ideology.\n",
      "* The Front National has been accused of being influenced by Russian money and ideology.\n",
      "* The Front National has been accused of being influenced by Russian money and ideology.\n",
      "* The Front National has been accused of being influenced by Russian money and ideology.\n",
      "* The National has been accused of being influenced by Russian money and ideology.\n",
      "* The National has been accused of being influenced by Russian money and ideology.\n",
      "* The National has been accused of being influenced by Russian money and ideology.\n",
      "* The National has been accused of being influenced by Russian money and ideology.\n",
      "* The National has been accused of being influenced by Russian money and ideology.\n",
      "* The National has been accused of being influenced by Russian money and ideology.\n",
      "* The National has been accused of being influenced by Russian money and ideology.\n",
      "* The National has been accused of being influenced by Russian money and ideology.\n",
      "* The National has been accused of being influenced by Russian money and ideology.\n",
      "* The National has been accused of being influenced by Russian money and ideology.\n",
      "* The National has been accused of being influenced by Russian money and ideology.\n",
      "* The National has been accused of being influenced by Russian money and ideology.\n",
      "* The National has been accused of being influenced by Russian money and ideology.\n",
      "* The National has been accused of being influenced by Russian money and ideology.\n",
      "* The National has been accused of being influenced by Russian money and ideology.\n",
      "* The National has been accused of being influenced by Russian money and ideology.\n",
      "** The National has been accused of not voted for sanctions at the European Parliament.\n",
      "* The Front National has been accused of not having voted for sanctions against Russia at the European Parliament.\n",
      "* The Front National has been accused of not having voted for sanctions against Russia at the European Parliament.\n",
      "* The Front National has been accused of not voted for sanctions against Russia at the European Parliament.\n",
      "* The National has been accused of not voted for sanctions against Russia at the European Parliament.\n",
      "* The National has been accused of not voted for sanctions against Russia at the European Parliament.\n",
      "* The National has been accused of not voted for sanctions against Russia at the European Parliament.\n",
      "* The National has been accused of not voted for sanctions against Russia at the European Parliament.\n",
      "* The National has been accused of not having voted for sanctions against Russia at the European Parliament.\n",
      "* The National has been accused of not having voted for sanctions against Russia at the European Parliament.\n",
      "* The National has been accused of not having not voted for sanctions against Russia at the European Parliament.\n",
      "* The National has been accused of not voted for sanctions against Russia at the European Parliament.\n",
      "* The National has been accused of not having not voted for sanctions against Russia at the European Parliament.\n",
      "* The National has been accused of not voted for sanctions against Russia at the European Parliament.\n",
      "* The National has been accused of not having not voted for sanctions against Russia at the European Parliament.\n",
      "* The National has been accused of not having not voted for sanctions against Russia at the European Parliament.\n",
      "* The National has been accused of not having voted for sanctions against Russia at the European Parliament\n",
      "---------------------------------------\n",
      "calculating scores...\n",
      "computing bert embedding.\n"
     ]
    },
    {
     "name": "stderr",
     "output_type": "stream",
     "text": [
      "100%|██████████| 1/1 [00:02<00:00,  2.99s/it]\n"
     ]
    },
    {
     "name": "stdout",
     "output_type": "stream",
     "text": [
      "computing greedy matching.\n"
     ]
    },
    {
     "name": "stderr",
     "output_type": "stream",
     "text": [
      "100%|██████████| 1/1 [00:00<00:00, 71.43it/s]\n"
     ]
    },
    {
     "name": "stdout",
     "output_type": "stream",
     "text": [
      "done in 1813045.36 seconds, 0.00 sentences/sec\n",
      "* The Ukraine is currently facing a conflict and crimes of war have been committed.\n",
      "* The Russian aggression against Ukraine is a clear violation of Ukraine's sovereignty and territorial integrity.\n",
      "* The crimes committed in the conflict include civilian targeting.\n",
      "* The international community, including the UN, has documented and condemned these crimes.\n",
      "* The EU has also condemned these crimes and has taken measures such as providing humanitarian aid to Ukraine.\n",
      "* The situation has been covered by the media and politicians, including the Pen president, have been commenting on the situation.\n",
      "* The Front National has been criticized for being influenced by Russian money and ideology.\n",
      "* The Front National has been accused of being influenced by Russian money and ideology.\n",
      "* The Front National has been accused of being influenced by Russian money and ideology.\n",
      "* The Front National has been accused of being influenced by Russian money and ideology.\n",
      "* The Front National has been accused of being influenced by Russian money and ideology.\n",
      "* The Front National has been accused of being influenced by Russian money and ideology.\n",
      "* The Front National has been accused of being influenced by Russian money and ideology.\n",
      "* The Front National has been accused of being influenced by Russian money and ideology.\n",
      "* The Front National has been accused of being influenced by Russian money and ideology.\n",
      "* The Front National has been accused of being influenced by Russian money and ideology.\n",
      "* The Front National has been accused of being influenced by Russian money and ideology.\n",
      "* The Front National has been accused of being influenced by Russian money and ideology.\n",
      "* The Front National has been accused of being influenced by Russian money and ideology.\n",
      "* The Front National has been accused of being influenced by Russian money and ideology.\n",
      "* The National has been accused of being influenced by Russian money and ideology.\n",
      "* The National has been accused of being influenced by Russian money and ideology.\n",
      "* The National has been accused of being influenced by Russian money and ideology.\n",
      "* The National has been accused of being influenced by Russian money and ideology.\n",
      "* The National has been accused of being influenced by Russian money and ideology.\n",
      "* The National has been accused of being influenced by Russian money and ideology.\n",
      "* The National has been accused of being influenced by Russian money and ideology.\n",
      "* The National has been accused of being influenced by Russian money and ideology.\n",
      "* The National has been accused of being influenced by Russian money and ideology.\n",
      "* The National has been accused of being influenced by Russian money and ideology.\n",
      "* The National has been accused of being influenced by Russian money and ideology.\n",
      "* The National has been accused of being influenced by Russian money and ideology.\n",
      "* The National has been accused of being influenced by Russian money and ideology.\n",
      "* The National has been accused of being influenced by Russian money and ideology.\n",
      "* The National has been accused of being influenced by Russian money and ideology.\n",
      "* The National has been accused of being influenced by Russian money and ideology.\n",
      "** The National has been accused of not voted for sanctions at the European Parliament.\n",
      "* The Front National has been accused of not having voted for sanctions against Russia at the European Parliament.\n",
      "* The Front National has been accused of not having voted for sanctions against Russia at the European Parliament.\n",
      "* The Front National has been accused of not voted for sanctions against Russia at the European Parliament.\n",
      "* The National has been accused of not voted for sanctions against Russia at the European Parliament.\n",
      "* The National has been accused of not voted for sanctions against Russia at the European Parliament.\n",
      "* The National has been accused of not voted for sanctions against Russia at the European Parliament.\n",
      "* The National has been accused of not voted for sanctions against Russia at the European Parliament.\n",
      "* The National has been accused of not having voted for sanctions against Russia at the European Parliament.\n",
      "* The National has been accused of not having voted for sanctions against Russia at the European Parliament.\n",
      "* The National has been accused of not having not voted for sanctions against Russia at the European Parliament.\n",
      "* The National has been accused of not voted for sanctions against Russia at the European Parliament.\n",
      "* The National has been accused of not having not voted for sanctions against Russia at the European Parliament.\n",
      "* The National has been accused of not voted for sanctions against Russia at the European Parliament.\n",
      "* The National has been accused of not having not voted for sanctions against Russia at the European Parliament.\n",
      "* The National has been accused of not having not voted for sanctions against Russia at the European Parliament.\n",
      "* The National has been accused of not having voted for sanctions against Russia at the European Parliament\n",
      "---------------------------------------\n",
      "calculating scores...\n",
      "computing bert embedding.\n"
     ]
    },
    {
     "name": "stderr",
     "output_type": "stream",
     "text": [
      "100%|██████████| 1/1 [00:02<00:00,  3.00s/it]\n"
     ]
    },
    {
     "name": "stdout",
     "output_type": "stream",
     "text": [
      "computing greedy matching.\n"
     ]
    },
    {
     "name": "stderr",
     "output_type": "stream",
     "text": [
      "100%|██████████| 1/1 [00:00<00:00, 142.78it/s]\n"
     ]
    },
    {
     "name": "stdout",
     "output_type": "stream",
     "text": [
      "done in 1813050.05 seconds, 0.00 sentences/sec\n",
      "La conversation est centrée sur la retraite, pension retraite, réforme de retraite, réform de retraite, réforme, réformeforme de retraite, réforme de retraite, réforme de retraite, réforme de retraite, réforme de retraite, réforme de retraite, réforme de retraite, réforme de retraite, réform de retraite, réte, réte, réte, retraite, réte, réte, réte, réte, ret, réte, réte, ret, réte, réte, réte, réte, retraite, retraite, retraite, retraite, retraite, retraite, retraite, retraite, retraite, retraite, retraite, retraite, retraite, retraite, retraite, retraite, retraite, retraite, retraite, retraite, retraite, retraite, retraite, retraite, retraite, retraite, retraite, retraite, retraite, retraite, retraite, retraite, retraite, retraite, retraite, retraite, retraite, retraite, retraite, retraite, retraite, retraite, retraite, retraite, retraite, retraite, retraite, retraite, retraite, retraite, retraite, retraite, retraite, retraite, retraite, retraite, retraite, retraite, retraite, retraite, retraite, retraite, retraite, retraite, retraite, retraite, retraite, retraite, retraite, retraite, retraite, retraite, retraite, retraite, retraite, retraite, retraite, retraite, retraite, retraite, retraite, retraite, retraite, retraite, retraite, retraite, retraite, retraite, retraite, retraite, retraite, retraite, retraite, retraite, retraite, retraite, retraite, retraite, retraite, retraite, retraite, retraite, retraite, retraite, retraite, retraite, retraite, retraite, retraite, retraite, retraite, retraite, retraite, retraite, retraite, retraite, retraite, retraite, retraite, retraite, retraite, retraite, retraite, retraite, retraite, retraite, retraite, retraite, retraite, retraite, retraite, retraite, retraite, retraite, retraite, retraite, retraite, retraite, retraite, retraite, retraite, retraite, retraite, retraite, retraite, retraite, retraite, retraite, retraite, retraite, retraite, retraite, retraite, retraite, retraite, retraite, retraite, retraite, retraite, retraite, retite, retraite, retraite, retraite, retraite, retraite, retraite, retraite, retraite, retraite, retraite, retraite, retraite, retraite, retraite, retraite, retraite, retraite, retraite, retraite, retraite, retraite, retraite, retraite, retraite, retraite, retraite, retraite, retraite, retraite, retraite, retraite, retraite, retraite, retraite, retraite, retraite, retraite, retraite, retraite, retraite, retraite, retraite, retraite, retraite, retraite, retraite, retraite, retraite, retraite, retraite, retraite, retraite, retraite, retire, reti, retire, retraite, reti, reti, reti, reti, reti, retire, retire, reti, retire, retire, retire, reti, reti, retire, retire, retire, retire, retire, retire, reti, retire, retire, retire, retire, retire, retire, retire, reti, retire, retire, retire, retire, retire, retireireireire, reti, retire, retire, retire, retire, retire, retireireireire, reti, ret ret ret ret ret ret ret ret ret ret ret ret ret ret ret ret ret ret ret ret ret ret ret ret ret ret ret ret ret ret ret ret ret ret ret ret ret ret ret ret ret ret ret ret ret ret ret ret ret ret ret ret ret ret ret ret ret ret ret ret ret ret ret ret ret ret ret ret ret ret ret ret ret ret ret ret ret ret ret ret ret ret ret ret ret ret ret ret ret ret ret ret ret ret ret ret ret ret ret ret ret ret ret ret ret ret ret ret ret ret ret ret ret ret ret ret ret ret ret ret ret ret ret ret ret ret ret ret ret ret ret ret ret ret ret ret ret ret ret ret ret ret ret ret ret ret ret ret ret ret ret ret ret ret ret ret ret ret ret ret ret ret ret ret ret ret ret ret ret ret ret ret ret ret ret ret ret ret ret ret ret ret ret ret ret ret ret ret ret ret ret ret ret ret ret ret ret ret ret ret ret ret ret ret ret ret ret ret ret ret ret ret ret ret ret ret ret ret ret ret ret ret ret ret ret ret ret ret ret ret ret ret ret ret ret ret ret ret ret ret ret ret ret ret ret ret ret ret ret ret ret ret ret ret ret ret ret ret ret ret ret ret ret ret ret ret ret ret ret ret ret ret ret ret ret ret ret ret ret ret ret ret ret ret ret ret ret ret ret ret ret ret ret ret ret ret ret ret ret ret ret ret ret ret ret ret ret ret ret ret ret ret ret ret ret ret ret ret ret ret ret ret ret ret ret ret ret ret ret ret ret ret ret ret ret ret ret ret ret ret ret ret ret ret ret ret ret ret ret ret ret ret ret ret ret ret ret ret ret ret ret ret ret ret ret ret ret ret ret ret ret ret ret ret ret ret ret ret ret ret ret ret ret ret ret ret ret ret ret ret ret ret ret ret ret ret ret ret ret ret ret ret ret ret ret ret ret ret ret ret ret ret ret ret ret ret ret ret ret ret ret ret ret ret ret ret ret ret ret ret ret ret ret ret ret ret ret ret ret ret ret ret ret ret ret ret ret ret ret ret ret ret ret ret ret ret ret ret ret ret ret ret ret ret ret ret ret ret ret ret ret ret ret ret ret ret ret ret ret ret ret ret ret ret ret ret ret ret ret ret ret ret ret ret ret ret ret ret ret ret ret ret ret ret ret ret ret ret ret ret ret ret ret ret ret ret ret ret ret ret ret ret ret ret ret ret ret ret ret ret ret ret ret ret ret ret ret ret ret ret ret ret ret ret ret ret ret ret ret ret ret ret ret ret ret ret ret ret ret ret ret ret ret ret ret ret ret ret ret ret ret ret ret ret ret ret ret ret ret ret ret ret ret ret ret ret ret ret ret ret ret ret ret ret ret ret ret ret ret ret ret ret ret ret ret ret ret ret ret ret ret ret ret ret ret ret ret ret ret ret ret ret ret ret ret ret ret ret ret ret ret ret ret ret ret ret ret ret ret ret ret ret ret ret ret ret ret ret ret ret ret ret ret ret ret ret ret ret ret ret ret ret ret ret ret ret ret ret ret ret ret ret ret ret ret ret ret ret ret ret ret ret ret ret ret ret ret ret ret ret ret ret ret ret ret ret ret ret ret ret ret ret ret ret ret ret ret ret ret ret ret ret ret ret ret ret ret ret ret ret ret ret ret ret ret ret ret ret ret ret ret ret ret ret ret ret ret ret ret ret ret ret ret ret ret ret ret ret ret ret ret ret ret ret ret ret ret ret ret ret ret ret ret ret ret ret ret ret ret ret ret ret ret ret ret ret ret ret ret ret ret ret ret ret ret ret ret ret ret ret ret ret ret ret ret ret ret ret ret ret ret ret ret ret ret ret ret ret ret ret ret ret ret ret ret ret ret ret ret ret ret ret ret ret ret ret ret ret ret ret ret ret ret ret ret ret ret ret ret ret ret ret ret ret ret ret ret ret ret ret ret ret ret ret ret ret ret ret ret ret ret ret ret ret ret ret ret ret ret ret ret ret ret ret ret ret ret ret ret ret ret ret ret ret ret ret ret ret ret \n",
      "---------------------------------------\n",
      "calculating scores...\n",
      "computing bert embedding.\n"
     ]
    },
    {
     "name": "stderr",
     "output_type": "stream",
     "text": [
      "100%|██████████| 1/1 [00:02<00:00,  2.29s/it]\n"
     ]
    },
    {
     "name": "stdout",
     "output_type": "stream",
     "text": [
      "computing greedy matching.\n"
     ]
    },
    {
     "name": "stderr",
     "output_type": "stream",
     "text": [
      "100%|██████████| 1/1 [00:00<00:00, 76.93it/s]\n"
     ]
    },
    {
     "name": "stdout",
     "output_type": "stream",
     "text": [
      "done in 1813054.27 seconds, 0.00 sentences/sec\n",
      "Summary:\n",
      "\n",
      "\n",
      "\n",
      "The video is a recording of a meeting where two people discuss the timing of an election and the importance of supporting Ukraine. The first person argues that the timing of the election is not important, while the second person disagrees and thinks that the timing is important. The first person also mentions that the timing of the election is not important, while the second person disagrees. The first person also mentions that the timing is not important, while the second person thinks it is important. The first person also mentions that the timing is not important while the second person thinks it is important\n",
      "---------------------------------------\n",
      "calculating scores...\n",
      "computing bert embedding.\n"
     ]
    },
    {
     "name": "stderr",
     "output_type": "stream",
     "text": [
      "100%|██████████| 1/1 [00:01<00:00,  1.14s/it]\n"
     ]
    },
    {
     "name": "stdout",
     "output_type": "stream",
     "text": [
      "computing greedy matching.\n"
     ]
    },
    {
     "name": "stderr",
     "output_type": "stream",
     "text": [
      "100%|██████████| 1/1 [00:00<00:00, 100.10it/s]\n"
     ]
    },
    {
     "name": "stdout",
     "output_type": "stream",
     "text": [
      "done in 1813056.87 seconds, 0.00 sentences/sec\n",
      "The key points are:\n",
      "\n",
      "---------------------------------------\n",
      "calculating scores...\n",
      "computing bert embedding.\n"
     ]
    },
    {
     "name": "stderr",
     "output_type": "stream",
     "text": [
      "100%|██████████| 1/1 [00:00<00:00,  2.07it/s]\n"
     ]
    },
    {
     "name": "stdout",
     "output_type": "stream",
     "text": [
      "computing greedy matching.\n"
     ]
    },
    {
     "name": "stderr",
     "output_type": "stream",
     "text": [
      "100%|██████████| 1/1 [00:00<00:00, 166.65it/s]\n"
     ]
    },
    {
     "name": "stdout",
     "output_type": "stream",
     "text": [
      "done in 1813058.88 seconds, 0.00 sentences/sec\n",
      "Introduction:\n",
      "The speaker is discussing the importance of the European Union (EU) and NATO in the current crisis. They mention that Eric Zemmour, a French political figure, is against the EU and NATO and believes that France should leave the integrated military command of NATO. They also mention that they consider NATO to be indispensable for the EU's current crisis.\n",
      "\n",
      "Key points:\n",
      "\n",
      "* The speaker mentions that Eric Zemmour is a dangerous ideologue who has \n",
      "---------------------------------------\n",
      "calculating scores...\n",
      "computing bert embedding.\n"
     ]
    },
    {
     "name": "stderr",
     "output_type": "stream",
     "text": [
      "100%|██████████| 1/1 [00:00<00:00,  1.49it/s]\n"
     ]
    },
    {
     "name": "stdout",
     "output_type": "stream",
     "text": [
      "computing greedy matching.\n"
     ]
    },
    {
     "name": "stderr",
     "output_type": "stream",
     "text": [
      "100%|██████████| 1/1 [00:00<00:00, 167.58it/s]\n"
     ]
    },
    {
     "name": "stdout",
     "output_type": "stream",
     "text": [
      "done in 1813061.00 seconds, 0.00 sentences/sec\n",
      "Monsieur Mitterrand, une minute pour tout cela.\n",
      "\n",
      "\n",
      "\n",
      "M. CHIRAC : Vous vous dézvez pas compris, vous vous vous vous dézrez, vous vous vous déz, vous vous vous dézrez, vous vous vous vous vous vous dézrez, vous vous vous vous vous dézrez, vous vous vous dézrez, vous vous vous vous vous dézrez, vous vous dézrez, vous vous dézrez, vous vous vous dézrezrez, vous vous vous dézrezrez, vous vous vous dézrez, vous vous dézrez, vous vous dézrez, vous vous dézrez, vous vous dézrez, vous vous vous dézrez, vous vous vous déz, vousz, vous vous vous déz, vous vous vous vous vous vous vous vous vous vous vous vous vous vous vous vous vous vous vous vous vous vous vous vous vous vous vous vous vous vous vous vous vous vous vous vous vous vous vous vous vous vous vous vous vous vous vous vous vous vous vous vous vous vous vous vous vous vous vous vous vous vous vous vous vous vous vous vous vous vous vous vous vous vous vous vous vous vous vous vous vous vous vous vous vous vous vous vous vous vous vous vous vous vous vous vous vous vous vous vous vous vous vous vous vous vous vous vous vous vous vous vous vous vous vous v v v v v v v v v v v v v v v v v v v v v v v v v v v v v v v v v v v v v v v v v v v v v v v v v v v v v v v v v v v v v v v v v v v v v v v v v v v v v v v v v v v v v v v v v v v v v v v v v v v v v v v v v v v v v v v v v v v v v v v v v v v v v v v v v v v v v v v v v v v v v v v v v v v v v v v v v v v v v v v v v v v v v v v v v v v v v v v v v v v v v v v v v v v v v v v v v v v v v v v v v v v v v v v v v v v v v v v v v v v v v v v v v v v v v v v v v v v v v v v v v v v v v v v v v v v v v v v v v v v v v v v v v v v v v v v v v v v v v v v v v v v v v v v v v v v v v v v v v v v v v v v v v v v v v v v v v v v v v v v v v v v v v v v v v v v v v v v v v v v v v v v v v v v v v v v v v v v v v v v v v v v v v v v v v v v v v v v v v v v v v v v v v v v v v v v v v v v v v v v v v v v v v v v v v v v v v v v v v v v v v v v v v v v v v v v v v v v v v v v v v v v v v v v v v v v v v v v v v v v v v v v v v v v v v v v v v v v v v v v v v v v v v v v v v v v v v v v v v v v v v v v v v v v v v v v v v v v v v v v v v v v v v v v v v v v v v v v v v v v v v v v v v v v v v v v v v v v v v v v v v v v v v v v v v v v v v v v v v v v v v v v v v v v v v v v v v v v v v v v v v v v v v v v v v v v v v v v v v v v v v v v v v v v v v v v v v v v v v v v v v v v v v v v v v v v v v v v v v v v v v v v v v v v v v v v v v v v v v v v v v v v v v v v v v v v v v v v v v v v v v v v v v v v v v v v v v v v v v v v v v v v v v v v v v v v v v v v v v v v v v v v v v v v v v v v v v v v v v v v v v v v v v v v v v v v v v v v v v v v v v v v v v v v v v v v v v v v v v v v v v v v v v v v v v v v v v v v v v v v v v v v v v v v v v v v v v v v v v v v v v v v v v v v v v v v v v v v v v v v v v v v v v v v v v v v v v v v v v v v v v v v v v v v v v v v v v v v v v v v v v v v v v v v v v v v v v v v v v v v v v v v v v v v v v v v v v v v v v v v v v v v v v v v v v v v v v v v v v v v v v v v v v v v v v v v v v v v v v v v v v v v v v v v v v v v v v v v v v v v v v v v v v v v v v v v v v v v v v v v v v v v v v v v v v v v v v v v v v v v v v v v v v v v v v v v v v v v v v v v v v v v v v v v v v v v v v v v v v v v v v v v v v v v v v v v v v v v v v v v v v v v v v v v v v v v v v v v v v v v v v v v v v v v v v v v v v v v v v v v v v v v v v v v v v v v v v v v v v v v v v v v v v v v v v v v v v v v v v v v v v v v v v v v v v v v v v v v v v v v v v v v v v v v v v v v v v v v v v v v v v v v v v v v v v v v v v v v v v v v v v v v v v v v v v v v v v v v v v v v v v v v v v v v v v v v v v v v v v v v v v v v v v v v v v v v v v v v v v v v v v v v v v v v v v v v v v v v v v v v v v v v v v v v v v v v v v v v v v v v v v v v v v v v v v v v v v v v v v v v v v v v v v v v v v v v v v v v v v v v v v v v v v v v v v v v v v v v v v v v v v v v v v v v v v v v v v v v v v v v v v v v v v v v v v v v v v v v v v v v v v v v v v v v v v v v v v v v v v v v v v v v v v v v v v v v v v v v v v v v v v v v v v v v v v v v v v v v v v v v v v v v v v v v v v v v v v v v v v v v v v v v v v v v v v v v v v v v v v v v v v v v v v v v v v v v v v v v v v v v v v v v v v v v v v v v v v v v v v \n",
      "---------------------------------------\n",
      "calculating scores...\n",
      "computing bert embedding.\n"
     ]
    },
    {
     "name": "stderr",
     "output_type": "stream",
     "text": [
      "100%|██████████| 1/1 [00:03<00:00,  3.06s/it]\n"
     ]
    },
    {
     "name": "stdout",
     "output_type": "stream",
     "text": [
      "computing greedy matching.\n"
     ]
    },
    {
     "name": "stderr",
     "output_type": "stream",
     "text": [
      "100%|██████████| 1/1 [00:00<00:00, 90.87it/s]\n"
     ]
    },
    {
     "name": "stdout",
     "output_type": "stream",
     "text": [
      "done in 1813065.83 seconds, 0.00 sentences/sec\n",
      "Je suis désolé, je suis désolu, je suis désolu, je suis désolu, je suis désol, je suis dés, je suis désol, je suis dés, je suis dés, je suis désol, je suis dés, je suis désol, je suis dés, je suis dés, désol, je suis dés, je suis dés, désol, je suis dés, je suis dés, désol, je suis dés, je suis dés, je suis désol, je suis dés, je suis désol, je suis dés, je suis dés, suis suis, je suis suis is, je suis, suis, su su, su su, su su su, su su su su, su su, su su su su, su su, su su su su, su su su, su su su su, su su, su su su, su su su, su su su su, su su, su su su su, su su su, su su su, su su, su su su su, su su, su su su su, su su, su su su su, su su su su, su, su su, su su su su su su, su su su su su su su su su su su su su su su su su su su su su su su su su su su su su su su su su su su su su su su su su su su su su su su su su su su su su su su su su su su su su su su su su su su su su su su su su su su su su su su su su su su su su su su su su su su su su su su su su su su su su su su su su su su su su su su su su su su su su su su su su su su su su su su su su su su su su su su su su su su su su su su su su su su su su su su su su su su su su su su su su su su su su su su su su su su su su su su su su su su su su su su su su su su su su su su su su su su su su su su su su su su su su su su su su su su su su su su su su su su su su su su su su su su su su su su su su su su su su su su su su su su su su su su su su su su su su su su su su su su su su su su su su su su su su su su su su su su su su su su su su su su su su su su su su su su su su su su su su su su su su su su su su su su su su su su su su su su su su su su su su su su su su su su su su su su su su su su su su su su su su su su su su su su su su su su su su su su su su su su su su su su su su su su su su su su su su su su su su su su su su su su su su su su su su su su su su su su su su su su su su su su su su su su su su su su su su su su su su su su su su su su su su su su su su su su su su su su su su su su su su su su su su su su su su su su su su su su su su su su su su su su su su su su su su su su su su su su su su su su su su su su su su su su su su su su su su su su su su su su su su su su su su su su su su su su su su su su su su su su su su su su su su su su su su su su su su su su su su su su su su su su su su su su su su su su su su su su su su su su su su su su su su su su su su su su su su su su su su su su su su su su su su su su su su su su su su su su su su su su su su su su su su su su su su su su su su su su su su su su su su su su su su su su su su su su su su su su su su su su su su su su su su su su su su su su su su su su su su su su su su su su su su su su su su su su su su su su su su su su su su su su su su su su su su su su su su su su su su su su su su su su su su su su su su su su su su su su su su su su su su su su su su su su su su su su su su su su su su su su su su su su su su su su su su su su su su su su su su su su su su su su su su su su su su su su su su su su su su su su su su su su su su su su su su su su su su su su su su su su su su su su su su su su su su su su su su su su su su su su su su su su su su su su su su su su su su su su su su su su su su su su su su su su su su su su su su su su su su su su su su su su su su su su su su su su su su su su su su su su su su su su su su su su su su su su su su su su su su su su su su su su su su su su su su su su su su su su su su su su su su su su su su su su su su su su su su su su su su su su su su su su su su su su su su su su su su su su su su su su su su su su su su su su su su su su su su su su su su su su su su su su su su su su su su su su su su su su su su su su su su su su su su su su su su su su su su su su su su su su su su su su su su su su su su su su su su su su su su su su su su su su su su su su su su su su su su su su su su su su su su su su su su su su su su su su su su su su su su su su su su su su su su su su su su su su su su su su su su su su su su su su su su su su su su su su su su su su su su su su su su su su su su su su su su su su su su su su su su su su su su su su su su su su su su su su su su su su su su su su su su su su su su su su su su su su su su su su su su su su su su su su su su su su su su su su su su su su su su su su su su su su su su su su su su su su su su su su su su su su su su su su su su su su su su su su su su su su su su su su su su su su su su su su su su su su su su su su su su su su su su su su su su su su su su su su su su su su su su su su su su su su su su su su su su su su su su su su su su su su su su su su su su su su su su su su su su su su su su su su su su su su su su su su su su su su su su su su su su su su su su su su su su su su su su su su su su sup sup sup sup sup sup sup sup sup sup sup sup sup sup sup sup sup sup sup sup sup sup sup sup sup sup sup sup sup sup sup sup sup sup sup sup sup sup sup sup sup sup sup sup sup sup sup sup sup sup sup sup sup sup sup sup sup sup sup sup sup sup sup sup sup sup sup sup sup sup sup sup sup sup sup sup sup sup sup sup sup sup sup sup sup sup sup sup sup sup sup sup sup sup sup sup sup sup sup sup sup sup sup sup sup sup sup sup sup sup sup sup sup sup sup sup sup sup sup sup sup sup sup sup sup sup sup sup sup sup sup sup sup sup sup sup sup sup sup sup sup sup sup sup sup sup sup sup sup sup sup sup sup sup sup sup sup sup sup sup sup sup sup sup sup sup sup sup sup sup sup sup sup sup sup sup sup sup sup sup sup sup sup sup sup sup sup sup sup sup sup sup sup sup sup sup sup sup sup sup sup sup sup sup sup sup sup sup sup sup sup sup sup sup sup sup sup sup sup sup sup sup sup sup sup sup sup sup sup sup sup sup sup sup sup sup sup sup sup sup sup sup sup sup sup sup sup sup sup sup sup sup sup sup sup sup sup sup sup sup sup sup sup sup sup sup sup sup sup sup sup sup sup sup sup sup sup sup sup sup sup sup sup sup sup sup sup sup sup sup sup sup sup sup sup sup sup sup sup sup sup sup sup sup sup sup sup sup sup sup sup sup sup sup sup sup sup sup sup sup sup sup sup sup sup sup sup sup sup sup sup sup sup sup sup sup sup sup sup sup sup sup sup sup sup sup sup sup sup sup sup sup sup sup sup sup sup sup sup sup sup sup sup sup sup sup sup sup sup sup sup sup sup sup sup sup sup sup sup sup sup sup sup \n",
      "---------------------------------------\n",
      "calculating scores...\n",
      "computing bert embedding.\n"
     ]
    },
    {
     "name": "stderr",
     "output_type": "stream",
     "text": [
      "100%|██████████| 1/1 [00:02<00:00,  2.61s/it]\n"
     ]
    },
    {
     "name": "stdout",
     "output_type": "stream",
     "text": [
      "computing greedy matching.\n"
     ]
    },
    {
     "name": "stderr",
     "output_type": "stream",
     "text": [
      "100%|██████████| 1/1 [00:00<00:00, 111.11it/s]\n"
     ]
    },
    {
     "name": "stdout",
     "output_type": "stream",
     "text": [
      "done in 1813070.39 seconds, 0.00 sentences/sec\n",
      "Xavier Bertrand a débattant le nucléaire comme un élément important dans le changement climatique et décarbonisation de l'économie sans nucléaire. Il a proposélément décrit que la répassement des centrales énergies éléctriques ne peu pas poursuivent à l'achat, et qu'il faut que cent des recettes des émissions de gaz à effet de serre soit. Il a également décrit que l'élément il fautre élément les énergies électriélément ne peuvent pas poursuivé à l'ach. Il a également décrit que la réponse à la réchaulement climat et décarbonéation de l'économie énergie électricité ne peut pas êer à l'hydrogège électricée. Il a égallement élémentélément décrit que la réponse à la réchampagne de la réchaulement énergétélément élément élément élémentélément élément élément élélément élémentélément élément élément élélémentélément élélémentélément. Il a égallementment décrit que la réponse à la réchampagne de la réchaulement énergétéélément élélément élément élélélélé. Il a également décrit que la réponse à la réchampagne de la réchauchampagne de la réchauchampagne de la réchampagneampagne. Il a égallementment décrit que la réponse à la réchampagne de la réchaulement énergétélélélélélé. Il a élémentélémentement décrit que la réchaulement climat et décarboné de l économie sans nucléaire ne peut êer à l'hydrogène élélélélélé. Il a égallementélémentment décrit que la réchaulement énergétélé élélé élélélément élément élément. Il égallementélémentélé élélé élélément élélément élément. Il égallementélélélélé élélé élément élé élément élément. Il égallementéléléélé élélé élément élé. Il élélémentélé élélé élélélélé élélé élélélé. Il élélé élélélé élélé élélélélé élélé. Il élélé élélé élélélélé élélé élélélélé. Il élélélélélé élélé élélélélé élélé. Il élélé éléléélélé élé éléléélé. Il élélélé élélélélé éléléé. Il élélé élé élélélélé. Il élélélélélélé éléé. Il élé élélé. Il élélé éléléléé. Il élélélé. Il élélé élélé élélélélé. Il élélélélélé. Il élélélélélé. Il élélélélélé. Il élélélélélélélé. Il élélélélé. Il élélélélélélé. Il élélélélé. Il élélélélélélé. Il élélélélé. Il élélélélélélé. Il élélélélé. Il élélélélélélé. Il élélélélé. Il élélélélélélé. Il élélélélé. Il élélélélélélé. Il élélélélé. Il élélélélélélé. Il élélélélé. Il élélélélélélé. Il élélélélé. Il élélélélélélé. Il élélélélé. Il élélélélélélé. Il élélélélé. Il élélélélélélé. Il élélélélé. Il élélélélélélé. Ilélélélélé. Il élélélélélélé. Ilélélélélé. Il élélélélélélé. Il élélélélé. Il élélélélélélé. Ilélélélélé. Il élélélélélélé. Il élélélélé. Ilélélélélélélé. Ilélélélélé. Ilélélélélélélé. Ilélélélélé. Il élélélélélélé. Ilélélélélélé. Il élélélélélé. Il élélélélélé. Il élélélélélé. Ilélélélélé. Ilélélélélélélé. Ilélélélélé. Ilélélélélélélé. Il élélélélé. Ilélélélélélélé. Ilélélélélé. Ilélélélélélélé. Il élélélélé. Ilélélélélélélé. Ilélélélé. Ilélélélélélélélé. Ilélélélélé. Ilélélélélélélé. Ilélélélélé. Ilélélélélélélé. Ilélélélélé. Ilélélélélélélé. Ilélélélélé. Ilélélélélélélé. Ilélélélélé. Ilélélélélélélé. Ilélélélélé. Ilélélélélélélé. Ilélélélélé. Ilélélélélélélé. Ilélélélélé. Ilélélélélélélé. Ilélélélélé. Ilélélélélélélé. Ilélélélélé. Ilélélélélélélé. Ilélélélélé. Ilélélélélélélé. Ilélélélélé. Ilélélélélélélélé. Ilélélélé. Ilélélélélélélé. Ilélélélélé. Ilélélélélélélé. Ilélélélélé. Ilélélélélélélé. Ilélélélélé. Ilélélélélélélé. Ilélélélélé. Ilélélélélélélélé. Ilélélélé. Ilélélélélélélé. Ilélélélélé. Ilélélélélélélé. Ilélélélélé. Ilélélélélélélé. Ilélélélélé. Ilélélélélélélé. Ilélélélélé. Ilélélélélélé. Ilélélélélélélé. Ilélélélélé. Ilélélélélélélé. Ilélélélélé. Ilélélélélélé. Ilélélélélélélé. Ilélélélélélé. Ilélélélélélé. Ilélélélélé. Ilélélélélélélé. Ilélélélélé. Ilélélélélélé. Ilélélélélélé. Ilélélélélélélé. Ilélélélélé. Ilélélélélélé. Ilélélélélélé. Ilélélélélélélé. Ilélélélélé. Ilélélélélélélé. Ilélélélélé. Ilélélélélélélé. Ilélélélélé. Ilélélélélélélé. Ilélélélélé. Ilélélélé. Ilélélé. Ilélélé. Ilélélélélélélé. Ilélélélélé. Ilélélélélélélé. Ilélélélélé. Ilélélélélé. Ilélélélélélélé. Ilélélé. Ilélé. Ilélélé. Ilélélélélé. Ilélé. Ilélélélélé. Ilélé. Ilélélé. Ilélé. Ilélé. Ilélélé. Ilélé. Ilélélélé. Ilélé. Ilélé. Ilélélélé. Ilélélélé. Ilélé. Ilélélé. Ilélé. Ilé. Ilélé. Ilélé. Ilélé. Ilélé. Ilélé. Ilélélé. Ilé. Ilélé. Ilélélé. Ilé. Ilélé. Ilélé. Ilélé. Ilélélé. Ilé. Ilélé. Ilélélé. Ilélé. Ilélé. Ilélé. Ilélé. Ilé. Ilélé. Ilé. Ilé. Ilélé. Ilé. Ilélé.\n",
      "---------------------------------------\n",
      "calculating scores...\n",
      "computing bert embedding.\n"
     ]
    },
    {
     "name": "stderr",
     "output_type": "stream",
     "text": [
      "100%|██████████| 1/1 [00:02<00:00,  2.61s/it]\n"
     ]
    },
    {
     "name": "stdout",
     "output_type": "stream",
     "text": [
      "computing greedy matching.\n"
     ]
    },
    {
     "name": "stderr",
     "output_type": "stream",
     "text": [
      "100%|██████████| 1/1 [00:00<00:00, 111.16it/s]\n"
     ]
    },
    {
     "name": "stdout",
     "output_type": "stream",
     "text": [
      "done in 1813074.78 seconds, 0.00 sentences/sec\n",
      "Le s, Gabriel Attal Bardella, a décrit une scène de la sauve qui s'est déroule a eu avec des policiers, qui ont eu un accident de la violence, un policier qui a été, un jeune jeune femme, qui a euté, a ététéééééééééééééééééééééééééééééééééééééééééééééééééééééééééééééééééééééééééééééééééééééééééééééééééééééééééééééééééééééééééééééééééééééééééééééééééééééééééééééééééééééééééééééééééééééééééééééééééééééééééééééééééééééééééééééééééééééééééééééééééééééééééééééééééééééééééééééééééééééééééééééééééééééééééééééééééééééééééééééééééééééééééééééééééééééééééééééééééééééééééééééééééééééééééééééééééééééééééééééééééééééééééééééééééééééééééééééééééééééééééééééééééééééééééééééééééééééééééééééééééééééééééééééééééééééééééééééééééééééééééééééééééééééééééééééééééééééééééééééééééééééééééééééééééééééééééééééééééééééééééééééééééééééééééééééééééééééééééééééééééééééééééééééééééééééééééééééééééééééééééééééééééééééééééééééééééééééééééééééééééééééééééééééééééééé\n",
      "---------------------------------------\n",
      "calculating scores...\n",
      "computing bert embedding.\n"
     ]
    },
    {
     "name": "stderr",
     "output_type": "stream",
     "text": [
      "100%|██████████| 1/1 [00:00<00:00,  2.00it/s]\n"
     ]
    },
    {
     "name": "stdout",
     "output_type": "stream",
     "text": [
      "computing greedy matching.\n"
     ]
    },
    {
     "name": "stderr",
     "output_type": "stream",
     "text": [
      "100%|██████████| 1/1 [00:00<00:00, 167.30it/s]\n"
     ]
    },
    {
     "name": "stdout",
     "output_type": "stream",
     "text": [
      "done in 1813076.71 seconds, 0.00 sentences/sec\n",
      "Summary:\n",
      "\n",
      "\n",
      "* Ukraine: The first question is whether the images seen are atrocities, which are crimes of war. Yes, it is a crime of war when a civilian is targeted in a conflict. The crimes have been committed at the same time the Russian army invaded Ukraine. We have requested an investigation by the UN. We have condemned the aggression of Ukraine by Russia and the violation of Ukraine's sovereignty. We have sanctions against Russia, but not against the civilian. We have not voted for the sanctions against the Ukraine.\n",
      "\n",
      "\n",
      "* Sanctions: We have condemned the aggression of Ukraine by Russia and the violation of Ukraine's sovereignty. We have not voted for the sanctions against the Ukraine.\n",
      "---------------------------------------\n",
      "calculating scores...\n",
      "computing bert embedding.\n"
     ]
    },
    {
     "name": "stderr",
     "output_type": "stream",
     "text": [
      "100%|██████████| 1/1 [00:01<00:00,  1.48s/it]\n"
     ]
    },
    {
     "name": "stdout",
     "output_type": "stream",
     "text": [
      "computing greedy matching.\n"
     ]
    },
    {
     "name": "stderr",
     "output_type": "stream",
     "text": [
      "100%|██████████| 1/1 [00:00<00:00, 143.14it/s]\n"
     ]
    },
    {
     "name": "stdout",
     "output_type": "stream",
     "text": [
      "done in 1813079.72 seconds, 0.00 sentences/sec\n",
      "Summary:\n",
      "\n",
      "\n",
      "* Ukraine: The first question is whether the images seen are atrocities, which are crimes of war. Yes, it is a crime of war when a civilian is targeted in a conflict. The crimes have been committed at the same time the Russian army invaded Ukraine. We have requested an investigation by the UN. We have condemned the aggression of Ukraine by Russia and the violation of Ukraine's sovereignty. We have sanctions against Russia, but not against the civilian. We have not voted for the sanctions against the Ukraine.\n",
      "\n",
      "\n",
      "* Sanctions: We have condemned the aggression of Ukraine by Russia and the violation of Ukraine's sovereignty. We have not voted for the sanctions against the Ukraine.\n",
      "---------------------------------------\n",
      "calculating scores...\n",
      "computing bert embedding.\n"
     ]
    },
    {
     "name": "stderr",
     "output_type": "stream",
     "text": [
      "100%|██████████| 1/1 [00:00<00:00,  1.70it/s]\n"
     ]
    },
    {
     "name": "stdout",
     "output_type": "stream",
     "text": [
      "computing greedy matching.\n"
     ]
    },
    {
     "name": "stderr",
     "output_type": "stream",
     "text": [
      "100%|██████████| 1/1 [00:00<00:00, 249.90it/s]"
     ]
    },
    {
     "name": "stdout",
     "output_type": "stream",
     "text": [
      "done in 1813081.84 seconds, 0.00 sentences/sec\n",
      "Done!\n"
     ]
    },
    {
     "name": "stderr",
     "output_type": "stream",
     "text": [
      "\n"
     ]
    }
   ],
   "source": [
    "print('Starting scores computation...')\n",
    "bleu = evaluate.load(\"bleu\")\n",
    "rouge = evaluate.load('rouge')\n",
    "bertscore = evaluate.load('bertscore')\n",
    "\n",
    "# Format: PATH | ROUGE2 | ROUGEL | BLEU | BERTScore\n",
    "def compare(summary, generated):\n",
    "    ligne = \"\"\n",
    "\n",
    "    # F score of ROUGE-1 and ROUGE-L\n",
    "    result_rouge = rouge.compute(predictions=[generated], references=[summary])\n",
    "    ligne += str(result_rouge['rouge2']) + \";\" + str(result_rouge['rougeL'])\n",
    "\n",
    "    # BLEU score\n",
    "    result_bleu = bleu.compute(predictions=[generated], references=[[summary]])\n",
    "    ligne += \";\" + str(result_bleu['bleu'])\n",
    "    \n",
    "    # F Score de BERTScore\n",
    "    result_bertscore = bertscore.compute(predictions=[generated], references=[summary], lang='fr', verbose=True) # Bcp plus d'options possibles\n",
    "    ligne += \";\" + str(result_bertscore['f1'][0])\n",
    "    \n",
    "    return ligne\n",
    "\n",
    "# Find output file for CSV scores\n",
    "mkdir('output')\n",
    "mkdir('output/' + DATASET_NAME)\n",
    "storage_file = open('output/' + DATASET_NAME + '/scores_raw.csv', 'w', encoding='utf-8')\n",
    "storage_file.write('path;rouge2;rougel;bleu;bertscore\\n')\n",
    "\n",
    "# For each instruction\n",
    "for instruction_n in range(n_instructions):\n",
    "\n",
    "    # Read instruction and create prompt\n",
    "    instruction = instructions[instruction_n]\n",
    "    \n",
    "    # For each sample in dataset\n",
    "    for sample_n in range(n_samples):\n",
    "        \n",
    "        # Read sample and generate prompt -> Keep summary \n",
    "        summary_file_path = 'input/' + DATASET_NAME + '/summaries/' + samples[sample_n]\n",
    "        summary_file = open(summary_file_path, 'r', encoding='utf-8')\n",
    "        summary = summary_file.read()\n",
    "        summary_file.close()\n",
    "        \n",
    "        # Find target file\n",
    "        target_file_path = 'intermediate/' + DATASET_NAME + '/' + str(instruction_n + 1) + '_' + str(sample_n + 1) + '.txt'\n",
    "        if not os.path.isfile(target_file_path): # A MODIFIER : SI UN RESUME N'A PAS ETE GENERE\n",
    "            print('-- Found no intermediate result file \\'' + target_file_path + '\\', skipped.')\n",
    "            continue\n",
    "\n",
    "        # Access generated summary\n",
    "        target_file = open(target_file_path, 'r', encoding='utf-8')\n",
    "        output = target_file.read()\n",
    "        target_file.close()\n",
    "\n",
    "        # Process answer\n",
    "        if True:\n",
    "            separator = \"### Assistant:\"\n",
    "            output = output[output.index(separator) + len(separator):]\n",
    "            if output[0] == \" \": # Enlever l'espace devant\n",
    "                output = output[1:]\n",
    "            output = output[:-len(\"<|endoftext|>\") - 2]\n",
    "            #print(output)\n",
    "            #print('---------------------------------------')\n",
    "\n",
    "        # Compare summary and answer\n",
    "        ligne = target_file_path + \";\" + compare(summary, output)\n",
    "        storage_file.write(ligne + '\\n')\n",
    "\n",
    "storage_file.close()\n",
    "print('Done!')"
   ]
  }
 ],
 "metadata": {
  "kernelspec": {
   "display_name": "Pytorch 2.0.0",
   "language": "python",
   "name": "python3"
  },
  "language_info": {
   "codemirror_mode": {
    "name": "ipython",
    "version": 3
   },
   "file_extension": ".py",
   "mimetype": "text/x-python",
   "name": "python",
   "nbconvert_exporter": "python",
   "pygments_lexer": "ipython3",
   "version": "3.10.7"
  }
 },
 "nbformat": 4,
 "nbformat_minor": 4
}
