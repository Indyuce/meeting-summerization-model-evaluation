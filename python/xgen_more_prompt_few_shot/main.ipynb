{
 "cells": [
  {
   "cell_type": "markdown",
   "metadata": {},
   "source": [
    "# Dependences"
   ]
  },
  {
   "cell_type": "code",
   "execution_count": 1,
   "metadata": {
    "scrolled": true
   },
   "outputs": [
    {
     "name": "stdout",
     "output_type": "stream",
     "text": [
      "Collecting google-api-python-client\n",
      "  Downloading google_api_python_client-2.92.0-py2.py3-none-any.whl (11.4 MB)\n",
      "\u001b[2K     \u001b[90m━━━━━━━━━━━━━━━━━━━━━━━━━━━━━━━━━━━━━━━━\u001b[0m \u001b[32m11.4/11.4 MB\u001b[0m \u001b[31m47.9 MB/s\u001b[0m eta \u001b[36m0:00:00\u001b[0m00:01\u001b[0m0:01\u001b[0m\n",
      "\u001b[?25hCollecting httplib2<1.dev0,>=0.15.0 (from google-api-python-client)\n",
      "  Downloading httplib2-0.22.0-py3-none-any.whl (96 kB)\n",
      "\u001b[2K     \u001b[90m━━━━━━━━━━━━━━━━━━━━━━━━━━━━━━━━━━━━━━━━\u001b[0m \u001b[32m96.9/96.9 kB\u001b[0m \u001b[31m9.6 MB/s\u001b[0m eta \u001b[36m0:00:00\u001b[0m\n",
      "\u001b[?25hCollecting google-auth<3.0.0.dev0,>=1.19.0 (from google-api-python-client)\n",
      "  Downloading google_auth-2.21.0-py2.py3-none-any.whl (182 kB)\n",
      "\u001b[2K     \u001b[90m━━━━━━━━━━━━━━━━━━━━━━━━━━━━━━━━━━━━━━\u001b[0m \u001b[32m182.1/182.1 kB\u001b[0m \u001b[31m17.1 MB/s\u001b[0m eta \u001b[36m0:00:00\u001b[0m\n",
      "\u001b[?25hCollecting google-auth-httplib2>=0.1.0 (from google-api-python-client)\n",
      "  Downloading google_auth_httplib2-0.1.0-py2.py3-none-any.whl (9.3 kB)\n",
      "Collecting google-api-core!=2.0.*,!=2.1.*,!=2.2.*,!=2.3.0,<3.0.0.dev0,>=1.31.5 (from google-api-python-client)\n",
      "  Downloading google_api_core-2.11.1-py3-none-any.whl (120 kB)\n",
      "\u001b[2K     \u001b[90m━━━━━━━━━━━━━━━━━━━━━━━━━━━━━━━━━━━━━━\u001b[0m \u001b[32m120.5/120.5 kB\u001b[0m \u001b[31m11.0 MB/s\u001b[0m eta \u001b[36m0:00:00\u001b[0m\n",
      "\u001b[?25hCollecting uritemplate<5,>=3.0.1 (from google-api-python-client)\n",
      "  Downloading uritemplate-4.1.1-py2.py3-none-any.whl (10 kB)\n",
      "Collecting googleapis-common-protos<2.0.dev0,>=1.56.2 (from google-api-core!=2.0.*,!=2.1.*,!=2.2.*,!=2.3.0,<3.0.0.dev0,>=1.31.5->google-api-python-client)\n",
      "  Downloading googleapis_common_protos-1.59.1-py2.py3-none-any.whl (224 kB)\n",
      "\u001b[2K     \u001b[90m━━━━━━━━━━━━━━━━━━━━━━━━━━━━━━━━━━━━━━\u001b[0m \u001b[32m224.5/224.5 kB\u001b[0m \u001b[31m19.4 MB/s\u001b[0m eta \u001b[36m0:00:00\u001b[0m\n",
      "\u001b[?25hCollecting protobuf!=3.20.0,!=3.20.1,!=4.21.0,!=4.21.1,!=4.21.2,!=4.21.3,!=4.21.4,!=4.21.5,<5.0.0.dev0,>=3.19.5 (from google-api-core!=2.0.*,!=2.1.*,!=2.2.*,!=2.3.0,<3.0.0.dev0,>=1.31.5->google-api-python-client)\n",
      "  Downloading protobuf-4.23.4-cp37-abi3-manylinux2014_x86_64.whl (304 kB)\n",
      "\u001b[2K     \u001b[90m━━━━━━━━━━━━━━━━━━━━━━━━━━━━━━━━━━━━━━\u001b[0m \u001b[32m304.5/304.5 kB\u001b[0m \u001b[31m11.3 MB/s\u001b[0m eta \u001b[36m0:00:00\u001b[0m\n",
      "\u001b[?25hRequirement already satisfied: requests<3.0.0.dev0,>=2.18.0 in /workspace/.miniconda3/lib/python3.10/site-packages (from google-api-core!=2.0.*,!=2.1.*,!=2.2.*,!=2.3.0,<3.0.0.dev0,>=1.31.5->google-api-python-client) (2.28.1)\n",
      "Collecting cachetools<6.0,>=2.0.0 (from google-auth<3.0.0.dev0,>=1.19.0->google-api-python-client)\n",
      "  Downloading cachetools-5.3.1-py3-none-any.whl (9.3 kB)\n",
      "Collecting pyasn1-modules>=0.2.1 (from google-auth<3.0.0.dev0,>=1.19.0->google-api-python-client)\n",
      "  Downloading pyasn1_modules-0.3.0-py2.py3-none-any.whl (181 kB)\n",
      "\u001b[2K     \u001b[90m━━━━━━━━━━━━━━━━━━━━━━━━━━━━━━━━━━━━━━\u001b[0m \u001b[32m181.3/181.3 kB\u001b[0m \u001b[31m16.8 MB/s\u001b[0m eta \u001b[36m0:00:00\u001b[0m\n",
      "\u001b[?25hCollecting rsa<5,>=3.1.4 (from google-auth<3.0.0.dev0,>=1.19.0->google-api-python-client)\n",
      "  Downloading rsa-4.9-py3-none-any.whl (34 kB)\n",
      "Requirement already satisfied: six>=1.9.0 in /workspace/.miniconda3/lib/python3.10/site-packages (from google-auth<3.0.0.dev0,>=1.19.0->google-api-python-client) (1.16.0)\n",
      "Requirement already satisfied: urllib3<2.0 in /workspace/.miniconda3/lib/python3.10/site-packages (from google-auth<3.0.0.dev0,>=1.19.0->google-api-python-client) (1.26.13)\n",
      "Requirement already satisfied: pyparsing!=3.0.0,!=3.0.1,!=3.0.2,!=3.0.3,<4,>=2.4.2 in /workspace/.miniconda3/lib/python3.10/site-packages (from httplib2<1.dev0,>=0.15.0->google-api-python-client) (3.0.9)\n",
      "Collecting pyasn1<0.6.0,>=0.4.6 (from pyasn1-modules>=0.2.1->google-auth<3.0.0.dev0,>=1.19.0->google-api-python-client)\n",
      "  Downloading pyasn1-0.5.0-py2.py3-none-any.whl (83 kB)\n",
      "\u001b[2K     \u001b[90m━━━━━━━━━━━━━━━━━━━━━━━━━━━━━━━━━━━━━━━━\u001b[0m \u001b[32m83.9/83.9 kB\u001b[0m \u001b[31m8.4 MB/s\u001b[0m eta \u001b[36m0:00:00\u001b[0m\n",
      "\u001b[?25hRequirement already satisfied: charset-normalizer<3,>=2 in /workspace/.miniconda3/lib/python3.10/site-packages (from requests<3.0.0.dev0,>=2.18.0->google-api-core!=2.0.*,!=2.1.*,!=2.2.*,!=2.3.0,<3.0.0.dev0,>=1.31.5->google-api-python-client) (2.0.4)\n",
      "Requirement already satisfied: idna<4,>=2.5 in /workspace/.miniconda3/lib/python3.10/site-packages (from requests<3.0.0.dev0,>=2.18.0->google-api-core!=2.0.*,!=2.1.*,!=2.2.*,!=2.3.0,<3.0.0.dev0,>=1.31.5->google-api-python-client) (3.4)\n",
      "Requirement already satisfied: certifi>=2017.4.17 in /workspace/.miniconda3/lib/python3.10/site-packages (from requests<3.0.0.dev0,>=2.18.0->google-api-core!=2.0.*,!=2.1.*,!=2.2.*,!=2.3.0,<3.0.0.dev0,>=1.31.5->google-api-python-client) (2022.12.7)\n",
      "Installing collected packages: uritemplate, pyasn1, protobuf, httplib2, cachetools, rsa, pyasn1-modules, googleapis-common-protos, google-auth, google-auth-httplib2, google-api-core, google-api-python-client\n",
      "Successfully installed cachetools-5.3.1 google-api-core-2.11.1 google-api-python-client-2.92.0 google-auth-2.21.0 google-auth-httplib2-0.1.0 googleapis-common-protos-1.59.1 httplib2-0.22.0 protobuf-4.23.4 pyasn1-0.5.0 pyasn1-modules-0.3.0 rsa-4.9 uritemplate-4.1.1\n",
      "Collecting git+https://github.com/huggingface/transformers.git\n",
      "  Cloning https://github.com/huggingface/transformers.git to /tmp/pip-req-build-uaf34nd3\n",
      "  Running command git clone --filter=blob:none --quiet https://github.com/huggingface/transformers.git /tmp/pip-req-build-uaf34nd3\n",
      "  Resolved https://github.com/huggingface/transformers.git to commit 30ed3adf474aaf2972ab56f5624089bc24a6adf3\n",
      "  Installing build dependencies ... \u001b[?25ldone\n",
      "\u001b[?25h  Getting requirements to build wheel ... \u001b[?25ldone\n",
      "\u001b[?25h  Preparing metadata (pyproject.toml) ... \u001b[?25ldone\n",
      "\u001b[?25hRequirement already satisfied: filelock in /workspace/.miniconda3/lib/python3.10/site-packages (from transformers==4.31.0.dev0) (3.9.0)\n",
      "Collecting huggingface-hub<1.0,>=0.14.1 (from transformers==4.31.0.dev0)\n",
      "  Downloading huggingface_hub-0.16.4-py3-none-any.whl (268 kB)\n",
      "\u001b[2K     \u001b[90m━━━━━━━━━━━━━━━━━━━━━━━━━━━━━━━━━━━━━━━\u001b[0m \u001b[32m268.8/268.8 kB\u001b[0m \u001b[31m6.6 MB/s\u001b[0m eta \u001b[36m0:00:00\u001b[0m00:01\u001b[0m\n",
      "\u001b[?25hRequirement already satisfied: numpy>=1.17 in /workspace/.miniconda3/lib/python3.10/site-packages (from transformers==4.31.0.dev0) (1.24.1)\n",
      "Requirement already satisfied: packaging>=20.0 in /workspace/.miniconda3/lib/python3.10/site-packages (from transformers==4.31.0.dev0) (23.1)\n",
      "Collecting pyyaml>=5.1 (from transformers==4.31.0.dev0)\n",
      "  Downloading PyYAML-6.0-cp310-cp310-manylinux_2_5_x86_64.manylinux1_x86_64.manylinux_2_12_x86_64.manylinux2010_x86_64.whl (682 kB)\n",
      "\u001b[2K     \u001b[90m━━━━━━━━━━━━━━━━━━━━━━━━━━━━━━━━━━━━━━\u001b[0m \u001b[32m682.2/682.2 kB\u001b[0m \u001b[31m29.4 MB/s\u001b[0m eta \u001b[36m0:00:00\u001b[0m\n",
      "\u001b[?25hCollecting regex!=2019.12.17 (from transformers==4.31.0.dev0)\n",
      "  Downloading regex-2023.6.3-cp310-cp310-manylinux_2_17_x86_64.manylinux2014_x86_64.whl (770 kB)\n",
      "\u001b[2K     \u001b[90m━━━━━━━━━━━━━━━━━━━━━━━━━━━━━━━━━━━━━━\u001b[0m \u001b[32m770.4/770.4 kB\u001b[0m \u001b[31m15.5 MB/s\u001b[0m eta \u001b[36m0:00:00\u001b[0m00:01\u001b[0m\n",
      "\u001b[?25hRequirement already satisfied: requests in /workspace/.miniconda3/lib/python3.10/site-packages (from transformers==4.31.0.dev0) (2.28.1)\n",
      "Collecting tokenizers!=0.11.3,<0.14,>=0.11.1 (from transformers==4.31.0.dev0)\n",
      "  Downloading tokenizers-0.13.3-cp310-cp310-manylinux_2_17_x86_64.manylinux2014_x86_64.whl (7.8 MB)\n",
      "\u001b[2K     \u001b[90m━━━━━━━━━━━━━━━━━━━━━━━━━━━━━━━━━━━━━━━━\u001b[0m \u001b[32m7.8/7.8 MB\u001b[0m \u001b[31m59.6 MB/s\u001b[0m eta \u001b[36m0:00:00\u001b[0m00:01\u001b[0m00:01\u001b[0m\n",
      "\u001b[?25hCollecting safetensors>=0.3.1 (from transformers==4.31.0.dev0)\n",
      "  Downloading safetensors-0.3.1-cp310-cp310-manylinux_2_17_x86_64.manylinux2014_x86_64.whl (1.3 MB)\n",
      "\u001b[2K     \u001b[90m━━━━━━━━━━━━━━━━━━━━━━━━━━━━━━━━━━━━━━━━\u001b[0m \u001b[32m1.3/1.3 MB\u001b[0m \u001b[31m42.4 MB/s\u001b[0m eta \u001b[36m0:00:00\u001b[0m\n",
      "\u001b[?25hRequirement already satisfied: tqdm>=4.27 in /workspace/.miniconda3/lib/python3.10/site-packages (from transformers==4.31.0.dev0) (4.51.0)\n",
      "Collecting fsspec (from huggingface-hub<1.0,>=0.14.1->transformers==4.31.0.dev0)\n",
      "  Downloading fsspec-2023.6.0-py3-none-any.whl (163 kB)\n",
      "\u001b[2K     \u001b[90m━━━━━━━━━━━━━━━━━━━━━━━━━━━━━━━━━━━━━━\u001b[0m \u001b[32m163.8/163.8 kB\u001b[0m \u001b[31m16.8 MB/s\u001b[0m eta \u001b[36m0:00:00\u001b[0m\n",
      "\u001b[?25hRequirement already satisfied: typing-extensions>=3.7.4.3 in /workspace/.miniconda3/lib/python3.10/site-packages (from huggingface-hub<1.0,>=0.14.1->transformers==4.31.0.dev0) (4.4.0)\n",
      "Requirement already satisfied: charset-normalizer<3,>=2 in /workspace/.miniconda3/lib/python3.10/site-packages (from requests->transformers==4.31.0.dev0) (2.0.4)\n",
      "Requirement already satisfied: idna<4,>=2.5 in /workspace/.miniconda3/lib/python3.10/site-packages (from requests->transformers==4.31.0.dev0) (3.4)\n",
      "Requirement already satisfied: urllib3<1.27,>=1.21.1 in /workspace/.miniconda3/lib/python3.10/site-packages (from requests->transformers==4.31.0.dev0) (1.26.13)\n",
      "Requirement already satisfied: certifi>=2017.4.17 in /workspace/.miniconda3/lib/python3.10/site-packages (from requests->transformers==4.31.0.dev0) (2022.12.7)\n",
      "Building wheels for collected packages: transformers\n",
      "  Building wheel for transformers (pyproject.toml) ... \u001b[?25ldone\n",
      "\u001b[?25h  Created wheel for transformers: filename=transformers-4.31.0.dev0-py3-none-any.whl size=7308539 sha256=572e932b29f9d5a981fbb63006ea1a3b03ef2d0abaa21807b30de10eb726b3fd\n",
      "  Stored in directory: /tmp/pip-ephem-wheel-cache-mc0_du5j/wheels/e7/9c/5b/e1a9c8007c343041e61cc484433d512ea9274272e3fcbe7c16\n",
      "Successfully built transformers\n",
      "Installing collected packages: tokenizers, safetensors, regex, pyyaml, fsspec, huggingface-hub, transformers\n",
      "Successfully installed fsspec-2023.6.0 huggingface-hub-0.16.4 pyyaml-6.0 regex-2023.6.3 safetensors-0.3.1 tokenizers-0.13.3 transformers-4.31.0.dev0\n",
      "Collecting git+https://github.com/huggingface/accelerate.git\n",
      "  Cloning https://github.com/huggingface/accelerate.git to /tmp/pip-req-build-t6nc09mj\n",
      "  Running command git clone --filter=blob:none --quiet https://github.com/huggingface/accelerate.git /tmp/pip-req-build-t6nc09mj\n",
      "  Resolved https://github.com/huggingface/accelerate.git to commit 95bffdec4326acf6a5d1c3dbaa857a26502aa265\n",
      "  Installing build dependencies ... \u001b[?25ldone\n",
      "\u001b[?25h  Getting requirements to build wheel ... \u001b[?25ldone\n",
      "\u001b[?25h  Preparing metadata (pyproject.toml) ... \u001b[?25ldone\n",
      "\u001b[?25hRequirement already satisfied: numpy>=1.17 in /workspace/.miniconda3/lib/python3.10/site-packages (from accelerate==0.21.0.dev0) (1.24.1)\n",
      "Requirement already satisfied: packaging>=20.0 in /workspace/.miniconda3/lib/python3.10/site-packages (from accelerate==0.21.0.dev0) (23.1)\n",
      "Requirement already satisfied: psutil in /workspace/.miniconda3/lib/python3.10/site-packages (from accelerate==0.21.0.dev0) (5.9.5)\n",
      "Requirement already satisfied: pyyaml in /workspace/.miniconda3/lib/python3.10/site-packages (from accelerate==0.21.0.dev0) (6.0)\n",
      "Requirement already satisfied: torch>=1.10.0 in /workspace/.miniconda3/lib/python3.10/site-packages (from accelerate==0.21.0.dev0) (2.0.0+cu118)\n",
      "Requirement already satisfied: filelock in /workspace/.miniconda3/lib/python3.10/site-packages (from torch>=1.10.0->accelerate==0.21.0.dev0) (3.9.0)\n",
      "Requirement already satisfied: typing-extensions in /workspace/.miniconda3/lib/python3.10/site-packages (from torch>=1.10.0->accelerate==0.21.0.dev0) (4.4.0)\n",
      "Requirement already satisfied: sympy in /workspace/.miniconda3/lib/python3.10/site-packages (from torch>=1.10.0->accelerate==0.21.0.dev0) (1.11.1)\n",
      "Requirement already satisfied: networkx in /workspace/.miniconda3/lib/python3.10/site-packages (from torch>=1.10.0->accelerate==0.21.0.dev0) (3.0)\n",
      "Requirement already satisfied: jinja2 in /workspace/.miniconda3/lib/python3.10/site-packages (from torch>=1.10.0->accelerate==0.21.0.dev0) (3.1.2)\n",
      "Requirement already satisfied: triton==2.0.0 in /workspace/.miniconda3/lib/python3.10/site-packages (from torch>=1.10.0->accelerate==0.21.0.dev0) (2.0.0)\n",
      "Requirement already satisfied: cmake in /workspace/.miniconda3/lib/python3.10/site-packages (from triton==2.0.0->torch>=1.10.0->accelerate==0.21.0.dev0) (3.25.0)\n",
      "Requirement already satisfied: lit in /workspace/.miniconda3/lib/python3.10/site-packages (from triton==2.0.0->torch>=1.10.0->accelerate==0.21.0.dev0) (15.0.7)\n",
      "Requirement already satisfied: MarkupSafe>=2.0 in /workspace/.miniconda3/lib/python3.10/site-packages (from jinja2->torch>=1.10.0->accelerate==0.21.0.dev0) (2.1.2)\n",
      "Requirement already satisfied: mpmath>=0.19 in /workspace/.miniconda3/lib/python3.10/site-packages (from sympy->torch>=1.10.0->accelerate==0.21.0.dev0) (1.2.1)\n",
      "Building wheels for collected packages: accelerate\n",
      "  Building wheel for accelerate (pyproject.toml) ... \u001b[?25ldone\n",
      "\u001b[?25h  Created wheel for accelerate: filename=accelerate-0.21.0.dev0-py3-none-any.whl size=241741 sha256=6f54a2971974f8f9c7eb365719725e8a5d0357ab55bc1718cc51e01e959ee2b1\n",
      "  Stored in directory: /tmp/pip-ephem-wheel-cache-im_59kwc/wheels/9c/a3/1e/47368f9b6575655fe9ee1b6350cfa7d4b0befe66a35f8a8365\n",
      "Successfully built accelerate\n",
      "Installing collected packages: accelerate\n",
      "Successfully installed accelerate-0.21.0.dev0\n",
      "Collecting tiktoken\n",
      "  Downloading tiktoken-0.4.0-cp310-cp310-manylinux_2_17_x86_64.manylinux2014_x86_64.whl (1.7 MB)\n",
      "\u001b[2K     \u001b[90m━━━━━━━━━━━━━━━━━━━━━━━━━━━━━━━━━━━━━━━━\u001b[0m \u001b[32m1.7/1.7 MB\u001b[0m \u001b[31m16.8 MB/s\u001b[0m eta \u001b[36m0:00:00\u001b[0ma \u001b[36m0:00:01\u001b[0m\n",
      "\u001b[?25hRequirement already satisfied: regex>=2022.1.18 in /workspace/.miniconda3/lib/python3.10/site-packages (from tiktoken) (2023.6.3)\n",
      "Requirement already satisfied: requests>=2.26.0 in /workspace/.miniconda3/lib/python3.10/site-packages (from tiktoken) (2.28.1)\n",
      "Requirement already satisfied: charset-normalizer<3,>=2 in /workspace/.miniconda3/lib/python3.10/site-packages (from requests>=2.26.0->tiktoken) (2.0.4)\n",
      "Requirement already satisfied: idna<4,>=2.5 in /workspace/.miniconda3/lib/python3.10/site-packages (from requests>=2.26.0->tiktoken) (3.4)\n",
      "Requirement already satisfied: urllib3<1.27,>=1.21.1 in /workspace/.miniconda3/lib/python3.10/site-packages (from requests>=2.26.0->tiktoken) (1.26.13)\n",
      "Requirement already satisfied: certifi>=2017.4.17 in /workspace/.miniconda3/lib/python3.10/site-packages (from requests>=2.26.0->tiktoken) (2022.12.7)\n",
      "Installing collected packages: tiktoken\n",
      "Successfully installed tiktoken-0.4.0\n",
      "Requirement already satisfied: torch in /workspace/.miniconda3/lib/python3.10/site-packages (2.0.0+cu118)\n",
      "Requirement already satisfied: filelock in /workspace/.miniconda3/lib/python3.10/site-packages (from torch) (3.9.0)\n",
      "Requirement already satisfied: typing-extensions in /workspace/.miniconda3/lib/python3.10/site-packages (from torch) (4.4.0)\n",
      "Requirement already satisfied: sympy in /workspace/.miniconda3/lib/python3.10/site-packages (from torch) (1.11.1)\n",
      "Requirement already satisfied: networkx in /workspace/.miniconda3/lib/python3.10/site-packages (from torch) (3.0)\n",
      "Requirement already satisfied: jinja2 in /workspace/.miniconda3/lib/python3.10/site-packages (from torch) (3.1.2)\n",
      "Requirement already satisfied: triton==2.0.0 in /workspace/.miniconda3/lib/python3.10/site-packages (from torch) (2.0.0)\n",
      "Requirement already satisfied: cmake in /workspace/.miniconda3/lib/python3.10/site-packages (from triton==2.0.0->torch) (3.25.0)\n",
      "Requirement already satisfied: lit in /workspace/.miniconda3/lib/python3.10/site-packages (from triton==2.0.0->torch) (15.0.7)\n",
      "Requirement already satisfied: MarkupSafe>=2.0 in /workspace/.miniconda3/lib/python3.10/site-packages (from jinja2->torch) (2.1.2)\n",
      "Requirement already satisfied: mpmath>=0.19 in /workspace/.miniconda3/lib/python3.10/site-packages (from sympy->torch) (1.2.1)\n",
      "Collecting scipy\n",
      "  Downloading scipy-1.11.1-cp310-cp310-manylinux_2_17_x86_64.manylinux2014_x86_64.whl (36.3 MB)\n",
      "\u001b[2K     \u001b[90m━━━━━━━━━━━━━━━━━━━━━━━━━━━━━━━━━━━━━━━━\u001b[0m \u001b[32m36.3/36.3 MB\u001b[0m \u001b[31m33.3 MB/s\u001b[0m eta \u001b[36m0:00:00\u001b[0m00:01\u001b[0m00:01\u001b[0m\n",
      "\u001b[?25hRequirement already satisfied: numpy<1.28.0,>=1.21.6 in /workspace/.miniconda3/lib/python3.10/site-packages (from scipy) (1.24.1)\n",
      "Installing collected packages: scipy\n",
      "Successfully installed scipy-1.11.1\n"
     ]
    }
   ],
   "source": [
    "!pip install --upgrade google-api-python-client\n",
    "!pip install bitsandbytes>=0.39.0\n",
    "!pip install git+https://github.com/huggingface/transformers.git\n",
    "!pip install git+https://github.com/huggingface/accelerate.git\n",
    "!pip install tiktoken\n",
    "!pip install torch\n",
    "!pip install scipy"
   ]
  },
  {
   "cell_type": "code",
   "execution_count": 1,
   "metadata": {},
   "outputs": [
    {
     "name": "stdout",
     "output_type": "stream",
     "text": [
      "Thu Jul 27 14:07:17 2023       \n",
      "+-----------------------------------------------------------------------------+\n",
      "| NVIDIA-SMI 525.105.17   Driver Version: 525.105.17   CUDA Version: 12.0     |\n",
      "|-------------------------------+----------------------+----------------------+\n",
      "| GPU  Name        Persistence-M| Bus-Id        Disp.A | Volatile Uncorr. ECC |\n",
      "| Fan  Temp  Perf  Pwr:Usage/Cap|         Memory-Usage | GPU-Util  Compute M. |\n",
      "|                               |                      |               MIG M. |\n",
      "|===============================+======================+======================|\n",
      "|   0  Tesla V100S-PCI...  Off  | 00000000:00:0B.0 Off |                    0 |\n",
      "| N/A   33C    P0    26W / 250W |      0MiB / 32768MiB |      0%      Default |\n",
      "|                               |                      |                  N/A |\n",
      "+-------------------------------+----------------------+----------------------+\n",
      "                                                                               \n",
      "+-----------------------------------------------------------------------------+\n",
      "| Processes:                                                                  |\n",
      "|  GPU   GI   CI        PID   Type   Process name                  GPU Memory |\n",
      "|        ID   ID                                                   Usage      |\n",
      "|=============================================================================|\n",
      "|  No running processes found                                                 |\n",
      "+-----------------------------------------------------------------------------+\n"
     ]
    }
   ],
   "source": [
    "!nvidia-smi"
   ]
  },
  {
   "cell_type": "code",
   "execution_count": 2,
   "metadata": {},
   "outputs": [
    {
     "name": "stdout",
     "output_type": "stream",
     "text": [
      "              total        used        free      shared  buff/cache   available\n",
      "Mem:      181108932    29595356    24793392     1029076   126720184   148832208\n",
      "Swap:             0           0           0\n"
     ]
    }
   ],
   "source": [
    "!free"
   ]
  },
  {
   "cell_type": "markdown",
   "metadata": {},
   "source": [
    "# Imports"
   ]
  },
  {
   "cell_type": "code",
   "execution_count": 3,
   "metadata": {},
   "outputs": [],
   "source": [
    "import os\n",
    "import torch\n",
    "import time\n",
    "import datetime\n",
    "import sys\n",
    "import traceback\n",
    "import gc\n",
    "\n",
    "from transformers import (\n",
    "    AutoModelForCausalLM,\n",
    "    AutoTokenizer,\n",
    "    BitsAndBytesConfig,\n",
    ")"
   ]
  },
  {
   "cell_type": "markdown",
   "metadata": {},
   "source": [
    "# Loading the model"
   ]
  },
  {
   "cell_type": "code",
   "execution_count": 4,
   "metadata": {},
   "outputs": [
    {
     "name": "stderr",
     "output_type": "stream",
     "text": [
      "Using unk_token, but it is not set yet.\n",
      "Using unk_token, but it is not set yet.\n"
     ]
    },
    {
     "name": "stdout",
     "output_type": "stream",
     "text": [
      "\n",
      "===================================BUG REPORT===================================\n",
      "Welcome to bitsandbytes. For bug reports, please run\n",
      "\n",
      "python -m bitsandbytes\n",
      "\n",
      " and submit this information together with your error trace to: https://github.com/TimDettmers/bitsandbytes/issues\n",
      "================================================================================\n",
      "bin /workspace/.miniconda3/lib/python3.10/site-packages/bitsandbytes/libbitsandbytes_cuda118_nocublaslt.so\n",
      "CUDA_SETUP: WARNING! libcudart.so not found in any environmental path. Searching in backup paths...\n",
      "CUDA SETUP: CUDA runtime path found: /usr/local/cuda/lib64/libcudart.so.11.0\n",
      "CUDA SETUP: Highest compute capability among GPUs detected: 7.0\n",
      "CUDA SETUP: Detected CUDA version 118\n",
      "CUDA SETUP: Loading binary /workspace/.miniconda3/lib/python3.10/site-packages/bitsandbytes/libbitsandbytes_cuda118_nocublaslt.so...\n"
     ]
    },
    {
     "name": "stderr",
     "output_type": "stream",
     "text": [
      "/workspace/.miniconda3/lib/python3.10/site-packages/bitsandbytes/cuda_setup/main.py:149: UserWarning: WARNING: The following directories listed in your path were found to be non-existent: {PosixPath('/usr/local/nvidia/lib'), PosixPath('/usr/local/nvidia/lib64')}\n",
      "  warn(msg)\n",
      "/workspace/.miniconda3/lib/python3.10/site-packages/bitsandbytes/cuda_setup/main.py:149: UserWarning: /usr/local/nvidia/lib:/usr/local/nvidia/lib64 did not contain ['libcudart.so', 'libcudart.so.11.0', 'libcudart.so.12.0'] as expected! Searching further paths...\n",
      "  warn(msg)\n",
      "/workspace/.miniconda3/lib/python3.10/site-packages/bitsandbytes/cuda_setup/main.py:149: UserWarning: WARNING: The following directories listed in your path were found to be non-existent: {PosixPath('//10.43.0.1'), PosixPath('tcp'), PosixPath('443')}\n",
      "  warn(msg)\n",
      "/workspace/.miniconda3/lib/python3.10/site-packages/bitsandbytes/cuda_setup/main.py:149: UserWarning: WARNING: The following directories listed in your path were found to be non-existent: {PosixPath('https')}\n",
      "  warn(msg)\n",
      "/workspace/.miniconda3/lib/python3.10/site-packages/bitsandbytes/cuda_setup/main.py:149: UserWarning: WARNING: The following directories listed in your path were found to be non-existent: {PosixPath('repo/python/xgen_more_prompt_few_shot/619681d3-618e-4092-afb1-12a4d277212a')}\n",
      "  warn(msg)\n",
      "/workspace/.miniconda3/lib/python3.10/site-packages/bitsandbytes/cuda_setup/main.py:149: UserWarning: WARNING: The following directories listed in your path were found to be non-existent: {PosixPath('//matplotlib_inline.backend_inline'), PosixPath('module')}\n",
      "  warn(msg)\n",
      "/workspace/.miniconda3/lib/python3.10/site-packages/bitsandbytes/cuda_setup/main.py:149: UserWarning: WARNING: Compute capability < 7.5 detected! Only slow 8-bit matmul is supported for your GPU!\n",
      "  warn(msg)\n"
     ]
    },
    {
     "data": {
      "application/vnd.jupyter.widget-view+json": {
       "model_id": "b3718e5ec19b4f8d8dc6f40da76ce381",
       "version_major": 2,
       "version_minor": 0
      },
      "text/plain": [
       "HBox(children=(HTML(value='Loading checkpoint shards'), FloatProgress(value=0.0, max=2.0), HTML(value='')))"
      ]
     },
     "metadata": {},
     "output_type": "display_data"
    },
    {
     "name": "stdout",
     "output_type": "stream",
     "text": [
      "\n"
     ]
    }
   ],
   "source": [
    "model_name = 'legendhasit/xgen-7b-8k-inst-8bit'\n",
    "\n",
    "bnb_config = BitsAndBytesConfig(\n",
    "    load_in_4bit=True,\n",
    "    bnb_4bit_use_double_quant=True,\n",
    "    bnb_4bit_quant_type=\"nf4\",\n",
    "    bnb_4bit_compute_dtype=torch.bfloat16,\n",
    ")\n",
    "\n",
    "tokenizer = AutoTokenizer.from_pretrained(model_name, trust_remote_code=True)\n",
    "model = AutoModelForCausalLM.from_pretrained(\n",
    "    model_name,\n",
    "    device_map=\"auto\",\n",
    "    trust_remote_code=True,\n",
    "    quantization_config=bnb_config\n",
    ")"
   ]
  },
  {
   "cell_type": "code",
   "execution_count": null,
   "metadata": {},
   "outputs": [
    {
     "name": "stdout",
     "output_type": "stream",
     "text": [
      "Requirement already satisfied: huggingface_hub[cli] in /home/linagora/anaconda3/lib/python3.10/site-packages (0.15.1)\n",
      "Requirement already satisfied: packaging>=20.9 in /home/linagora/anaconda3/lib/python3.10/site-packages (from huggingface_hub[cli]) (22.0)\n",
      "Requirement already satisfied: typing-extensions>=3.7.4.3 in /home/linagora/.local/lib/python3.10/site-packages (from huggingface_hub[cli]) (4.7.1)\n",
      "Requirement already satisfied: filelock in /home/linagora/.local/lib/python3.10/site-packages (from huggingface_hub[cli]) (3.12.2)\n",
      "Requirement already satisfied: requests in /home/linagora/anaconda3/lib/python3.10/site-packages (from huggingface_hub[cli]) (2.28.1)\n",
      "Requirement already satisfied: tqdm>=4.42.1 in /home/linagora/anaconda3/lib/python3.10/site-packages (from huggingface_hub[cli]) (4.64.1)\n",
      "Requirement already satisfied: fsspec in /home/linagora/anaconda3/lib/python3.10/site-packages (from huggingface_hub[cli]) (2022.11.0)\n",
      "Requirement already satisfied: pyyaml>=5.1 in /home/linagora/anaconda3/lib/python3.10/site-packages (from huggingface_hub[cli]) (6.0)\n",
      "Collecting InquirerPy==0.3.4\n",
      "  Downloading InquirerPy-0.3.4-py3-none-any.whl (67 kB)\n",
      "\u001b[2K     \u001b[90m━━━━━━━━━━━━━━━━━━━━━━━━━━━━━━━━━━━━━━━━\u001b[0m \u001b[32m67.7/67.7 kB\u001b[0m \u001b[31m7.5 MB/s\u001b[0m eta \u001b[36m0:00:00\u001b[0m\n",
      "\u001b[?25hCollecting pfzy<0.4.0,>=0.3.1\n",
      "  Downloading pfzy-0.3.4-py3-none-any.whl (8.5 kB)\n",
      "Requirement already satisfied: prompt-toolkit<4.0.0,>=3.0.1 in /home/linagora/anaconda3/lib/python3.10/site-packages (from InquirerPy==0.3.4->huggingface_hub[cli]) (3.0.36)\n",
      "Requirement already satisfied: certifi>=2017.4.17 in /home/linagora/anaconda3/lib/python3.10/site-packages (from requests->huggingface_hub[cli]) (2022.12.7)\n",
      "Requirement already satisfied: idna<4,>=2.5 in /home/linagora/anaconda3/lib/python3.10/site-packages (from requests->huggingface_hub[cli]) (3.4)\n",
      "Requirement already satisfied: urllib3<1.27,>=1.21.1 in /home/linagora/anaconda3/lib/python3.10/site-packages (from requests->huggingface_hub[cli]) (1.26.14)\n",
      "Requirement already satisfied: charset-normalizer<3,>=2 in /home/linagora/anaconda3/lib/python3.10/site-packages (from requests->huggingface_hub[cli]) (2.0.4)\n",
      "Requirement already satisfied: wcwidth in /home/linagora/anaconda3/lib/python3.10/site-packages (from prompt-toolkit<4.0.0,>=3.0.1->InquirerPy==0.3.4->huggingface_hub[cli]) (0.2.5)\n",
      "Installing collected packages: pfzy, InquirerPy\n",
      "Successfully installed InquirerPy-0.3.4 pfzy-0.3.4\n",
      "\u001b[6n\u001b[?2004h\u001b[?1l\u001b[?25l\u001b[0m\u001b[?7l\u001b[0m\u001b[J\u001b[0;38;5;180m?\u001b[0m Select revisions to delete:\u001b[0;38;5;249m 0 revisions selected counting for 0.0. \u001b[0m\n",
      "\u001b[0;38;5;75m❯\u001b[0m \u001b[0;38;5;108m○\u001b[0m \u001b[0;38;5;75mNone of the following (if selected, nothing will be deleted).\u001b[0m\n",
      "\u001b[0m \u001b[0m\n",
      "\u001b[0mModel bert-base-multilingual-cased (715.3M, used 3 days ago)\u001b[0m\n",
      "\u001b[0m  \u001b[0;38;5;108m○\u001b[0m fdfce55e: main # modified 1 week ago\u001b[0m\n",
      "\u001b[0m \u001b[0m\n",
      "\u001b[0mModel OpenLLM-France/bloom-560m-ecommerce-faq-fr (12.6M, used 3 days ago)\u001b[0m\n",
      "\u001b[0m  \u001b[0;38;5;108m○\u001b[0m 239462ee: (detached) # modified 4 weeks ago\u001b[0m\n",
      "\u001b[0m  \u001b[0;38;5;108m○\u001b[0m 3b13cb96: main # modified 4 weeks ago\u001b[0m\n",
      "\u001b[0m \u001b[0m\n",
      "\u001b[0mModel Salesforce/xgen-7b-8k-inst (44.4K, used 3 days ago)\u001b[0m\n",
      "\u001b[0m  \u001b[0;38;5;108m○\u001b[0m 5fe0f1b2: (detached) # modified 3 weeks ago\u001b[0m\n",
      "\u001b[0m  \u001b[0;38;5;108m○\u001b[0m 68f77dec: main # modified 6 days ago\u001b[0m\n",
      "\u001b[0m \u001b[0m\n",
      "\u001b[0mModel bigscience/bloom-560m (1.1G, used 3 days ago)\u001b[0m\n",
      "\u001b[0m  \u001b[0;38;5;108m○\u001b[0m 4f42c91d: main # modified 4 weeks ago\u001b[0m\n",
      "\u001b[0m \u001b[0m\n",
      "\u001b[0mModel legendhasit/xgen-7b-8k-inst-8bit (13.8G, used 55 minutes ago)\u001b[0m\n",
      "\u001b[0m  \u001b[0;38;5;108m○\u001b[0m 0fced741: main # modified 3 weeks ago\u001b[0m\n",
      "\n",
      "\u001b[0m \u001b[0m\n",
      "\u001b[79Ci\u001b[0m49mPress <space> to select, <enter> to validate and <ctrl+c> to quit without modif\n",
      "\u001b[0;38;5;249mcation.\u001b[7D\u001b[22A\u001b[69C\u001b[?7h\u001b[0m\u001b[?12l\u001b[?25h\u001b[69D\u001b[J\u001b[0m\u001b[?7h\u001b[?2004lWARNING: your terminal doesn't support cursor position requests (CPR).\n",
      "\u001b[?2004h\u001b[?25l\u001b[0m\u001b[?7l\u001b[0m\u001b[J\u001b[0;38;5;180m?\u001b[0m Select revisions to delete:\u001b[0;38;5;249m 0 revisions selected counting for 0.0. \u001b[0m\n",
      "\u001b[0;38;5;75m❯\u001b[0m \u001b[0;38;5;108m○\u001b[0m \u001b[0;38;5;75mNone of the following (if selected, nothing will be deleted).\u001b[0m\n",
      "\u001b[0m \u001b[0m\n",
      "\u001b[0mModel bert-base-multilingual-cased (715.3M, used 3 days ago)\u001b[0m\n",
      "\u001b[0m  \u001b[0;38;5;108m○\u001b[0m fdfce55e: main # modified 1 week ago\u001b[0m\n",
      "\u001b[0m \u001b[0m\n",
      "\u001b[0mModel OpenLLM-France/bloom-560m-ecommerce-faq-fr (12.6M, used 3 days ago)\u001b[0m\n",
      "\u001b[0m  \u001b[0;38;5;108m○\u001b[0m 239462ee: (detached) # modified 4 weeks ago\u001b[0m\n",
      "\u001b[0m  \u001b[0;38;5;108m○\u001b[0m 3b13cb96: main # modified 4 weeks ago\u001b[0m\n",
      "\u001b[0m \u001b[0m\n",
      "\u001b[0mModel Salesforce/xgen-7b-8k-inst (44.4K, used 3 days ago)\u001b[0m\n",
      "\u001b[0m  \u001b[0;38;5;108m○\u001b[0m 5fe0f1b2: (detached) # modified 3 weeks ago\u001b[0m\n",
      "\u001b[0m  \u001b[0;38;5;108m○\u001b[0m 68f77dec: main # modified 6 days ago\u001b[0m\n",
      "\u001b[0m \u001b[0m\n",
      "\u001b[0mModel bigscience/bloom-560m (1.1G, used 3 days ago)\u001b[0m\n",
      "\u001b[0m  \u001b[0;38;5;108m○\u001b[0m 4f42c91d: main # modified 4 weeks ago\u001b[0m\n",
      "\u001b[0m \u001b[0m\n",
      "\u001b[0mModel legendhasit/xgen-7b-8k-inst-8bit (13.8G, used 55 minutes ago)\u001b[0m\n",
      "\u001b[0m  \u001b[0;38;5;108m○\u001b[0m 0fced741: main # modified 3 weeks ago\u001b[0m\n",
      "\n",
      "\u001b[0m \u001b[0m\n",
      "\u001b[79Ci\u001b[0m49mPress <space> to select, <enter> to validate and <ctrl+c> to quit without modif\n",
      "\u001b[0;38;5;249mcation.\u001b[7D\u001b[22A\u001b[69C\u001b[?7h\u001b[0m\u001b[?12l\u001b[?25h"
     ]
    }
   ],
   "source": [
    "!pip install huggingface_hub[\"cli\"]\n",
    "!huggingface-cli delete-cache"
   ]
  },
  {
   "cell_type": "markdown",
   "metadata": {},
   "source": [
    "# Inference"
   ]
  },
  {
   "cell_type": "code",
   "execution_count": 6,
   "metadata": {},
   "outputs": [
    {
     "name": "stdout",
     "output_type": "stream",
     "text": [
      "-- Found 1 texts: ['txt_ami.txt']\n",
      "Types of prompts: \n",
      "['Summarize the following text.', 'Summarize.', 'Provide a one paragraph summary of the following text.', 'Summarize the following text as one paragraph.', 'Provide a one paragraph summary of the following text, containing all the important details.']\n",
      "\n",
      "['Summarize the following text.', 'Summarize.', 'Provide a structured summary with 5 paragraphs of the following text.', 'Summarize the following text writing 5 paragraphs.', 'Summarize the following text writing 5 paragraphs which contain all the important details']\n",
      "\n",
      "['Summarize the following text.', 'Summarize.', 'Give the key points in the following text.', 'Provide a list of key points for this text, containing all the important details.', 'As a secretary, write down the minutes of the following meeting.']\n",
      "\n"
     ]
    }
   ],
   "source": [
    "# Parameters:\n",
    "# - DATASET_NAME\n",
    "# - HEADER\n",
    "# - PROMPT_TEMPLATE\n",
    "# - samples in dataset 'input/<dataset_name>'\n",
    "# - instructions in 'instructions.txt'\n",
    "\n",
    "def mkdir(folder_path):\n",
    "    try:\n",
    "        os.mkdir(folder_path)\n",
    "    except FileExistsError:\n",
    "        pass\n",
    "\n",
    "mkdir('input')\n",
    "\n",
    "# Define prompt template\n",
    "# ==========================================================================================\n",
    "HEADER = (\n",
    "    \"A chat between a curious human and an artificial intelligence assistant. \"\n",
    "    \"The assistant gives helpful, detailed, and polite answers to the human's questions.\\n\\n\"\n",
    ")\n",
    "\n",
    "EXAMPLE_TEMPLATE = \"\"\"### Human: {instruction}\n",
    "\n",
    "{text}\n",
    "\n",
    "### Assistant: {answer}\"\"\"\n",
    "\n",
    "REQUEST_TEMPLATE = \"\"\"### Human: {instruction}\n",
    "\n",
    "{text}\n",
    "\n",
    "### Assistant:\"\"\"\n",
    "\n",
    "# Load texts from input folder\n",
    "# ==========================================================================================\n",
    "texts_list = os.listdir('input/texts')\n",
    "texts = [text for text in texts_list]\n",
    "texts.sort()\n",
    "n_texts = len(texts)\n",
    "print('-- Found', n_texts, 'texts:', texts)\n",
    "\n",
    "# Load instructions\n",
    "# ==========================================================================================\n",
    "mkdir('instructions')\n",
    "type_folder = os.listdir('input/instructions')\n",
    "print(\"Types of prompts: \")\n",
    "instruction_types = []\n",
    "n_instructions = 0\n",
    "for subfolder in type_folder:\n",
    "    instruction_file = open('input/instructions/'+subfolder+'/pro_'+subfolder+'.txt', 'r', encoding='utf-8')\n",
    "    prompts = instruction_file.readlines()\n",
    "    n_prompts = len(prompts)\n",
    "    n_instructions += n_prompts\n",
    "    for i in range(n_prompts):\n",
    "        prompts[i] = prompts[i].replace('\\n', '')\n",
    "    instruction_types.append(prompts)\n",
    "    instruction_file.close()\n",
    "    print(prompts)\n",
    "    print()"
   ]
  },
  {
   "cell_type": "code",
   "execution_count": 6,
   "metadata": {
    "scrolled": true
   },
   "outputs": [
    {
     "name": "stdout",
     "output_type": "stream",
     "text": [
      "Starting computation...\n",
      "Inférence 1/60:\n",
      "-- Input Length: 7686\n",
      "Inférence 2/60:\n",
      "-- Estimated Remaining Time: 0:37:22 (total 0:38:00)\n",
      "-- Input Length: 7686\n",
      "Inférence 3/60:\n",
      "-- Estimated Remaining Time: 0:47:31 (total 0:49:09)\n",
      "-- Input Length: 7686\n",
      "Inférence 4/60:\n",
      "-- Estimated Remaining Time: 0:42:44 (total 0:44:59)\n",
      "-- Input Length: 7686\n",
      "Inférence 5/60:\n",
      "-- Estimated Remaining Time: 0:40:31 (total 0:43:25)\n",
      "-- Input Length: 7677\n",
      "Inférence 6/60:\n",
      "-- Estimated Remaining Time: 0:37:41 (total 0:41:07)\n",
      "-- Input Length: 7677\n",
      "Inférence 7/60:\n",
      "-- Estimated Remaining Time: 0:35:45 (total 0:39:43)\n",
      "-- Input Length: 7677\n"
     ]
    },
    {
     "name": "stderr",
     "output_type": "stream",
     "text": [
      "This is a friendly reminder - the current text generation call will exceed the model's predefined maximum length (8192). Depending on the model, you may observe exceptions, performance degradation, or nothing at all.\n"
     ]
    },
    {
     "name": "stdout",
     "output_type": "stream",
     "text": [
      "Inférence 8/60:\n",
      "-- Estimated Remaining Time: 0:41:39 (total 0:47:09)\n",
      "-- Input Length: 7677\n",
      "Inférence 9/60:\n",
      "-- Estimated Remaining Time: 0:38:37 (total 0:44:33)\n",
      "-- Input Length: 7692\n",
      "Inférence 10/60:\n",
      "-- Estimated Remaining Time: 0:35:12 (total 0:41:25)\n",
      "-- Input Length: 7692\n",
      "Inférence 11/60:\n",
      "-- Estimated Remaining Time: 0:40:31 (total 0:48:38)\n",
      "-- Input Length: 7692\n",
      "Inférence 12/60:\n",
      "-- Estimated Remaining Time: 0:37:16 (total 0:45:38)\n",
      "-- Input Length: 7692\n",
      "Inférence 13/60:\n",
      "-- Estimated Remaining Time: 0:41:03 (total 0:51:19)\n",
      "-- Input Length: 7713\n",
      "Inférence 14/60:\n",
      "-- Estimated Remaining Time: 0:38:42 (total 0:49:24)\n",
      "-- Input Length: 7713\n",
      "Inférence 15/60:\n",
      "-- Estimated Remaining Time: 0:37:16 (total 0:48:37)\n",
      "-- Input Length: 7713\n",
      "Inférence 16/60:\n",
      "-- Estimated Remaining Time: 0:37:07 (total 0:49:30)\n",
      "-- Input Length: 7713\n",
      "Inférence 17/60:\n",
      "-- Estimated Remaining Time: 0:36:05 (total 0:49:12)\n",
      "-- Input Length: 7704\n",
      "Inférence 18/60:\n",
      "-- Estimated Remaining Time: 0:34:33 (total 0:48:13)\n",
      "-- Input Length: 7704\n",
      "Inférence 19/60:\n",
      "-- Estimated Remaining Time: 0:32:36 (total 0:46:34)\n",
      "-- Input Length: 7704\n",
      "Inférence 20/60:\n",
      "-- Estimated Remaining Time: 0:30:42 (total 0:44:56)\n",
      "-- Input Length: 7704\n",
      "Inférence 21/60:\n",
      "-- Estimated Remaining Time: 0:32:16 (total 0:48:24)\n",
      "-- Input Length: 7915\n",
      "Inférence 22/60:\n",
      "-- Estimated Remaining Time: 0:30:26 (total 0:46:49)\n",
      "-- Input Length: 7915\n",
      "Inférence 23/60:\n",
      "-- Estimated Remaining Time: 0:28:43 (total 0:45:21)\n",
      "-- Input Length: 7915\n",
      "Inférence 24/60:\n",
      "-- Estimated Remaining Time: 0:27:08 (total 0:44:01)\n",
      "-- Input Length: 7915\n",
      "Inférence 25/60:\n",
      "-- Estimated Remaining Time: 0:26:20 (total 0:43:53)\n",
      "-- Input Length: 7906\n",
      "Inférence 26/60:\n",
      "-- Estimated Remaining Time: 0:25:11 (total 0:43:11)\n",
      "-- Input Length: 7906\n",
      "Inférence 27/60:\n",
      "-- Estimated Remaining Time: 0:26:02 (total 0:45:56)\n",
      "-- Input Length: 7906\n",
      "Inférence 28/60:\n",
      "-- Estimated Remaining Time: 0:24:59 (total 0:45:26)\n",
      "-- Input Length: 7906\n",
      "Inférence 29/60:\n",
      "-- Estimated Remaining Time: 0:23:57 (total 0:44:55)\n",
      "-- Input Length: 7930\n",
      "Inférence 30/60:\n",
      "-- Estimated Remaining Time: 0:23:00 (total 0:44:31)\n",
      "-- Input Length: 7930\n",
      "Inférence 31/60:\n",
      "-- Estimated Remaining Time: 0:23:26 (total 0:46:53)\n",
      "-- Input Length: 7930\n",
      "Inférence 32/60:\n",
      "-- Estimated Remaining Time: 0:22:23 (total 0:46:20)\n",
      "-- Input Length: 7930\n",
      "Inférence 33/60:\n",
      "-- Estimated Remaining Time: 0:22:37 (total 0:48:28)\n",
      "-- Input Length: 7924\n",
      "Inférence 34/60:\n",
      "-- Estimated Remaining Time: 0:21:45 (total 0:48:21)\n",
      "-- Input Length: 7924\n",
      "Inférence 35/60:\n",
      "-- Estimated Remaining Time: 0:21:48 (total 0:50:18)\n",
      "-- Input Length: 7924\n",
      "Inférence 36/60:\n",
      "-- Estimated Remaining Time: 0:21:43 (total 0:52:08)\n",
      "-- Input Length: 7924\n",
      "Inférence 37/60:\n",
      "-- Estimated Remaining Time: 0:20:35 (total 0:51:27)\n",
      "-- Input Length: 7939\n",
      "Inférence 38/60:\n",
      "-- Estimated Remaining Time: 0:19:31 (total 0:50:55)\n",
      "-- Input Length: 7939\n",
      "Inférence 39/60:\n",
      "-- Estimated Remaining Time: 0:18:31 (total 0:50:30)\n",
      "-- Input Length: 7939\n",
      "Inférence 40/60:\n",
      "-- Estimated Remaining Time: 0:17:28 (total 0:49:54)\n",
      "-- Input Length: 7939\n",
      "Inférence 41/60:\n",
      "-- Estimated Remaining Time: 0:16:41 (total 0:50:05)\n",
      "-- Input Length: 7886\n",
      "Inférence 42/60:\n",
      "-- Estimated Remaining Time: 0:16:21 (total 0:51:38)\n",
      "-- Input Length: 7886\n",
      "Inférence 43/60:\n",
      "-- Estimated Remaining Time: 0:15:15 (total 0:50:53)\n",
      "-- Input Length: 7886\n",
      "Inférence 44/60:\n",
      "-- Estimated Remaining Time: 0:14:40 (total 0:51:46)\n",
      "-- Input Length: 7886\n",
      "Inférence 45/60:\n",
      "-- Estimated Remaining Time: 0:13:40 (total 0:51:18)\n",
      "-- Input Length: 7877\n",
      "Inférence 46/60:\n",
      "-- Estimated Remaining Time: 0:12:37 (total 0:50:30)\n",
      "-- Input Length: 7877\n",
      "Inférence 47/60:\n",
      "-- Estimated Remaining Time: 0:11:48 (total 0:50:36)\n",
      "-- Input Length: 7877\n",
      "Inférence 48/60:\n",
      "-- Estimated Remaining Time: 0:10:48 (total 0:49:55)\n",
      "-- Input Length: 7877\n",
      "Inférence 49/60:\n",
      "-- Estimated Remaining Time: 0:10:11 (total 0:50:56)\n",
      "-- Input Length: 7895\n",
      "Inférence 50/60:\n",
      "-- Estimated Remaining Time: 0:09:13 (total 0:50:17)\n",
      "-- Input Length: 7895\n",
      "Inférence 51/60:\n",
      "-- Estimated Remaining Time: 0:08:16 (total 0:49:37)\n",
      "-- Input Length: 7895\n",
      "Inférence 52/60:\n",
      "-- Estimated Remaining Time: 0:07:21 (total 0:49:02)\n",
      "-- Input Length: 7895\n",
      "Inférence 53/60:\n",
      "-- Estimated Remaining Time: 0:06:42 (total 0:50:19)\n",
      "-- Input Length: 7895\n",
      "Inférence 54/60:\n",
      "-- Estimated Remaining Time: 0:05:47 (total 0:49:42)\n",
      "-- Input Length: 7895\n",
      "Inférence 55/60:\n",
      "-- Estimated Remaining Time: 0:04:55 (total 0:49:11)\n",
      "-- Input Length: 7895\n",
      "Inférence 56/60:\n",
      "-- Estimated Remaining Time: 0:04:03 (total 0:48:36)\n",
      "-- Input Length: 7895\n",
      "Inférence 57/60:\n",
      "-- Estimated Remaining Time: 0:03:19 (total 0:49:48)\n",
      "-- Input Length: 7913\n",
      "Inférence 58/60:\n",
      "-- Estimated Remaining Time: 0:02:27 (total 0:49:14)\n",
      "-- Input Length: 7913\n",
      "Inférence 59/60:\n",
      "-- Estimated Remaining Time: 0:01:37 (total 0:48:43)\n",
      "-- Input Length: 7913\n",
      "Inférence 60/60:\n",
      "-- Estimated Remaining Time: 0:00:48 (total 0:48:56)\n",
      "-- Input Length: 7913\n",
      "Done! Took 0:48:30 seconds\n"
     ]
    }
   ],
   "source": [
    "# Inference\n",
    "# ==========================================================================================\n",
    "\n",
    "# RAJOUTER : taille de l'input et taille de l'output filtré. (en tokens)\n",
    "\n",
    "initial_time = time.time()\n",
    "skipped_samples = 0\n",
    "\n",
    "n_samples = 4 # A CHANGER A 4\n",
    "n_inferences_total = n_instructions * n_texts * n_samples # Total number of inferences\n",
    "n_inference = 0\n",
    "\n",
    "def TwoShotHeader(k, instruction): # k désigne le type de prompt (1, 2 ou 3). Renvoie un header avec deux exemples.\n",
    "    file_example = open('input/examples/txt_gpt.txt', 'r', encoding='utf-8')\n",
    "    text_example = file_example.read()\n",
    "    file_example.close()\n",
    "    file_sum = open('input/summaries/'+str(k)+'/sum_'+str(k)+'_gpt.txt', 'r', encoding='utf-8')\n",
    "    text_sum = file_sum.read()\n",
    "    file_sum.close()\n",
    "    example_1 = EXAMPLE_TEMPLATE.format(instruction=instruction, text=text_example, answer=text_sum)\n",
    "    file_example = open('input/examples/txt_fre.txt', 'r', encoding='utf-8')\n",
    "    text_example = file_example.read()\n",
    "    file_example.close()\n",
    "    file_sum = open('input/summaries/'+str(k)+'/sum_'+str(k)+'_fre.txt', 'r', encoding='utf-8')\n",
    "    text_sum = file_sum.read()\n",
    "    file_sum.close()\n",
    "    example_2 = EXAMPLE_TEMPLATE.format(instruction=instruction, text=text_example, answer=text_sum)\n",
    "\n",
    "    return HEADER + example_1 + \"\\n\\n\" + example_2 + \"\\n\\n\" \n",
    "\n",
    "def treatOutput(output, i, n_inference, sample): # DOIT PRENDRE EN ENTREE L'OUTPUT DETOKENIZED ET LE TOKENIZED (sample)\n",
    "    mkdir('output')\n",
    "    mkdir('output/'+str(i))\n",
    "    target_path = 'output/'+str(i)+'/sum_'+str(i)+'_'+str(n_inference)+'.txt' # Format sum_2_9.txt\n",
    "    text_file = open(target_path, 'w', encoding='utf-8')\n",
    "    occ_1 = output.find(\"### Assistant: \")\n",
    "    occ_2 = output.find(\"### Assistant: \", occ_1+1)\n",
    "    occ_3 = output.find(\"### Assistant: \", occ_2+1)\n",
    "    output = output[occ_3+15:]\n",
    "    if output.find('<|endoftext|>')!=-1:\n",
    "        output = output[:-14]\n",
    "    text_file.write(str(len(sample[0]))+'\\n'+output)\n",
    "    text_file.close()\n",
    "\n",
    "mkdir('intermediate')\n",
    "print('Starting computation...')\n",
    "for i in range(len(instruction_types)):\n",
    "    instructions = instruction_types[i]\n",
    "    mkdir('intermediate/'+str(i+1))\n",
    "    for name_text in texts:\n",
    "        # Pour un prompt donné, un texte donné:\n",
    "        text_file = open('input/texts/'+name_text, 'r', encoding='utf-8')\n",
    "        text_request = text_file.read()\n",
    "        text_file.close()\n",
    "        # Construction des exemples\n",
    "        for instruction in instructions:\n",
    "            two_shot_header = TwoShotHeader(i+1, instruction)\n",
    "            user_request = REQUEST_TEMPLATE.format(instruction=instruction, text=text_request)\n",
    "            prompt = two_shot_header + user_request\n",
    "            for j in range(n_samples): # for j in range(n_samples): # puis tout décaler\n",
    "                n_inference += 1\n",
    "                ### DISPLAY :\n",
    "                print(\"Inférence \"+str(n_inference)+\"/\"+str(n_inferences_total)+\":\")\n",
    "                if n_inference>1: # Pour une estimation, il faut forcément attendre le 2ème passage\n",
    "                    approx_total = n_inferences_total * (time.time() - initial_time) / (n_inference-1)\n",
    "                    approx_remaining = approx_total * (1 - (n_inference-1)/n_inferences_total)\n",
    "                    print('-- Estimated Remaining Time: ' + str(datetime.timedelta(seconds=int(approx_remaining))) + ' (total ' + str(datetime.timedelta(seconds=int(approx_total))) + ')')\n",
    "\n",
    "                target_path = 'intermediate/'+str(i+1)\n",
    "                mkdir(target_path)\n",
    "                target_path += '/sum_'+str(i+1)+'_'+str(n_inference)+'.txt' # Format sum_2_9.txt\n",
    "                if os.path.isfile(target_path):\n",
    "                    print('-- Found intermediate result file \\'' + target_path + '\\', skipped.')\n",
    "                    skipped_samples += 1\n",
    "                    continue\n",
    "\n",
    "                try:\n",
    "                    input_ids = tokenizer(prompt, return_tensors=\"pt\").to('cuda') # ICI RESTRICTION sur prompt\n",
    "                    input_length = len(input_ids['input_ids'][0])\n",
    "                    print('-- Input Length:', input_length)\n",
    "                    sample = model.generate(**input_ids, do_sample=True, max_new_tokens=700, top_k=20, eos_token_id=50256, temperature=0.3) # Top-k, température, max new tokens\n",
    "                    output = tokenizer.decode(sample[0]).strip()\n",
    "                    treatOutput(output, i+1, n_inference, sample)\n",
    "                    # Save answer in file\n",
    "                    target_file = open(target_path, 'w', encoding='utf-8')\n",
    "                    target_file.write(output)\n",
    "                    target_file.close()\n",
    "\n",
    "                    del input_ids\n",
    "                    del sample\n",
    "                    del output\n",
    "                except:\n",
    "                    print('Could not compute '+str(i)+'_'+str(j)+' prompt.')\n",
    "                    #print(prompt) (trop long comme prompt)\n",
    "                    traceback.print_exc()\n",
    "\n",
    "                gc.collect()\n",
    "\n",
    "delta = time.time() - initial_time\n",
    "print('Done! Took', datetime.timedelta(seconds=int(delta)), 'seconds')"
   ]
  },
  {
   "cell_type": "code",
   "execution_count": null,
   "metadata": {},
   "outputs": [],
   "source": []
  },
  {
   "cell_type": "markdown",
   "metadata": {},
   "source": [
    "# Calculs de scores"
   ]
  },
  {
   "cell_type": "code",
   "execution_count": 4,
   "metadata": {},
   "outputs": [
    {
     "name": "stdout",
     "output_type": "stream",
     "text": [
      "Collecting rouge_score\n",
      "  Downloading rouge_score-0.1.2.tar.gz (17 kB)\n",
      "  Installing build dependencies: started\n",
      "  Installing build dependencies: finished with status 'done'\n",
      "  Getting requirements to build wheel: started\n",
      "  Getting requirements to build wheel: finished with status 'done'\n",
      "  Preparing metadata (pyproject.toml): started\n",
      "  Preparing metadata (pyproject.toml): finished with status 'done'\n",
      "Requirement already satisfied: rouge in c:\\users\\rayci\\appdata\\local\\programs\\python\\python310\\lib\\site-packages (1.0.1)\n",
      "Collecting absl-py (from rouge_score)\n",
      "  Downloading absl_py-1.4.0-py3-none-any.whl (126 kB)\n",
      "     ---------------------------------------- 0.0/126.5 kB ? eta -:--:--\n",
      "     -------------------------------------- 126.5/126.5 kB 3.6 MB/s eta 0:00:00\n",
      "Requirement already satisfied: nltk in c:\\users\\rayci\\appdata\\local\\programs\\python\\python310\\lib\\site-packages (from rouge_score) (3.8.1)\n",
      "Requirement already satisfied: numpy in c:\\users\\rayci\\appdata\\local\\programs\\python\\python310\\lib\\site-packages (from rouge_score) (1.24.3)\n",
      "Requirement already satisfied: six>=1.14.0 in c:\\users\\rayci\\appdata\\roaming\\python\\python310\\site-packages (from rouge_score) (1.16.0)\n",
      "Requirement already satisfied: click in c:\\users\\rayci\\appdata\\local\\programs\\python\\python310\\lib\\site-packages (from nltk->rouge_score) (8.1.5)\n",
      "Requirement already satisfied: joblib in c:\\users\\rayci\\appdata\\local\\programs\\python\\python310\\lib\\site-packages (from nltk->rouge_score) (1.3.1)\n",
      "Requirement already satisfied: regex>=2021.8.3 in c:\\users\\rayci\\appdata\\local\\programs\\python\\python310\\lib\\site-packages (from nltk->rouge_score) (2023.6.3)\n",
      "Requirement already satisfied: tqdm in c:\\users\\rayci\\appdata\\local\\programs\\python\\python310\\lib\\site-packages (from nltk->rouge_score) (4.65.0)\n",
      "Requirement already satisfied: colorama in c:\\users\\rayci\\appdata\\roaming\\python\\python310\\site-packages (from click->nltk->rouge_score) (0.4.6)\n",
      "Building wheels for collected packages: rouge_score\n",
      "  Building wheel for rouge_score (pyproject.toml): started\n",
      "  Building wheel for rouge_score (pyproject.toml): finished with status 'done'\n",
      "  Created wheel for rouge_score: filename=rouge_score-0.1.2-py3-none-any.whl size=24971 sha256=1b2b8ff336017a69573ee67b940b2bd977f675896f09a4bcfa61bd3a4bdfb62e\n",
      "  Stored in directory: c:\\users\\rayci\\appdata\\local\\pip\\cache\\wheels\\5f\\dd\\89\\461065a73be61a532ff8599a28e9beef17985c9e9c31e541b4\n",
      "Successfully built rouge_score\n",
      "Installing collected packages: absl-py, rouge_score\n",
      "Successfully installed absl-py-1.4.0 rouge_score-0.1.2\n"
     ]
    },
    {
     "name": "stderr",
     "output_type": "stream",
     "text": [
      "\n",
      "[notice] A new release of pip is available: 23.2 -> 23.2.1\n",
      "[notice] To update, run: python.exe -m pip install --upgrade pip\n"
     ]
    },
    {
     "name": "stdout",
     "output_type": "stream",
     "text": [
      "Requirement already satisfied: evaluate in c:\\users\\rayci\\appdata\\local\\programs\\python\\python310\\lib\\site-packages (0.4.0)\n",
      "Requirement already satisfied: datasets>=2.0.0 in c:\\users\\rayci\\appdata\\local\\programs\\python\\python310\\lib\\site-packages (from evaluate) (2.13.1)\n",
      "Requirement already satisfied: numpy>=1.17 in c:\\users\\rayci\\appdata\\local\\programs\\python\\python310\\lib\\site-packages (from evaluate) (1.24.3)\n",
      "Requirement already satisfied: dill in c:\\users\\rayci\\appdata\\local\\programs\\python\\python310\\lib\\site-packages (from evaluate) (0.3.6)\n",
      "Requirement already satisfied: pandas in c:\\users\\rayci\\appdata\\local\\programs\\python\\python310\\lib\\site-packages (from evaluate) (2.0.2)\n",
      "Requirement already satisfied: requests>=2.19.0 in c:\\users\\rayci\\appdata\\local\\programs\\python\\python310\\lib\\site-packages (from evaluate) (2.31.0)\n",
      "Requirement already satisfied: tqdm>=4.62.1 in c:\\users\\rayci\\appdata\\local\\programs\\python\\python310\\lib\\site-packages (from evaluate) (4.65.0)\n",
      "Requirement already satisfied: xxhash in c:\\users\\rayci\\appdata\\local\\programs\\python\\python310\\lib\\site-packages (from evaluate) (3.2.0)\n",
      "Requirement already satisfied: multiprocess in c:\\users\\rayci\\appdata\\local\\programs\\python\\python310\\lib\\site-packages (from evaluate) (0.70.14)\n",
      "Requirement already satisfied: fsspec[http]>=2021.05.0 in c:\\users\\rayci\\appdata\\local\\programs\\python\\python310\\lib\\site-packages (from evaluate) (2023.6.0)\n",
      "Requirement already satisfied: huggingface-hub>=0.7.0 in c:\\users\\rayci\\appdata\\local\\programs\\python\\python310\\lib\\site-packages (from evaluate) (0.15.1)\n",
      "Requirement already satisfied: packaging in c:\\users\\rayci\\appdata\\roaming\\python\\python310\\site-packages (from evaluate) (23.1)\n",
      "Requirement already satisfied: responses<0.19 in c:\\users\\rayci\\appdata\\local\\programs\\python\\python310\\lib\\site-packages (from evaluate) (0.18.0)\n",
      "Requirement already satisfied: pyarrow>=8.0.0 in c:\\users\\rayci\\appdata\\local\\programs\\python\\python310\\lib\\site-packages (from datasets>=2.0.0->evaluate) (12.0.1)\n",
      "Requirement already satisfied: aiohttp in c:\\users\\rayci\\appdata\\local\\programs\\python\\python310\\lib\\site-packages (from datasets>=2.0.0->evaluate) (3.8.4)\n",
      "Requirement already satisfied: pyyaml>=5.1 in c:\\users\\rayci\\appdata\\local\\programs\\python\\python310\\lib\\site-packages (from datasets>=2.0.0->evaluate) (6.0)\n",
      "Requirement already satisfied: filelock in c:\\users\\rayci\\appdata\\local\\programs\\python\\python310\\lib\\site-packages (from huggingface-hub>=0.7.0->evaluate) (3.12.1)\n",
      "Requirement already satisfied: typing-extensions>=3.7.4.3 in c:\\users\\rayci\\appdata\\local\\programs\\python\\python310\\lib\\site-packages (from huggingface-hub>=0.7.0->evaluate) (4.6.3)\n",
      "Requirement already satisfied: charset-normalizer<4,>=2 in c:\\users\\rayci\\appdata\\local\\programs\\python\\python310\\lib\\site-packages (from requests>=2.19.0->evaluate) (3.1.0)\n",
      "Requirement already satisfied: idna<4,>=2.5 in c:\\users\\rayci\\appdata\\local\\programs\\python\\python310\\lib\\site-packages (from requests>=2.19.0->evaluate) (3.4)\n",
      "Requirement already satisfied: urllib3<3,>=1.21.1 in c:\\users\\rayci\\appdata\\local\\programs\\python\\python310\\lib\\site-packages (from requests>=2.19.0->evaluate) (2.0.3)\n",
      "Requirement already satisfied: certifi>=2017.4.17 in c:\\users\\rayci\\appdata\\local\\programs\\python\\python310\\lib\\site-packages (from requests>=2.19.0->evaluate) (2023.5.7)\n",
      "Requirement already satisfied: colorama in c:\\users\\rayci\\appdata\\roaming\\python\\python310\\site-packages (from tqdm>=4.62.1->evaluate) (0.4.6)\n",
      "Requirement already satisfied: python-dateutil>=2.8.2 in c:\\users\\rayci\\appdata\\roaming\\python\\python310\\site-packages (from pandas->evaluate) (2.8.2)\n",
      "Requirement already satisfied: pytz>=2020.1 in c:\\users\\rayci\\appdata\\local\\programs\\python\\python310\\lib\\site-packages (from pandas->evaluate) (2023.3)\n",
      "Requirement already satisfied: tzdata>=2022.1 in c:\\users\\rayci\\appdata\\local\\programs\\python\\python310\\lib\\site-packages (from pandas->evaluate) (2023.3)\n",
      "Requirement already satisfied: attrs>=17.3.0 in c:\\users\\rayci\\appdata\\local\\programs\\python\\python310\\lib\\site-packages (from aiohttp->datasets>=2.0.0->evaluate) (23.1.0)\n",
      "Requirement already satisfied: multidict<7.0,>=4.5 in c:\\users\\rayci\\appdata\\local\\programs\\python\\python310\\lib\\site-packages (from aiohttp->datasets>=2.0.0->evaluate) (6.0.4)\n",
      "Requirement already satisfied: async-timeout<5.0,>=4.0.0a3 in c:\\users\\rayci\\appdata\\local\\programs\\python\\python310\\lib\\site-packages (from aiohttp->datasets>=2.0.0->evaluate) (4.0.2)\n",
      "Requirement already satisfied: yarl<2.0,>=1.0 in c:\\users\\rayci\\appdata\\local\\programs\\python\\python310\\lib\\site-packages (from aiohttp->datasets>=2.0.0->evaluate) (1.9.2)\n",
      "Requirement already satisfied: frozenlist>=1.1.1 in c:\\users\\rayci\\appdata\\local\\programs\\python\\python310\\lib\\site-packages (from aiohttp->datasets>=2.0.0->evaluate) (1.3.3)\n",
      "Requirement already satisfied: aiosignal>=1.1.2 in c:\\users\\rayci\\appdata\\local\\programs\\python\\python310\\lib\\site-packages (from aiohttp->datasets>=2.0.0->evaluate) (1.3.1)\n",
      "Requirement already satisfied: six>=1.5 in c:\\users\\rayci\\appdata\\roaming\\python\\python310\\site-packages (from python-dateutil>=2.8.2->pandas->evaluate) (1.16.0)\n"
     ]
    },
    {
     "name": "stderr",
     "output_type": "stream",
     "text": [
      "\n",
      "[notice] A new release of pip is available: 23.2 -> 23.2.1\n",
      "[notice] To update, run: python.exe -m pip install --upgrade pip\n"
     ]
    },
    {
     "name": "stdout",
     "output_type": "stream",
     "text": [
      "Requirement already satisfied: bert-score in c:\\users\\rayci\\appdata\\local\\programs\\python\\python310\\lib\\site-packages (0.3.13)\n",
      "Requirement already satisfied: torch>=1.0.0 in c:\\users\\rayci\\appdata\\local\\programs\\python\\python310\\lib\\site-packages (from bert-score) (2.0.1)\n",
      "Requirement already satisfied: pandas>=1.0.1 in c:\\users\\rayci\\appdata\\local\\programs\\python\\python310\\lib\\site-packages (from bert-score) (2.0.2)\n",
      "Requirement already satisfied: transformers>=3.0.0 in c:\\users\\rayci\\appdata\\local\\programs\\python\\python310\\lib\\site-packages (from bert-score) (4.30.1)\n",
      "Requirement already satisfied: numpy in c:\\users\\rayci\\appdata\\local\\programs\\python\\python310\\lib\\site-packages (from bert-score) (1.24.3)\n",
      "Requirement already satisfied: requests in c:\\users\\rayci\\appdata\\local\\programs\\python\\python310\\lib\\site-packages (from bert-score) (2.31.0)\n",
      "Requirement already satisfied: tqdm>=4.31.1 in c:\\users\\rayci\\appdata\\local\\programs\\python\\python310\\lib\\site-packages (from bert-score) (4.65.0)\n",
      "Requirement already satisfied: matplotlib in c:\\users\\rayci\\appdata\\local\\programs\\python\\python310\\lib\\site-packages (from bert-score) (3.7.1)\n",
      "Requirement already satisfied: packaging>=20.9 in c:\\users\\rayci\\appdata\\roaming\\python\\python310\\site-packages (from bert-score) (23.1)\n",
      "Requirement already satisfied: python-dateutil>=2.8.2 in c:\\users\\rayci\\appdata\\roaming\\python\\python310\\site-packages (from pandas>=1.0.1->bert-score) (2.8.2)\n",
      "Requirement already satisfied: pytz>=2020.1 in c:\\users\\rayci\\appdata\\local\\programs\\python\\python310\\lib\\site-packages (from pandas>=1.0.1->bert-score) (2023.3)\n",
      "Requirement already satisfied: tzdata>=2022.1 in c:\\users\\rayci\\appdata\\local\\programs\\python\\python310\\lib\\site-packages (from pandas>=1.0.1->bert-score) (2023.3)\n",
      "Requirement already satisfied: filelock in c:\\users\\rayci\\appdata\\local\\programs\\python\\python310\\lib\\site-packages (from torch>=1.0.0->bert-score) (3.12.1)\n",
      "Requirement already satisfied: typing-extensions in c:\\users\\rayci\\appdata\\local\\programs\\python\\python310\\lib\\site-packages (from torch>=1.0.0->bert-score) (4.6.3)\n",
      "Requirement already satisfied: sympy in c:\\users\\rayci\\appdata\\local\\programs\\python\\python310\\lib\\site-packages (from torch>=1.0.0->bert-score) (1.12)\n",
      "Requirement already satisfied: networkx in c:\\users\\rayci\\appdata\\local\\programs\\python\\python310\\lib\\site-packages (from torch>=1.0.0->bert-score) (3.1)\n",
      "Requirement already satisfied: jinja2 in c:\\users\\rayci\\appdata\\local\\programs\\python\\python310\\lib\\site-packages (from torch>=1.0.0->bert-score) (3.1.2)\n",
      "Requirement already satisfied: colorama in c:\\users\\rayci\\appdata\\roaming\\python\\python310\\site-packages (from tqdm>=4.31.1->bert-score) (0.4.6)\n",
      "Requirement already satisfied: huggingface-hub<1.0,>=0.14.1 in c:\\users\\rayci\\appdata\\local\\programs\\python\\python310\\lib\\site-packages (from transformers>=3.0.0->bert-score) (0.15.1)\n",
      "Requirement already satisfied: pyyaml>=5.1 in c:\\users\\rayci\\appdata\\local\\programs\\python\\python310\\lib\\site-packages (from transformers>=3.0.0->bert-score) (6.0)\n",
      "Requirement already satisfied: regex!=2019.12.17 in c:\\users\\rayci\\appdata\\local\\programs\\python\\python310\\lib\\site-packages (from transformers>=3.0.0->bert-score) (2023.6.3)\n",
      "Requirement already satisfied: tokenizers!=0.11.3,<0.14,>=0.11.1 in c:\\users\\rayci\\appdata\\local\\programs\\python\\python310\\lib\\site-packages (from transformers>=3.0.0->bert-score) (0.13.3)\n",
      "Requirement already satisfied: safetensors>=0.3.1 in c:\\users\\rayci\\appdata\\local\\programs\\python\\python310\\lib\\site-packages (from transformers>=3.0.0->bert-score) (0.3.1)\n",
      "Requirement already satisfied: contourpy>=1.0.1 in c:\\users\\rayci\\appdata\\local\\programs\\python\\python310\\lib\\site-packages (from matplotlib->bert-score) (1.0.7)\n",
      "Requirement already satisfied: cycler>=0.10 in c:\\users\\rayci\\appdata\\local\\programs\\python\\python310\\lib\\site-packages (from matplotlib->bert-score) (0.11.0)\n",
      "Requirement already satisfied: fonttools>=4.22.0 in c:\\users\\rayci\\appdata\\local\\programs\\python\\python310\\lib\\site-packages (from matplotlib->bert-score) (4.40.0)\n",
      "Requirement already satisfied: kiwisolver>=1.0.1 in c:\\users\\rayci\\appdata\\local\\programs\\python\\python310\\lib\\site-packages (from matplotlib->bert-score) (1.4.4)\n",
      "Requirement already satisfied: pillow>=6.2.0 in c:\\users\\rayci\\appdata\\local\\programs\\python\\python310\\lib\\site-packages (from matplotlib->bert-score) (9.5.0)\n",
      "Requirement already satisfied: pyparsing>=2.3.1 in c:\\users\\rayci\\appdata\\local\\programs\\python\\python310\\lib\\site-packages (from matplotlib->bert-score) (3.0.9)\n",
      "Requirement already satisfied: charset-normalizer<4,>=2 in c:\\users\\rayci\\appdata\\local\\programs\\python\\python310\\lib\\site-packages (from requests->bert-score) (3.1.0)\n",
      "Requirement already satisfied: idna<4,>=2.5 in c:\\users\\rayci\\appdata\\local\\programs\\python\\python310\\lib\\site-packages (from requests->bert-score) (3.4)\n",
      "Requirement already satisfied: urllib3<3,>=1.21.1 in c:\\users\\rayci\\appdata\\local\\programs\\python\\python310\\lib\\site-packages (from requests->bert-score) (2.0.3)\n",
      "Requirement already satisfied: certifi>=2017.4.17 in c:\\users\\rayci\\appdata\\local\\programs\\python\\python310\\lib\\site-packages (from requests->bert-score) (2023.5.7)\n",
      "Requirement already satisfied: fsspec in c:\\users\\rayci\\appdata\\local\\programs\\python\\python310\\lib\\site-packages (from huggingface-hub<1.0,>=0.14.1->transformers>=3.0.0->bert-score) (2023.6.0)\n",
      "Requirement already satisfied: six>=1.5 in c:\\users\\rayci\\appdata\\roaming\\python\\python310\\site-packages (from python-dateutil>=2.8.2->pandas>=1.0.1->bert-score) (1.16.0)\n",
      "Requirement already satisfied: MarkupSafe>=2.0 in c:\\users\\rayci\\appdata\\local\\programs\\python\\python310\\lib\\site-packages (from jinja2->torch>=1.0.0->bert-score) (2.1.3)\n",
      "Requirement already satisfied: mpmath>=0.19 in c:\\users\\rayci\\appdata\\local\\programs\\python\\python310\\lib\\site-packages (from sympy->torch>=1.0.0->bert-score) (1.3.0)\n"
     ]
    },
    {
     "name": "stderr",
     "output_type": "stream",
     "text": [
      "\n",
      "[notice] A new release of pip is available: 23.2 -> 23.2.1\n",
      "[notice] To update, run: python.exe -m pip install --upgrade pip\n"
     ]
    },
    {
     "name": "stdout",
     "output_type": "stream",
     "text": [
      "Requirement already satisfied: sacrebleu in c:\\users\\rayci\\appdata\\local\\programs\\python\\python310\\lib\\site-packages (2.3.1)\n",
      "Requirement already satisfied: portalocker in c:\\users\\rayci\\appdata\\local\\programs\\python\\python310\\lib\\site-packages (from sacrebleu) (2.7.0)\n",
      "Requirement already satisfied: regex in c:\\users\\rayci\\appdata\\local\\programs\\python\\python310\\lib\\site-packages (from sacrebleu) (2023.6.3)\n",
      "Requirement already satisfied: tabulate>=0.8.9 in c:\\users\\rayci\\appdata\\local\\programs\\python\\python310\\lib\\site-packages (from sacrebleu) (0.9.0)\n",
      "Requirement already satisfied: numpy>=1.17 in c:\\users\\rayci\\appdata\\local\\programs\\python\\python310\\lib\\site-packages (from sacrebleu) (1.24.3)\n",
      "Requirement already satisfied: colorama in c:\\users\\rayci\\appdata\\roaming\\python\\python310\\site-packages (from sacrebleu) (0.4.6)\n",
      "Requirement already satisfied: lxml in c:\\users\\rayci\\appdata\\local\\programs\\python\\python310\\lib\\site-packages (from sacrebleu) (4.9.3)\n",
      "Requirement already satisfied: pywin32>=226 in c:\\users\\rayci\\appdata\\roaming\\python\\python310\\site-packages (from portalocker->sacrebleu) (306)\n"
     ]
    },
    {
     "name": "stderr",
     "output_type": "stream",
     "text": [
      "\n",
      "[notice] A new release of pip is available: 23.2 -> 23.2.1\n",
      "[notice] To update, run: python.exe -m pip install --upgrade pip\n"
     ]
    },
    {
     "name": "stdout",
     "output_type": "stream",
     "text": [
      "Requirement already satisfied: nltk in c:\\users\\rayci\\appdata\\local\\programs\\python\\python310\\lib\\site-packages (3.8.1)\n",
      "Requirement already satisfied: click in c:\\users\\rayci\\appdata\\local\\programs\\python\\python310\\lib\\site-packages (from nltk) (8.1.5)\n",
      "Requirement already satisfied: joblib in c:\\users\\rayci\\appdata\\local\\programs\\python\\python310\\lib\\site-packages (from nltk) (1.3.1)\n",
      "Requirement already satisfied: regex>=2021.8.3 in c:\\users\\rayci\\appdata\\local\\programs\\python\\python310\\lib\\site-packages (from nltk) (2023.6.3)\n",
      "Requirement already satisfied: tqdm in c:\\users\\rayci\\appdata\\local\\programs\\python\\python310\\lib\\site-packages (from nltk) (4.65.0)\n",
      "Requirement already satisfied: colorama in c:\\users\\rayci\\appdata\\roaming\\python\\python310\\site-packages (from click->nltk) (0.4.6)\n"
     ]
    },
    {
     "name": "stderr",
     "output_type": "stream",
     "text": [
      "\n",
      "[notice] A new release of pip is available: 23.2 -> 23.2.1\n",
      "[notice] To update, run: python.exe -m pip install --upgrade pip\n"
     ]
    }
   ],
   "source": [
    "!pip install rouge_score rouge\n",
    "!pip install evaluate\n",
    "!pip install bert-score\n",
    "!pip install sacrebleu\n",
    "!pip install nltk"
   ]
  },
  {
   "cell_type": "code",
   "execution_count": 2,
   "metadata": {},
   "outputs": [
    {
     "name": "stderr",
     "output_type": "stream",
     "text": [
      "c:\\Users\\rayci\\AppData\\Local\\Programs\\Python\\Python310\\lib\\site-packages\\tqdm\\auto.py:21: TqdmWarning: IProgress not found. Please update jupyter and ipywidgets. See https://ipywidgets.readthedocs.io/en/stable/user_install.html\n",
      "  from .autonotebook import tqdm as notebook_tqdm\n"
     ]
    }
   ],
   "source": [
    "import evaluate\n",
    "import os"
   ]
  },
  {
   "cell_type": "code",
   "execution_count": 11,
   "metadata": {},
   "outputs": [
    {
     "name": "stdout",
     "output_type": "stream",
     "text": [
      "Starting scores computation...\n"
     ]
    },
    {
     "name": "stderr",
     "output_type": "stream",
     "text": [
      "Some weights of RobertaModel were not initialized from the model checkpoint at roberta-large and are newly initialized: ['roberta.pooler.dense.bias', 'roberta.pooler.dense.weight']\n",
      "You should probably TRAIN this model on a down-stream task to be able to use it for predictions and inference.\n"
     ]
    },
    {
     "name": "stdout",
     "output_type": "stream",
     "text": [
      "calculating scores...\n",
      "computing bert embedding.\n"
     ]
    },
    {
     "name": "stderr",
     "output_type": "stream",
     "text": [
      "100%|██████████| 1/1 [01:11<00:00, 71.24s/it]\n"
     ]
    },
    {
     "name": "stdout",
     "output_type": "stream",
     "text": [
      "computing greedy matching.\n"
     ]
    },
    {
     "name": "stderr",
     "output_type": "stream",
     "text": [
      "100%|██████████| 1/1 [00:00<00:00, 12.50it/s]\n"
     ]
    },
    {
     "name": "stdout",
     "output_type": "stream",
     "text": [
      "done in 997746.23 seconds, 0.00 sentences/sec\n",
      "calculating scores...\n",
      "computing bert embedding.\n"
     ]
    },
    {
     "name": "stderr",
     "output_type": "stream",
     "text": [
      "100%|██████████| 1/1 [01:02<00:00, 62.33s/it]\n"
     ]
    },
    {
     "name": "stdout",
     "output_type": "stream",
     "text": [
      "computing greedy matching.\n"
     ]
    },
    {
     "name": "stderr",
     "output_type": "stream",
     "text": [
      "100%|██████████| 1/1 [00:00<00:00,  7.07it/s]\n"
     ]
    },
    {
     "name": "stdout",
     "output_type": "stream",
     "text": [
      "done in 997809.77 seconds, 0.00 sentences/sec\n",
      "calculating scores...\n",
      "computing bert embedding.\n"
     ]
    },
    {
     "name": "stderr",
     "output_type": "stream",
     "text": [
      "100%|██████████| 1/1 [01:14<00:00, 74.96s/it]\n"
     ]
    },
    {
     "name": "stdout",
     "output_type": "stream",
     "text": [
      "computing greedy matching.\n"
     ]
    },
    {
     "name": "stderr",
     "output_type": "stream",
     "text": [
      "100%|██████████| 1/1 [00:00<00:00,  6.79it/s]"
     ]
    },
    {
     "name": "stdout",
     "output_type": "stream",
     "text": [
      "done in 997885.50 seconds, 0.00 sentences/sec\n",
      "Done!\n"
     ]
    },
    {
     "name": "stderr",
     "output_type": "stream",
     "text": [
      "\n"
     ]
    }
   ],
   "source": [
    "# Method and variables\n",
    "# ==========================================================================================\n",
    "print('Starting scores computation...')\n",
    "bleu = evaluate.load(\"bleu\")\n",
    "rouge = evaluate.load('rouge')\n",
    "bertscore = evaluate.load('bertscore')\n",
    "\n",
    "STORAGE_FILE_NAME = 'scores'\n",
    "PREPROCESS_SUMMARIES = True\n",
    "\n",
    "# Script itself\n",
    "# ==========================================================================================\n",
    "\n",
    "# Find output file for CSV scores\n",
    "mkdir('output')\n",
    "mkdir('output/scores')\n",
    "storage_file = open('output/scores/'+ 'scores' + '.csv', 'w', encoding='utf-8')\n",
    "storage_file.write('path;rouge2;rougel;bertscore\\n')\n",
    "\n",
    "target_file_paths = []\n",
    "references = []\n",
    "predictions = []\n",
    "\n",
    "n_samples = 4 # redondance\n",
    "\n",
    "n_scores = 0 # Nombre de scores calculés (nombre de ligne de données dans le scores.csv)\n",
    "for i in range(len(instruction_types)):\n",
    "    predictions = []\n",
    "    instructions = instruction_types[i]\n",
    "    folder_name = 'output/'+str(i+1)\n",
    "    gold_file = open('input/summaries/' + str(i+1) + '/sum_' + str(i+1) + '_ami.txt')\n",
    "    gold_sum = gold_file.read()\n",
    "    gold_file.close()\n",
    "    references = []\n",
    "    indexes = []\n",
    "    for name_text in texts:\n",
    "        for instruction in instructions:\n",
    "            for j in range(n_samples): # for j in range(n_samples): # puis tout décaler\n",
    "                n_scores += 1\n",
    "                file_name = folder_name + '/sum_' + str(i+1) + '_' + str(n_scores) + '.txt'\n",
    "                sum_file = open(file_name, 'r', encoding='utf-8')\n",
    "                sum_content = sum_file.readlines()\n",
    "                sum_file.close()\n",
    "                sum_content = sum_content[1:] # Retirer la 1ère ligne qui est celle du nb de tokens de l'output.\n",
    "                sum_content = \"\\n\".join(sum_content)\n",
    "                predictions.append(sum_content)\n",
    "                references.append(gold_sum)\n",
    "                indexes.append(n_scores)\n",
    "\n",
    "    result_rouge = rouge.compute(predictions=predictions, references=references, use_aggregator=False)\n",
    "    #result_bleu = bleu.compute(predictions=predictions, references=references)\n",
    "    result_bertscore = bertscore.compute(predictions=predictions, references=references, lang='en', rescale_with_baseline=True, verbose=True)\n",
    "    for k in range(len(indexes)):\n",
    "        ligne = str(indexes[k])\n",
    "        ligne += ';' + str(result_rouge['rouge2'][k]) + \";\" + str(result_rouge['rougeL'][k])\n",
    "        ligne += \";\" + str(result_bertscore['f1'][k])\n",
    "        storage_file.write(ligne + '\\n')\n",
    "\n",
    "storage_file.close()\n",
    "print('Done!')"
   ]
  },
  {
   "cell_type": "code",
   "execution_count": null,
   "metadata": {},
   "outputs": [],
   "source": []
  }
 ],
 "metadata": {
  "kernelspec": {
   "display_name": "Pytorch 2.0.0",
   "language": "python",
   "name": "python3"
  },
  "language_info": {
   "codemirror_mode": {
    "name": "ipython",
    "version": 3
   },
   "file_extension": ".py",
   "mimetype": "text/x-python",
   "name": "python",
   "nbconvert_exporter": "python",
   "pygments_lexer": "ipython3",
   "version": "3.10.7"
  }
 },
 "nbformat": 4,
 "nbformat_minor": 4
}
