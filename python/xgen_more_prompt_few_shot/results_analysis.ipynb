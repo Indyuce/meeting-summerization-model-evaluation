{
 "cells": [
  {
   "cell_type": "code",
   "execution_count": 2,
   "metadata": {},
   "outputs": [],
   "source": [
    "import pandas as pd"
   ]
  },
  {
   "cell_type": "markdown",
   "metadata": {},
   "source": [
    "### Analyse des résultats\n",
    "\n",
    "Les données doivent être traitées pour calculer les performances réelles d'xGen. Une grande partie des échantillons obtenus n'a pas du tout le format de réponse obtenu, ce qui peut être évacué facilement et automatiquement (détection de répétitions, détection de texte cohérent) et évité au maximum en travaillant sur la température, sur la fenêtre de sélection des tokens les plus probables (top-k), sur les prompts."
   ]
  },
  {
   "cell_type": "code",
   "execution_count": 42,
   "metadata": {},
   "outputs": [],
   "source": [
    "url_annotations = \"C://Users/rayci/Desktop/Dossier de travail stage/Annotations.csv\"\n",
    "\n",
    "# Column names : number;consistency;french;answer;desc\n",
    "df = pd.read_csv(url_annotations, sep=';')\n",
    "\n",
    "consistent_df = df[df['consistency']==1]\n",
    "unconsistent_df = df[df['consistency']!=1]\n",
    "\n",
    "def getNumber(nb):# Input : une string du type i_j. Output : un couple i,j\n",
    "    split = nb.split(\"_\")\n",
    "    return int(split[0]), int(split[1])"
   ]
  },
  {
   "cell_type": "code",
   "execution_count": 43,
   "metadata": {},
   "outputs": [
    {
     "name": "stdout",
     "output_type": "stream",
     "text": [
      "=== Consistency ===\n",
      "Number of consistent answers: 29              Share of consistent answers: 48.33 %\n",
      "\n",
      "--- Prompt 1 ---\n",
      "Number of consistent answers: 7/10\n",
      "--- Prompt 2 ---\n",
      "Number of consistent answers: 5/10\n",
      "--- Prompt 3 ---\n",
      "Number of consistent answers: 6/10\n",
      "--- Prompt 4 ---\n",
      "Number of consistent answers: 6/10\n",
      "--- Prompt 5 ---\n",
      "Number of consistent answers: 3/10\n",
      "--- Prompt 6 ---\n",
      "Number of consistent answers: 2/10\n"
     ]
    }
   ],
   "source": [
    "# Consistency of the answers : share of consistent answers, share of consistent answers for each prompt\n",
    "nb_consistent = len(consistent_df)\n",
    "nb_unconsistent = len(unconsistent_df)\n",
    "nb_total = len(df)\n",
    "print(\"=== Consistency ===\\nNumber of consistent answers: \"+str(nb_consistent)+\"              Share of consistent answers: \"+str(round(100*nb_consistent/nb_total, 2))+\" %\\n\")\n",
    "\n",
    "prompted_df = [df[i*10:(i+1)*10] for i in range(6)] # L'élément de cette liste d'indice i est le df qui contient les résultats du prompt i+1\n",
    "for i in range(6):\n",
    "    prompt_df = prompted_df[i]\n",
    "    prompt_consistent_df = prompt_df[prompt_df['consistency']==1]\n",
    "    prompt_nb_consistent = len(prompt_consistent_df)\n",
    "    prompt_nb = len(prompt_df)\n",
    "    print(\"--- Prompt \"+str(i+1)+\" ---\")\n",
    "    print(\"Number of consistent answers: \"+str(prompt_nb_consistent)+\"/\"+str(prompt_nb))"
   ]
  },
  {
   "cell_type": "code",
   "execution_count": 48,
   "metadata": {},
   "outputs": [
    {
     "name": "stdout",
     "output_type": "stream",
     "text": [
      "=== French ===\n",
      "Number of French, consistent answers: 9/29               Number of French answers among the unconsistent: 17/31               Total number of French answers: 26/60\n",
      "--- Prompt 1 ---\n",
      "Number of French answers among consistent: 4/7\n",
      "--- Prompt 2 ---\n",
      "Number of French answers among consistent: 1/5\n",
      "--- Prompt 3 ---\n",
      "Number of French answers among consistent: 2/6\n",
      "--- Prompt 4 ---\n",
      "Number of French answers among consistent: 1/6\n",
      "--- Prompt 5 ---\n",
      "Number of French answers among consistent: 1/3\n",
      "--- Prompt 6 ---\n",
      "Number of French answers among consistent: 0/2\n"
     ]
    }
   ],
   "source": [
    "# French answers among the consistent answers and among the inconsistent\n",
    "french_df = consistent_df[consistent_df['french']==1]\n",
    "nb_french = len(french_df)\n",
    "french_unconsistent_df = unconsistent_df[unconsistent_df['french']==1]\n",
    "nb_unconsistent_french = len(french_unconsistent_df)\n",
    "print(\"=== French ===\\nNumber of French, consistent answers: \"+str(nb_french)+\"/\"+str(len(consistent_df))+\"               Number of French answers among the unconsistent: \"+str(nb_unconsistent_french)+\"/\"+str(nb_unconsistent)+\"               Total number of French answers: \"+str(len(df[df['french']==1]))+\"/\"+str(nb_total))\n",
    "\n",
    "for i in range(6):\n",
    "    prompt_df = prompted_df[i]\n",
    "    prompt_consistent_df = prompt_df[prompt_df['consistency']==1]\n",
    "    fr_pr_con_df = prompt_consistent_df[prompt_consistent_df['french']==1]\n",
    "    nb_fr_pr_con_df = len(fr_pr_con_df)\n",
    "    nb_pr_con_df = len(prompt_consistent_df)\n",
    "    print(\"--- Prompt \"+str(i+1)+\" ---\")\n",
    "    print(\"Number of French answers among consistent: \"+str(nb_fr_pr_con_df)+\"/\"+str(nb_pr_con_df))"
   ]
  },
  {
   "cell_type": "code",
   "execution_count": null,
   "metadata": {},
   "outputs": [],
   "source": []
  },
  {
   "cell_type": "code",
   "execution_count": null,
   "metadata": {},
   "outputs": [],
   "source": []
  }
 ],
 "metadata": {
  "kernelspec": {
   "display_name": "Python 3",
   "language": "python",
   "name": "python3"
  },
  "language_info": {
   "codemirror_mode": {
    "name": "ipython",
    "version": 3
   },
   "file_extension": ".py",
   "mimetype": "text/x-python",
   "name": "python",
   "nbconvert_exporter": "python",
   "pygments_lexer": "ipython3",
   "version": "3.10.7"
  },
  "orig_nbformat": 4
 },
 "nbformat": 4,
 "nbformat_minor": 2
}
