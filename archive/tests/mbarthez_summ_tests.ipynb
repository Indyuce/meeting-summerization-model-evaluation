{
 "cells": [
  {
   "cell_type": "code",
   "execution_count": 3,
   "metadata": {},
   "outputs": [
    {
     "name": "stderr",
     "output_type": "stream",
     "text": [
      "c:\\Users\\Jules\\AppData\\Local\\Programs\\Python\\Python310\\lib\\site-packages\\tqdm\\auto.py:21: TqdmWarning: IProgress not found. Please update jupyter and ipywidgets. See https://ipywidgets.readthedocs.io/en/stable/user_install.html\n",
      "  from .autonotebook import tqdm as notebook_tqdm\n"
     ]
    }
   ],
   "source": [
    "from transformers import AutoTokenizer, AutoModelForSeq2SeqLM, AutoModelForCausalLM, GPT2LMHeadModel, pipeline\n",
    "import torch"
   ]
  },
  {
   "cell_type": "code",
   "execution_count": 6,
   "metadata": {},
   "outputs": [],
   "source": [
    "summarizer = pipeline(\"summarization\", model=\"moussaKam/barthez-orangesum-abstract\")"
   ]
  },
  {
   "cell_type": "code",
   "execution_count": 5,
   "metadata": {},
   "outputs": [
    {
     "name": "stdout",
     "output_type": "stream",
     "text": [
      "[{'summary_text': 'Le réalisateur du film «Titanic» a ouvertement dénoncé jeudi 22 juin au soir les «avertissements ignorés» concernant la sécurité du submersible touristique qui a implosé près de l’épave du célèbre paquebot, en tuant cinq personnes. Sur la chaîne américaine ABC News, le réalisateur féru de plongée a dressé un parallèle entre ce nouvel accident et le naufrage du paquebot en 1912, qui a causé la mort de 1 500 personnes. «Je suis frappé par la similitude avec la catastrophe du Titanic, où le capitaine a été averti à plusieurs reprises de la présence de glace devant son navire, et où il a pourtant foncé à pleine vitesse dans un champ de glace par une nuit sans lune», a-t-il remarqué.'}]\n"
     ]
    }
   ],
   "source": [
    "ARTICLE = \"\"\"Le réalisateur du film «Titanic» a ouvertement dénoncé jeudi 22 juin au soir les «avertissements ignorés» concernant la sécurité du submersible touristique qui a implosé près de l’épave du célèbre paquebot, en tuant cinq personnes. Il y a deux jours, on imaginait ce que James Cameron pourrait dire du sort du sous-marin parti explorer l’épave du Titanic. Sollicité de toutes parts, le réalisateur américain, dont Titanic est le film le plus célèbre, est sorti de son silence jeudi 22 juin au soir, pour s’indigner des «avertissements ignorés» concernant la sécurité du submersible touristique Titan, qui a implosé près de l’épave du célèbre paquebot, en tuant cinq personnes. Sur la chaîne américaine ABC News, le réalisateur féru de plongée a dressé un parallèle entre ce nouvel accident et le naufrage du paquebot en 1912, qui a causé la mort de 1 500 personnes. «Je suis frappé par la similitude avec la catastrophe du Titanic, où le capitaine a été averti à plusieurs reprises de la présence de glace devant son navire, et où il a pourtant foncé à pleine vitesse dans un champ de glace par une nuit sans lune», a-t-il remarqué.\"\"\"\n",
    "print(summarizer(ARTICLE, max_length=250, min_length=100, do_sample=False))"
   ]
  },
  {
   "cell_type": "code",
   "execution_count": 9,
   "metadata": {},
   "outputs": [],
   "source": [
    "barthez_tokenizer = AutoTokenizer.from_pretrained(\"moussaKam/barthez\")\n",
    "barthez_model = AutoModelForSeq2SeqLM.from_pretrained(\"moussaKam/barthez\")"
   ]
  },
  {
   "cell_type": "code",
   "execution_count": 13,
   "metadata": {},
   "outputs": [
    {
     "data": {
      "text/plain": [
       "'Le réalisateur du film «Titanic» a ouvertement dénoncé jeudi 22 juin au soir les «avertissements ignorés» concernant la sécurité du submersible touristique qui a implosé près de l’épave du célèbre paquebot, en tuant cinq personnes. Sur la chaîne américaine ABC News, le réalisateur féru de plongée a dressé un parallèle entre ce nouvel accident et le naufrage du paquebot en 1912, qui a causé la mort de 1 500 personnes. «Je suis frappé par la similitude avec la catastrophe du Titanic, où le capitaine a été averti à plusieurs reprises de la présence de glace devant son navire, et où il a pourtant foncé à pleine vitesse dans un champ de glace par une nuit sans lune», a-t-il remarqué.'"
      ]
     },
     "execution_count": 13,
     "metadata": {},
     "output_type": "execute_result"
    }
   ],
   "source": [
    "input_ids = torch.tensor([barthez_tokenizer.encode(ARTICLE, add_special_tokens=True)])\n",
    "barthez_model.eval()\n",
    "predict = barthez_model.generate(input_ids, max_length=250, min_length=100, do_sample=False)[0]\n",
    "barthez_tokenizer.decode(predict, skip_special_tokens=True)"
   ]
  }
 ],
 "metadata": {
  "kernelspec": {
   "display_name": "Python 3",
   "language": "python",
   "name": "python3"
  },
  "language_info": {
   "codemirror_mode": {
    "name": "ipython",
    "version": 3
   },
   "file_extension": ".py",
   "mimetype": "text/x-python",
   "name": "python",
   "nbconvert_exporter": "python",
   "pygments_lexer": "ipython3",
   "version": "3.10.7"
  },
  "orig_nbformat": 4
 },
 "nbformat": 4,
 "nbformat_minor": 2
}
