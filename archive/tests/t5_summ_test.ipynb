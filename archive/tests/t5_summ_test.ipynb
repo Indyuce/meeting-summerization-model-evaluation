{
 "cells": [
  {
   "attachments": {},
   "cell_type": "markdown",
   "metadata": {},
   "source": [
    "### Imports"
   ]
  },
  {
   "cell_type": "code",
   "execution_count": 1,
   "metadata": {},
   "outputs": [
    {
     "name": "stderr",
     "output_type": "stream",
     "text": [
      "c:\\Users\\Jules\\AppData\\Local\\Programs\\Python\\Python310\\lib\\site-packages\\tqdm\\auto.py:21: TqdmWarning: IProgress not found. Please update jupyter and ipywidgets. See https://ipywidgets.readthedocs.io/en/stable/user_install.html\n",
      "  from .autonotebook import tqdm as notebook_tqdm\n"
     ]
    }
   ],
   "source": [
    "from transformers import AutoTokenizer, AutoModelForSeq2SeqLM, pipeline\n",
    "import torch"
   ]
  },
  {
   "attachments": {},
   "cell_type": "markdown",
   "metadata": {},
   "source": [
    "### Article Examples"
   ]
  },
  {
   "cell_type": "code",
   "execution_count": 2,
   "metadata": {},
   "outputs": [],
   "source": [
    "ARTICLE = \"\"\"Le réalisateur du film «Titanic» a ouvertement dénoncé jeudi 22 juin au soir les «avertissements ignorés» concernant la sécurité du submersible touristique qui a implosé près de l’épave du célèbre paquebot, en tuant cinq personnes. Il y a deux jours, on imaginait ce que James Cameron pourrait dire du sort du sous-marin parti explorer l’épave du Titanic. Sollicité de toutes parts, le réalisateur américain, dont Titanic est le film le plus célèbre, est sorti de son silence jeudi 22 juin au soir, pour s’indigner des «avertissements ignorés» concernant la sécurité du submersible touristique Titan, qui a implosé près de l’épave du célèbre paquebot, en tuant cinq personnes. Sur la chaîne américaine ABC News, le réalisateur féru de plongée a dressé un parallèle entre ce nouvel accident et le naufrage du paquebot en 1912, qui a causé la mort de 1 500 personnes. «Je suis frappé par la similitude avec la catastrophe du Titanic, où le capitaine a été averti à plusieurs reprises de la présence de glace devant son navire, et où il a pourtant foncé à pleine vitesse dans un champ de glace par une nuit sans lune», a-t-il remarqué.\"\"\""
   ]
  },
  {
   "cell_type": "code",
   "execution_count": 6,
   "metadata": {},
   "outputs": [],
   "source": [
    "ARTICLE = \"\"\"Germany’s defence minister has announced that the country is planning to send several thousand troops to be stationed permanently in Lithuania as part of the international response to the threat that Russia poses for the country and the Baltic region.\n",
    "\n",
    "Boris Pistorius said in a meeting in Vilnius ahead of a major Nato gathering there in two weeks, that Germany would contribute a “robust brigade”, of several thousand soldiers, who will also be able to take their families with them.\n",
    "\n",
    "Pistorius said he had agreed with his Lithuanian counterpart, Arvydas Anušauskas, that the brigade would be built up slowly in conjunction with the arrival of appropriate infrastructure. More details as to the timeframe, and the costs involved, are expected to follow.\n",
    "\n",
    "Earlier on Monday, Der Spiegel reported that the government in Berlin is planning to provide Kyiv with a long-term supply of ammunition. A framework agreement regarding the manufacture of the ammunition was drawn up at the end of last week between the company Rheinmetall and the defence ministry, according to the report.\n",
    "\n",
    "According to the contract, seen by Der Spiegel, the company is to produce and deliver 330,000 rounds of 155 MM bullets, as well as thousands of Howitzer rounds, with the aim of providing a long-term supply to the Ukrainian armed forces. The €60m (£51.5m / $65.5m) cost for an initial 20,000 rounds, is to be shouldered by the German government.\n",
    "\n",
    "Parallel to the deal, Germany’s own military will be provided with a similarly large amount of ammunition. Earlier this year the defence ministry admitted that Germany’s military was woefully under-equipped with inadequate supplies of artillery and ammunition, and had yet to live up to specifications set for Nato members.\"\"\""
   ]
  },
  {
   "attachments": {},
   "cell_type": "markdown",
   "metadata": {},
   "source": [
    "### Summarization Pipeline"
   ]
  },
  {
   "cell_type": "code",
   "execution_count": 3,
   "metadata": {},
   "outputs": [
    {
     "name": "stderr",
     "output_type": "stream",
     "text": [
      "c:\\Users\\Jules\\AppData\\Local\\Programs\\Python\\Python310\\lib\\site-packages\\transformers\\convert_slow_tokenizer.py:454: UserWarning: The sentencepiece tokenizer that you are converting to a fast tokenizer uses the byte fallback option which is not implemented in the fast tokenizers. In practice this means that the fast version of the tokenizer can produce unknown tokens whereas the sentencepiece version would have converted these unknown tokens into a sequence of byte tokens matching the original piece of text.\n",
      "  warnings.warn(\n"
     ]
    }
   ],
   "source": [
    "summarizer = pipeline(\"summarization\", model=\"csebuetnlp/mT5_multilingual_XLSum\")"
   ]
  },
  {
   "cell_type": "code",
   "execution_count": 5,
   "metadata": {},
   "outputs": [
    {
     "name": "stdout",
     "output_type": "stream",
     "text": [
      "[{'summary_text': 'Le réalisateur du film «Titanic» a ouvertement dénoncé jeudi 22 juin les «avertissements ignorés» concernant la sécurité du submersible touristique Titan, qui avait implosé près de l’épave du célèbre paquebot, en tuant cinq personnes en 1912, et la catastrophe. . BBC Afrique vous propose une série de lettres d’écrivains américains.'}]\n"
     ]
    }
   ],
   "source": [
    "print(summarizer(ARTICLE, max_length=250, min_length=100, do_sample=False))"
   ]
  },
  {
   "attachments": {},
   "cell_type": "markdown",
   "metadata": {},
   "source": [
    "### Direct Inference"
   ]
  },
  {
   "cell_type": "code",
   "execution_count": 5,
   "metadata": {},
   "outputs": [],
   "source": [
    "model_name = \"csebuetnlp/mT5_multilingual_XLSum\"\n",
    "flan_t5_tokenizer = AutoTokenizer.from_pretrained(model_name)\n",
    "flan_t5_model = AutoModelForSeq2SeqLM.from_pretrained(model_name)"
   ]
  },
  {
   "cell_type": "code",
   "execution_count": 6,
   "metadata": {},
   "outputs": [
    {
     "name": "stdout",
     "output_type": "stream",
     "text": [
      "<pad> Le réalisateur du film «Titanic» a ouvertement dénoncé jeudi 22 juin les «avertissements ignorés» concernant la sécurité du submersible touristique qui avait implosé près de l’épave du célèbre paquebot, en tuant cinq personnes en 1912, et la catastrophe du Titanic. . \"Je suis frappé par la similitude avec le naufrage du navire\"</s>\n"
     ]
    }
   ],
   "source": [
    "inputs = flan_t5_tokenizer.encode(\"sumarize: \" + ARTICLE,return_tensors='pt', max_length=512, truncation=True)\n",
    "output = flan_t5_model.generate(inputs, min_length=100, max_length=200)\n",
    "print(flan_t5_tokenizer.decode(output[0]))\n"
   ]
  }
 ],
 "metadata": {
  "kernelspec": {
   "display_name": "Python 3",
   "language": "python",
   "name": "python3"
  },
  "language_info": {
   "codemirror_mode": {
    "name": "ipython",
    "version": 3
   },
   "file_extension": ".py",
   "mimetype": "text/x-python",
   "name": "python",
   "nbconvert_exporter": "python",
   "pygments_lexer": "ipython3",
   "version": "3.10.7"
  },
  "orig_nbformat": 4
 },
 "nbformat": 4,
 "nbformat_minor": 2
}
